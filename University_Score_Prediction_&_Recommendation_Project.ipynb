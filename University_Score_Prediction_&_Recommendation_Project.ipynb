{
  "nbformat": 4,
  "nbformat_minor": 0,
  "metadata": {
    "colab": {
      "provenance": []
    },
    "kernelspec": {
      "name": "python3",
      "display_name": "Python 3"
    },
    "language_info": {
      "name": "python"
    }
  },
  "cells": [
    {
      "cell_type": "markdown",
      "source": [
        "## **University Score Prediction and Recommendation based on NIRF (Ministry of Education)**\n",
        "\n",
        "**Objective**\n",
        "1. Trying to predict the score of universities based on certain parameters set by NIRF which are\n",
        "* Teaching Learning & Resources - These parameters are related to the core activities of any place of learning.\n",
        "* Research and Professional Practice - Excellence in teaching and learning is closely associated with the scholarship.\n",
        "* Graduation Outcome - This parameter forms the ultimate test of the effectiveness of the core teaching/learning.\n",
        "* Outreach & Inclusivity - The Ranking framework lays special emphasis on representation of women.\n",
        "* Perception - The ranking methodology gives a significant importance to the perception of the institution.\n",
        "\n",
        "2. University recommendation based on the scores obtained by the universities.\n",
        "\n",
        "**Introduction**\n",
        "\n",
        "In this project, the application gathers and prepares the universities data from the NIRF website(of the desired year). Then feed the prepared data to the model so that it can learn. After then, feed the fresh data (University data) into the trained model and see if the model just trained predict it accurately or not. This application also recommend the university based on the the overall score and the scores under various parameters obtained by the universities.\n",
        "\n",
        "**Python** is an open source programming language that was made to be easy-to-read and powerful. A Dutch programmer named Guido van Rossum made Python in 1991. He named it after the television show Monty Python's Flying Circus. Many Python examples and tutorials include jokes from the show.\n",
        "Python is an interpreted language. Interpreted languages do not need to be compiled to run. A program called an interpreter runs Python code on almost any kind of computer. This means that a programmer can change the code and quickly see the results. This also means Python is slower than a compiled language like C, because it is not running machine code directly.\n",
        "\n",
        "Python is a good programming language for beginners. It is a high-level language, which means a programmer can focus on what to do instead of how to do it. Writing programs in Python takes less time than in some other languages.\n",
        "Python drew inspiration from other programming languages like C, C++, Java, Perl, and Lisp.\n",
        "\n",
        "Python has a very easy-to-read syntax. Some of Python's syntax comes from C, because that is the language that Python was written in. But Python uses whitespace to delimit code: spaces or tabs are used to organize code into groups. This is different from C. In C, there is a semicolon at the end of each line and curly braces ({}) are used to group code. Using whitespace to delimit code makes Python a very easy-to-read language.\n"
      ],
      "metadata": {
        "id": "CqHreh2zHW6L"
      }
    },
    {
      "cell_type": "markdown",
      "source": [
        "**Web Scraping**"
      ],
      "metadata": {
        "id": "nqZnm9B5Dp3y"
      }
    },
    {
      "cell_type": "code",
      "execution_count": null,
      "metadata": {
        "id": "4S7Q65tIq_hA"
      },
      "outputs": [],
      "source": [
        "from bs4 import BeautifulSoup\n",
        "import requests\n",
        "import pandas as pd"
      ]
    },
    {
      "cell_type": "code",
      "source": [
        "html_content = requests.get('https://www.nirfindia.org/2022/UniversityRanking.html').text"
      ],
      "metadata": {
        "id": "NSsYx4fB-_CI"
      },
      "execution_count": null,
      "outputs": []
    },
    {
      "cell_type": "code",
      "source": [
        "uni_data = BeautifulSoup(html_content,'lxml')\n",
        "uni_data"
      ],
      "metadata": {
        "colab": {
          "base_uri": "https://localhost:8080/"
        },
        "id": "9u_CDY3yAvFU",
        "outputId": "7f8a9c86-aae9-4946-fb1c-02ced33144be"
      },
      "execution_count": null,
      "outputs": [
        {
          "output_type": "execute_result",
          "data": {
            "text/plain": [
              "<html><body><p>ï»¿<!DOCTYPE html>\n",
              "</p><script async=\"\" src=\"//www.google-analytics.com/analytics.js\"></script><script>(function (i, s, o, g, r, a, m) {i['GoogleAnalyticsObject'] = r; i[r] = i[r] || function () {(i[r].q = i[r].q || []).push(arguments)}, i[r].l = 1 * new Date(); a = s.createElement(o),m = s.getElementsByTagName(o)[0]; a.async = 1; a.src = g; m.parentNode.insertBefore(a, m)})(window, document, 'script', '//www.google-analytics.com/analytics.js', 'ga');ga('create', 'UA-75867016-1', 'auto');ga('send', 'pageview');</script><meta content=\"text/html; charset=utf-8\" http-equiv=\"Content-Type\"/><title> MoE, National Institute Ranking Framework (NIRF) </title><link href=\"https://www.nirfindia.org/css/style.css\" rel=\"stylesheet\" type=\"text/css\"/><script src=\"https://www.nirfindia.org/js/modernizr.js\" type=\"text/javascript\"></script><script src=\"https://www.nirfindia.org/js/jquery-min.js\" type=\"text/javascript\"></script><script src=\"https://www.nirfindia.org/js/md5.js\" type=\"text/javascript\"></script><link href=\"https://www.nirfindia.org/css/style.css\" rel=\"stylesheet\" type=\"text/css\"/><link href=\"https://www.nirfindia.org/css/jquery.dataTables.min.css\" rel=\"stylesheet\" type=\"text/css\"/><link href=\"https://www.nirfindia.org/css/dataTables.responsive.css\" rel=\"stylesheet\" type=\"text/css\"/><script src=\"https://www.nirfindia.org/js/jquery-1.12.0.min.js\" type=\"text/javascript\"></script><script src=\"https://www.nirfindia.org/js/jquery.dataTables.min.js\" type=\"text/javascript\"></script><script src=\"https://www.nirfindia.org/js/dataTables.responsive.js\" type=\"text/javascript\"></script><style> .btn-more-details { color: #0e0e66; cursor: pointer; font-weight: 800; }.btn-danger {background-color: #ae333f;border-color: #a93a3a;color: #fff;}.btn-danger {background-color: #d9534f;border-color: #d43f3a;color: #fff;}.btn {-moz-user-select: none;border: 1px solid transparent;border-radius: 4px;cursor: pointer;display: inline-block;font-size: 14px;font-weight: normal;line-height: 1.42857;margin-bottom: 0;padding: 6px 12px;text-align: center;vertical-align: middle;white-space: nowrap;} </style><div id=\"wrapper\"><div id=\"header\"><div class=\"topbar\"><div class=\"container\"><div class=\"topLinks\"><ul class=\"portalLinks\"><li><a href=\"/GalleryView\"><span class=\"userProfile sprite\"></span>Gallery</a></li><li><a href=\"/Contact\"><span class=\"siteMaping sprite\"></span>Contact</a></li></ul></div></div></div><div class=\"logobar\"><div class=\"container\"><div class=\"emblem\"><img alt=\"Government of India\" height=\"104\" src=\"https://www.nirfindia.org/images/emblem.png\" title=\"Government of India\" width=\"65\"/></div><div class=\"logoText\">National Institutional Ranking Framework<br/><span class=\"logoTextSubTitle\">Ministry of Education</span><br/><span class=\"logoTextSmall\">Government of India</span></div><h1 id=\"logo\" title=\"MoE, National Institutional Ranking Framework (NIRF), Government of India\"><a href=\"/Home\" title=\"MoE, National Institutional Ranking Framework (NIRF),  Government of India\"><img alt=\"MoE, National Institutional Ranking Framework (NIRF),  Government of India\" height=\"104\" src=\"https://www.nirfindia.org/images/main-logo.png\" title=\"MoE, National Institutional Ranking Framework (NIRF),  Government of India\" width=\"154\"/></a></h1><!-- End Logo --></div></div><!-- Header Navigation --><div class=\"mainNavigation\"><div class=\"container\" id=\"includedContent\"><script type=\"text/javascript\">$(function(){$(\"#includedContent\").load(\"header.html\");});</script></div></div></div><div id=\"wrapper\"><div class=\"container middleContent mrt\"><div class=\"content\"><div class=\"middleAboutSection\"><div id=\"collapse1\"><div id=\"centre_list\" style=\"text-align: left;\"><a class=\"btn remove-btn-danger\" href=\"https://www.nirfindia.org/2022/Ranking.html\" style=\"cursor: pointer;\"><font color=\"blue\">Home Ranking</font></a></div><div style=\"float:right\"><a href=\"UniversityRanking150.html\">Rank-band: 101-150</a> | <a href=\"UniversityRanking200.html\">Rank-band: 151-200</a></div><div class=\"div_to_hide\" id=\"div_overall\" style=\"display: block;\"><h2 class=\"text-center\" style=\"padding-bottom: 0;padding-left:20%;\"><strong>India Rankings 2022: University</strong></h2><table class=\"table table-condensed\" id=\"tbl_overall\"><thead><tr><th style=\"20%\">Institute ID</th><th>Name</th><th>City</th><th>State</th><th>Score</th><th>Rank</th></tr></thead><tbody><tr><td>IR-O-U-0220</td><td>Indian Institute of Science<div style=\"float:right;\"><a class=\"btn-more-details\" href=\"javascript:;\"><span>More Details</span></a><a class=\"close_data\" id=\"close_1\" style=\"display: none;\">Close</a> | <a href=\"https://www.nirfindia.org/nirfpdfcdn/2022/pdf/University/IR-O-U-0220.pdf\" target=\"_blank\"><img src=\"https://www.nirfindia.org/images/pdf_icon.png\" style=\"width: 20px; height: 20px !important\"/></a> | <a href=\"https://www.nirfindia.org/nirfpdfcdn/2022/graph/University/IR-O-U-0220.png\" target=\"_blank\"><img src=\"https://www.nirfindia.org/images/graph.png\" style=\"width: 20px; height: 20px !important\"/></a></div><div class=\"tbl_hidden\" style=\"display:none;width:100%;\"><br/><table class=\"table \"><thead><tr><th>TLR (100)</th><th>RPC (100)</th><th>GO (100)</th><th>OI (100)</th><th>PERCEPTION (100)</th></tr></thead><tbody><tr><td>82.08</td><td>87.45</td><td>84.80</td><td>57.46</td><td>100.00</td></tr></tbody></table></div></td><td>Bengaluru</td><td>Karnataka</td><td>83.57</td><td>1</td></tr><tr><td>IR-O-U-0109</td><td>Jawaharlal Nehru University<div style=\"float:right;\"><a class=\"btn-more-details\" href=\"javascript:;\"><span>More Details</span></a><a class=\"close_data\" id=\"close_1\" style=\"display: none;\">Close</a> | <a href=\"https://www.nirfindia.org/nirfpdfcdn/2022/pdf/University/IR-O-U-0109.pdf\" target=\"_blank\"><img src=\"https://www.nirfindia.org/images/pdf_icon.png\" style=\"width: 20px; height: 20px !important\"/></a> | <a href=\"https://www.nirfindia.org/nirfpdfcdn/2022/graph/University/IR-O-U-0109.png\" target=\"_blank\"><img src=\"https://www.nirfindia.org/images/graph.png\" style=\"width: 20px; height: 20px !important\"/></a></div><div class=\"tbl_hidden\" style=\"display:none;width:100%;\"><br/><table class=\"table \"><thead><tr><th>TLR (100)</th><th>RPC (100)</th><th>GO (100)</th><th>OI (100)</th><th>PERCEPTION (100)</th></tr></thead><tbody><tr><td>71.95</td><td>45.55</td><td>95.27</td><td>70.27</td><td>71.43</td></tr></tbody></table></div></td><td>New Delhi</td><td>Delhi</td><td>68.47</td><td>2</td></tr><tr><td>IR-O-U-0108</td><td>Jamia Millia Islamia, New Delhi<div style=\"float:right;\"><a class=\"btn-more-details\" href=\"javascript:;\"><span>More Details</span></a><a class=\"close_data\" id=\"close_1\" style=\"display: none;\">Close</a> | <a href=\"https://www.nirfindia.org/nirfpdfcdn/2022/pdf/University/IR-O-U-0108.pdf\" target=\"_blank\"><img src=\"https://www.nirfindia.org/images/pdf_icon.png\" style=\"width: 20px; height: 20px !important\"/></a> | <a href=\"https://www.nirfindia.org/nirfpdfcdn/2022/graph/University/IR-O-U-0108.png\" target=\"_blank\"><img src=\"https://www.nirfindia.org/images/graph.png\" style=\"width: 20px; height: 20px !important\"/></a></div><div class=\"tbl_hidden\" style=\"display:none;width:100%;\"><br/><table class=\"table \"><thead><tr><th>TLR (100)</th><th>RPC (100)</th><th>GO (100)</th><th>OI (100)</th><th>PERCEPTION (100)</th></tr></thead><tbody><tr><td>68.16</td><td>47.38</td><td>92.46</td><td>81.14</td><td>46.50</td></tr></tbody></table></div></td><td>New Delhi</td><td>Delhi</td><td>65.91</td><td>3</td></tr><tr><td>IR-O-U-0575</td><td>Jadavpur University<div style=\"float:right;\"><a class=\"btn-more-details\" href=\"javascript:;\"><span>More Details</span></a><a class=\"close_data\" id=\"close_1\" style=\"display: none;\">Close</a> | <a href=\"https://www.nirfindia.org/nirfpdfcdn/2022/pdf/University/IR-O-U-0575.pdf\" target=\"_blank\"><img src=\"https://www.nirfindia.org/images/pdf_icon.png\" style=\"width: 20px; height: 20px !important\"/></a> | <a href=\"https://www.nirfindia.org/nirfpdfcdn/2022/graph/University/IR-O-U-0575.png\" target=\"_blank\"><img src=\"https://www.nirfindia.org/images/graph.png\" style=\"width: 20px; height: 20px !important\"/></a></div><div class=\"tbl_hidden\" style=\"display:none;width:100%;\"><br/><table class=\"table \"><thead><tr><th>TLR (100)</th><th>RPC (100)</th><th>GO (100)</th><th>OI (100)</th><th>PERCEPTION (100)</th></tr></thead><tbody><tr><td>63.57</td><td>53.73</td><td>90.10</td><td>56.86</td><td>64.67</td></tr></tbody></table></div></td><td>Kolkata</td><td>West Bengal</td><td>65.37</td><td>4</td></tr><tr><td>IR-O-U-0436</td><td>Amrita Vishwa Vidyapeetham<div style=\"float:right;\"><a class=\"btn-more-details\" href=\"javascript:;\"><span>More Details</span></a><a class=\"close_data\" id=\"close_1\" style=\"display: none;\">Close</a> | <a href=\"https://www.nirfindia.org/nirfpdfcdn/2022/pdf/University/IR-O-U-0436.pdf\" target=\"_blank\"><img src=\"https://www.nirfindia.org/images/pdf_icon.png\" style=\"width: 20px; height: 20px !important\"/></a> | <a href=\"https://www.nirfindia.org/nirfpdfcdn/2022/graph/University/IR-O-U-0436.png\" target=\"_blank\"><img src=\"https://www.nirfindia.org/images/graph.png\" style=\"width: 20px; height: 20px !important\"/></a></div><div class=\"tbl_hidden\" style=\"display:none;width:100%;\"><br/><table class=\"table \"><thead><tr><th>TLR (100)</th><th>RPC (100)</th><th>GO (100)</th><th>OI (100)</th><th>PERCEPTION (100)</th></tr></thead><tbody><tr><td>69.80</td><td>50.06</td><td>74.09</td><td>69.53</td><td>56.66</td></tr></tbody></table></div></td><td>Coimbatore</td><td>Tamil Nadu</td><td>63.40</td><td>5</td></tr><tr><td>IR-O-U-0500</td><td>Banaras Hindu University<div style=\"float:right;\"><a class=\"btn-more-details\" href=\"javascript:;\"><span>More Details</span></a><a class=\"close_data\" id=\"close_1\" style=\"display: none;\">Close</a> | <a href=\"https://www.nirfindia.org/nirfpdfcdn/2022/pdf/University/IR-O-U-0500.pdf\" target=\"_blank\"><img src=\"https://www.nirfindia.org/images/pdf_icon.png\" style=\"width: 20px; height: 20px !important\"/></a> | <a href=\"https://www.nirfindia.org/nirfpdfcdn/2022/graph/University/IR-O-U-0500.png\" target=\"_blank\"><img src=\"https://www.nirfindia.org/images/graph.png\" style=\"width: 20px; height: 20px !important\"/></a></div><div class=\"tbl_hidden\" style=\"display:none;width:100%;\"><br/><table class=\"table \"><thead><tr><th>TLR (100)</th><th>RPC (100)</th><th>GO (100)</th><th>OI (100)</th><th>PERCEPTION (100)</th></tr></thead><tbody><tr><td>69.90</td><td>43.91</td><td>97.74</td><td>57.32</td><td>37.76</td></tr></tbody></table></div></td><td>Varanasi</td><td>Uttar Pradesh</td><td>63.20</td><td>6</td></tr><tr><td>IR-O-U-0234</td><td>Manipal Academy of Higher Education, Manipal<div style=\"float:right;\"><a class=\"btn-more-details\" href=\"javascript:;\"><span>More Details</span></a><a class=\"close_data\" id=\"close_1\" style=\"display: none;\">Close</a> | <a href=\"https://www.nirfindia.org/nirfpdfcdn/2022/pdf/University/IR-O-U-0234.pdf\" target=\"_blank\"><img src=\"https://www.nirfindia.org/images/pdf_icon.png\" style=\"width: 20px; height: 20px !important\"/></a> | <a href=\"https://www.nirfindia.org/nirfpdfcdn/2022/graph/University/IR-O-U-0234.png\" target=\"_blank\"><img src=\"https://www.nirfindia.org/images/graph.png\" style=\"width: 20px; height: 20px !important\"/></a></div><div class=\"tbl_hidden\" style=\"display:none;width:100%;\"><br/><table class=\"table \"><thead><tr><th>TLR (100)</th><th>RPC (100)</th><th>GO (100)</th><th>OI (100)</th><th>PERCEPTION (100)</th></tr></thead><tbody><tr><td>70.53</td><td>51.07</td><td>78.15</td><td>64.81</td><td>42.46</td></tr></tbody></table></div></td><td>Manipal</td><td>Karnataka</td><td>62.84</td><td>7</td></tr><tr><td>IR-O-U-0570</td><td>Calcutta University<div style=\"float:right;\"><a class=\"btn-more-details\" href=\"javascript:;\"><span>More Details</span></a><a class=\"close_data\" id=\"close_1\" style=\"display: none;\">Close</a> | <a href=\"https://www.nirfindia.org/nirfpdfcdn/2022/pdf/University/IR-O-U-0570.pdf\" target=\"_blank\"><img src=\"https://www.nirfindia.org/images/pdf_icon.png\" style=\"width: 20px; height: 20px !important\"/></a> | <a href=\"https://www.nirfindia.org/nirfpdfcdn/2022/graph/University/IR-O-U-0570.png\" target=\"_blank\"><img src=\"https://www.nirfindia.org/images/graph.png\" style=\"width: 20px; height: 20px !important\"/></a></div><div class=\"tbl_hidden\" style=\"display:none;width:100%;\"><br/><table class=\"table \"><thead><tr><th>TLR (100)</th><th>RPC (100)</th><th>GO (100)</th><th>OI (100)</th><th>PERCEPTION (100)</th></tr></thead><tbody><tr><td>67.46</td><td>40.85</td><td>95.48</td><td>61.90</td><td>44.50</td></tr></tbody></table></div></td><td>Kolkata</td><td>West Bengal</td><td>62.23</td><td>8</td></tr><tr><td>IR-O-U-0490</td><td>Vellore Institute of Technology<div style=\"float:right;\"><a class=\"btn-more-details\" href=\"javascript:;\"><span>More Details</span></a><a class=\"close_data\" id=\"close_1\" style=\"display: none;\">Close</a> | <a href=\"https://www.nirfindia.org/nirfpdfcdn/2022/pdf/University/IR-O-U-0490.pdf\" target=\"_blank\"><img src=\"https://www.nirfindia.org/images/pdf_icon.png\" style=\"width: 20px; height: 20px !important\"/></a> | <a href=\"https://www.nirfindia.org/nirfpdfcdn/2022/graph/University/IR-O-U-0490.png\" target=\"_blank\"><img src=\"https://www.nirfindia.org/images/graph.png\" style=\"width: 20px; height: 20px !important\"/></a></div><div class=\"tbl_hidden\" style=\"display:none;width:100%;\"><br/><table class=\"table \"><thead><tr><th>TLR (100)</th><th>RPC (100)</th><th>GO (100)</th><th>OI (100)</th><th>PERCEPTION (100)</th></tr></thead><tbody><tr><td>52.72</td><td>59.82</td><td>79.43</td><td>59.07</td><td>62.02</td></tr></tbody></table></div></td><td>Vellore</td><td>Tamil Nadu</td><td>61.77</td><td>9</td></tr><tr><td>IR-O-U-0042</td><td>University of Hyderabad<div style=\"float:right;\"><a class=\"btn-more-details\" href=\"javascript:;\"><span>More Details</span></a><a class=\"close_data\" id=\"close_1\" style=\"display: none;\">Close</a> | <a href=\"https://www.nirfindia.org/nirfpdfcdn/2022/pdf/University/IR-O-U-0042.pdf\" target=\"_blank\"><img src=\"https://www.nirfindia.org/images/pdf_icon.png\" style=\"width: 20px; height: 20px !important\"/></a> | <a href=\"https://www.nirfindia.org/nirfpdfcdn/2022/graph/University/IR-O-U-0042.png\" target=\"_blank\"><img src=\"https://www.nirfindia.org/images/graph.png\" style=\"width: 20px; height: 20px !important\"/></a></div><div class=\"tbl_hidden\" style=\"display:none;width:100%;\"><br/><table class=\"table \"><thead><tr><th>TLR (100)</th><th>RPC (100)</th><th>GO (100)</th><th>OI (100)</th><th>PERCEPTION (100)</th></tr></thead><tbody><tr><td>70.94</td><td>40.18</td><td>83.97</td><td>63.50</td><td>52.39</td></tr></tbody></table></div></td><td>Hyderabad</td><td>Telangana</td><td>61.71</td><td>10</td></tr><tr><td>IR-O-U-0496</td><td>Aligarh Muslim University<div style=\"float:right;\"><a class=\"btn-more-details\" href=\"javascript:;\"><span>More Details</span></a><a class=\"close_data\" id=\"close_1\" style=\"display: none;\">Close</a> | <a href=\"https://www.nirfindia.org/nirfpdfcdn/2022/pdf/University/IR-O-U-0496.pdf\" target=\"_blank\"><img src=\"https://www.nirfindia.org/images/pdf_icon.png\" style=\"width: 20px; height: 20px !important\"/></a> | <a href=\"https://www.nirfindia.org/nirfpdfcdn/2022/graph/University/IR-O-U-0496.png\" target=\"_blank\"><img src=\"https://www.nirfindia.org/images/graph.png\" style=\"width: 20px; height: 20px !important\"/></a></div><div class=\"tbl_hidden\" style=\"display:none;width:100%;\"><br/><table class=\"table \"><thead><tr><th>TLR (100)</th><th>RPC (100)</th><th>GO (100)</th><th>OI (100)</th><th>PERCEPTION (100)</th></tr></thead><tbody><tr><td>69.21</td><td>43.04</td><td>88.92</td><td>56.29</td><td>43.49</td></tr></tbody></table></div></td><td>Aligarh</td><td>Uttar Pradesh</td><td>61.43</td><td>11</td></tr><tr><td>IR-O-U-0323</td><td>Savitribai Phule Pune University<div style=\"float:right;\"><a class=\"btn-more-details\" href=\"javascript:;\"><span>More Details</span></a><a class=\"close_data\" id=\"close_1\" style=\"display: none;\">Close</a> | <a href=\"https://www.nirfindia.org/nirfpdfcdn/2022/pdf/University/IR-O-U-0323.pdf\" target=\"_blank\"><img src=\"https://www.nirfindia.org/images/pdf_icon.png\" style=\"width: 20px; height: 20px !important\"/></a> | <a href=\"https://www.nirfindia.org/nirfpdfcdn/2022/graph/University/IR-O-U-0323.png\" target=\"_blank\"><img src=\"https://www.nirfindia.org/images/graph.png\" style=\"width: 20px; height: 20px !important\"/></a></div><div class=\"tbl_hidden\" style=\"display:none;width:100%;\"><br/><table class=\"table \"><thead><tr><th>TLR (100)</th><th>RPC (100)</th><th>GO (100)</th><th>OI (100)</th><th>PERCEPTION (100)</th></tr></thead><tbody><tr><td>63.66</td><td>41.64</td><td>92.44</td><td>52.07</td><td>41.88</td></tr></tbody></table></div></td><td>Pune</td><td>Maharashtra</td><td>59.48</td><td>12</td></tr><tr><td>IR-O-U-0120</td><td>University of Delhi<div style=\"float:right;\"><a class=\"btn-more-details\" href=\"javascript:;\"><span>More Details</span></a><a class=\"close_data\" id=\"close_1\" style=\"display: none;\">Close</a> | <a href=\"https://www.nirfindia.org/nirfpdfcdn/2022/pdf/University/IR-O-U-0120.pdf\" target=\"_blank\"><img src=\"https://www.nirfindia.org/images/pdf_icon.png\" style=\"width: 20px; height: 20px !important\"/></a> | <a href=\"https://www.nirfindia.org/nirfpdfcdn/2022/graph/University/IR-O-U-0120.png\" target=\"_blank\"><img src=\"https://www.nirfindia.org/images/graph.png\" style=\"width: 20px; height: 20px !important\"/></a></div><div class=\"tbl_hidden\" style=\"display:none;width:100%;\"><br/><table class=\"table \"><thead><tr><th>TLR (100)</th><th>RPC (100)</th><th>GO (100)</th><th>OI (100)</th><th>PERCEPTION (100)</th></tr></thead><tbody><tr><td>43.11</td><td>52.82</td><td>91.85</td><td>58.87</td><td>56.15</td></tr></tbody></table></div></td><td>Delhi</td><td>Delhi</td><td>58.66</td><td>13</td></tr><tr><td>IR-O-U-0308</td><td>Institute of Chemical Technology<div style=\"float:right;\"><a class=\"btn-more-details\" href=\"javascript:;\"><span>More Details</span></a><a class=\"close_data\" id=\"close_1\" style=\"display: none;\">Close</a> | <a href=\"https://www.nirfindia.org/nirfpdfcdn/2022/pdf/University/IR-O-U-0308.pdf\" target=\"_blank\"><img src=\"https://www.nirfindia.org/images/pdf_icon.png\" style=\"width: 20px; height: 20px !important\"/></a> | <a href=\"https://www.nirfindia.org/nirfpdfcdn/2022/graph/University/IR-O-U-0308.png\" target=\"_blank\"><img src=\"https://www.nirfindia.org/images/graph.png\" style=\"width: 20px; height: 20px !important\"/></a></div><div class=\"tbl_hidden\" style=\"display:none;width:100%;\"><br/><table class=\"table \"><thead><tr><th>TLR (100)</th><th>RPC (100)</th><th>GO (100)</th><th>OI (100)</th><th>PERCEPTION (100)</th></tr></thead><tbody><tr><td>59.27</td><td>50.58</td><td>79.61</td><td>54.50</td><td>42.91</td></tr></tbody></table></div></td><td>Mumbai</td><td>Maharashtra</td><td>58.61</td><td>14</td></tr><tr><td>IR-O-U-0447</td><td>Bharathiar University<div style=\"float:right;\"><a class=\"btn-more-details\" href=\"javascript:;\"><span>More Details</span></a><a class=\"close_data\" id=\"close_1\" style=\"display: none;\">Close</a> | <a href=\"https://www.nirfindia.org/nirfpdfcdn/2022/pdf/University/IR-O-U-0447.pdf\" target=\"_blank\"><img src=\"https://www.nirfindia.org/images/pdf_icon.png\" style=\"width: 20px; height: 20px !important\"/></a> | <a href=\"https://www.nirfindia.org/nirfpdfcdn/2022/graph/University/IR-O-U-0447.png\" target=\"_blank\"><img src=\"https://www.nirfindia.org/images/graph.png\" style=\"width: 20px; height: 20px !important\"/></a></div><div class=\"tbl_hidden\" style=\"display:none;width:100%;\"><br/><table class=\"table \"><thead><tr><th>TLR (100)</th><th>RPC (100)</th><th>GO (100)</th><th>OI (100)</th><th>PERCEPTION (100)</th></tr></thead><tbody><tr><td>63.97</td><td>44.36</td><td>78.31</td><td>63.96</td><td>36.88</td></tr></tbody></table></div></td><td>Coimbatore</td><td>Tamil Nadu</td><td>58.25</td><td>15</td></tr><tr><td>IR-O-U-0363</td><td>Siksha `O` Anusandhan<div style=\"float:right;\"><a class=\"btn-more-details\" href=\"javascript:;\"><span>More Details</span></a><a class=\"close_data\" id=\"close_1\" style=\"display: none;\">Close</a> | <a href=\"https://www.nirfindia.org/nirfpdfcdn/2022/pdf/University/IR-O-U-0363.pdf\" target=\"_blank\"><img src=\"https://www.nirfindia.org/images/pdf_icon.png\" style=\"width: 20px; height: 20px !important\"/></a> | <a href=\"https://www.nirfindia.org/nirfpdfcdn/2022/graph/University/IR-O-U-0363.png\" target=\"_blank\"><img src=\"https://www.nirfindia.org/images/graph.png\" style=\"width: 20px; height: 20px !important\"/></a></div><div class=\"tbl_hidden\" style=\"display:none;width:100%;\"><br/><table class=\"table \"><thead><tr><th>TLR (100)</th><th>RPC (100)</th><th>GO (100)</th><th>OI (100)</th><th>PERCEPTION (100)</th></tr></thead><tbody><tr><td>68.30</td><td>35.58</td><td>73.45</td><td>68.40</td><td>49.08</td></tr></tbody></table></div></td><td>Bhubaneswar</td><td>Odisha</td><td>57.60</td><td>16</td></tr><tr><td>IR-O-U-0304</td><td>Homi Bhabha National Institute<div style=\"float:right;\"><a class=\"btn-more-details\" href=\"javascript:;\"><span>More Details</span></a><a class=\"close_data\" id=\"close_1\" style=\"display: none;\">Close</a> | <a href=\"https://www.nirfindia.org/nirfpdfcdn/2022/pdf/University/IR-O-U-0304.pdf\" target=\"_blank\"><img src=\"https://www.nirfindia.org/images/pdf_icon.png\" style=\"width: 20px; height: 20px !important\"/></a> | <a href=\"https://www.nirfindia.org/nirfpdfcdn/2022/graph/University/IR-O-U-0304.png\" target=\"_blank\"><img src=\"https://www.nirfindia.org/images/graph.png\" style=\"width: 20px; height: 20px !important\"/></a></div><div class=\"tbl_hidden\" style=\"display:none;width:100%;\"><br/><table class=\"table \"><thead><tr><th>TLR (100)</th><th>RPC (100)</th><th>GO (100)</th><th>OI (100)</th><th>PERCEPTION (100)</th></tr></thead><tbody><tr><td>72.51</td><td>45.25</td><td>68.93</td><td>52.01</td><td>27.71</td></tr></tbody></table></div></td><td>Mumbai</td><td>Maharashtra</td><td>57.09</td><td>17</td></tr><tr><td>IR-O-U-0391</td><td>Birla Institute of Technology &amp; Science - Pilani<div style=\"float:right;\"><a class=\"btn-more-details\" href=\"javascript:;\"><span>More Details</span></a><a class=\"close_data\" id=\"close_1\" style=\"display: none;\">Close</a> | <a href=\"https://www.nirfindia.org/nirfpdfcdn/2022/pdf/University/IR-O-U-0391.pdf\" target=\"_blank\"><img src=\"https://www.nirfindia.org/images/pdf_icon.png\" style=\"width: 20px; height: 20px !important\"/></a> | <a href=\"https://www.nirfindia.org/nirfpdfcdn/2022/graph/University/IR-O-U-0391.png\" target=\"_blank\"><img src=\"https://www.nirfindia.org/images/graph.png\" style=\"width: 20px; height: 20px !important\"/></a></div><div class=\"tbl_hidden\" style=\"display:none;width:100%;\"><br/><table class=\"table \"><thead><tr><th>TLR (100)</th><th>RPC (100)</th><th>GO (100)</th><th>OI (100)</th><th>PERCEPTION (100)</th></tr></thead><tbody><tr><td>59.27</td><td>46.74</td><td>73.45</td><td>58.76</td><td>43.08</td></tr></tbody></table></div></td><td>Pilani</td><td>Rajasthan</td><td>56.68</td><td>18</td></tr><tr><td>IR-O-U-0473</td><td>S.R.M. Institute of Science and Technology<div style=\"float:right;\"><a class=\"btn-more-details\" href=\"javascript:;\"><span>More Details</span></a><a class=\"close_data\" id=\"close_1\" style=\"display: none;\">Close</a> | <a href=\"https://www.nirfindia.org/nirfpdfcdn/2022/pdf/University/IR-O-U-0473.pdf\" target=\"_blank\"><img src=\"https://www.nirfindia.org/images/pdf_icon.png\" style=\"width: 20px; height: 20px !important\"/></a> | <a href=\"https://www.nirfindia.org/nirfpdfcdn/2022/graph/University/IR-O-U-0473.png\" target=\"_blank\"><img src=\"https://www.nirfindia.org/images/graph.png\" style=\"width: 20px; height: 20px !important\"/></a></div><div class=\"tbl_hidden\" style=\"display:none;width:100%;\"><br/><table class=\"table \"><thead><tr><th>TLR (100)</th><th>RPC (100)</th><th>GO (100)</th><th>OI (100)</th><th>PERCEPTION (100)</th></tr></thead><tbody><tr><td>57.91</td><td>45.28</td><td>71.41</td><td>62.54</td><td>47.60</td></tr></tbody></table></div></td><td>Chennai</td><td>Tamil Nadu</td><td>56.24</td><td>19</td></tr><tr><td>IR-O-U-0356</td><td>Kalinga Institute of Industrial Technology<div style=\"float:right;\"><a class=\"btn-more-details\" href=\"javascript:;\"><span>More Details</span></a><a class=\"close_data\" id=\"close_1\" style=\"display: none;\">Close</a> | <a href=\"https://www.nirfindia.org/nirfpdfcdn/2022/pdf/University/IR-O-U-0356.pdf\" target=\"_blank\"><img src=\"https://www.nirfindia.org/images/pdf_icon.png\" style=\"width: 20px; height: 20px !important\"/></a> | <a href=\"https://www.nirfindia.org/nirfpdfcdn/2022/graph/University/IR-O-U-0356.png\" target=\"_blank\"><img src=\"https://www.nirfindia.org/images/graph.png\" style=\"width: 20px; height: 20px !important\"/></a></div><div class=\"tbl_hidden\" style=\"display:none;width:100%;\"><br/><table class=\"table \"><thead><tr><th>TLR (100)</th><th>RPC (100)</th><th>GO (100)</th><th>OI (100)</th><th>PERCEPTION (100)</th></tr></thead><tbody><tr><td>69.00</td><td>30.20</td><td>75.13</td><td>77.86</td><td>36.40</td></tr></tbody></table></div></td><td>Bhubaneswar</td><td>Odisha</td><td>56.22</td><td>20</td></tr><tr><td>IR-O-U-0439</td><td>Anna University<div style=\"float:right;\"><a class=\"btn-more-details\" href=\"javascript:;\"><span>More Details</span></a><a class=\"close_data\" id=\"close_1\" style=\"display: none;\">Close</a> | <a href=\"https://www.nirfindia.org/nirfpdfcdn/2022/pdf/University/IR-O-U-0439.pdf\" target=\"_blank\"><img src=\"https://www.nirfindia.org/images/pdf_icon.png\" style=\"width: 20px; height: 20px !important\"/></a> | <a href=\"https://www.nirfindia.org/nirfpdfcdn/2022/graph/University/IR-O-U-0439.png\" target=\"_blank\"><img src=\"https://www.nirfindia.org/images/graph.png\" style=\"width: 20px; height: 20px !important\"/></a></div><div class=\"tbl_hidden\" style=\"display:none;width:100%;\"><br/><table class=\"table \"><thead><tr><th>TLR (100)</th><th>RPC (100)</th><th>GO (100)</th><th>OI (100)</th><th>PERCEPTION (100)</th></tr></thead><tbody><tr><td>53.32</td><td>53.15</td><td>74.97</td><td>49.30</td><td>43.47</td></tr></tbody></table></div></td><td>Chennai</td><td>Tamil Nadu</td><td>56.22</td><td>20</td></tr><tr><td>IR-O-U-0027</td><td>Osmania University<div style=\"float:right;\"><a class=\"btn-more-details\" href=\"javascript:;\"><span>More Details</span></a><a class=\"close_data\" id=\"close_1\" style=\"display: none;\">Close</a> | <a href=\"https://www.nirfindia.org/nirfpdfcdn/2022/pdf/University/IR-O-U-0027.pdf\" target=\"_blank\"><img src=\"https://www.nirfindia.org/images/pdf_icon.png\" style=\"width: 20px; height: 20px !important\"/></a> | <a href=\"https://www.nirfindia.org/nirfpdfcdn/2022/graph/University/IR-O-U-0027.png\" target=\"_blank\"><img src=\"https://www.nirfindia.org/images/graph.png\" style=\"width: 20px; height: 20px !important\"/></a></div><div class=\"tbl_hidden\" style=\"display:none;width:100%;\"><br/><table class=\"table \"><thead><tr><th>TLR (100)</th><th>RPC (100)</th><th>GO (100)</th><th>OI (100)</th><th>PERCEPTION (100)</th></tr></thead><tbody><tr><td>60.22</td><td>30.41</td><td>79.98</td><td>56.37</td><td>42.40</td></tr></tbody></table></div></td><td>Hyderabad</td><td>Telangana</td><td>53.07</td><td>22</td></tr><tr><td>IR-O-U-0497</td><td>Amity University<div style=\"float:right;\"><a class=\"btn-more-details\" href=\"javascript:;\"><span>More Details</span></a><a class=\"close_data\" id=\"close_1\" style=\"display: none;\">Close</a> | <a href=\"https://www.nirfindia.org/nirfpdfcdn/2022/pdf/University/IR-O-U-0497.pdf\" target=\"_blank\"><img src=\"https://www.nirfindia.org/images/pdf_icon.png\" style=\"width: 20px; height: 20px !important\"/></a> | <a href=\"https://www.nirfindia.org/nirfpdfcdn/2022/graph/University/IR-O-U-0497.png\" target=\"_blank\"><img src=\"https://www.nirfindia.org/images/graph.png\" style=\"width: 20px; height: 20px !important\"/></a></div><div class=\"tbl_hidden\" style=\"display:none;width:100%;\"><br/><table class=\"table \"><thead><tr><th>TLR (100)</th><th>RPC (100)</th><th>GO (100)</th><th>OI (100)</th><th>PERCEPTION (100)</th></tr></thead><tbody><tr><td>49.57</td><td>47.89</td><td>70.35</td><td>64.17</td><td>33.40</td></tr></tbody></table></div></td><td>Gautam Budh Nagar</td><td>Uttar Pradesh</td><td>53.07</td><td>22</td></tr><tr><td>IR-O-U-0476</td><td>Shanmugha Arts Science Technology &amp; Research Academy<div style=\"float:right;\"><a class=\"btn-more-details\" href=\"javascript:;\"><span>More Details</span></a><a class=\"close_data\" id=\"close_1\" style=\"display: none;\">Close</a> | <a href=\"https://www.nirfindia.org/nirfpdfcdn/2022/pdf/University/IR-O-U-0476.pdf\" target=\"_blank\"><img src=\"https://www.nirfindia.org/images/pdf_icon.png\" style=\"width: 20px; height: 20px !important\"/></a> | <a href=\"https://www.nirfindia.org/nirfpdfcdn/2022/graph/University/IR-O-U-0476.png\" target=\"_blank\"><img src=\"https://www.nirfindia.org/images/graph.png\" style=\"width: 20px; height: 20px !important\"/></a></div><div class=\"tbl_hidden\" style=\"display:none;width:100%;\"><br/><table class=\"table \"><thead><tr><th>TLR (100)</th><th>RPC (100)</th><th>GO (100)</th><th>OI (100)</th><th>PERCEPTION (100)</th></tr></thead><tbody><tr><td>61.35</td><td>38.23</td><td>67.66</td><td>59.74</td><td>36.70</td></tr></tbody></table></div></td><td>Thanjavur</td><td>Tamil Nadu</td><td>53.04</td><td>24</td></tr><tr><td>IR-O-U-0078</td><td>Panjab University<div style=\"float:right;\"><a class=\"btn-more-details\" href=\"javascript:;\"><span>More Details</span></a><a class=\"close_data\" id=\"close_1\" style=\"display: none;\">Close</a> | <a href=\"https://www.nirfindia.org/nirfpdfcdn/2022/pdf/University/IR-O-U-0078.pdf\" target=\"_blank\"><img src=\"https://www.nirfindia.org/images/pdf_icon.png\" style=\"width: 20px; height: 20px !important\"/></a> | <a href=\"https://www.nirfindia.org/nirfpdfcdn/2022/graph/University/IR-O-U-0078.png\" target=\"_blank\"><img src=\"https://www.nirfindia.org/images/graph.png\" style=\"width: 20px; height: 20px !important\"/></a></div><div class=\"tbl_hidden\" style=\"display:none;width:100%;\"><br/><table class=\"table \"><thead><tr><th>TLR (100)</th><th>RPC (100)</th><th>GO (100)</th><th>OI (100)</th><th>PERCEPTION (100)</th></tr></thead><tbody><tr><td>48.43</td><td>43.18</td><td>74.62</td><td>60.73</td><td>43.29</td></tr></tbody></table></div></td><td>Chandigarh</td><td>Chandigarh</td><td>52.80</td><td>25</td></tr><tr><td>IR-O-I-1441</td><td>Saveetha Institute of Medical and Technical Sciences<div style=\"float:right;\"><a class=\"btn-more-details\" href=\"javascript:;\"><span>More Details</span></a><a class=\"close_data\" id=\"close_1\" style=\"display: none;\">Close</a> | <a href=\"https://www.nirfindia.org/nirfpdfcdn/2022/pdf/University/IR-O-I-1441.pdf\" target=\"_blank\"><img src=\"https://www.nirfindia.org/images/pdf_icon.png\" style=\"width: 20px; height: 20px !important\"/></a> | <a href=\"https://www.nirfindia.org/nirfpdfcdn/2022/graph/University/IR-O-I-1441.png\" target=\"_blank\"><img src=\"https://www.nirfindia.org/images/graph.png\" style=\"width: 20px; height: 20px !important\"/></a></div><div class=\"tbl_hidden\" style=\"display:none;width:100%;\"><br/><table class=\"table \"><thead><tr><th>TLR (100)</th><th>RPC (100)</th><th>GO (100)</th><th>OI (100)</th><th>PERCEPTION (100)</th></tr></thead><tbody><tr><td>56.29</td><td>43.01</td><td>69.46</td><td>65.97</td><td>21.71</td></tr></tbody></table></div></td><td>Chennai</td><td>Tamil Nadu</td><td>52.45</td><td>26</td></tr><tr><td>IR-O-U-0020</td><td>Koneru Lakshmaiah Education Foundation University (K L College of Engineering)<div style=\"float:right;\"><a class=\"btn-more-details\" href=\"javascript:;\"><span>More Details</span></a><a class=\"close_data\" id=\"close_1\" style=\"display: none;\">Close</a> | <a href=\"https://www.nirfindia.org/nirfpdfcdn/2022/pdf/University/IR-O-U-0020.pdf\" target=\"_blank\"><img src=\"https://www.nirfindia.org/images/pdf_icon.png\" style=\"width: 20px; height: 20px !important\"/></a> | <a href=\"https://www.nirfindia.org/nirfpdfcdn/2022/graph/University/IR-O-U-0020.png\" target=\"_blank\"><img src=\"https://www.nirfindia.org/images/graph.png\" style=\"width: 20px; height: 20px !important\"/></a></div><div class=\"tbl_hidden\" style=\"display:none;width:100%;\"><br/><table class=\"table \"><thead><tr><th>TLR (100)</th><th>RPC (100)</th><th>GO (100)</th><th>OI (100)</th><th>PERCEPTION (100)</th></tr></thead><tbody><tr><td>61.22</td><td>36.63</td><td>67.04</td><td>56.83</td><td>38.82</td></tr></tbody></table></div></td><td>Vaddeswaram</td><td>Andhra Pradesh</td><td>52.33</td><td>27</td></tr><tr><td>IR-O-U-0435</td><td>Alagappa University<div style=\"float:right;\"><a class=\"btn-more-details\" href=\"javascript:;\"><span>More Details</span></a><a class=\"close_data\" id=\"close_1\" style=\"display: none;\">Close</a> | <a href=\"https://www.nirfindia.org/nirfpdfcdn/2022/pdf/University/IR-O-U-0435.pdf\" target=\"_blank\"><img src=\"https://www.nirfindia.org/images/pdf_icon.png\" style=\"width: 20px; height: 20px !important\"/></a> | <a href=\"https://www.nirfindia.org/nirfpdfcdn/2022/graph/University/IR-O-U-0435.png\" target=\"_blank\"><img src=\"https://www.nirfindia.org/images/graph.png\" style=\"width: 20px; height: 20px !important\"/></a></div><div class=\"tbl_hidden\" style=\"display:none;width:100%;\"><br/><table class=\"table \"><thead><tr><th>TLR (100)</th><th>RPC (100)</th><th>GO (100)</th><th>OI (100)</th><th>PERCEPTION (100)</th></tr></thead><tbody><tr><td>61.66</td><td>32.63</td><td>72.21</td><td>51.56</td><td>42.91</td></tr></tbody></table></div></td><td>Karaikudi</td><td>Tamil Nadu</td><td>52.18</td><td>28</td></tr><tr><td>IR-O-U-0747</td><td>Chandigarh University<div style=\"float:right;\"><a class=\"btn-more-details\" href=\"javascript:;\"><span>More Details</span></a><a class=\"close_data\" id=\"close_1\" style=\"display: none;\">Close</a> | <a href=\"https://www.nirfindia.org/nirfpdfcdn/2022/pdf/University/IR-O-U-0747.pdf\" target=\"_blank\"><img src=\"https://www.nirfindia.org/images/pdf_icon.png\" style=\"width: 20px; height: 20px !important\"/></a> | <a href=\"https://www.nirfindia.org/nirfpdfcdn/2022/graph/University/IR-O-U-0747.png\" target=\"_blank\"><img src=\"https://www.nirfindia.org/images/graph.png\" style=\"width: 20px; height: 20px !important\"/></a></div><div class=\"tbl_hidden\" style=\"display:none;width:100%;\"><br/><table class=\"table \"><thead><tr><th>TLR (100)</th><th>RPC (100)</th><th>GO (100)</th><th>OI (100)</th><th>PERCEPTION (100)</th></tr></thead><tbody><tr><td>63.04</td><td>22.16</td><td>69.27</td><td>78.62</td><td>45.83</td></tr></tbody></table></div></td><td>Mohali</td><td>Punjab</td><td>51.85</td><td>29</td></tr><tr><td>IR-O-U-0262</td><td>Mahatma Gandhi University, Kottayam<div style=\"float:right;\"><a class=\"btn-more-details\" href=\"javascript:;\"><span>More Details</span></a><a class=\"close_data\" id=\"close_1\" style=\"display: none;\">Close</a> | <a href=\"https://www.nirfindia.org/nirfpdfcdn/2022/pdf/University/IR-O-U-0262.pdf\" target=\"_blank\"><img src=\"https://www.nirfindia.org/images/pdf_icon.png\" style=\"width: 20px; height: 20px !important\"/></a> | <a href=\"https://www.nirfindia.org/nirfpdfcdn/2022/graph/University/IR-O-U-0262.png\" target=\"_blank\"><img src=\"https://www.nirfindia.org/images/graph.png\" style=\"width: 20px; height: 20px !important\"/></a></div><div class=\"tbl_hidden\" style=\"display:none;width:100%;\"><br/><table class=\"table \"><thead><tr><th>TLR (100)</th><th>RPC (100)</th><th>GO (100)</th><th>OI (100)</th><th>PERCEPTION (100)</th></tr></thead><tbody><tr><td>65.16</td><td>36.16</td><td>70.48</td><td>51.18</td><td>19.92</td></tr></tbody></table></div></td><td>Kottayam</td><td>Kerala</td><td>51.61</td><td>30</td></tr><tr><td>IR-O-I-1480</td><td>Thapar Institute of Engineering and Technology<div style=\"float:right;\"><a class=\"btn-more-details\" href=\"javascript:;\"><span>More Details</span></a><a class=\"close_data\" id=\"close_1\" style=\"display: none;\">Close</a> | <a href=\"https://www.nirfindia.org/nirfpdfcdn/2022/pdf/University/IR-O-I-1480.pdf\" target=\"_blank\"><img src=\"https://www.nirfindia.org/images/pdf_icon.png\" style=\"width: 20px; height: 20px !important\"/></a> | <a href=\"https://www.nirfindia.org/nirfpdfcdn/2022/graph/University/IR-O-I-1480.png\" target=\"_blank\"><img src=\"https://www.nirfindia.org/images/graph.png\" style=\"width: 20px; height: 20px !important\"/></a></div><div class=\"tbl_hidden\" style=\"display:none;width:100%;\"><br/><table class=\"table \"><thead><tr><th>TLR (100)</th><th>RPC (100)</th><th>GO (100)</th><th>OI (100)</th><th>PERCEPTION (100)</th></tr></thead><tbody><tr><td>49.86</td><td>44.83</td><td>70.57</td><td>55.09</td><td>35.34</td></tr></tbody></table></div></td><td>Patiala</td><td>Punjab</td><td>51.56</td><td>31</td></tr><tr><td>IR-O-U-0329</td><td>Symbiosis International<div style=\"float:right;\"><a class=\"btn-more-details\" href=\"javascript:;\"><span>More Details</span></a><a class=\"close_data\" id=\"close_1\" style=\"display: none;\">Close</a> | <a href=\"https://www.nirfindia.org/nirfpdfcdn/2022/pdf/University/IR-O-U-0329.pdf\" target=\"_blank\"><img src=\"https://www.nirfindia.org/images/pdf_icon.png\" style=\"width: 20px; height: 20px !important\"/></a> | <a href=\"https://www.nirfindia.org/nirfpdfcdn/2022/graph/University/IR-O-U-0329.png\" target=\"_blank\"><img src=\"https://www.nirfindia.org/images/graph.png\" style=\"width: 20px; height: 20px !important\"/></a></div><div class=\"tbl_hidden\" style=\"display:none;width:100%;\"><br/><table class=\"table \"><thead><tr><th>TLR (100)</th><th>RPC (100)</th><th>GO (100)</th><th>OI (100)</th><th>PERCEPTION (100)</th></tr></thead><tbody><tr><td>65.62</td><td>17.80</td><td>74.90</td><td>66.57</td><td>47.82</td></tr></tbody></table></div></td><td>Pune</td><td>Maharashtra</td><td>51.45</td><td>32</td></tr><tr><td>IR-O-U-0235</td><td>Mysore University<div style=\"float:right;\"><a class=\"btn-more-details\" href=\"javascript:;\"><span>More Details</span></a><a class=\"close_data\" id=\"close_1\" style=\"display: none;\">Close</a> | <a href=\"https://www.nirfindia.org/nirfpdfcdn/2022/pdf/University/IR-O-U-0235.pdf\" target=\"_blank\"><img src=\"https://www.nirfindia.org/images/pdf_icon.png\" style=\"width: 20px; height: 20px !important\"/></a> | <a href=\"https://www.nirfindia.org/nirfpdfcdn/2022/graph/University/IR-O-U-0235.png\" target=\"_blank\"><img src=\"https://www.nirfindia.org/images/graph.png\" style=\"width: 20px; height: 20px !important\"/></a></div><div class=\"tbl_hidden\" style=\"display:none;width:100%;\"><br/><table class=\"table \"><thead><tr><th>TLR (100)</th><th>RPC (100)</th><th>GO (100)</th><th>OI (100)</th><th>PERCEPTION (100)</th></tr></thead><tbody><tr><td>68.90</td><td>16.81</td><td>90.68</td><td>53.79</td><td>21.36</td></tr></tbody></table></div></td><td>Mysuru</td><td>Karnataka</td><td>51.37</td><td>33</td></tr><tr><td>IR-O-U-0222</td><td>JSS Academy of Higher Education and Research<div style=\"float:right;\"><a class=\"btn-more-details\" href=\"javascript:;\"><span>More Details</span></a><a class=\"close_data\" id=\"close_1\" style=\"display: none;\">Close</a> | <a href=\"https://www.nirfindia.org/nirfpdfcdn/2022/pdf/University/IR-O-U-0222.pdf\" target=\"_blank\"><img src=\"https://www.nirfindia.org/images/pdf_icon.png\" style=\"width: 20px; height: 20px !important\"/></a> | <a href=\"https://www.nirfindia.org/nirfpdfcdn/2022/graph/University/IR-O-U-0222.png\" target=\"_blank\"><img src=\"https://www.nirfindia.org/images/graph.png\" style=\"width: 20px; height: 20px !important\"/></a></div><div class=\"tbl_hidden\" style=\"display:none;width:100%;\"><br/><table class=\"table \"><thead><tr><th>TLR (100)</th><th>RPC (100)</th><th>GO (100)</th><th>OI (100)</th><th>PERCEPTION (100)</th></tr></thead><tbody><tr><td>68.12</td><td>21.40</td><td>69.04</td><td>69.37</td><td>35.88</td></tr></tbody></table></div></td><td>Mysuru</td><td>Karnataka</td><td>51.20</td><td>34</td></tr><tr><td>IR-O-U-0458</td><td>Kalasalingam Academy of Research and Education<div style=\"float:right;\"><a class=\"btn-more-details\" href=\"javascript:;\"><span>More Details</span></a><a class=\"close_data\" id=\"close_1\" style=\"display: none;\">Close</a> | <a href=\"https://www.nirfindia.org/nirfpdfcdn/2022/pdf/University/IR-O-U-0458.pdf\" target=\"_blank\"><img src=\"https://www.nirfindia.org/images/pdf_icon.png\" style=\"width: 20px; height: 20px !important\"/></a> | <a href=\"https://www.nirfindia.org/nirfpdfcdn/2022/graph/University/IR-O-U-0458.png\" target=\"_blank\"><img src=\"https://www.nirfindia.org/images/graph.png\" style=\"width: 20px; height: 20px !important\"/></a></div><div class=\"tbl_hidden\" style=\"display:none;width:100%;\"><br/><table class=\"table \"><thead><tr><th>TLR (100)</th><th>RPC (100)</th><th>GO (100)</th><th>OI (100)</th><th>PERCEPTION (100)</th></tr></thead><tbody><tr><td>60.10</td><td>26.46</td><td>71.20</td><td>74.72</td><td>34.05</td></tr></tbody></table></div></td><td>Srivilliputtur</td><td>Tamil Nadu</td><td>51.09</td><td>35</td></tr><tr><td>IR-O-U-0006</td><td>Andhra University, Visakhapatnam<div style=\"float:right;\"><a class=\"btn-more-details\" href=\"javascript:;\"><span>More Details</span></a><a class=\"close_data\" id=\"close_1\" style=\"display: none;\">Close</a> | <a href=\"https://www.nirfindia.org/nirfpdfcdn/2022/pdf/University/IR-O-U-0006.pdf\" target=\"_blank\"><img src=\"https://www.nirfindia.org/images/pdf_icon.png\" style=\"width: 20px; height: 20px !important\"/></a> | <a href=\"https://www.nirfindia.org/nirfpdfcdn/2022/graph/University/IR-O-U-0006.png\" target=\"_blank\"><img src=\"https://www.nirfindia.org/images/graph.png\" style=\"width: 20px; height: 20px !important\"/></a></div><div class=\"tbl_hidden\" style=\"display:none;width:100%;\"><br/><table class=\"table \"><thead><tr><th>TLR (100)</th><th>RPC (100)</th><th>GO (100)</th><th>OI (100)</th><th>PERCEPTION (100)</th></tr></thead><tbody><tr><td>54.05</td><td>25.80</td><td>85.70</td><td>53.73</td><td>40.53</td></tr></tbody></table></div></td><td>Visakhapatnam</td><td>Andhra Pradesh</td><td>50.52</td><td>36</td></tr><tr><td>IR-O-U-0052</td><td>Gauhati University<div style=\"float:right;\"><a class=\"btn-more-details\" href=\"javascript:;\"><span>More Details</span></a><a class=\"close_data\" id=\"close_1\" style=\"display: none;\">Close</a> | <a href=\"https://www.nirfindia.org/nirfpdfcdn/2022/pdf/University/IR-O-U-0052.pdf\" target=\"_blank\"><img src=\"https://www.nirfindia.org/images/pdf_icon.png\" style=\"width: 20px; height: 20px !important\"/></a> | <a href=\"https://www.nirfindia.org/nirfpdfcdn/2022/graph/University/IR-O-U-0052.png\" target=\"_blank\"><img src=\"https://www.nirfindia.org/images/graph.png\" style=\"width: 20px; height: 20px !important\"/></a></div><div class=\"tbl_hidden\" style=\"display:none;width:100%;\"><br/><table class=\"table \"><thead><tr><th>TLR (100)</th><th>RPC (100)</th><th>GO (100)</th><th>OI (100)</th><th>PERCEPTION (100)</th></tr></thead><tbody><tr><td>59.42</td><td>21.66</td><td>89.82</td><td>58.19</td><td>24.06</td></tr></tbody></table></div></td><td>Guwahati</td><td>Assam</td><td>50.52</td><td>36</td></tr><tr><td>IR-O-U-0098</td><td>Delhi Technological University<div style=\"float:right;\"><a class=\"btn-more-details\" href=\"javascript:;\"><span>More Details</span></a><a class=\"close_data\" id=\"close_1\" style=\"display: none;\">Close</a> | <a href=\"https://www.nirfindia.org/nirfpdfcdn/2022/pdf/University/IR-O-U-0098.pdf\" target=\"_blank\"><img src=\"https://www.nirfindia.org/images/pdf_icon.png\" style=\"width: 20px; height: 20px !important\"/></a> | <a href=\"https://www.nirfindia.org/nirfpdfcdn/2022/graph/University/IR-O-U-0098.png\" target=\"_blank\"><img src=\"https://www.nirfindia.org/images/graph.png\" style=\"width: 20px; height: 20px !important\"/></a></div><div class=\"tbl_hidden\" style=\"display:none;width:100%;\"><br/><table class=\"table \"><thead><tr><th>TLR (100)</th><th>RPC (100)</th><th>GO (100)</th><th>OI (100)</th><th>PERCEPTION (100)</th></tr></thead><tbody><tr><td>57.93</td><td>32.46</td><td>66.55</td><td>57.34</td><td>38.10</td></tr></tbody></table></div></td><td>New Delhi</td><td>Delhi</td><td>49.97</td><td>38</td></tr><tr><td>IR-O-I-1357</td><td>University of Madras<div style=\"float:right;\"><a class=\"btn-more-details\" href=\"javascript:;\"><span>More Details</span></a><a class=\"close_data\" id=\"close_1\" style=\"display: none;\">Close</a> | <a href=\"https://www.nirfindia.org/nirfpdfcdn/2022/pdf/University/IR-O-I-1357.pdf\" target=\"_blank\"><img src=\"https://www.nirfindia.org/images/pdf_icon.png\" style=\"width: 20px; height: 20px !important\"/></a> | <a href=\"https://www.nirfindia.org/nirfpdfcdn/2022/graph/University/IR-O-I-1357.png\" target=\"_blank\"><img src=\"https://www.nirfindia.org/images/graph.png\" style=\"width: 20px; height: 20px !important\"/></a></div><div class=\"tbl_hidden\" style=\"display:none;width:100%;\"><br/><table class=\"table \"><thead><tr><th>TLR (100)</th><th>RPC (100)</th><th>GO (100)</th><th>OI (100)</th><th>PERCEPTION (100)</th></tr></thead><tbody><tr><td>56.58</td><td>32.35</td><td>71.30</td><td>52.41</td><td>36.91</td></tr></tbody></table></div></td><td>Chennai</td><td>Tamil Nadu</td><td>49.86</td><td>39</td></tr><tr><td>IR-O-U-0260</td><td>Kerala University<div style=\"float:right;\"><a class=\"btn-more-details\" href=\"javascript:;\"><span>More Details</span></a><a class=\"close_data\" id=\"close_1\" style=\"display: none;\">Close</a> | <a href=\"https://www.nirfindia.org/nirfpdfcdn/2022/pdf/University/IR-O-U-0260.pdf\" target=\"_blank\"><img src=\"https://www.nirfindia.org/images/pdf_icon.png\" style=\"width: 20px; height: 20px !important\"/></a> | <a href=\"https://www.nirfindia.org/nirfpdfcdn/2022/graph/University/IR-O-U-0260.png\" target=\"_blank\"><img src=\"https://www.nirfindia.org/images/graph.png\" style=\"width: 20px; height: 20px !important\"/></a></div><div class=\"tbl_hidden\" style=\"display:none;width:100%;\"><br/><table class=\"table \"><thead><tr><th>TLR (100)</th><th>RPC (100)</th><th>GO (100)</th><th>OI (100)</th><th>PERCEPTION (100)</th></tr></thead><tbody><tr><td>65.23</td><td>20.29</td><td>94.40</td><td>51.07</td><td>1.54</td></tr></tbody></table></div></td><td>Thiruvananthapuram</td><td>Kerala</td><td>49.80</td><td>40</td></tr><tr><td>IR-O-U-0253</td><td>Cochin University of Science and Technology<div style=\"float:right;\"><a class=\"btn-more-details\" href=\"javascript:;\"><span>More Details</span></a><a class=\"close_data\" id=\"close_1\" style=\"display: none;\">Close</a> | <a href=\"https://www.nirfindia.org/nirfpdfcdn/2022/pdf/University/IR-O-U-0253.pdf\" target=\"_blank\"><img src=\"https://www.nirfindia.org/images/pdf_icon.png\" style=\"width: 20px; height: 20px !important\"/></a> | <a href=\"https://www.nirfindia.org/nirfpdfcdn/2022/graph/University/IR-O-U-0253.png\" target=\"_blank\"><img src=\"https://www.nirfindia.org/images/graph.png\" style=\"width: 20px; height: 20px !important\"/></a></div><div class=\"tbl_hidden\" style=\"display:none;width:100%;\"><br/><table class=\"table \"><thead><tr><th>TLR (100)</th><th>RPC (100)</th><th>GO (100)</th><th>OI (100)</th><th>PERCEPTION (100)</th></tr></thead><tbody><tr><td>57.05</td><td>32.57</td><td>73.37</td><td>51.63</td><td>27.11</td></tr></tbody></table></div></td><td>Cochin</td><td>Kerala</td><td>49.43</td><td>41</td></tr><tr><td>IR-O-I-1110</td><td>Dr. D. Y. Patil Vidyapeeth<div style=\"float:right;\"><a class=\"btn-more-details\" href=\"javascript:;\"><span>More Details</span></a><a class=\"close_data\" id=\"close_1\" style=\"display: none;\">Close</a> | <a href=\"https://www.nirfindia.org/nirfpdfcdn/2022/pdf/University/IR-O-I-1110.pdf\" target=\"_blank\"><img src=\"https://www.nirfindia.org/images/pdf_icon.png\" style=\"width: 20px; height: 20px !important\"/></a> | <a href=\"https://www.nirfindia.org/nirfpdfcdn/2022/graph/University/IR-O-I-1110.png\" target=\"_blank\"><img src=\"https://www.nirfindia.org/images/graph.png\" style=\"width: 20px; height: 20px !important\"/></a></div><div class=\"tbl_hidden\" style=\"display:none;width:100%;\"><br/><table class=\"table \"><thead><tr><th>TLR (100)</th><th>RPC (100)</th><th>GO (100)</th><th>OI (100)</th><th>PERCEPTION (100)</th></tr></thead><tbody><tr><td>69.78</td><td>19.22</td><td>64.27</td><td>61.30</td><td>37.63</td></tr></tbody></table></div></td><td>Pune</td><td>Maharashtra</td><td>49.43</td><td>41</td></tr><tr><td>IR-O-U-0474</td><td>Sathyabama Institute of Science and Technology<div style=\"float:right;\"><a class=\"btn-more-details\" href=\"javascript:;\"><span>More Details</span></a><a class=\"close_data\" id=\"close_1\" style=\"display: none;\">Close</a> | <a href=\"https://www.nirfindia.org/nirfpdfcdn/2022/pdf/University/IR-O-U-0474.pdf\" target=\"_blank\"><img src=\"https://www.nirfindia.org/images/pdf_icon.png\" style=\"width: 20px; height: 20px !important\"/></a> | <a href=\"https://www.nirfindia.org/nirfpdfcdn/2022/graph/University/IR-O-U-0474.png\" target=\"_blank\"><img src=\"https://www.nirfindia.org/images/graph.png\" style=\"width: 20px; height: 20px !important\"/></a></div><div class=\"tbl_hidden\" style=\"display:none;width:100%;\"><br/><table class=\"table \"><thead><tr><th>TLR (100)</th><th>RPC (100)</th><th>GO (100)</th><th>OI (100)</th><th>PERCEPTION (100)</th></tr></thead><tbody><tr><td>56.99</td><td>29.87</td><td>65.82</td><td>65.05</td><td>34.50</td></tr></tbody></table></div></td><td>Chennai</td><td>Tamil Nadu</td><td>49.18</td><td>43</td></tr><tr><td>IR-O-U-0376</td><td>Guru Nanak Dev University<div style=\"float:right;\"><a class=\"btn-more-details\" href=\"javascript:;\"><span>More Details</span></a><a class=\"close_data\" id=\"close_1\" style=\"display: none;\">Close</a> | <a href=\"https://www.nirfindia.org/nirfpdfcdn/2022/pdf/University/IR-O-U-0376.pdf\" target=\"_blank\"><img src=\"https://www.nirfindia.org/images/pdf_icon.png\" style=\"width: 20px; height: 20px !important\"/></a> | <a href=\"https://www.nirfindia.org/nirfpdfcdn/2022/graph/University/IR-O-U-0376.png\" target=\"_blank\"><img src=\"https://www.nirfindia.org/images/graph.png\" style=\"width: 20px; height: 20px !important\"/></a></div><div class=\"tbl_hidden\" style=\"display:none;width:100%;\"><br/><table class=\"table \"><thead><tr><th>TLR (100)</th><th>RPC (100)</th><th>GO (100)</th><th>OI (100)</th><th>PERCEPTION (100)</th></tr></thead><tbody><tr><td>51.06</td><td>28.73</td><td>78.53</td><td>56.60</td><td>37.01</td></tr></tbody></table></div></td><td>Amritsar</td><td>Punjab</td><td>49.01</td><td>44</td></tr><tr><td>IR-O-U-0318</td><td>Mumbai University<div style=\"float:right;\"><a class=\"btn-more-details\" href=\"javascript:;\"><span>More Details</span></a><a class=\"close_data\" id=\"close_1\" style=\"display: none;\">Close</a> | <a href=\"https://www.nirfindia.org/nirfpdfcdn/2022/pdf/University/IR-O-U-0318.pdf\" target=\"_blank\"><img src=\"https://www.nirfindia.org/images/pdf_icon.png\" style=\"width: 20px; height: 20px !important\"/></a> | <a href=\"https://www.nirfindia.org/nirfpdfcdn/2022/graph/University/IR-O-U-0318.png\" target=\"_blank\"><img src=\"https://www.nirfindia.org/images/graph.png\" style=\"width: 20px; height: 20px !important\"/></a></div><div class=\"tbl_hidden\" style=\"display:none;width:100%;\"><br/><table class=\"table \"><thead><tr><th>TLR (100)</th><th>RPC (100)</th><th>GO (100)</th><th>OI (100)</th><th>PERCEPTION (100)</th></tr></thead><tbody><tr><td>55.16</td><td>22.52</td><td>82.54</td><td>55.95</td><td>35.08</td></tr></tbody></table></div></td><td>Mumbai</td><td>Maharashtra</td><td>48.93</td><td>45</td></tr><tr><td>IR-O-U-0107</td><td>Jamia Hamdard<div style=\"float:right;\"><a class=\"btn-more-details\" href=\"javascript:;\"><span>More Details</span></a><a class=\"close_data\" id=\"close_1\" style=\"display: none;\">Close</a> | <a href=\"https://www.nirfindia.org/nirfpdfcdn/2022/pdf/University/IR-O-U-0107.pdf\" target=\"_blank\"><img src=\"https://www.nirfindia.org/images/pdf_icon.png\" style=\"width: 20px; height: 20px !important\"/></a> | <a href=\"https://www.nirfindia.org/nirfpdfcdn/2022/graph/University/IR-O-U-0107.png\" target=\"_blank\"><img src=\"https://www.nirfindia.org/images/graph.png\" style=\"width: 20px; height: 20px !important\"/></a></div><div class=\"tbl_hidden\" style=\"display:none;width:100%;\"><br/><table class=\"table \"><thead><tr><th>TLR (100)</th><th>RPC (100)</th><th>GO (100)</th><th>OI (100)</th><th>PERCEPTION (100)</th></tr></thead><tbody><tr><td>56.93</td><td>30.15</td><td>70.35</td><td>60.93</td><td>26.53</td></tr></tbody></table></div></td><td>New Delhi</td><td>Delhi</td><td>48.93</td><td>45</td></tr><tr><td>IR-O-U-0379</td><td>Lovely Professional University<div style=\"float:right;\"><a class=\"btn-more-details\" href=\"javascript:;\"><span>More Details</span></a><a class=\"close_data\" id=\"close_1\" style=\"display: none;\">Close</a> | <a href=\"https://www.nirfindia.org/nirfpdfcdn/2022/pdf/University/IR-O-U-0379.pdf\" target=\"_blank\"><img src=\"https://www.nirfindia.org/images/pdf_icon.png\" style=\"width: 20px; height: 20px !important\"/></a> | <a href=\"https://www.nirfindia.org/nirfpdfcdn/2022/graph/University/IR-O-U-0379.png\" target=\"_blank\"><img src=\"https://www.nirfindia.org/images/graph.png\" style=\"width: 20px; height: 20px !important\"/></a></div><div class=\"tbl_hidden\" style=\"display:none;width:100%;\"><br/><table class=\"table \"><thead><tr><th>TLR (100)</th><th>RPC (100)</th><th>GO (100)</th><th>OI (100)</th><th>PERCEPTION (100)</th></tr></thead><tbody><tr><td>56.40</td><td>34.71</td><td>66.11</td><td>69.33</td><td>14.40</td></tr></tbody></table></div></td><td>Phagwara</td><td>Punjab</td><td>48.92</td><td>47</td></tr><tr><td>IR-O-I-1486</td><td>Sri Ramachandra Institute of Higher Education and Research<div style=\"float:right;\"><a class=\"btn-more-details\" href=\"javascript:;\"><span>More Details</span></a><a class=\"close_data\" id=\"close_1\" style=\"display: none;\">Close</a> | <a href=\"https://www.nirfindia.org/nirfpdfcdn/2022/pdf/University/IR-O-I-1486.pdf\" target=\"_blank\"><img src=\"https://www.nirfindia.org/images/pdf_icon.png\" style=\"width: 20px; height: 20px !important\"/></a> | <a href=\"https://www.nirfindia.org/nirfpdfcdn/2022/graph/University/IR-O-I-1486.png\" target=\"_blank\"><img src=\"https://www.nirfindia.org/images/graph.png\" style=\"width: 20px; height: 20px !important\"/></a></div><div class=\"tbl_hidden\" style=\"display:none;width:100%;\"><br/><table class=\"table \"><thead><tr><th>TLR (100)</th><th>RPC (100)</th><th>GO (100)</th><th>OI (100)</th><th>PERCEPTION (100)</th></tr></thead><tbody><tr><td>69.68</td><td>17.07</td><td>64.33</td><td>65.08</td><td>34.74</td></tr></tbody></table></div></td><td>Chennai</td><td>Tamil Nadu</td><td>48.87</td><td>48</td></tr><tr><td>IR-O-U-0389</td><td>Banasthali Vidyapith<div style=\"float:right;\"><a class=\"btn-more-details\" href=\"javascript:;\"><span>More Details</span></a><a class=\"close_data\" id=\"close_1\" style=\"display: none;\">Close</a> | <a href=\"https://www.nirfindia.org/nirfpdfcdn/2022/pdf/University/IR-O-U-0389.pdf\" target=\"_blank\"><img src=\"https://www.nirfindia.org/images/pdf_icon.png\" style=\"width: 20px; height: 20px !important\"/></a> | <a href=\"https://www.nirfindia.org/nirfpdfcdn/2022/graph/University/IR-O-U-0389.png\" target=\"_blank\"><img src=\"https://www.nirfindia.org/images/graph.png\" style=\"width: 20px; height: 20px !important\"/></a></div><div class=\"tbl_hidden\" style=\"display:none;width:100%;\"><br/><table class=\"table \"><thead><tr><th>TLR (100)</th><th>RPC (100)</th><th>GO (100)</th><th>OI (100)</th><th>PERCEPTION (100)</th></tr></thead><tbody><tr><td>53.01</td><td>15.98</td><td>84.96</td><td>75.83</td><td>33.71</td></tr></tbody></table></div></td><td>Banasthali</td><td>Rajasthan</td><td>48.64</td><td>49</td></tr><tr><td>IR-O-U-0523</td><td>King George`s Medical University<div style=\"float:right;\"><a class=\"btn-more-details\" href=\"javascript:;\"><span>More Details</span></a><a class=\"close_data\" id=\"close_1\" style=\"display: none;\">Close</a> | <a href=\"https://www.nirfindia.org/nirfpdfcdn/2022/pdf/University/IR-O-U-0523.pdf\" target=\"_blank\"><img src=\"https://www.nirfindia.org/images/pdf_icon.png\" style=\"width: 20px; height: 20px !important\"/></a> | <a href=\"https://www.nirfindia.org/nirfpdfcdn/2022/graph/University/IR-O-U-0523.png\" target=\"_blank\"><img src=\"https://www.nirfindia.org/images/graph.png\" style=\"width: 20px; height: 20px !important\"/></a></div><div class=\"tbl_hidden\" style=\"display:none;width:100%;\"><br/><table class=\"table \"><thead><tr><th>TLR (100)</th><th>RPC (100)</th><th>GO (100)</th><th>OI (100)</th><th>PERCEPTION (100)</th></tr></thead><tbody><tr><td>66.33</td><td>26.31</td><td>63.36</td><td>55.83</td><td>24.70</td></tr></tbody></table></div></td><td>Lucknow</td><td>Uttar Pradesh</td><td>48.51</td><td>50</td></tr><tr><td>IR-O-N-10</td><td>SVKM`s Narsee Monjee Institute of Management Studies<div style=\"float:right;\"><a class=\"btn-more-details\" href=\"javascript:;\"><span>More Details</span></a><a class=\"close_data\" id=\"close_1\" style=\"display: none;\">Close</a> | <a href=\"https://www.nirfindia.org/nirfpdfcdn/2022/pdf/University/IR-O-N-10.pdf\" target=\"_blank\"><img src=\"https://www.nirfindia.org/images/pdf_icon.png\" style=\"width: 20px; height: 20px !important\"/></a> | <a href=\"https://www.nirfindia.org/nirfpdfcdn/2022/graph/University/IR-O-N-10.png\" target=\"_blank\"><img src=\"https://www.nirfindia.org/images/graph.png\" style=\"width: 20px; height: 20px !important\"/></a></div><div class=\"tbl_hidden\" style=\"display:none;width:100%;\"><br/><table class=\"table \"><thead><tr><th>TLR (100)</th><th>RPC (100)</th><th>GO (100)</th><th>OI (100)</th><th>PERCEPTION (100)</th></tr></thead><tbody><tr><td>68.42</td><td>17.66</td><td>64.52</td><td>62.17</td><td>35.08</td></tr></tbody></table></div></td><td>Mumbai</td><td>Maharashtra</td><td>48.46</td><td>51</td></tr><tr><td>IR-O-U-0463</td><td>Madurai Kamaraj University<div style=\"float:right;\"><a class=\"btn-more-details\" href=\"javascript:;\"><span>More Details</span></a><a class=\"close_data\" id=\"close_1\" style=\"display: none;\">Close</a> | <a href=\"https://www.nirfindia.org/nirfpdfcdn/2022/pdf/University/IR-O-U-0463.pdf\" target=\"_blank\"><img src=\"https://www.nirfindia.org/images/pdf_icon.png\" style=\"width: 20px; height: 20px !important\"/></a> | <a href=\"https://www.nirfindia.org/nirfpdfcdn/2022/graph/University/IR-O-U-0463.png\" target=\"_blank\"><img src=\"https://www.nirfindia.org/images/graph.png\" style=\"width: 20px; height: 20px !important\"/></a></div><div class=\"tbl_hidden\" style=\"display:none;width:100%;\"><br/><table class=\"table \"><thead><tr><th>TLR (100)</th><th>RPC (100)</th><th>GO (100)</th><th>OI (100)</th><th>PERCEPTION (100)</th></tr></thead><tbody><tr><td>63.33</td><td>24.04</td><td>65.24</td><td>52.47</td><td>38.82</td></tr></tbody></table></div></td><td>Madurai</td><td>Tamil Nadu</td><td>48.39</td><td>52</td></tr><tr><td>IR-O-U-0196</td><td>University of Kashmir<div style=\"float:right;\"><a class=\"btn-more-details\" href=\"javascript:;\"><span>More Details</span></a><a class=\"close_data\" id=\"close_1\" style=\"display: none;\">Close</a> | <a href=\"https://www.nirfindia.org/nirfpdfcdn/2022/pdf/University/IR-O-U-0196.pdf\" target=\"_blank\"><img src=\"https://www.nirfindia.org/images/pdf_icon.png\" style=\"width: 20px; height: 20px !important\"/></a> | <a href=\"https://www.nirfindia.org/nirfpdfcdn/2022/graph/University/IR-O-U-0196.png\" target=\"_blank\"><img src=\"https://www.nirfindia.org/images/graph.png\" style=\"width: 20px; height: 20px !important\"/></a></div><div class=\"tbl_hidden\" style=\"display:none;width:100%;\"><br/><table class=\"table \"><thead><tr><th>TLR (100)</th><th>RPC (100)</th><th>GO (100)</th><th>OI (100)</th><th>PERCEPTION (100)</th></tr></thead><tbody><tr><td>60.58</td><td>21.23</td><td>79.56</td><td>51.37</td><td>26.65</td></tr></tbody></table></div></td><td>Srinagar</td><td>Jammu and Kashmir</td><td>48.27</td><td>53</td></tr><tr><td>IR-O-U-0295</td><td>Datta Meghe Institute of Medical Sciences<div style=\"float:right;\"><a class=\"btn-more-details\" href=\"javascript:;\"><span>More Details</span></a><a class=\"close_data\" id=\"close_1\" style=\"display: none;\">Close</a> | <a href=\"https://www.nirfindia.org/nirfpdfcdn/2022/pdf/University/IR-O-U-0295.pdf\" target=\"_blank\"><img src=\"https://www.nirfindia.org/images/pdf_icon.png\" style=\"width: 20px; height: 20px !important\"/></a> | <a href=\"https://www.nirfindia.org/nirfpdfcdn/2022/graph/University/IR-O-U-0295.png\" target=\"_blank\"><img src=\"https://www.nirfindia.org/images/graph.png\" style=\"width: 20px; height: 20px !important\"/></a></div><div class=\"tbl_hidden\" style=\"display:none;width:100%;\"><br/><table class=\"table \"><thead><tr><th>TLR (100)</th><th>RPC (100)</th><th>GO (100)</th><th>OI (100)</th><th>PERCEPTION (100)</th></tr></thead><tbody><tr><td>65.25</td><td>23.54</td><td>59.60</td><td>65.38</td><td>30.78</td></tr></tbody></table></div></td><td>Wardha</td><td>Maharashtra</td><td>48.18</td><td>54</td></tr><tr><td>IR-O-U-0498</td><td>Babasheb Bhimrao Ambedkar University<div style=\"float:right;\"><a class=\"btn-more-details\" href=\"javascript:;\"><span>More Details</span></a><a class=\"close_data\" id=\"close_1\" style=\"display: none;\">Close</a> | <a href=\"https://www.nirfindia.org/nirfpdfcdn/2022/pdf/University/IR-O-U-0498.pdf\" target=\"_blank\"><img src=\"https://www.nirfindia.org/images/pdf_icon.png\" style=\"width: 20px; height: 20px !important\"/></a> | <a href=\"https://www.nirfindia.org/nirfpdfcdn/2022/graph/University/IR-O-U-0498.png\" target=\"_blank\"><img src=\"https://www.nirfindia.org/images/graph.png\" style=\"width: 20px; height: 20px !important\"/></a></div><div class=\"tbl_hidden\" style=\"display:none;width:100%;\"><br/><table class=\"table \"><thead><tr><th>TLR (100)</th><th>RPC (100)</th><th>GO (100)</th><th>OI (100)</th><th>PERCEPTION (100)</th></tr></thead><tbody><tr><td>53.54</td><td>19.68</td><td>82.46</td><td>74.59</td><td>21.36</td></tr></tbody></table></div></td><td>Lucknow</td><td>Uttar Pradesh</td><td>48.05</td><td>55</td></tr><tr><td>IR-O-U-0195</td><td>University of Jammu<div style=\"float:right;\"><a class=\"btn-more-details\" href=\"javascript:;\"><span>More Details</span></a><a class=\"close_data\" id=\"close_1\" style=\"display: none;\">Close</a> | <a href=\"https://www.nirfindia.org/nirfpdfcdn/2022/pdf/University/IR-O-U-0195.pdf\" target=\"_blank\"><img src=\"https://www.nirfindia.org/images/pdf_icon.png\" style=\"width: 20px; height: 20px !important\"/></a> | <a href=\"https://www.nirfindia.org/nirfpdfcdn/2022/graph/University/IR-O-U-0195.png\" target=\"_blank\"><img src=\"https://www.nirfindia.org/images/graph.png\" style=\"width: 20px; height: 20px !important\"/></a></div><div class=\"tbl_hidden\" style=\"display:none;width:100%;\"><br/><table class=\"table \"><thead><tr><th>TLR (100)</th><th>RPC (100)</th><th>GO (100)</th><th>OI (100)</th><th>PERCEPTION (100)</th></tr></thead><tbody><tr><td>64.90</td><td>19.12</td><td>74.83</td><td>46.63</td><td>31.92</td></tr></tbody></table></div></td><td>Jammu</td><td>Jammu and Kashmir</td><td>48.03</td><td>56</td></tr><tr><td>IR-O-U-0448</td><td>Bharathidasan University<div style=\"float:right;\"><a class=\"btn-more-details\" href=\"javascript:;\"><span>More Details</span></a><a class=\"close_data\" id=\"close_1\" style=\"display: none;\">Close</a> | <a href=\"https://www.nirfindia.org/nirfpdfcdn/2022/pdf/University/IR-O-U-0448.pdf\" target=\"_blank\"><img src=\"https://www.nirfindia.org/images/pdf_icon.png\" style=\"width: 20px; height: 20px !important\"/></a> | <a href=\"https://www.nirfindia.org/nirfpdfcdn/2022/graph/University/IR-O-U-0448.png\" target=\"_blank\"><img src=\"https://www.nirfindia.org/images/graph.png\" style=\"width: 20px; height: 20px !important\"/></a></div><div class=\"tbl_hidden\" style=\"display:none;width:100%;\"><br/><table class=\"table \"><thead><tr><th>TLR (100)</th><th>RPC (100)</th><th>GO (100)</th><th>OI (100)</th><th>PERCEPTION (100)</th></tr></thead><tbody><tr><td>57.72</td><td>32.56</td><td>61.80</td><td>48.10</td><td>37.17</td></tr></tbody></table></div></td><td>Tiruchirappalli</td><td>Tamil Nadu</td><td>47.98</td><td>57</td></tr><tr><td>IR-O-U-0136</td><td>Gujarat University<div style=\"float:right;\"><a class=\"btn-more-details\" href=\"javascript:;\"><span>More Details</span></a><a class=\"close_data\" id=\"close_1\" style=\"display: none;\">Close</a> | <a href=\"https://www.nirfindia.org/nirfpdfcdn/2022/pdf/University/IR-O-U-0136.pdf\" target=\"_blank\"><img src=\"https://www.nirfindia.org/images/pdf_icon.png\" style=\"width: 20px; height: 20px !important\"/></a> | <a href=\"https://www.nirfindia.org/nirfpdfcdn/2022/graph/University/IR-O-U-0136.png\" target=\"_blank\"><img src=\"https://www.nirfindia.org/images/graph.png\" style=\"width: 20px; height: 20px !important\"/></a></div><div class=\"tbl_hidden\" style=\"display:none;width:100%;\"><br/><table class=\"table \"><thead><tr><th>TLR (100)</th><th>RPC (100)</th><th>GO (100)</th><th>OI (100)</th><th>PERCEPTION (100)</th></tr></thead><tbody><tr><td>64.75</td><td>18.38</td><td>83.30</td><td>57.39</td><td>2.65</td></tr></tbody></table></div></td><td>Ahmedabad</td><td>Gujarat</td><td>47.61</td><td>58</td></tr><tr><td>IR-O-U-0056</td><td>Tezpur University<div style=\"float:right;\"><a class=\"btn-more-details\" href=\"javascript:;\"><span>More Details</span></a><a class=\"close_data\" id=\"close_1\" style=\"display: none;\">Close</a> | <a href=\"https://www.nirfindia.org/nirfpdfcdn/2022/pdf/University/IR-O-U-0056.pdf\" target=\"_blank\"><img src=\"https://www.nirfindia.org/images/pdf_icon.png\" style=\"width: 20px; height: 20px !important\"/></a> | <a href=\"https://www.nirfindia.org/nirfpdfcdn/2022/graph/University/IR-O-U-0056.png\" target=\"_blank\"><img src=\"https://www.nirfindia.org/images/graph.png\" style=\"width: 20px; height: 20px !important\"/></a></div><div class=\"tbl_hidden\" style=\"display:none;width:100%;\"><br/><table class=\"table \"><thead><tr><th>TLR (100)</th><th>RPC (100)</th><th>GO (100)</th><th>OI (100)</th><th>PERCEPTION (100)</th></tr></thead><tbody><tr><td>59.71</td><td>27.49</td><td>63.29</td><td>50.67</td><td>35.88</td></tr></tbody></table></div></td><td>Tezpur</td><td>Assam</td><td>47.48</td><td>59</td></tr><tr><td>IR-O-U-0331</td><td>Tata Institute of Social Sciences<div style=\"float:right;\"><a class=\"btn-more-details\" href=\"javascript:;\"><span>More Details</span></a><a class=\"close_data\" id=\"close_1\" style=\"display: none;\">Close</a> | <a href=\"https://www.nirfindia.org/nirfpdfcdn/2022/pdf/University/IR-O-U-0331.pdf\" target=\"_blank\"><img src=\"https://www.nirfindia.org/images/pdf_icon.png\" style=\"width: 20px; height: 20px !important\"/></a> | <a href=\"https://www.nirfindia.org/nirfpdfcdn/2022/graph/University/IR-O-U-0331.png\" target=\"_blank\"><img src=\"https://www.nirfindia.org/images/graph.png\" style=\"width: 20px; height: 20px !important\"/></a></div><div class=\"tbl_hidden\" style=\"display:none;width:100%;\"><br/><table class=\"table \"><thead><tr><th>TLR (100)</th><th>RPC (100)</th><th>GO (100)</th><th>OI (100)</th><th>PERCEPTION (100)</th></tr></thead><tbody><tr><td>56.66</td><td>10.45</td><td>78.36</td><td>75.42</td><td>38.23</td></tr></tbody></table></div></td><td>Mumbai</td><td>Maharashtra</td><td>47.16</td><td>60</td></tr><tr><td>IR-O-U-0642</td><td>Shiv Nadar University<div style=\"float:right;\"><a class=\"btn-more-details\" href=\"javascript:;\"><span>More Details</span></a><a class=\"close_data\" id=\"close_1\" style=\"display: none;\">Close</a> | <a href=\"https://www.nirfindia.org/nirfpdfcdn/2022/pdf/University/IR-O-U-0642.pdf\" target=\"_blank\"><img src=\"https://www.nirfindia.org/images/pdf_icon.png\" style=\"width: 20px; height: 20px !important\"/></a> | <a href=\"https://www.nirfindia.org/nirfpdfcdn/2022/graph/University/IR-O-U-0642.png\" target=\"_blank\"><img src=\"https://www.nirfindia.org/images/graph.png\" style=\"width: 20px; height: 20px !important\"/></a></div><div class=\"tbl_hidden\" style=\"display:none;width:100%;\"><br/><table class=\"table \"><thead><tr><th>TLR (100)</th><th>RPC (100)</th><th>GO (100)</th><th>OI (100)</th><th>PERCEPTION (100)</th></tr></thead><tbody><tr><td>63.53</td><td>20.75</td><td>64.70</td><td>61.38</td><td>22.06</td></tr></tbody></table></div></td><td>Dadri</td><td>Uttar Pradesh</td><td>46.57</td><td>61</td></tr><tr><td>IR-O-U-0446</td><td>Bharath Institute of Higher Education &amp; Research<div style=\"float:right;\"><a class=\"btn-more-details\" href=\"javascript:;\"><span>More Details</span></a><a class=\"close_data\" id=\"close_1\" style=\"display: none;\">Close</a> | <a href=\"https://www.nirfindia.org/nirfpdfcdn/2022/pdf/University/IR-O-U-0446.pdf\" target=\"_blank\"><img src=\"https://www.nirfindia.org/images/pdf_icon.png\" style=\"width: 20px; height: 20px !important\"/></a> | <a href=\"https://www.nirfindia.org/nirfpdfcdn/2022/graph/University/IR-O-U-0446.png\" target=\"_blank\"><img src=\"https://www.nirfindia.org/images/graph.png\" style=\"width: 20px; height: 20px !important\"/></a></div><div class=\"tbl_hidden\" style=\"display:none;width:100%;\"><br/><table class=\"table \"><thead><tr><th>TLR (100)</th><th>RPC (100)</th><th>GO (100)</th><th>OI (100)</th><th>PERCEPTION (100)</th></tr></thead><tbody><tr><td>56.20</td><td>23.15</td><td>70.31</td><td>64.28</td><td>21.01</td></tr></tbody></table></div></td><td>Chennai</td><td>Tamil Nadu</td><td>46.40</td><td>62</td></tr><tr><td>IR-O-U-0470</td><td>Periyar University<div style=\"float:right;\"><a class=\"btn-more-details\" href=\"javascript:;\"><span>More Details</span></a><a class=\"close_data\" id=\"close_1\" style=\"display: none;\">Close</a> | <a href=\"https://www.nirfindia.org/nirfpdfcdn/2022/pdf/University/IR-O-U-0470.pdf\" target=\"_blank\"><img src=\"https://www.nirfindia.org/images/pdf_icon.png\" style=\"width: 20px; height: 20px !important\"/></a> | <a href=\"https://www.nirfindia.org/nirfpdfcdn/2022/graph/University/IR-O-U-0470.png\" target=\"_blank\"><img src=\"https://www.nirfindia.org/images/graph.png\" style=\"width: 20px; height: 20px !important\"/></a></div><div class=\"tbl_hidden\" style=\"display:none;width:100%;\"><br/><table class=\"table \"><thead><tr><th>TLR (100)</th><th>RPC (100)</th><th>GO (100)</th><th>OI (100)</th><th>PERCEPTION (100)</th></tr></thead><tbody><tr><td>53.08</td><td>25.63</td><td>67.97</td><td>55.91</td><td>32.65</td></tr></tbody></table></div></td><td>Salem</td><td>Tamil Nadu</td><td>46.06</td><td>63</td></tr><tr><td>IR-O-U-0215</td><td>Bangalore University<div style=\"float:right;\"><a class=\"btn-more-details\" href=\"javascript:;\"><span>More Details</span></a><a class=\"close_data\" id=\"close_1\" style=\"display: none;\">Close</a> | <a href=\"https://www.nirfindia.org/nirfpdfcdn/2022/pdf/University/IR-O-U-0215.pdf\" target=\"_blank\"><img src=\"https://www.nirfindia.org/images/pdf_icon.png\" style=\"width: 20px; height: 20px !important\"/></a> | <a href=\"https://www.nirfindia.org/nirfpdfcdn/2022/graph/University/IR-O-U-0215.png\" target=\"_blank\"><img src=\"https://www.nirfindia.org/images/graph.png\" style=\"width: 20px; height: 20px !important\"/></a></div><div class=\"tbl_hidden\" style=\"display:none;width:100%;\"><br/><table class=\"table \"><thead><tr><th>TLR (100)</th><th>RPC (100)</th><th>GO (100)</th><th>OI (100)</th><th>PERCEPTION (100)</th></tr></thead><tbody><tr><td>58.70</td><td>17.38</td><td>74.73</td><td>57.04</td><td>25.32</td></tr></tbody></table></div></td><td>Bangalore</td><td>Karnataka</td><td>46.01</td><td>64</td></tr><tr><td>IR-O-U-0564</td><td>University of Petroleum and Energy Studies<div style=\"float:right;\"><a class=\"btn-more-details\" href=\"javascript:;\"><span>More Details</span></a><a class=\"close_data\" id=\"close_1\" style=\"display: none;\">Close</a> | <a href=\"https://www.nirfindia.org/nirfpdfcdn/2022/pdf/University/IR-O-U-0564.pdf\" target=\"_blank\"><img src=\"https://www.nirfindia.org/images/pdf_icon.png\" style=\"width: 20px; height: 20px !important\"/></a> | <a href=\"https://www.nirfindia.org/nirfpdfcdn/2022/graph/University/IR-O-U-0564.png\" target=\"_blank\"><img src=\"https://www.nirfindia.org/images/graph.png\" style=\"width: 20px; height: 20px !important\"/></a></div><div class=\"tbl_hidden\" style=\"display:none;width:100%;\"><br/><table class=\"table \"><thead><tr><th>TLR (100)</th><th>RPC (100)</th><th>GO (100)</th><th>OI (100)</th><th>PERCEPTION (100)</th></tr></thead><tbody><tr><td>56.69</td><td>19.48</td><td>60.48</td><td>65.01</td><td>40.39</td></tr></tbody></table></div></td><td>Dehradun</td><td>Uttarakhand</td><td>45.49</td><td>65</td></tr><tr><td>IR-O-U-0341</td><td>North Eastern Hill University<div style=\"float:right;\"><a class=\"btn-more-details\" href=\"javascript:;\"><span>More Details</span></a><a class=\"close_data\" id=\"close_1\" style=\"display: none;\">Close</a> | <a href=\"https://www.nirfindia.org/nirfpdfcdn/2022/pdf/University/IR-O-U-0341.pdf\" target=\"_blank\"><img src=\"https://www.nirfindia.org/images/pdf_icon.png\" style=\"width: 20px; height: 20px !important\"/></a> | <a href=\"https://www.nirfindia.org/nirfpdfcdn/2022/graph/University/IR-O-U-0341.png\" target=\"_blank\"><img src=\"https://www.nirfindia.org/images/graph.png\" style=\"width: 20px; height: 20px !important\"/></a></div><div class=\"tbl_hidden\" style=\"display:none;width:100%;\"><br/><table class=\"table \"><thead><tr><th>TLR (100)</th><th>RPC (100)</th><th>GO (100)</th><th>OI (100)</th><th>PERCEPTION (100)</th></tr></thead><tbody><tr><td>56.73</td><td>17.80</td><td>77.78</td><td>51.80</td><td>23.41</td></tr></tbody></table></div></td><td>Shillong</td><td>Meghalaya</td><td>45.44</td><td>66</td></tr><tr><td>IR-O-U-0037</td><td>Sri Venkateswara University<div style=\"float:right;\"><a class=\"btn-more-details\" href=\"javascript:;\"><span>More Details</span></a><a class=\"close_data\" id=\"close_1\" style=\"display: none;\">Close</a> | <a href=\"https://www.nirfindia.org/nirfpdfcdn/2022/pdf/University/IR-O-U-0037.pdf\" target=\"_blank\"><img src=\"https://www.nirfindia.org/images/pdf_icon.png\" style=\"width: 20px; height: 20px !important\"/></a> | <a href=\"https://www.nirfindia.org/nirfpdfcdn/2022/graph/University/IR-O-U-0037.png\" target=\"_blank\"><img src=\"https://www.nirfindia.org/images/graph.png\" style=\"width: 20px; height: 20px !important\"/></a></div><div class=\"tbl_hidden\" style=\"display:none;width:100%;\"><br/><table class=\"table \"><thead><tr><th>TLR (100)</th><th>RPC (100)</th><th>GO (100)</th><th>OI (100)</th><th>PERCEPTION (100)</th></tr></thead><tbody><tr><td>49.27</td><td>18.27</td><td>79.86</td><td>52.04</td><td>36.38</td></tr></tbody></table></div></td><td>Tirupati</td><td>Andhra Pradesh</td><td>45.07</td><td>67</td></tr><tr><td>IR-O-U-0369</td><td>Pondicherry University<div style=\"float:right;\"><a class=\"btn-more-details\" href=\"javascript:;\"><span>More Details</span></a><a class=\"close_data\" id=\"close_1\" style=\"display: none;\">Close</a> | <a href=\"https://www.nirfindia.org/nirfpdfcdn/2022/pdf/University/IR-O-U-0369.pdf\" target=\"_blank\"><img src=\"https://www.nirfindia.org/images/pdf_icon.png\" style=\"width: 20px; height: 20px !important\"/></a> | <a href=\"https://www.nirfindia.org/nirfpdfcdn/2022/graph/University/IR-O-U-0369.png\" target=\"_blank\"><img src=\"https://www.nirfindia.org/images/graph.png\" style=\"width: 20px; height: 20px !important\"/></a></div><div class=\"tbl_hidden\" style=\"display:none;width:100%;\"><br/><table class=\"table \"><thead><tr><th>TLR (100)</th><th>RPC (100)</th><th>GO (100)</th><th>OI (100)</th><th>PERCEPTION (100)</th></tr></thead><tbody><tr><td>42.84</td><td>28.84</td><td>73.16</td><td>59.69</td><td>28.53</td></tr></tbody></table></div></td><td>Puducherry</td><td>Pondicherry</td><td>44.95</td><td>68</td></tr><tr><td>IR-O-U-0251</td><td>Calicut University, Thenhipalem<div style=\"float:right;\"><a class=\"btn-more-details\" href=\"javascript:;\"><span>More Details</span></a><a class=\"close_data\" id=\"close_1\" style=\"display: none;\">Close</a> | <a href=\"https://www.nirfindia.org/nirfpdfcdn/2022/pdf/University/IR-O-U-0251.pdf\" target=\"_blank\"><img src=\"https://www.nirfindia.org/images/pdf_icon.png\" style=\"width: 20px; height: 20px !important\"/></a> | <a href=\"https://www.nirfindia.org/nirfpdfcdn/2022/graph/University/IR-O-U-0251.png\" target=\"_blank\"><img src=\"https://www.nirfindia.org/images/graph.png\" style=\"width: 20px; height: 20px !important\"/></a></div><div class=\"tbl_hidden\" style=\"display:none;width:100%;\"><br/><table class=\"table \"><thead><tr><th>TLR (100)</th><th>RPC (100)</th><th>GO (100)</th><th>OI (100)</th><th>PERCEPTION (100)</th></tr></thead><tbody><tr><td>65.11</td><td>17.09</td><td>61.20</td><td>58.56</td><td>21.71</td></tr></tbody></table></div></td><td>Malappuram</td><td>Kerala</td><td>44.93</td><td>69</td></tr><tr><td>IR-O-U-0370</td><td>Sri Balaji Vidyapeeth Mahatma Gandhi Medical College Campus<div style=\"float:right;\"><a class=\"btn-more-details\" href=\"javascript:;\"><span>More Details</span></a><a class=\"close_data\" id=\"close_1\" style=\"display: none;\">Close</a> | <a href=\"https://www.nirfindia.org/nirfpdfcdn/2022/pdf/University/IR-O-U-0370.pdf\" target=\"_blank\"><img src=\"https://www.nirfindia.org/images/pdf_icon.png\" style=\"width: 20px; height: 20px !important\"/></a> | <a href=\"https://www.nirfindia.org/nirfpdfcdn/2022/graph/University/IR-O-U-0370.png\" target=\"_blank\"><img src=\"https://www.nirfindia.org/images/graph.png\" style=\"width: 20px; height: 20px !important\"/></a></div><div class=\"tbl_hidden\" style=\"display:none;width:100%;\"><br/><table class=\"table \"><thead><tr><th>TLR (100)</th><th>RPC (100)</th><th>GO (100)</th><th>OI (100)</th><th>PERCEPTION (100)</th></tr></thead><tbody><tr><td>64.47</td><td>8.58</td><td>60.40</td><td>77.26</td><td>30.00</td></tr></tbody></table></div></td><td>Puducherry</td><td>Pondicherry</td><td>44.72</td><td>70</td></tr><tr><td>IR-O-U-0217</td><td>Christ University<div style=\"float:right;\"><a class=\"btn-more-details\" href=\"javascript:;\"><span>More Details</span></a><a class=\"close_data\" id=\"close_1\" style=\"display: none;\">Close</a> | <a href=\"https://www.nirfindia.org/nirfpdfcdn/2022/pdf/University/IR-O-U-0217.pdf\" target=\"_blank\"><img src=\"https://www.nirfindia.org/images/pdf_icon.png\" style=\"width: 20px; height: 20px !important\"/></a> | <a href=\"https://www.nirfindia.org/nirfpdfcdn/2022/graph/University/IR-O-U-0217.png\" target=\"_blank\"><img src=\"https://www.nirfindia.org/images/graph.png\" style=\"width: 20px; height: 20px !important\"/></a></div><div class=\"tbl_hidden\" style=\"display:none;width:100%;\"><br/><table class=\"table \"><thead><tr><th>TLR (100)</th><th>RPC (100)</th><th>GO (100)</th><th>OI (100)</th><th>PERCEPTION (100)</th></tr></thead><tbody><tr><td>51.83</td><td>10.84</td><td>67.04</td><td>68.64</td><td>52.36</td></tr></tbody></table></div></td><td>Bengaluru</td><td>Karnataka</td><td>44.31</td><td>71</td></tr><tr><td>IR-O-U-0249</td><td>Visvesvaraya Technological University<div style=\"float:right;\"><a class=\"btn-more-details\" href=\"javascript:;\"><span>More Details</span></a><a class=\"close_data\" id=\"close_1\" style=\"display: none;\">Close</a> | <a href=\"https://www.nirfindia.org/nirfpdfcdn/2022/pdf/University/IR-O-U-0249.pdf\" target=\"_blank\"><img src=\"https://www.nirfindia.org/images/pdf_icon.png\" style=\"width: 20px; height: 20px !important\"/></a> | <a href=\"https://www.nirfindia.org/nirfpdfcdn/2022/graph/University/IR-O-U-0249.png\" target=\"_blank\"><img src=\"https://www.nirfindia.org/images/graph.png\" style=\"width: 20px; height: 20px !important\"/></a></div><div class=\"tbl_hidden\" style=\"display:none;width:100%;\"><br/><table class=\"table \"><thead><tr><th>TLR (100)</th><th>RPC (100)</th><th>GO (100)</th><th>OI (100)</th><th>PERCEPTION (100)</th></tr></thead><tbody><tr><td>58.94</td><td>27.28</td><td>61.10</td><td>58.36</td><td>3.01</td></tr></tbody></table></div></td><td>Belgaum</td><td>Karnataka</td><td>44.22</td><td>72</td></tr><tr><td>IR-O-U-0311</td><td>Krishna Institute of Medical Sciences Deemed University, Karad<div style=\"float:right;\"><a class=\"btn-more-details\" href=\"javascript:;\"><span>More Details</span></a><a class=\"close_data\" id=\"close_1\" style=\"display: none;\">Close</a> | <a href=\"https://www.nirfindia.org/nirfpdfcdn/2022/pdf/University/IR-O-U-0311.pdf\" target=\"_blank\"><img src=\"https://www.nirfindia.org/images/pdf_icon.png\" style=\"width: 20px; height: 20px !important\"/></a> | <a href=\"https://www.nirfindia.org/nirfpdfcdn/2022/graph/University/IR-O-U-0311.png\" target=\"_blank\"><img src=\"https://www.nirfindia.org/images/graph.png\" style=\"width: 20px; height: 20px !important\"/></a></div><div class=\"tbl_hidden\" style=\"display:none;width:100%;\"><br/><table class=\"table \"><thead><tr><th>TLR (100)</th><th>RPC (100)</th><th>GO (100)</th><th>OI (100)</th><th>PERCEPTION (100)</th></tr></thead><tbody><tr><td>64.69</td><td>14.63</td><td>60.27</td><td>58.50</td><td>24.39</td></tr></tbody></table></div></td><td>Karad</td><td>Maharashtra</td><td>44.14</td><td>73</td></tr><tr><td>IR-O-U-0555</td><td>Graphic Era University<div style=\"float:right;\"><a class=\"btn-more-details\" href=\"javascript:;\"><span>More Details</span></a><a class=\"close_data\" id=\"close_1\" style=\"display: none;\">Close</a> | <a href=\"https://www.nirfindia.org/nirfpdfcdn/2022/pdf/University/IR-O-U-0555.pdf\" target=\"_blank\"><img src=\"https://www.nirfindia.org/images/pdf_icon.png\" style=\"width: 20px; height: 20px !important\"/></a> | <a href=\"https://www.nirfindia.org/nirfpdfcdn/2022/graph/University/IR-O-U-0555.png\" target=\"_blank\"><img src=\"https://www.nirfindia.org/images/graph.png\" style=\"width: 20px; height: 20px !important\"/></a></div><div class=\"tbl_hidden\" style=\"display:none;width:100%;\"><br/><table class=\"table \"><thead><tr><th>TLR (100)</th><th>RPC (100)</th><th>GO (100)</th><th>OI (100)</th><th>PERCEPTION (100)</th></tr></thead><tbody><tr><td>57.05</td><td>12.55</td><td>61.98</td><td>67.62</td><td>37.70</td></tr></tbody></table></div></td><td>Dehradun</td><td>Uttarakhand</td><td>43.82</td><td>74</td></tr><tr><td>IR-O-U-0239</td><td>NITTE<div style=\"float:right;\"><a class=\"btn-more-details\" href=\"javascript:;\"><span>More Details</span></a><a class=\"close_data\" id=\"close_1\" style=\"display: none;\">Close</a> | <a href=\"https://www.nirfindia.org/nirfpdfcdn/2022/pdf/University/IR-O-U-0239.pdf\" target=\"_blank\"><img src=\"https://www.nirfindia.org/images/pdf_icon.png\" style=\"width: 20px; height: 20px !important\"/></a> | <a href=\"https://www.nirfindia.org/nirfpdfcdn/2022/graph/University/IR-O-U-0239.png\" target=\"_blank\"><img src=\"https://www.nirfindia.org/images/graph.png\" style=\"width: 20px; height: 20px !important\"/></a></div><div class=\"tbl_hidden\" style=\"display:none;width:100%;\"><br/><table class=\"table \"><thead><tr><th>TLR (100)</th><th>RPC (100)</th><th>GO (100)</th><th>OI (100)</th><th>PERCEPTION (100)</th></tr></thead><tbody><tr><td>62.49</td><td>10.36</td><td>61.47</td><td>67.95</td><td>27.01</td></tr></tbody></table></div></td><td>Mangaluru</td><td>Karnataka</td><td>43.64</td><td>75</td></tr><tr><td>IR-O-I-1361</td><td>Bharati Vidyapeeth<div style=\"float:right;\"><a class=\"btn-more-details\" href=\"javascript:;\"><span>More Details</span></a><a class=\"close_data\" id=\"close_1\" style=\"display: none;\">Close</a> | <a href=\"https://www.nirfindia.org/nirfpdfcdn/2022/pdf/University/IR-O-I-1361.pdf\" target=\"_blank\"><img src=\"https://www.nirfindia.org/images/pdf_icon.png\" style=\"width: 20px; height: 20px !important\"/></a> | <a href=\"https://www.nirfindia.org/nirfpdfcdn/2022/graph/University/IR-O-I-1361.png\" target=\"_blank\"><img src=\"https://www.nirfindia.org/images/graph.png\" style=\"width: 20px; height: 20px !important\"/></a></div><div class=\"tbl_hidden\" style=\"display:none;width:100%;\"><br/><table class=\"table \"><thead><tr><th>TLR (100)</th><th>RPC (100)</th><th>GO (100)</th><th>OI (100)</th><th>PERCEPTION (100)</th></tr></thead><tbody><tr><td>57.47</td><td>11.05</td><td>67.95</td><td>56.11</td><td>37.93</td></tr></tbody></table></div></td><td>Pune</td><td>Maharashtra</td><td>43.54</td><td>76</td></tr><tr><td>IR-O-U-0099</td><td>Guru Gobind Singh Indraprastha University<div style=\"float:right;\"><a class=\"btn-more-details\" href=\"javascript:;\"><span>More Details</span></a><a class=\"close_data\" id=\"close_1\" style=\"display: none;\">Close</a> | <a href=\"https://www.nirfindia.org/nirfpdfcdn/2022/pdf/University/IR-O-U-0099.pdf\" target=\"_blank\"><img src=\"https://www.nirfindia.org/images/pdf_icon.png\" style=\"width: 20px; height: 20px !important\"/></a> | <a href=\"https://www.nirfindia.org/nirfpdfcdn/2022/graph/University/IR-O-U-0099.png\" target=\"_blank\"><img src=\"https://www.nirfindia.org/images/graph.png\" style=\"width: 20px; height: 20px !important\"/></a></div><div class=\"tbl_hidden\" style=\"display:none;width:100%;\"><br/><table class=\"table \"><thead><tr><th>TLR (100)</th><th>RPC (100)</th><th>GO (100)</th><th>OI (100)</th><th>PERCEPTION (100)</th></tr></thead><tbody><tr><td>50.61</td><td>26.02</td><td>67.35</td><td>52.63</td><td>16.72</td></tr></tbody></table></div></td><td>New Delhi</td><td>Delhi</td><td>43.39</td><td>77</td></tr><tr><td>IR-O-U-0345</td><td>Mizoram University<div style=\"float:right;\"><a class=\"btn-more-details\" href=\"javascript:;\"><span>More Details</span></a><a class=\"close_data\" id=\"close_1\" style=\"display: none;\">Close</a> | <a href=\"https://www.nirfindia.org/nirfpdfcdn/2022/pdf/University/IR-O-U-0345.pdf\" target=\"_blank\"><img src=\"https://www.nirfindia.org/images/pdf_icon.png\" style=\"width: 20px; height: 20px !important\"/></a> | <a href=\"https://www.nirfindia.org/nirfpdfcdn/2022/graph/University/IR-O-U-0345.png\" target=\"_blank\"><img src=\"https://www.nirfindia.org/images/graph.png\" style=\"width: 20px; height: 20px !important\"/></a></div><div class=\"tbl_hidden\" style=\"display:none;width:100%;\"><br/><table class=\"table \"><thead><tr><th>TLR (100)</th><th>RPC (100)</th><th>GO (100)</th><th>OI (100)</th><th>PERCEPTION (100)</th></tr></thead><tbody><tr><td>55.86</td><td>14.65</td><td>73.52</td><td>53.58</td><td>20.28</td></tr></tbody></table></div></td><td>Aizawl</td><td>Mizoram</td><td>43.24</td><td>78</td></tr><tr><td>IR-O-U-0223</td><td>Jain University, Bangalore<div style=\"float:right;\"><a class=\"btn-more-details\" href=\"javascript:;\"><span>More Details</span></a><a class=\"close_data\" id=\"close_1\" style=\"display: none;\">Close</a> | <a href=\"https://www.nirfindia.org/nirfpdfcdn/2022/pdf/University/IR-O-U-0223.pdf\" target=\"_blank\"><img src=\"https://www.nirfindia.org/images/pdf_icon.png\" style=\"width: 20px; height: 20px !important\"/></a> | <a href=\"https://www.nirfindia.org/nirfpdfcdn/2022/graph/University/IR-O-U-0223.png\" target=\"_blank\"><img src=\"https://www.nirfindia.org/images/graph.png\" style=\"width: 20px; height: 20px !important\"/></a></div><div class=\"tbl_hidden\" style=\"display:none;width:100%;\"><br/><table class=\"table \"><thead><tr><th>TLR (100)</th><th>RPC (100)</th><th>GO (100)</th><th>OI (100)</th><th>PERCEPTION (100)</th></tr></thead><tbody><tr><td>46.67</td><td>14.61</td><td>76.57</td><td>62.17</td><td>33.01</td></tr></tbody></table></div></td><td>Bengluru</td><td>Karnataka</td><td>43.21</td><td>79</td></tr><tr><td>IR-O-U-0464</td><td>Manonmaniam Sundaranar University, Tirunelveli<div style=\"float:right;\"><a class=\"btn-more-details\" href=\"javascript:;\"><span>More Details</span></a><a class=\"close_data\" id=\"close_1\" style=\"display: none;\">Close</a> | <a href=\"https://www.nirfindia.org/nirfpdfcdn/2022/pdf/University/IR-O-U-0464.pdf\" target=\"_blank\"><img src=\"https://www.nirfindia.org/images/pdf_icon.png\" style=\"width: 20px; height: 20px !important\"/></a> | <a href=\"https://www.nirfindia.org/nirfpdfcdn/2022/graph/University/IR-O-U-0464.png\" target=\"_blank\"><img src=\"https://www.nirfindia.org/images/graph.png\" style=\"width: 20px; height: 20px !important\"/></a></div><div class=\"tbl_hidden\" style=\"display:none;width:100%;\"><br/><table class=\"table \"><thead><tr><th>TLR (100)</th><th>RPC (100)</th><th>GO (100)</th><th>OI (100)</th><th>PERCEPTION (100)</th></tr></thead><tbody><tr><td>56.95</td><td>21.41</td><td>61.72</td><td>50.45</td><td>20.28</td></tr></tbody></table></div></td><td>Tirunelveli</td><td>Tamil Nadu</td><td>42.92</td><td>80</td></tr><tr><td>IR-O-U-0321</td><td>Padmashree Dr. D. Y. Patil Vidyapeeth, Mumbai<div style=\"float:right;\"><a class=\"btn-more-details\" href=\"javascript:;\"><span>More Details</span></a><a class=\"close_data\" id=\"close_1\" style=\"display: none;\">Close</a> | <a href=\"https://www.nirfindia.org/nirfpdfcdn/2022/pdf/University/IR-O-U-0321.pdf\" target=\"_blank\"><img src=\"https://www.nirfindia.org/images/pdf_icon.png\" style=\"width: 20px; height: 20px !important\"/></a> | <a href=\"https://www.nirfindia.org/nirfpdfcdn/2022/graph/University/IR-O-U-0321.png\" target=\"_blank\"><img src=\"https://www.nirfindia.org/images/graph.png\" style=\"width: 20px; height: 20px !important\"/></a></div><div class=\"tbl_hidden\" style=\"display:none;width:100%;\"><br/><table class=\"table \"><thead><tr><th>TLR (100)</th><th>RPC (100)</th><th>GO (100)</th><th>OI (100)</th><th>PERCEPTION (100)</th></tr></thead><tbody><tr><td>67.36</td><td>3.09</td><td>64.27</td><td>62.10</td><td>24.39</td></tr></tbody></table></div></td><td>Mumbai</td><td>Maharashtra</td><td>42.64</td><td>81</td></tr><tr><td>IR-O-U-0372</td><td>Central University of Punjab<div style=\"float:right;\"><a class=\"btn-more-details\" href=\"javascript:;\"><span>More Details</span></a><a class=\"close_data\" id=\"close_1\" style=\"display: none;\">Close</a> | <a href=\"https://www.nirfindia.org/nirfpdfcdn/2022/pdf/University/IR-O-U-0372.pdf\" target=\"_blank\"><img src=\"https://www.nirfindia.org/images/pdf_icon.png\" style=\"width: 20px; height: 20px !important\"/></a> | <a href=\"https://www.nirfindia.org/nirfpdfcdn/2022/graph/University/IR-O-U-0372.png\" target=\"_blank\"><img src=\"https://www.nirfindia.org/images/graph.png\" style=\"width: 20px; height: 20px !important\"/></a></div><div class=\"tbl_hidden\" style=\"display:none;width:100%;\"><br/><table class=\"table \"><thead><tr><th>TLR (100)</th><th>RPC (100)</th><th>GO (100)</th><th>OI (100)</th><th>PERCEPTION (100)</th></tr></thead><tbody><tr><td>54.61</td><td>19.03</td><td>55.28</td><td>68.45</td><td>26.53</td></tr></tbody></table></div></td><td>Bathinda</td><td>Punjab</td><td>42.64</td><td>81</td></tr><tr><td>IR-O-U-0298</td><td>Dr. Babasaheb Ambedkar Marathwada University, Aurangabad<div style=\"float:right;\"><a class=\"btn-more-details\" href=\"javascript:;\"><span>More Details</span></a><a class=\"close_data\" id=\"close_1\" style=\"display: none;\">Close</a> | <a href=\"https://www.nirfindia.org/nirfpdfcdn/2022/pdf/University/IR-O-U-0298.pdf\" target=\"_blank\"><img src=\"https://www.nirfindia.org/images/pdf_icon.png\" style=\"width: 20px; height: 20px !important\"/></a> | <a href=\"https://www.nirfindia.org/nirfpdfcdn/2022/graph/University/IR-O-U-0298.png\" target=\"_blank\"><img src=\"https://www.nirfindia.org/images/graph.png\" style=\"width: 20px; height: 20px !important\"/></a></div><div class=\"tbl_hidden\" style=\"display:none;width:100%;\"><br/><table class=\"table \"><thead><tr><th>TLR (100)</th><th>RPC (100)</th><th>GO (100)</th><th>OI (100)</th><th>PERCEPTION (100)</th></tr></thead><tbody><tr><td>42.23</td><td>16.12</td><td>92.16</td><td>46.18</td><td>20.28</td></tr></tbody></table></div></td><td>Aurangabad</td><td>Maharashtra</td><td>42.59</td><td>83</td></tr><tr><td>IR-O-U-0444</td><td>Avinashilingam Institute for Home Science &amp; Higher Education for Women<div style=\"float:right;\"><a class=\"btn-more-details\" href=\"javascript:;\"><span>More Details</span></a><a class=\"close_data\" id=\"close_1\" style=\"display: none;\">Close</a> | <a href=\"https://www.nirfindia.org/nirfpdfcdn/2022/pdf/University/IR-O-U-0444.pdf\" target=\"_blank\"><img src=\"https://www.nirfindia.org/images/pdf_icon.png\" style=\"width: 20px; height: 20px !important\"/></a> | <a href=\"https://www.nirfindia.org/nirfpdfcdn/2022/graph/University/IR-O-U-0444.png\" target=\"_blank\"><img src=\"https://www.nirfindia.org/images/graph.png\" style=\"width: 20px; height: 20px !important\"/></a></div><div class=\"tbl_hidden\" style=\"display:none;width:100%;\"><br/><table class=\"table \"><thead><tr><th>TLR (100)</th><th>RPC (100)</th><th>GO (100)</th><th>OI (100)</th><th>PERCEPTION (100)</th></tr></thead><tbody><tr><td>62.12</td><td>3.75</td><td>65.88</td><td>60.71</td><td>35.08</td></tr></tbody></table></div></td><td>Coimbatore</td><td>Tamil Nadu</td><td>42.53</td><td>84</td></tr><tr><td>IR-O-U-0449</td><td>Central University of Tamil Nadu<div style=\"float:right;\"><a class=\"btn-more-details\" href=\"javascript:;\"><span>More Details</span></a><a class=\"close_data\" id=\"close_1\" style=\"display: none;\">Close</a> | <a href=\"https://www.nirfindia.org/nirfpdfcdn/2022/pdf/University/IR-O-U-0449.pdf\" target=\"_blank\"><img src=\"https://www.nirfindia.org/images/pdf_icon.png\" style=\"width: 20px; height: 20px !important\"/></a> | <a href=\"https://www.nirfindia.org/nirfpdfcdn/2022/graph/University/IR-O-U-0449.png\" target=\"_blank\"><img src=\"https://www.nirfindia.org/images/graph.png\" style=\"width: 20px; height: 20px !important\"/></a></div><div class=\"tbl_hidden\" style=\"display:none;width:100%;\"><br/><table class=\"table \"><thead><tr><th>TLR (100)</th><th>RPC (100)</th><th>GO (100)</th><th>OI (100)</th><th>PERCEPTION (100)</th></tr></thead><tbody><tr><td>59.81</td><td>14.49</td><td>61.13</td><td>64.06</td><td>15.36</td></tr></tbody></table></div></td><td>Tiruvarur</td><td>Tamil Nadu</td><td>42.47</td><td>85</td></tr><tr><td>IR-O-U-0232</td><td>Kuvempu University<div style=\"float:right;\"><a class=\"btn-more-details\" href=\"javascript:;\"><span>More Details</span></a><a class=\"close_data\" id=\"close_1\" style=\"display: none;\">Close</a> | <a href=\"https://www.nirfindia.org/nirfpdfcdn/2022/pdf/University/IR-O-U-0232.pdf\" target=\"_blank\"><img src=\"https://www.nirfindia.org/images/pdf_icon.png\" style=\"width: 20px; height: 20px !important\"/></a> | <a href=\"https://www.nirfindia.org/nirfpdfcdn/2022/graph/University/IR-O-U-0232.png\" target=\"_blank\"><img src=\"https://www.nirfindia.org/images/graph.png\" style=\"width: 20px; height: 20px !important\"/></a></div><div class=\"tbl_hidden\" style=\"display:none;width:100%;\"><br/><table class=\"table \"><thead><tr><th>TLR (100)</th><th>RPC (100)</th><th>GO (100)</th><th>OI (100)</th><th>PERCEPTION (100)</th></tr></thead><tbody><tr><td>54.52</td><td>15.70</td><td>72.82</td><td>50.18</td><td>18.00</td></tr></tbody></table></div></td><td>Shivamogga</td><td>Karnataka</td><td>42.44</td><td>86</td></tr><tr><td>IR-O-U-0569</td><td>The University of Burdwan<div style=\"float:right;\"><a class=\"btn-more-details\" href=\"javascript:;\"><span>More Details</span></a><a class=\"close_data\" id=\"close_1\" style=\"display: none;\">Close</a> | <a href=\"https://www.nirfindia.org/nirfpdfcdn/2022/pdf/University/IR-O-U-0569.pdf\" target=\"_blank\"><img src=\"https://www.nirfindia.org/images/pdf_icon.png\" style=\"width: 20px; height: 20px !important\"/></a> | <a href=\"https://www.nirfindia.org/nirfpdfcdn/2022/graph/University/IR-O-U-0569.png\" target=\"_blank\"><img src=\"https://www.nirfindia.org/images/graph.png\" style=\"width: 20px; height: 20px !important\"/></a></div><div class=\"tbl_hidden\" style=\"display:none;width:100%;\"><br/><table class=\"table \"><thead><tr><th>TLR (100)</th><th>RPC (100)</th><th>GO (100)</th><th>OI (100)</th><th>PERCEPTION (100)</th></tr></thead><tbody><tr><td>47.03</td><td>21.47</td><td>74.90</td><td>49.04</td><td>19.92</td></tr></tbody></table></div></td><td>Bardhaman</td><td>West Bengal</td><td>42.42</td><td>87</td></tr><tr><td>IR-O-U-0744</td><td>Ashoka University<div style=\"float:right;\"><a class=\"btn-more-details\" href=\"javascript:;\"><span>More Details</span></a><a class=\"close_data\" id=\"close_1\" style=\"display: none;\">Close</a> | <a href=\"https://www.nirfindia.org/nirfpdfcdn/2022/pdf/University/IR-O-U-0744.pdf\" target=\"_blank\"><img src=\"https://www.nirfindia.org/images/pdf_icon.png\" style=\"width: 20px; height: 20px !important\"/></a> | <a href=\"https://www.nirfindia.org/nirfpdfcdn/2022/graph/University/IR-O-U-0744.png\" target=\"_blank\"><img src=\"https://www.nirfindia.org/images/graph.png\" style=\"width: 20px; height: 20px !important\"/></a></div><div class=\"tbl_hidden\" style=\"display:none;width:100%;\"><br/><table class=\"table \"><thead><tr><th>TLR (100)</th><th>RPC (100)</th><th>GO (100)</th><th>OI (100)</th><th>PERCEPTION (100)</th></tr></thead><tbody><tr><td>65.47</td><td>6.59</td><td>60.00</td><td>76.83</td><td>9.69</td></tr></tbody></table></div></td><td>Sonepat</td><td>Haryana</td><td>42.27</td><td>88</td></tr><tr><td>IR-O-U-0225</td><td>KLE Academy of Higher Education and Research<div style=\"float:right;\"><a class=\"btn-more-details\" href=\"javascript:;\"><span>More Details</span></a><a class=\"close_data\" id=\"close_1\" style=\"display: none;\">Close</a> | <a href=\"https://www.nirfindia.org/nirfpdfcdn/2022/pdf/University/IR-O-U-0225.pdf\" target=\"_blank\"><img src=\"https://www.nirfindia.org/images/pdf_icon.png\" style=\"width: 20px; height: 20px !important\"/></a> | <a href=\"https://www.nirfindia.org/nirfpdfcdn/2022/graph/University/IR-O-U-0225.png\" target=\"_blank\"><img src=\"https://www.nirfindia.org/images/graph.png\" style=\"width: 20px; height: 20px !important\"/></a></div><div class=\"tbl_hidden\" style=\"display:none;width:100%;\"><br/><table class=\"table \"><thead><tr><th>TLR (100)</th><th>RPC (100)</th><th>GO (100)</th><th>OI (100)</th><th>PERCEPTION (100)</th></tr></thead><tbody><tr><td>62.51</td><td>11.07</td><td>54.89</td><td>64.05</td><td>28.06</td></tr></tbody></table></div></td><td>Belagavi</td><td>Karnataka</td><td>42.27</td><td>88</td></tr><tr><td>IR-O-U-0366</td><td>Utkal University<div style=\"float:right;\"><a class=\"btn-more-details\" href=\"javascript:;\"><span>More Details</span></a><a class=\"close_data\" id=\"close_1\" style=\"display: none;\">Close</a> | <a href=\"https://www.nirfindia.org/nirfpdfcdn/2022/pdf/University/IR-O-U-0366.pdf\" target=\"_blank\"><img src=\"https://www.nirfindia.org/images/pdf_icon.png\" style=\"width: 20px; height: 20px !important\"/></a> | <a href=\"https://www.nirfindia.org/nirfpdfcdn/2022/graph/University/IR-O-U-0366.png\" target=\"_blank\"><img src=\"https://www.nirfindia.org/images/graph.png\" style=\"width: 20px; height: 20px !important\"/></a></div><div class=\"tbl_hidden\" style=\"display:none;width:100%;\"><br/><table class=\"table \"><thead><tr><th>TLR (100)</th><th>RPC (100)</th><th>GO (100)</th><th>OI (100)</th><th>PERCEPTION (100)</th></tr></thead><tbody><tr><td>44.59</td><td>14.60</td><td>78.71</td><td>50.12</td><td>37.63</td></tr></tbody></table></div></td><td>Bhubaneswar</td><td>Odisha</td><td>42.27</td><td>88</td></tr><tr><td>IR-O-U-0168</td><td>Maharishi Markandeshwar<div style=\"float:right;\"><a class=\"btn-more-details\" href=\"javascript:;\"><span>More Details</span></a><a class=\"close_data\" id=\"close_1\" style=\"display: none;\">Close</a> | <a href=\"https://www.nirfindia.org/nirfpdfcdn/2022/pdf/University/IR-O-U-0168.pdf\" target=\"_blank\"><img src=\"https://www.nirfindia.org/images/pdf_icon.png\" style=\"width: 20px; height: 20px !important\"/></a> | <a href=\"https://www.nirfindia.org/nirfpdfcdn/2022/graph/University/IR-O-U-0168.png\" target=\"_blank\"><img src=\"https://www.nirfindia.org/images/graph.png\" style=\"width: 20px; height: 20px !important\"/></a></div><div class=\"tbl_hidden\" style=\"display:none;width:100%;\"><br/><table class=\"table \"><thead><tr><th>TLR (100)</th><th>RPC (100)</th><th>GO (100)</th><th>OI (100)</th><th>PERCEPTION (100)</th></tr></thead><tbody><tr><td>56.91</td><td>17.64</td><td>52.63</td><td>58.95</td><td>34.74</td></tr></tbody></table></div></td><td>Ambala</td><td>Haryana</td><td>42.26</td><td>91</td></tr><tr><td>IR-O-U-0011</td><td>Gandhi Institute of Technology and Management <div style=\"float:right;\"><a class=\"btn-more-details\" href=\"javascript:;\"><span>More Details</span></a><a class=\"close_data\" id=\"close_1\" style=\"display: none;\">Close</a> | <a href=\"https://www.nirfindia.org/nirfpdfcdn/2022/pdf/University/IR-O-U-0011.pdf\" target=\"_blank\"><img src=\"https://www.nirfindia.org/images/pdf_icon.png\" style=\"width: 20px; height: 20px !important\"/></a> | <a href=\"https://www.nirfindia.org/nirfpdfcdn/2022/graph/University/IR-O-U-0011.png\" target=\"_blank\"><img src=\"https://www.nirfindia.org/images/graph.png\" style=\"width: 20px; height: 20px !important\"/></a></div><div class=\"tbl_hidden\" style=\"display:none;width:100%;\"><br/><table class=\"table \"><thead><tr><th>TLR (100)</th><th>RPC (100)</th><th>GO (100)</th><th>OI (100)</th><th>PERCEPTION (100)</th></tr></thead><tbody><tr><td>45.87</td><td>19.36</td><td>68.99</td><td>54.68</td><td>33.01</td></tr></tbody></table></div></td><td>Visakhapatnam</td><td>Andhra Pradesh</td><td>42.14</td><td>92</td></tr><tr><td>IR-O-U-0451</td><td>Chettinad Academy of Research and Education<div style=\"float:right;\"><a class=\"btn-more-details\" href=\"javascript:;\"><span>More Details</span></a><a class=\"close_data\" id=\"close_1\" style=\"display: none;\">Close</a> | <a href=\"https://www.nirfindia.org/nirfpdfcdn/2022/pdf/University/IR-O-U-0451.pdf\" target=\"_blank\"><img src=\"https://www.nirfindia.org/images/pdf_icon.png\" style=\"width: 20px; height: 20px !important\"/></a> | <a href=\"https://www.nirfindia.org/nirfpdfcdn/2022/graph/University/IR-O-U-0451.png\" target=\"_blank\"><img src=\"https://www.nirfindia.org/images/graph.png\" style=\"width: 20px; height: 20px !important\"/></a></div><div class=\"tbl_hidden\" style=\"display:none;width:100%;\"><br/><table class=\"table \"><thead><tr><th>TLR (100)</th><th>RPC (100)</th><th>GO (100)</th><th>OI (100)</th><th>PERCEPTION (100)</th></tr></thead><tbody><tr><td>63.69</td><td>8.60</td><td>61.40</td><td>61.21</td><td>19.54</td></tr></tbody></table></div></td><td>Kelambakkam, Chengalpattu District</td><td>Tamil Nadu</td><td>42.04</td><td>93</td></tr><tr><td>IR-O-I-1280</td><td>Maharshi Dayanand University<div style=\"float:right;\"><a class=\"btn-more-details\" href=\"javascript:;\"><span>More Details</span></a><a class=\"close_data\" id=\"close_1\" style=\"display: none;\">Close</a> | <a href=\"https://www.nirfindia.org/nirfpdfcdn/2022/pdf/University/IR-O-I-1280.pdf\" target=\"_blank\"><img src=\"https://www.nirfindia.org/images/pdf_icon.png\" style=\"width: 20px; height: 20px !important\"/></a> | <a href=\"https://www.nirfindia.org/nirfpdfcdn/2022/graph/University/IR-O-I-1280.png\" target=\"_blank\"><img src=\"https://www.nirfindia.org/images/graph.png\" style=\"width: 20px; height: 20px !important\"/></a></div><div class=\"tbl_hidden\" style=\"display:none;width:100%;\"><br/><table class=\"table \"><thead><tr><th>TLR (100)</th><th>RPC (100)</th><th>GO (100)</th><th>OI (100)</th><th>PERCEPTION (100)</th></tr></thead><tbody><tr><td>44.33</td><td>18.99</td><td>74.17</td><td>53.13</td><td>27.36</td></tr></tbody></table></div></td><td>Rohtak</td><td>Haryana</td><td>41.88</td><td>94</td></tr><tr><td>IR-O-U-0043</td><td>Vignan's Foundation for Science, Technology and Research<div style=\"float:right;\"><a class=\"btn-more-details\" href=\"javascript:;\"><span>More Details</span></a><a class=\"close_data\" id=\"close_1\" style=\"display: none;\">Close</a> | <a href=\"https://www.nirfindia.org/nirfpdfcdn/2022/pdf/University/IR-O-U-0043.pdf\" target=\"_blank\"><img src=\"https://www.nirfindia.org/images/pdf_icon.png\" style=\"width: 20px; height: 20px !important\"/></a> | <a href=\"https://www.nirfindia.org/nirfpdfcdn/2022/graph/University/IR-O-U-0043.png\" target=\"_blank\"><img src=\"https://www.nirfindia.org/images/graph.png\" style=\"width: 20px; height: 20px !important\"/></a></div><div class=\"tbl_hidden\" style=\"display:none;width:100%;\"><br/><table class=\"table \"><thead><tr><th>TLR (100)</th><th>RPC (100)</th><th>GO (100)</th><th>OI (100)</th><th>PERCEPTION (100)</th></tr></thead><tbody><tr><td>52.38</td><td>18.96</td><td>59.77</td><td>56.33</td><td>28.06</td></tr></tbody></table></div></td><td>Guntur</td><td>Andhra Pradesh</td><td>41.79</td><td>95</td></tr><tr><td>IR-O-U-0190</td><td>Shoolini University of Biotechnology and Management Sciences<div style=\"float:right;\"><a class=\"btn-more-details\" href=\"javascript:;\"><span>More Details</span></a><a class=\"close_data\" id=\"close_1\" style=\"display: none;\">Close</a> | <a href=\"https://www.nirfindia.org/nirfpdfcdn/2022/pdf/University/IR-O-U-0190.pdf\" target=\"_blank\"><img src=\"https://www.nirfindia.org/images/pdf_icon.png\" style=\"width: 20px; height: 20px !important\"/></a> | <a href=\"https://www.nirfindia.org/nirfpdfcdn/2022/graph/University/IR-O-U-0190.png\" target=\"_blank\"><img src=\"https://www.nirfindia.org/images/graph.png\" style=\"width: 20px; height: 20px !important\"/></a></div><div class=\"tbl_hidden\" style=\"display:none;width:100%;\"><br/><table class=\"table \"><thead><tr><th>TLR (100)</th><th>RPC (100)</th><th>GO (100)</th><th>OI (100)</th><th>PERCEPTION (100)</th></tr></thead><tbody><tr><td>38.80</td><td>28.11</td><td>68.66</td><td>58.25</td><td>15.71</td></tr></tbody></table></div></td><td>Solan</td><td>Himachal Pradesh</td><td>41.19</td><td>96</td></tr><tr><td>IR-O-U-0250</td><td>Yenepoya University<div style=\"float:right;\"><a class=\"btn-more-details\" href=\"javascript:;\"><span>More Details</span></a><a class=\"close_data\" id=\"close_1\" style=\"display: none;\">Close</a> | <a href=\"https://www.nirfindia.org/nirfpdfcdn/2022/pdf/University/IR-O-U-0250.pdf\" target=\"_blank\"><img src=\"https://www.nirfindia.org/images/pdf_icon.png\" style=\"width: 20px; height: 20px !important\"/></a> | <a href=\"https://www.nirfindia.org/nirfpdfcdn/2022/graph/University/IR-O-U-0250.png\" target=\"_blank\"><img src=\"https://www.nirfindia.org/images/graph.png\" style=\"width: 20px; height: 20px !important\"/></a></div><div class=\"tbl_hidden\" style=\"display:none;width:100%;\"><br/><table class=\"table \"><thead><tr><th>TLR (100)</th><th>RPC (100)</th><th>GO (100)</th><th>OI (100)</th><th>PERCEPTION (100)</th></tr></thead><tbody><tr><td>61.19</td><td>11.89</td><td>49.62</td><td>71.14</td><td>20.65</td></tr></tbody></table></div></td><td>Mangaluru</td><td>Karnataka</td><td>41.03</td><td>97</td></tr><tr><td>IR-O-U-0589</td><td>Visva Bharati<div style=\"float:right;\"><a class=\"btn-more-details\" href=\"javascript:;\"><span>More Details</span></a><a class=\"close_data\" id=\"close_1\" style=\"display: none;\">Close</a> | <a href=\"https://www.nirfindia.org/nirfpdfcdn/2022/pdf/University/IR-O-U-0589.pdf\" target=\"_blank\"><img src=\"https://www.nirfindia.org/images/pdf_icon.png\" style=\"width: 20px; height: 20px !important\"/></a> | <a href=\"https://www.nirfindia.org/nirfpdfcdn/2022/graph/University/IR-O-U-0589.png\" target=\"_blank\"><img src=\"https://www.nirfindia.org/images/graph.png\" style=\"width: 20px; height: 20px !important\"/></a></div><div class=\"tbl_hidden\" style=\"display:none;width:100%;\"><br/><table class=\"table \"><thead><tr><th>TLR (100)</th><th>RPC (100)</th><th>GO (100)</th><th>OI (100)</th><th>PERCEPTION (100)</th></tr></thead><tbody><tr><td>44.85</td><td>24.43</td><td>76.87</td><td>33.44</td><td>14.65</td></tr></tbody></table></div></td><td>Santiniketan</td><td>West Bengal</td><td>40.96</td><td>98</td></tr><tr><td>IR-O-U-0202</td><td>Birla Institute of Technology<div style=\"float:right;\"><a class=\"btn-more-details\" href=\"javascript:;\"><span>More Details</span></a><a class=\"close_data\" id=\"close_1\" style=\"display: none;\">Close</a> | <a href=\"https://www.nirfindia.org/nirfpdfcdn/2022/pdf/University/IR-O-U-0202.pdf\" target=\"_blank\"><img src=\"https://www.nirfindia.org/images/pdf_icon.png\" style=\"width: 20px; height: 20px !important\"/></a> | <a href=\"https://www.nirfindia.org/nirfpdfcdn/2022/graph/University/IR-O-U-0202.png\" target=\"_blank\"><img src=\"https://www.nirfindia.org/images/graph.png\" style=\"width: 20px; height: 20px !important\"/></a></div><div class=\"tbl_hidden\" style=\"display:none;width:100%;\"><br/><table class=\"table \"><thead><tr><th>TLR (100)</th><th>RPC (100)</th><th>GO (100)</th><th>OI (100)</th><th>PERCEPTION (100)</th></tr></thead><tbody><tr><td>49.52</td><td>27.74</td><td>56.39</td><td>49.86</td><td>12.40</td></tr></tbody></table></div></td><td>Ranchi</td><td>Jharkhand</td><td>40.69</td><td>99</td></tr><tr><td>IR-O-U-0461</td><td>Dr. M. G. R. Educational and Research Institute<div style=\"float:right;\"><a class=\"btn-more-details\" href=\"javascript:;\"><span>More Details</span></a><a class=\"close_data\" id=\"close_1\" style=\"display: none;\">Close</a> | <a href=\"https://www.nirfindia.org/nirfpdfcdn/2022/pdf/University/IR-O-U-0461.pdf\" target=\"_blank\"><img src=\"https://www.nirfindia.org/images/pdf_icon.png\" style=\"width: 20px; height: 20px !important\"/></a> | <a href=\"https://www.nirfindia.org/nirfpdfcdn/2022/graph/University/IR-O-U-0461.png\" target=\"_blank\"><img src=\"https://www.nirfindia.org/images/graph.png\" style=\"width: 20px; height: 20px !important\"/></a></div><div class=\"tbl_hidden\" style=\"display:none;width:100%;\"><br/><table class=\"table \"><thead><tr><th>TLR (100)</th><th>RPC (100)</th><th>GO (100)</th><th>OI (100)</th><th>PERCEPTION (100)</th></tr></thead><tbody><tr><td>54.35</td><td>12.89</td><td>57.40</td><td>63.35</td><td>24.00</td></tr></tbody></table></div></td><td>Chennai</td><td>Tamil Nadu</td><td>40.39</td><td>100</td></tr></tbody></table></div><div class=\"div_to_hide\" id=\"div_tlr\" style=\"display: none;\"><h3 class=\"text-center\"><strong>University (TLR)</strong></h3><table class=\"table table-condensed\" id=\"tbl_tlr\" style=\"width:100%;\"><thead><tr><th>Institute ID</th><th>Name</th><th>City</th><th>State</th><th>TLR Score</th><th>TLR Rank</th><th>Score</th><th>Rank</th></tr></thead><tbody><tr><td>IR-O-U-0220</td><td>Indian Institute of Science</td><td>Bengaluru</td><td>Karnataka</td><td>82.08</td><td>1</td><td>83.57</td><td>1</td></tr><tr><td>IR-O-U-0109</td><td>Jawaharlal Nehru University</td><td>New Delhi</td><td>Delhi</td><td>71.95</td><td>3</td><td>68.47</td><td>2</td></tr><tr><td>IR-O-U-0108</td><td>Jamia Millia Islamia, New Delhi</td><td>New Delhi</td><td>Delhi</td><td>68.16</td><td>15</td><td>65.91</td><td>3</td></tr><tr><td>IR-O-U-0575</td><td>Jadavpur University</td><td>Kolkata</td><td>West Bengal</td><td>63.57</td><td>34</td><td>65.37</td><td>4</td></tr><tr><td>IR-O-U-0436</td><td>Amrita Vishwa Vidyapeetham</td><td>Coimbatore</td><td>Tamil Nadu</td><td>69.80</td><td>7</td><td>63.40</td><td>5</td></tr><tr><td>IR-O-U-0500</td><td>Banaras Hindu University</td><td>Varanasi</td><td>Uttar Pradesh</td><td>69.90</td><td>6</td><td>63.20</td><td>6</td></tr><tr><td>IR-O-U-0234</td><td>Manipal Academy of Higher Education, Manipal</td><td>Manipal</td><td>Karnataka</td><td>70.53</td><td>5</td><td>62.84</td><td>7</td></tr><tr><td>IR-O-U-0570</td><td>Calcutta University</td><td>Kolkata</td><td>West Bengal</td><td>67.46</td><td>17</td><td>62.23</td><td>8</td></tr><tr><td>IR-O-U-0490</td><td>Vellore Institute of Technology</td><td>Vellore</td><td>Tamil Nadu</td><td>52.72</td><td>107</td><td>61.77</td><td>9</td></tr><tr><td>IR-O-U-0042</td><td>University of Hyderabad</td><td>Hyderabad</td><td>Telangana</td><td>70.94</td><td>4</td><td>61.71</td><td>10</td></tr><tr><td>IR-O-U-0496</td><td>Aligarh Muslim University</td><td>Aligarh</td><td>Uttar Pradesh</td><td>69.21</td><td>10</td><td>61.43</td><td>11</td></tr><tr><td>IR-O-U-0323</td><td>Savitribai Phule Pune University</td><td>Pune</td><td>Maharashtra</td><td>63.66</td><td>33</td><td>59.48</td><td>12</td></tr><tr><td>IR-O-U-0120</td><td>University of Delhi</td><td>Delhi</td><td>Delhi</td><td>43.11</td><td>177</td><td>58.66</td><td>13</td></tr><tr><td>IR-O-U-0308</td><td>Institute of Chemical Technology</td><td>Mumbai</td><td>Maharashtra</td><td>59.27</td><td>56</td><td>58.61</td><td>14</td></tr><tr><td>IR-O-U-0447</td><td>Bharathiar University</td><td>Coimbatore</td><td>Tamil Nadu</td><td>63.97</td><td>31</td><td>58.25</td><td>15</td></tr><tr><td>IR-O-U-0363</td><td>Siksha `O` Anusandhan</td><td>Bhubaneswar</td><td>Odisha</td><td>68.30</td><td>14</td><td>57.60</td><td>16</td></tr><tr><td>IR-O-U-0304</td><td>Homi Bhabha National Institute</td><td>Mumbai</td><td>Maharashtra</td><td>72.51</td><td>2</td><td>57.09</td><td>17</td></tr><tr><td>IR-O-U-0391</td><td>Birla Institute of Technology &amp; Science - Pilani</td><td>Pilani</td><td>Rajasthan</td><td>59.27</td><td>56</td><td>56.68</td><td>18</td></tr><tr><td>IR-O-U-0473</td><td>S.R.M. Institute of Science and Technology</td><td>Chennai</td><td>Tamil Nadu</td><td>57.91</td><td>63</td><td>56.24</td><td>19</td></tr><tr><td>IR-O-U-0356</td><td>Kalinga Institute of Industrial Technology</td><td>Bhubaneswar</td><td>Odisha</td><td>69.00</td><td>11</td><td>56.22</td><td>20</td></tr><tr><td>IR-O-U-0439</td><td>Anna University</td><td>Chennai</td><td>Tamil Nadu</td><td>53.32</td><td>102</td><td>56.22</td><td>20</td></tr><tr><td>IR-O-U-0027</td><td>Osmania University</td><td>Hyderabad</td><td>Telangana</td><td>60.22</td><td>50</td><td>53.07</td><td>22</td></tr><tr><td>IR-O-U-0497</td><td>Amity University</td><td>Gautam Budh Nagar</td><td>Uttar Pradesh</td><td>49.57</td><td>124</td><td>53.07</td><td>22</td></tr><tr><td>IR-O-U-0476</td><td>Shanmugha Arts Science Technology &amp; Research Academy</td><td>Thanjavur</td><td>Tamil Nadu</td><td>61.35</td><td>44</td><td>53.04</td><td>24</td></tr><tr><td>IR-O-U-0078</td><td>Panjab University</td><td>Chandigarh</td><td>Chandigarh</td><td>48.43</td><td>135</td><td>52.80</td><td>25</td></tr><tr><td>IR-O-I-1441</td><td>Saveetha Institute of Medical and Technical Sciences</td><td>Chennai</td><td>Tamil Nadu</td><td>56.29</td><td>82</td><td>52.45</td><td>26</td></tr><tr><td>IR-O-U-0020</td><td>Koneru Lakshmaiah Education Foundation University (K L College of Engineering)</td><td>Vaddeswaram</td><td>Andhra Pradesh</td><td>61.22</td><td>45</td><td>52.33</td><td>27</td></tr><tr><td>IR-O-U-0435</td><td>Alagappa University</td><td>Karaikudi</td><td>Tamil Nadu</td><td>61.66</td><td>42</td><td>52.18</td><td>28</td></tr><tr><td>IR-O-U-0747</td><td>Chandigarh University</td><td>Mohali</td><td>Punjab</td><td>63.04</td><td>37</td><td>51.85</td><td>29</td></tr><tr><td>IR-O-U-0262</td><td>Mahatma Gandhi University, Kottayam</td><td>Kottayam</td><td>Kerala</td><td>65.16</td><td>24</td><td>51.61</td><td>30</td></tr><tr><td>IR-O-I-1480</td><td>Thapar Institute of Engineering and Technology</td><td>Patiala</td><td>Punjab</td><td>49.86</td><td>123</td><td>51.56</td><td>31</td></tr><tr><td>IR-O-U-0329</td><td>Symbiosis International</td><td>Pune</td><td>Maharashtra</td><td>65.62</td><td>20</td><td>51.45</td><td>32</td></tr><tr><td>IR-O-U-0235</td><td>Mysore University</td><td>Mysuru</td><td>Karnataka</td><td>68.90</td><td>12</td><td>51.37</td><td>33</td></tr><tr><td>IR-O-U-0222</td><td>JSS Academy of Higher Education and Research</td><td>Mysuru</td><td>Karnataka</td><td>68.12</td><td>16</td><td>51.20</td><td>34</td></tr><tr><td>IR-O-U-0458</td><td>Kalasalingam Academy of Research and Education</td><td>Srivilliputtur</td><td>Tamil Nadu</td><td>60.10</td><td>51</td><td>51.09</td><td>35</td></tr><tr><td>IR-O-U-0006</td><td>Andhra University, Visakhapatnam</td><td>Visakhapatnam</td><td>Andhra Pradesh</td><td>54.05</td><td>98</td><td>50.52</td><td>36</td></tr><tr><td>IR-O-U-0052</td><td>Gauhati University</td><td>Guwahati</td><td>Assam</td><td>59.42</td><td>55</td><td>50.52</td><td>36</td></tr><tr><td>IR-O-U-0098</td><td>Delhi Technological University</td><td>New Delhi</td><td>Delhi</td><td>57.93</td><td>62</td><td>49.97</td><td>38</td></tr><tr><td>IR-O-I-1357</td><td>University of Madras</td><td>Chennai</td><td>Tamil Nadu</td><td>56.58</td><td>80</td><td>49.86</td><td>39</td></tr><tr><td>IR-O-U-0260</td><td>Kerala University</td><td>Thiruvananthapuram</td><td>Kerala</td><td>65.23</td><td>23</td><td>49.80</td><td>40</td></tr><tr><td>IR-O-U-0253</td><td>Cochin University of Science and Technology</td><td>Cochin</td><td>Kerala</td><td>57.05</td><td>68</td><td>49.43</td><td>41</td></tr><tr><td>IR-O-I-1110</td><td>Dr. D. Y. Patil Vidyapeeth</td><td>Pune</td><td>Maharashtra</td><td>69.78</td><td>8</td><td>49.43</td><td>41</td></tr><tr><td>IR-O-U-0474</td><td>Sathyabama Institute of Science and Technology</td><td>Chennai</td><td>Tamil Nadu</td><td>56.99</td><td>70</td><td>49.18</td><td>43</td></tr><tr><td>IR-O-U-0376</td><td>Guru Nanak Dev University</td><td>Amritsar</td><td>Punjab</td><td>51.06</td><td>116</td><td>49.01</td><td>44</td></tr><tr><td>IR-O-U-0318</td><td>Mumbai University</td><td>Mumbai</td><td>Maharashtra</td><td>55.16</td><td>90</td><td>48.93</td><td>45</td></tr><tr><td>IR-O-U-0107</td><td>Jamia Hamdard</td><td>New Delhi</td><td>Delhi</td><td>56.93</td><td>72</td><td>48.93</td><td>45</td></tr><tr><td>IR-O-U-0379</td><td>Lovely Professional University</td><td>Phagwara</td><td>Punjab</td><td>56.40</td><td>81</td><td>48.92</td><td>47</td></tr><tr><td>IR-O-I-1486</td><td>Sri Ramachandra Institute of Higher Education and Research</td><td>Chennai</td><td>Tamil Nadu</td><td>69.68</td><td>9</td><td>48.87</td><td>48</td></tr><tr><td>IR-O-U-0389</td><td>Banasthali Vidyapith</td><td>Banasthali</td><td>Rajasthan</td><td>53.01</td><td>106</td><td>48.64</td><td>49</td></tr><tr><td>IR-O-U-0523</td><td>King George`s Medical University</td><td>Lucknow</td><td>Uttar Pradesh</td><td>66.33</td><td>19</td><td>48.51</td><td>50</td></tr><tr><td>IR-O-N-10</td><td>SVKM`s Narsee Monjee Institute of Management Studies</td><td>Mumbai</td><td>Maharashtra</td><td>68.42</td><td>13</td><td>48.46</td><td>51</td></tr><tr><td>IR-O-U-0463</td><td>Madurai Kamaraj University</td><td>Madurai</td><td>Tamil Nadu</td><td>63.33</td><td>36</td><td>48.39</td><td>52</td></tr><tr><td>IR-O-U-0196</td><td>University of Kashmir</td><td>Srinagar</td><td>Jammu and Kashmir</td><td>60.58</td><td>48</td><td>48.27</td><td>53</td></tr><tr><td>IR-O-U-0295</td><td>Datta Meghe Institute of Medical Sciences</td><td>Wardha</td><td>Maharashtra</td><td>65.25</td><td>22</td><td>48.18</td><td>54</td></tr><tr><td>IR-O-U-0498</td><td>Babasheb Bhimrao Ambedkar University</td><td>Lucknow</td><td>Uttar Pradesh</td><td>53.54</td><td>99</td><td>48.05</td><td>55</td></tr><tr><td>IR-O-U-0195</td><td>University of Jammu</td><td>Jammu</td><td>Jammu and Kashmir</td><td>64.90</td><td>27</td><td>48.03</td><td>56</td></tr><tr><td>IR-O-U-0448</td><td>Bharathidasan University</td><td>Tiruchirappalli</td><td>Tamil Nadu</td><td>57.72</td><td>65</td><td>47.98</td><td>57</td></tr><tr><td>IR-O-U-0136</td><td>Gujarat University</td><td>Ahmedabad</td><td>Gujarat</td><td>64.75</td><td>28</td><td>47.61</td><td>58</td></tr><tr><td>IR-O-U-0056</td><td>Tezpur University</td><td>Tezpur</td><td>Assam</td><td>59.71</td><td>54</td><td>47.48</td><td>59</td></tr><tr><td>IR-O-U-0331</td><td>Tata Institute of Social Sciences</td><td>Mumbai</td><td>Maharashtra</td><td>56.66</td><td>78</td><td>47.16</td><td>60</td></tr><tr><td>IR-O-U-0642</td><td>Shiv Nadar University</td><td>Dadri</td><td>Uttar Pradesh</td><td>63.53</td><td>35</td><td>46.57</td><td>61</td></tr><tr><td>IR-O-U-0446</td><td>Bharath Institute of Higher Education &amp; Research</td><td>Chennai</td><td>Tamil Nadu</td><td>56.20</td><td>84</td><td>46.40</td><td>62</td></tr><tr><td>IR-O-U-0470</td><td>Periyar University</td><td>Salem</td><td>Tamil Nadu</td><td>53.08</td><td>104</td><td>46.06</td><td>63</td></tr><tr><td>IR-O-U-0215</td><td>Bangalore University</td><td>Bangalore</td><td>Karnataka</td><td>58.70</td><td>60</td><td>46.01</td><td>64</td></tr><tr><td>IR-O-U-0564</td><td>University of Petroleum and Energy Studies</td><td>Dehradun</td><td>Uttarakhand</td><td>56.69</td><td>77</td><td>45.49</td><td>65</td></tr><tr><td>IR-O-U-0341</td><td>North Eastern Hill University</td><td>Shillong</td><td>Meghalaya</td><td>56.73</td><td>76</td><td>45.44</td><td>66</td></tr><tr><td>IR-O-U-0037</td><td>Sri Venkateswara University</td><td>Tirupati</td><td>Andhra Pradesh</td><td>49.27</td><td>126</td><td>45.07</td><td>67</td></tr><tr><td>IR-O-U-0369</td><td>Pondicherry University</td><td>Puducherry</td><td>Pondicherry</td><td>42.84</td><td>178</td><td>44.95</td><td>68</td></tr><tr><td>IR-O-U-0251</td><td>Calicut University, Thenhipalem</td><td>Malappuram</td><td>Kerala</td><td>65.11</td><td>26</td><td>44.93</td><td>69</td></tr><tr><td>IR-O-U-0370</td><td>Sri Balaji Vidyapeeth Mahatma Gandhi Medical College Campus</td><td>Puducherry</td><td>Pondicherry</td><td>64.47</td><td>30</td><td>44.72</td><td>70</td></tr><tr><td>IR-O-U-0217</td><td>Christ University</td><td>Bengaluru</td><td>Karnataka</td><td>51.83</td><td>113</td><td>44.31</td><td>71</td></tr><tr><td>IR-O-U-0249</td><td>Visvesvaraya Technological University</td><td>Belgaum</td><td>Karnataka</td><td>58.94</td><td>58</td><td>44.22</td><td>72</td></tr><tr><td>IR-O-U-0311</td><td>Krishna Institute of Medical Sciences Deemed University, Karad</td><td>Karad</td><td>Maharashtra</td><td>64.69</td><td>29</td><td>44.14</td><td>73</td></tr><tr><td>IR-O-U-0555</td><td>Graphic Era University</td><td>Dehradun</td><td>Uttarakhand</td><td>57.05</td><td>68</td><td>43.82</td><td>74</td></tr><tr><td>IR-O-U-0239</td><td>NITTE</td><td>Mangaluru</td><td>Karnataka</td><td>62.49</td><td>40</td><td>43.64</td><td>75</td></tr><tr><td>IR-O-I-1361</td><td>Bharati Vidyapeeth</td><td>Pune</td><td>Maharashtra</td><td>57.47</td><td>67</td><td>43.54</td><td>76</td></tr><tr><td>IR-O-U-0099</td><td>Guru Gobind Singh Indraprastha University</td><td>New Delhi</td><td>Delhi</td><td>50.61</td><td>119</td><td>43.39</td><td>77</td></tr><tr><td>IR-O-U-0345</td><td>Mizoram University</td><td>Aizawl</td><td>Mizoram</td><td>55.86</td><td>87</td><td>43.24</td><td>78</td></tr><tr><td>IR-O-U-0223</td><td>Jain University, Bangalore</td><td>Bengluru</td><td>Karnataka</td><td>46.67</td><td>141</td><td>43.21</td><td>79</td></tr><tr><td>IR-O-U-0464</td><td>Manonmaniam Sundaranar University, Tirunelveli</td><td>Tirunelveli</td><td>Tamil Nadu</td><td>56.95</td><td>71</td><td>42.92</td><td>80</td></tr><tr><td>IR-O-U-0321</td><td>Padmashree Dr. D. Y. Patil Vidyapeeth, Mumbai</td><td>Mumbai</td><td>Maharashtra</td><td>67.36</td><td>18</td><td>42.64</td><td>81</td></tr><tr><td>IR-O-U-0372</td><td>Central University of Punjab</td><td>Bathinda</td><td>Punjab</td><td>54.61</td><td>93</td><td>42.64</td><td>81</td></tr><tr><td>IR-O-U-0298</td><td>Dr. Babasaheb Ambedkar Marathwada University, Aurangabad</td><td>Aurangabad</td><td>Maharashtra</td><td>42.23</td><td>184</td><td>42.59</td><td>83</td></tr><tr><td>IR-O-U-0444</td><td>Avinashilingam Institute for Home Science &amp; Higher Education for Women</td><td>Coimbatore</td><td>Tamil Nadu</td><td>62.12</td><td>41</td><td>42.53</td><td>84</td></tr><tr><td>IR-O-U-0449</td><td>Central University of Tamil Nadu</td><td>Tiruvarur</td><td>Tamil Nadu</td><td>59.81</td><td>52</td><td>42.47</td><td>85</td></tr><tr><td>IR-O-U-0232</td><td>Kuvempu University</td><td>Shivamogga</td><td>Karnataka</td><td>54.52</td><td>94</td><td>42.44</td><td>86</td></tr><tr><td>IR-O-U-0569</td><td>The University of Burdwan</td><td>Bardhaman</td><td>West Bengal</td><td>47.03</td><td>140</td><td>42.42</td><td>87</td></tr><tr><td>IR-O-U-0744</td><td>Ashoka University</td><td>Sonepat</td><td>Haryana</td><td>65.47</td><td>21</td><td>42.27</td><td>88</td></tr><tr><td>IR-O-U-0225</td><td>KLE Academy of Higher Education and Research</td><td>Belagavi</td><td>Karnataka</td><td>62.51</td><td>39</td><td>42.27</td><td>88</td></tr><tr><td>IR-O-U-0366</td><td>Utkal University</td><td>Bhubaneswar</td><td>Odisha</td><td>44.59</td><td>164</td><td>42.27</td><td>88</td></tr><tr><td>IR-O-U-0168</td><td>Maharishi Markandeshwar</td><td>Ambala</td><td>Haryana</td><td>56.91</td><td>74</td><td>42.26</td><td>91</td></tr><tr><td>IR-O-U-0011</td><td>Gandhi Institute of Technology and Management </td><td>Visakhapatnam</td><td>Andhra Pradesh</td><td>45.87</td><td>147</td><td>42.14</td><td>92</td></tr><tr><td>IR-O-U-0451</td><td>Chettinad Academy of Research and Education</td><td>Kelambakkam, Chengalpattu District</td><td>Tamil Nadu</td><td>63.69</td><td>32</td><td>42.04</td><td>93</td></tr><tr><td>IR-O-I-1280</td><td>Maharshi Dayanand University</td><td>Rohtak</td><td>Haryana</td><td>44.33</td><td>166</td><td>41.88</td><td>94</td></tr><tr><td>IR-O-U-0043</td><td>Vignan's Foundation for Science, Technology and Research</td><td>Guntur</td><td>Andhra Pradesh</td><td>52.38</td><td>111</td><td>41.79</td><td>95</td></tr><tr><td>IR-O-U-0190</td><td>Shoolini University of Biotechnology and Management Sciences</td><td>Solan</td><td>Himachal Pradesh</td><td>38.80</td><td>215</td><td>41.19</td><td>96</td></tr><tr><td>IR-O-U-0250</td><td>Yenepoya University</td><td>Mangaluru</td><td>Karnataka</td><td>61.19</td><td>47</td><td>41.03</td><td>97</td></tr><tr><td>IR-O-U-0589</td><td>Visva Bharati</td><td>Santiniketan</td><td>West Bengal</td><td>44.85</td><td>160</td><td>40.96</td><td>98</td></tr><tr><td>IR-O-U-0202</td><td>Birla Institute of Technology</td><td>Ranchi</td><td>Jharkhand</td><td>49.52</td><td>125</td><td>40.69</td><td>99</td></tr><tr><td>IR-O-U-0461</td><td>M. G. R. Educational and Research Institute</td><td>Chennai</td><td>Tamil Nadu</td><td>54.35</td><td>95</td><td>40.39</td><td>100</td></tr></tbody></table></div><div class=\"div_to_hide\" id=\"div_rpc\" style=\"display: none;\"><h3 class=\"text-center\"><strong>University (RPC)</strong></h3><table class=\"table table-condensed\" id=\"tbl_rpc\" style=\"width:100%;\"><thead><tr><th>Institute ID</th><th>Name</th><th>City</th><th>State</th><th>RPC Score</th><th>RPC Rank</th><th>Score</th><th>Rank</th></tr></thead><tbody><tr><td>IR-O-U-0220</td><td>Indian Institute of Science</td><td>Bengaluru</td><td>Karnataka</td><td>87.45</td><td>1</td><td>83.57</td><td>1</td></tr><tr><td>IR-O-U-0109</td><td>Jawaharlal Nehru University</td><td>New Delhi</td><td>Delhi</td><td>45.55</td><td>12</td><td>68.47</td><td>2</td></tr><tr><td>IR-O-U-0108</td><td>Jamia Millia Islamia, New Delhi</td><td>New Delhi</td><td>Delhi</td><td>47.38</td><td>10</td><td>65.91</td><td>3</td></tr><tr><td>IR-O-U-0575</td><td>Jadavpur University</td><td>Kolkata</td><td>West Bengal</td><td>53.73</td><td>3</td><td>65.37</td><td>4</td></tr><tr><td>IR-O-U-0436</td><td>Amrita Vishwa Vidyapeetham</td><td>Coimbatore</td><td>Tamil Nadu</td><td>50.06</td><td>8</td><td>63.40</td><td>5</td></tr><tr><td>IR-O-U-0500</td><td>Banaras Hindu University</td><td>Varanasi</td><td>Uttar Pradesh</td><td>43.91</td><td>17</td><td>63.20</td><td>6</td></tr><tr><td>IR-O-U-0234</td><td>Manipal Academy of Higher Education, Manipal</td><td>Manipal</td><td>Karnataka</td><td>51.07</td><td>6</td><td>62.84</td><td>7</td></tr><tr><td>IR-O-U-0570</td><td>Calcutta University</td><td>Kolkata</td><td>West Bengal</td><td>40.85</td><td>22</td><td>62.23</td><td>8</td></tr><tr><td>IR-O-U-0490</td><td>Vellore Institute of Technology</td><td>Vellore</td><td>Tamil Nadu</td><td>59.82</td><td>2</td><td>61.77</td><td>9</td></tr><tr><td>IR-O-U-0042</td><td>University of Hyderabad</td><td>Hyderabad</td><td>Telangana</td><td>40.18</td><td>23</td><td>61.71</td><td>10</td></tr><tr><td>IR-O-U-0496</td><td>Aligarh Muslim University</td><td>Aligarh</td><td>Uttar Pradesh</td><td>43.04</td><td>19</td><td>61.43</td><td>11</td></tr><tr><td>IR-O-U-0323</td><td>Savitribai Phule Pune University</td><td>Pune</td><td>Maharashtra</td><td>41.64</td><td>21</td><td>59.48</td><td>12</td></tr><tr><td>IR-O-U-0120</td><td>University of Delhi</td><td>Delhi</td><td>Delhi</td><td>52.82</td><td>5</td><td>58.66</td><td>13</td></tr><tr><td>IR-O-U-0308</td><td>Institute of Chemical Technology</td><td>Mumbai</td><td>Maharashtra</td><td>50.58</td><td>7</td><td>58.61</td><td>14</td></tr><tr><td>IR-O-U-0447</td><td>Bharathiar University</td><td>Coimbatore</td><td>Tamil Nadu</td><td>44.36</td><td>16</td><td>58.25</td><td>15</td></tr><tr><td>IR-O-U-0363</td><td>Siksha `O` Anusandhan</td><td>Bhubaneswar</td><td>Odisha</td><td>35.58</td><td>27</td><td>57.60</td><td>16</td></tr><tr><td>IR-O-U-0304</td><td>Homi Bhabha National Institute</td><td>Mumbai</td><td>Maharashtra</td><td>45.25</td><td>14</td><td>57.09</td><td>17</td></tr><tr><td>IR-O-U-0391</td><td>Birla Institute of Technology &amp; Science - Pilani</td><td>Pilani</td><td>Rajasthan</td><td>46.74</td><td>11</td><td>56.68</td><td>18</td></tr><tr><td>IR-O-U-0473</td><td>S.R.M. Institute of Science and Technology</td><td>Chennai</td><td>Tamil Nadu</td><td>45.28</td><td>13</td><td>56.24</td><td>19</td></tr><tr><td>IR-O-U-0356</td><td>Kalinga Institute of Industrial Technology</td><td>BHUBANESWAR</td><td>Odisha</td><td>30.20</td><td>36</td><td>56.22</td><td>20</td></tr><tr><td>IR-O-U-0439</td><td>Anna University</td><td>Chennai</td><td>Tamil Nadu</td><td>53.15</td><td>4</td><td>56.22</td><td>20</td></tr><tr><td>IR-O-U-0027</td><td>Osmania University</td><td>Hyderabad</td><td>Telangana</td><td>30.41</td><td>35</td><td>53.07</td><td>22</td></tr><tr><td>IR-O-U-0497</td><td>Amity University</td><td>Gautam Budh Nagar</td><td>Uttar Pradesh</td><td>47.89</td><td>9</td><td>53.07</td><td>22</td></tr><tr><td>IR-O-U-0476</td><td>Shanmugha Arts Science Technology &amp; Research Academy</td><td>Thanjavur</td><td>Tamil Nadu</td><td>38.23</td><td>24</td><td>53.04</td><td>24</td></tr><tr><td>IR-O-U-0078</td><td>Panjab University</td><td>Chandigarh</td><td>Chandigarh</td><td>43.18</td><td>18</td><td>52.80</td><td>25</td></tr><tr><td>IR-O-I-1441</td><td>Saveetha Institute of Medical and Technical Sciences</td><td>Chennai</td><td>Tamil Nadu</td><td>43.01</td><td>20</td><td>52.45</td><td>26</td></tr><tr><td>IR-O-U-0020</td><td>Koneru Lakshmaiah Education Foundation University (K L College of Engineering)</td><td>Vaddeswaram</td><td>Andhra Pradesh</td><td>36.63</td><td>25</td><td>52.33</td><td>27</td></tr><tr><td>IR-O-U-0435</td><td>Alagappa University</td><td>Karaikudi</td><td>Tamil Nadu</td><td>32.63</td><td>29</td><td>52.18</td><td>28</td></tr><tr><td>IR-O-U-0747</td><td>Chandigarh University</td><td>Mohali</td><td>Punjab</td><td>22.16</td><td>58</td><td>51.85</td><td>29</td></tr><tr><td>IR-O-U-0262</td><td>Mahatma Gandhi University, Kottayam</td><td>Kottayam</td><td>Kerala</td><td>36.16</td><td>26</td><td>51.61</td><td>30</td></tr><tr><td>IR-O-I-1480</td><td>Thapar Institute of Engineering and Technology</td><td>Patiala</td><td>Punjab</td><td>44.83</td><td>15</td><td>51.56</td><td>31</td></tr><tr><td>IR-O-U-0329</td><td>Symbiosis International</td><td>Pune</td><td>Maharashtra</td><td>17.80</td><td>90</td><td>51.45</td><td>32</td></tr><tr><td>IR-O-U-0235</td><td>Mysore University</td><td>Mysuru</td><td>Karnataka</td><td>16.81</td><td>101</td><td>51.37</td><td>33</td></tr><tr><td>IR-O-U-0222</td><td>JSS Academy of Higher Education and Research</td><td>Mysuru</td><td>Karnataka</td><td>21.40</td><td>65</td><td>51.20</td><td>34</td></tr><tr><td>IR-O-U-0458</td><td>Kalasalingam Academy of Research and Education</td><td>Srivilliputtur</td><td>Tamil Nadu</td><td>26.46</td><td>46</td><td>51.09</td><td>35</td></tr><tr><td>IR-O-U-0006</td><td>Andhra University, Visakhapatnam</td><td>Visakhapatnam</td><td>Andhra Pradesh</td><td>25.80</td><td>49</td><td>50.52</td><td>36</td></tr><tr><td>IR-O-U-0052</td><td>Gauhati University</td><td>Guwahati</td><td>Assam</td><td>21.66</td><td>61</td><td>50.52</td><td>36</td></tr><tr><td>IR-O-U-0098</td><td>Delhi Technological University</td><td>New Delhi</td><td>Delhi</td><td>32.46</td><td>32</td><td>49.97</td><td>38</td></tr><tr><td>IR-O-I-1357</td><td>University of Madras</td><td>Chennai</td><td>Tamil Nadu</td><td>32.35</td><td>33</td><td>49.86</td><td>39</td></tr><tr><td>IR-O-U-0260</td><td>Kerala University</td><td>Thiruvananthapuram</td><td>Kerala</td><td>20.29</td><td>69</td><td>49.80</td><td>40</td></tr><tr><td>IR-O-U-0253</td><td>Cochin University of Science and Technology</td><td>Cochin</td><td>Kerala</td><td>32.57</td><td>30</td><td>49.43</td><td>41</td></tr><tr><td>IR-O-I-1110</td><td>Dr. D. Y. Patil Vidyapeeth</td><td>Pune</td><td>Maharashtra</td><td>19.22</td><td>75</td><td>49.43</td><td>41</td></tr><tr><td>IR-O-U-0474</td><td>Sathyabama Institute of Science and Technology</td><td>Chennai</td><td>Tamil Nadu</td><td>29.87</td><td>38</td><td>49.18</td><td>43</td></tr><tr><td>IR-O-U-0376</td><td>Guru Nanak Dev University</td><td>Amritsar</td><td>Punjab</td><td>28.73</td><td>40</td><td>49.01</td><td>44</td></tr><tr><td>IR-O-U-0318</td><td>Mumbai University</td><td>Mumbai</td><td>Maharashtra</td><td>22.52</td><td>57</td><td>48.93</td><td>45</td></tr><tr><td>IR-O-U-0107</td><td>Jamia Hamdard</td><td>New Delhi</td><td>Delhi</td><td>30.15</td><td>37</td><td>48.93</td><td>45</td></tr><tr><td>IR-O-U-0379</td><td>Lovely Professional University</td><td>Phagwara</td><td>Punjab</td><td>34.71</td><td>28</td><td>48.92</td><td>47</td></tr><tr><td>IR-O-I-1486</td><td>Sri Ramachandra Institute of Higher Education and Research</td><td>Chennai</td><td>Tamil Nadu</td><td>17.07</td><td>98</td><td>48.87</td><td>48</td></tr><tr><td>IR-O-U-0389</td><td>Banasthali Vidyapith</td><td>Banasthali</td><td>Rajasthan</td><td>15.98</td><td>107</td><td>48.64</td><td>49</td></tr><tr><td>IR-O-U-0523</td><td>King George`s Medical University</td><td>Lucknow</td><td>Uttar Pradesh</td><td>26.31</td><td>47</td><td>48.51</td><td>50</td></tr><tr><td>IR-O-N-10</td><td>SVKM`s Narsee Monjee Institute of Management Studies</td><td>Mumbai</td><td>Maharashtra</td><td>17.66</td><td>92</td><td>48.46</td><td>51</td></tr><tr><td>IR-O-U-0463</td><td>Madurai Kamaraj University</td><td>Madurai</td><td>Tamil Nadu</td><td>24.04</td><td>52</td><td>48.39</td><td>52</td></tr><tr><td>IR-O-U-0196</td><td>University of Kashmir</td><td>Srinagar</td><td>Jammu and Kashmir</td><td>21.23</td><td>66</td><td>48.27</td><td>53</td></tr><tr><td>IR-O-U-0295</td><td>Datta Meghe Institute of Medical Sciences</td><td>Wardha</td><td>Maharashtra</td><td>23.54</td><td>55</td><td>48.18</td><td>54</td></tr><tr><td>IR-O-U-0498</td><td>Babasheb Bhimrao Ambedkar University</td><td>Lucknow</td><td>Uttar Pradesh</td><td>19.68</td><td>71</td><td>48.05</td><td>55</td></tr><tr><td>IR-O-U-0195</td><td>University of Jammu</td><td>Jammu</td><td>Jammu and Kashmir</td><td>19.12</td><td>77</td><td>48.03</td><td>56</td></tr><tr><td>IR-O-U-0448</td><td>Bharathidasan University</td><td>Tiruchirappalli</td><td>Tamil Nadu</td><td>32.56</td><td>31</td><td>47.98</td><td>57</td></tr><tr><td>IR-O-U-0136</td><td>Gujarat University</td><td>Ahmedabad</td><td>Gujarat</td><td>18.38</td><td>86</td><td>47.61</td><td>58</td></tr><tr><td>IR-O-U-0056</td><td>Tezpur University</td><td>Tezpur</td><td>Assam</td><td>27.49</td><td>43</td><td>47.48</td><td>59</td></tr><tr><td>IR-O-U-0331</td><td>Tata Institute of Social Sciences</td><td>Mumbai</td><td>Maharashtra</td><td>10.45</td><td>146</td><td>47.16</td><td>60</td></tr><tr><td>IR-O-U-0642</td><td>Shiv Nadar University</td><td>Dadri</td><td>Uttar Pradesh</td><td>20.75</td><td>67</td><td>46.57</td><td>61</td></tr><tr><td>IR-O-U-0446</td><td>Bharath Institute of Higher Education &amp; Research</td><td>Chennai</td><td>Tamil Nadu</td><td>23.15</td><td>56</td><td>46.40</td><td>62</td></tr><tr><td>IR-O-U-0470</td><td>Periyar University</td><td>Salem</td><td>Tamil Nadu</td><td>25.63</td><td>50</td><td>46.06</td><td>63</td></tr><tr><td>IR-O-U-0215</td><td>Bangalore University</td><td>Bangalore</td><td>Karnataka</td><td>17.38</td><td>95</td><td>46.01</td><td>64</td></tr><tr><td>IR-O-U-0564</td><td>University of Petroleum and Energy Studies</td><td>Dehradun</td><td>Uttarakhand</td><td>19.48</td><td>73</td><td>45.49</td><td>65</td></tr><tr><td>IR-O-U-0341</td><td>North Eastern Hill University</td><td>Shillong</td><td>Meghalaya</td><td>17.80</td><td>90</td><td>45.44</td><td>66</td></tr><tr><td>IR-O-U-0037</td><td>Sri Venkateswara University</td><td>Tirupati</td><td>Andhra Pradesh</td><td>18.27</td><td>87</td><td>45.07</td><td>67</td></tr><tr><td>IR-O-U-0369</td><td>Pondicherry University</td><td>Puducherry</td><td>Pondicherry</td><td>28.84</td><td>39</td><td>44.95</td><td>68</td></tr><tr><td>IR-O-U-0251</td><td>Calicut University, Thenhipalem</td><td>Malappuram</td><td>Kerala</td><td>17.09</td><td>97</td><td>44.93</td><td>69</td></tr><tr><td>IR-O-U-0370</td><td>Sri Balaji Vidyapeeth Mahatma Gandhi Medical College Campus</td><td>Puducherry</td><td>Pondicherry</td><td>8.58</td><td>166</td><td>44.72</td><td>70</td></tr><tr><td>IR-O-U-0217</td><td>Christ University</td><td>Bengaluru</td><td>Karnataka</td><td>10.84</td><td>144</td><td>44.31</td><td>71</td></tr><tr><td>IR-O-U-0249</td><td>Visvesvaraya Technological University</td><td>Belgaum</td><td>Karnataka</td><td>27.28</td><td>45</td><td>44.22</td><td>72</td></tr><tr><td>IR-O-U-0311</td><td>Krishna Institute of Medical Sciences Deemed University, Karad</td><td>Karad</td><td>Maharashtra</td><td>14.63</td><td>116</td><td>44.14</td><td>73</td></tr><tr><td>IR-O-U-0555</td><td>Graphic Era University</td><td>Dehradun</td><td>Uttarakhand</td><td>12.55</td><td>131</td><td>43.82</td><td>74</td></tr><tr><td>IR-O-U-0239</td><td>NITTE</td><td>Mangaluru</td><td>Karnataka</td><td>10.36</td><td>148</td><td>43.64</td><td>75</td></tr><tr><td>IR-O-I-1361</td><td>Bharati Vidyapeeth</td><td>Pune</td><td>Maharashtra</td><td>11.05</td><td>141</td><td>43.54</td><td>76</td></tr><tr><td>IR-O-U-0099</td><td>Guru Gobind Singh Indraprastha University</td><td>New Delhi</td><td>Delhi</td><td>26.02</td><td>48</td><td>43.39</td><td>77</td></tr><tr><td>IR-O-U-0345</td><td>Mizoram University</td><td>Aizawl</td><td>Mizoram</td><td>14.65</td><td>115</td><td>43.24</td><td>78</td></tr><tr><td>IR-O-U-0223</td><td>Jain University, Bangalore</td><td>Bengluru</td><td>Karnataka</td><td>14.61</td><td>117</td><td>43.21</td><td>79</td></tr><tr><td>IR-O-U-0464</td><td>Manonmaniam Sundaranar University, Tirunelveli</td><td>Tirunelveli</td><td>Tamil Nadu</td><td>21.41</td><td>64</td><td>42.92</td><td>80</td></tr><tr><td>IR-O-U-0321</td><td>Padmashree Dr. D. Y. Patil Vidyapeeth, Mumbai</td><td>Mumbai</td><td>Maharashtra</td><td>3.09</td><td>232</td><td>42.64</td><td>81</td></tr><tr><td>IR-O-U-0372</td><td>Central University of Punjab</td><td>Bathinda</td><td>Punjab</td><td>19.03</td><td>78</td><td>42.64</td><td>81</td></tr><tr><td>IR-O-U-0298</td><td>Dr. Babasaheb Ambedkar Marathwada University, Aurangabad</td><td>Aurangabad</td><td>Maharashtra</td><td>16.12</td><td>106</td><td>42.59</td><td>83</td></tr><tr><td>IR-O-U-0444</td><td>Avinashilingam Institute for Home Science &amp; Higher Education for Women</td><td>Coimbatore</td><td>Tamil Nadu</td><td>3.75</td><td>215</td><td>42.53</td><td>84</td></tr><tr><td>IR-O-U-0449</td><td>Central University of Tamil Nadu</td><td>Tiruvarur</td><td>Tamil Nadu</td><td>14.49</td><td>119</td><td>42.47</td><td>85</td></tr><tr><td>IR-O-U-0232</td><td>Kuvempu University</td><td>Shivamogga</td><td>Karnataka</td><td>15.70</td><td>109</td><td>42.44</td><td>86</td></tr><tr><td>IR-O-U-0569</td><td>The University of Burdwan</td><td>Bardhaman</td><td>West Bengal</td><td>21.47</td><td>62</td><td>42.42</td><td>87</td></tr><tr><td>IR-O-U-0744</td><td>Ashoka University</td><td>Sonepat</td><td>Haryana</td><td>6.59</td><td>184</td><td>42.27</td><td>88</td></tr><tr><td>IR-O-U-0225</td><td>KLE Academy of Higher Education and Research</td><td>Belagavi</td><td>Karnataka</td><td>11.07</td><td>140</td><td>42.27</td><td>88</td></tr><tr><td>IR-O-U-0366</td><td>Utkal University</td><td>Bhubaneswar</td><td>Odisha</td><td>14.60</td><td>118</td><td>42.27</td><td>88</td></tr><tr><td>IR-O-U-0168</td><td>Maharishi Markandeshwar</td><td>Ambala</td><td>Haryana</td><td>17.64</td><td>93</td><td>42.26</td><td>91</td></tr><tr><td>IR-O-U-0011</td><td>Gandhi Institute of Technology and Management </td><td>Visakhapatnam</td><td>Andhra Pradesh</td><td>19.36</td><td>74</td><td>42.14</td><td>92</td></tr><tr><td>IR-O-U-0451</td><td>Chettinad Academy of Research and Education</td><td>Kelambakkam, Chengalpattu District</td><td>Tamil Nadu</td><td>8.60</td><td>165</td><td>42.04</td><td>93</td></tr><tr><td>IR-O-I-1280</td><td>Maharshi Dayanand University</td><td>Rohtak</td><td>Haryana</td><td>18.99</td><td>80</td><td>41.88</td><td>94</td></tr><tr><td>IR-O-U-0043</td><td>Vignan's Foundation for Science, Technology and Research</td><td>Guntur</td><td>Andhra Pradesh</td><td>18.96</td><td>81</td><td>41.79</td><td>95</td></tr><tr><td>IR-O-U-0190</td><td>Shoolini University of Biotechnology and Management Sciences</td><td>Solan</td><td>Himachal Pradesh</td><td>28.11</td><td>41</td><td>41.19</td><td>96</td></tr><tr><td>IR-O-U-0250</td><td>Yenepoya University</td><td>Mangaluru</td><td>Karnataka</td><td>11.89</td><td>136</td><td>41.03</td><td>97</td></tr><tr><td>IR-O-U-0589</td><td>Visva Bharati</td><td>Santiniketan</td><td>West Bengal</td><td>24.43</td><td>51</td><td>40.96</td><td>98</td></tr><tr><td>IR-O-U-0202</td><td>Birla Institute of Technology</td><td>Ranchi</td><td>Jharkhand</td><td>27.74</td><td>42</td><td>40.69</td><td>99</td></tr><tr><td>IR-O-U-0461</td><td>M. G. R. Educational and Research Institute</td><td>Chennai</td><td>Tamil Nadu</td><td>12.89</td><td>129</td><td>40.39</td><td>100</td></tr></tbody></table></div><div class=\"div_to_hide\" id=\"div_go\" style=\"display: none;\"><h3 class=\"text-center\"><strong>University (GO)</strong></h3><table class=\"table table-condensed\" id=\"tbl_go\" style=\"width:100%;\"><thead><tr><th>Institute ID</th><th>Name</th><th>City</th><th>State</th><th>GO Score</th><th>GO Rank</th><th>Score</th><th>Rank</th></tr></thead><tbody><tr><td>IR-O-U-0220</td><td>Indian Institute of Science</td><td>Bengaluru</td><td>Karnataka</td><td>84.80</td><td>16</td><td>83.57</td><td>1</td></tr><tr><td>IR-O-U-0109</td><td>Jawaharlal Nehru University</td><td>New Delhi</td><td>Delhi</td><td>95.27</td><td>3</td><td>68.47</td><td>2</td></tr><tr><td>IR-O-U-0108</td><td>Jamia Millia Islamia, New Delhi</td><td>New Delhi</td><td>Delhi</td><td>92.46</td><td>5</td><td>65.91</td><td>3</td></tr><tr><td>IR-O-U-0575</td><td>Jadavpur University</td><td>Kolkata</td><td>West Bengal</td><td>90.10</td><td>10</td><td>65.37</td><td>4</td></tr><tr><td>IR-O-U-0436</td><td>Amrita Vishwa Vidyapeetham</td><td>Coimbatore</td><td>Tamil Nadu</td><td>74.09</td><td>47</td><td>63.40</td><td>5</td></tr><tr><td>IR-O-U-0500</td><td>Banaras Hindu University</td><td>Varanasi</td><td>Uttar Pradesh</td><td>97.74</td><td>1</td><td>63.20</td><td>6</td></tr><tr><td>IR-O-U-0234</td><td>Manipal Academy of Higher Education, Manipal</td><td>Manipal</td><td>Karnataka</td><td>78.15</td><td>33</td><td>62.84</td><td>7</td></tr><tr><td>IR-O-U-0570</td><td>Calcutta University</td><td>Kolkata</td><td>West Bengal</td><td>95.48</td><td>2</td><td>62.23</td><td>8</td></tr><tr><td>IR-O-U-0490</td><td>Vellore Institute of Technology</td><td>Vellore</td><td>Tamil Nadu</td><td>79.43</td><td>28</td><td>61.77</td><td>9</td></tr><tr><td>IR-O-U-0042</td><td>University of Hyderabad</td><td>Hyderabad</td><td>Telangana</td><td>83.97</td><td>17</td><td>61.71</td><td>10</td></tr><tr><td>IR-O-U-0496</td><td>Aligarh Muslim University</td><td>Aligarh</td><td>Uttar Pradesh</td><td>88.92</td><td>12</td><td>61.43</td><td>11</td></tr><tr><td>IR-O-U-0323</td><td>Savitribai Phule Pune University</td><td>Pune</td><td>Maharashtra</td><td>92.44</td><td>6</td><td>59.48</td><td>12</td></tr><tr><td>IR-O-U-0120</td><td>University of Delhi</td><td>Delhi</td><td>Delhi</td><td>91.85</td><td>8</td><td>58.66</td><td>13</td></tr><tr><td>IR-O-U-0308</td><td>Institute of Chemical Technology</td><td>Mumbai</td><td>Maharashtra</td><td>79.61</td><td>26</td><td>58.61</td><td>14</td></tr><tr><td>IR-O-U-0447</td><td>Bharathiar University</td><td>Coimbatore</td><td>Tamil Nadu</td><td>78.31</td><td>32</td><td>58.25</td><td>15</td></tr><tr><td>IR-O-U-0363</td><td>Siksha `O` Anusandhan</td><td>Bhubaneswar</td><td>Odisha</td><td>73.45</td><td>50</td><td>57.60</td><td>16</td></tr><tr><td>IR-O-U-0304</td><td>Homi Bhabha National Institute</td><td>Mumbai</td><td>Maharashtra</td><td>68.93</td><td>78</td><td>57.09</td><td>17</td></tr><tr><td>IR-O-U-0391</td><td>Birla Institute of Technology &amp; Science - Pilani</td><td>Pilani</td><td>Rajasthan</td><td>73.45</td><td>50</td><td>56.68</td><td>18</td></tr><tr><td>IR-O-U-0473</td><td>S.R.M. Institute of Science and Technology</td><td>Chennai</td><td>Tamil Nadu</td><td>71.41</td><td>63</td><td>56.24</td><td>19</td></tr><tr><td>IR-O-U-0356</td><td>Kalinga Institute of Industrial Technology</td><td>Bhubaneswar</td><td>Odisha</td><td>75.13</td><td>39</td><td>56.22</td><td>20</td></tr><tr><td>IR-O-U-0439</td><td>Anna University</td><td>Chennai</td><td>Tamil Nadu</td><td>74.97</td><td>40</td><td>56.22</td><td>20</td></tr><tr><td>IR-O-U-0027</td><td>Osmania University</td><td>Hyderabad</td><td>Telangana</td><td>79.98</td><td>23</td><td>53.07</td><td>22</td></tr><tr><td>IR-O-U-0497</td><td>Amity University</td><td>Gautam Budh Nagar</td><td>Uttar Pradesh</td><td>70.35</td><td>69</td><td>53.07</td><td>22</td></tr><tr><td>IR-O-U-0476</td><td>Shanmugha Arts Science Technology &amp; Research Academy</td><td>Thanjavur</td><td>Tamil Nadu</td><td>67.66</td><td>82</td><td>53.04</td><td>24</td></tr><tr><td>IR-O-U-0078</td><td>Panjab University</td><td>Chandigarh</td><td>Chandigarh</td><td>74.62</td><td>45</td><td>52.80</td><td>25</td></tr><tr><td>IR-O-I-1441</td><td>Saveetha Institute of Medical and Technical Sciences</td><td>Chennai</td><td>Tamil Nadu</td><td>69.46</td><td>73</td><td>52.45</td><td>26</td></tr><tr><td>IR-O-U-0020</td><td>Koneru Lakshmaiah Education Foundation University (K L College of Engineering)</td><td>Vaddeswaram</td><td>Andhra Pradesh</td><td>67.04</td><td>85</td><td>52.33</td><td>27</td></tr><tr><td>IR-O-U-0435</td><td>Alagappa University</td><td>Karaikudi</td><td>Tamil Nadu</td><td>72.21</td><td>59</td><td>52.18</td><td>28</td></tr><tr><td>IR-O-U-0747</td><td>Chandigarh University</td><td>Mohali</td><td>Punjab</td><td>69.27</td><td>74</td><td>51.85</td><td>29</td></tr><tr><td>IR-O-U-0262</td><td>Mahatma Gandhi University, Kottayam</td><td>Kottayam</td><td>Kerala</td><td>70.48</td><td>68</td><td>51.61</td><td>30</td></tr><tr><td>IR-O-I-1480</td><td>Thapar Institute of Engineering and Technology</td><td>Patiala</td><td>Punjab</td><td>70.57</td><td>67</td><td>51.56</td><td>31</td></tr><tr><td>IR-O-U-0329</td><td>Symbiosis International</td><td>Pune</td><td>Maharashtra</td><td>74.90</td><td>41</td><td>51.45</td><td>32</td></tr><tr><td>IR-O-U-0235</td><td>Mysore University</td><td>Mysuru</td><td>Karnataka</td><td>90.68</td><td>9</td><td>51.37</td><td>33</td></tr><tr><td>IR-O-U-0222</td><td>JSS Academy of Higher Education and Research</td><td>Mysuru</td><td>Karnataka</td><td>69.04</td><td>75</td><td>51.20</td><td>34</td></tr><tr><td>IR-O-U-0458</td><td>Kalasalingam Academy of Research and Education</td><td>Srivilliputtur</td><td>Tamil Nadu</td><td>71.20</td><td>65</td><td>51.09</td><td>35</td></tr><tr><td>IR-O-U-0006</td><td>Andhra University, Visakhapatnam</td><td>Visakhapatnam</td><td>Andhra Pradesh</td><td>85.70</td><td>14</td><td>50.52</td><td>36</td></tr><tr><td>IR-O-U-0052</td><td>Gauhati University</td><td>Guwahati</td><td>Assam</td><td>89.82</td><td>11</td><td>50.52</td><td>36</td></tr><tr><td>IR-O-U-0098</td><td>Delhi Technological University</td><td>New Delhi</td><td>Delhi</td><td>66.55</td><td>88</td><td>49.97</td><td>38</td></tr><tr><td>IR-O-I-1357</td><td>University of Madras</td><td>Chennai</td><td>Tamil Nadu</td><td>71.30</td><td>64</td><td>49.86</td><td>39</td></tr><tr><td>IR-O-U-0260</td><td>Kerala University</td><td>Thiruvananthapuram</td><td>Kerala</td><td>94.40</td><td>4</td><td>49.80</td><td>40</td></tr><tr><td>IR-O-U-0253</td><td>Cochin University of Science and Technology</td><td>Cochin</td><td>Kerala</td><td>73.37</td><td>52</td><td>49.43</td><td>41</td></tr><tr><td>IR-O-I-1110</td><td>Dr. D. Y. Patil Vidyapeeth</td><td>Pune</td><td>Maharashtra</td><td>64.27</td><td>105</td><td>49.43</td><td>41</td></tr><tr><td>IR-O-U-0474</td><td>Sathyabama Institute of Science and Technology</td><td>Chennai</td><td>Tamil Nadu</td><td>65.82</td><td>93</td><td>49.18</td><td>43</td></tr><tr><td>IR-O-U-0376</td><td>Guru Nanak Dev University</td><td>Amritsar</td><td>Punjab</td><td>78.53</td><td>30</td><td>49.01</td><td>44</td></tr><tr><td>IR-O-U-0318</td><td>Mumbai University</td><td>Mumbai</td><td>Maharashtra</td><td>82.54</td><td>20</td><td>48.93</td><td>45</td></tr><tr><td>IR-O-U-0107</td><td>Jamia Hamdard</td><td>New Delhi</td><td>Delhi</td><td>70.35</td><td>69</td><td>48.93</td><td>45</td></tr><tr><td>IR-O-U-0379</td><td>Lovely Professional University</td><td>Phagwara</td><td>Punjab</td><td>66.11</td><td>91</td><td>48.92</td><td>47</td></tr><tr><td>IR-O-I-1486</td><td>Sri Ramachandra Institute of Higher Education and Research</td><td>Chennai</td><td>Tamil Nadu</td><td>64.33</td><td>104</td><td>48.87</td><td>48</td></tr><tr><td>IR-O-U-0389</td><td>Banasthali Vidyapith</td><td>Banasthali</td><td>Rajasthan</td><td>84.96</td><td>15</td><td>48.64</td><td>49</td></tr><tr><td>IR-O-U-0523</td><td>King George`s Medical University</td><td>Lucknow</td><td>Uttar Pradesh</td><td>63.36</td><td>112</td><td>48.51</td><td>50</td></tr><tr><td>IR-O-N-10</td><td>SVKM`s Narsee Monjee Institute of Management Studies</td><td>Mumbai</td><td>Maharashtra</td><td>64.52</td><td>102</td><td>48.46</td><td>51</td></tr><tr><td>IR-O-U-0463</td><td>Madurai Kamaraj University</td><td>Madurai</td><td>Tamil Nadu</td><td>65.24</td><td>97</td><td>48.39</td><td>52</td></tr><tr><td>IR-O-U-0196</td><td>University of Kashmir</td><td>Srinagar</td><td>Jammu and Kashmir</td><td>79.56</td><td>27</td><td>48.27</td><td>53</td></tr><tr><td>IR-O-U-0295</td><td>Datta Meghe Institute of Medical Sciences</td><td>Wardha</td><td>Maharashtra</td><td>59.60</td><td>172</td><td>48.18</td><td>54</td></tr><tr><td>IR-O-U-0498</td><td>Babasheb Bhimrao Ambedkar University</td><td>Lucknow</td><td>Uttar Pradesh</td><td>82.46</td><td>21</td><td>48.05</td><td>55</td></tr><tr><td>IR-O-U-0195</td><td>University of Jammu</td><td>Jammu</td><td>Jammu and Kashmir</td><td>74.83</td><td>43</td><td>48.03</td><td>56</td></tr><tr><td>IR-O-U-0448</td><td>Bharathidasan University</td><td>Tiruchirappalli</td><td>Tamil Nadu</td><td>61.80</td><td>127</td><td>47.98</td><td>57</td></tr><tr><td>IR-O-U-0136</td><td>Gujarat University</td><td>Ahmedabad</td><td>Gujarat</td><td>83.30</td><td>18</td><td>47.61</td><td>58</td></tr><tr><td>IR-O-U-0056</td><td>Tezpur University</td><td>Tezpur</td><td>Assam</td><td>63.29</td><td>115</td><td>47.48</td><td>59</td></tr><tr><td>IR-O-U-0331</td><td>Tata Institute of Social Sciences</td><td>Mumbai</td><td>Maharashtra</td><td>78.36</td><td>31</td><td>47.16</td><td>60</td></tr><tr><td>IR-O-U-0642</td><td>Shiv Nadar University</td><td>Dadri</td><td>Uttar Pradesh</td><td>64.70</td><td>101</td><td>46.57</td><td>61</td></tr><tr><td>IR-O-U-0446</td><td>Bharath Institute of Higher Education &amp; Research</td><td>Chennai</td><td>Tamil Nadu</td><td>70.31</td><td>71</td><td>46.40</td><td>62</td></tr><tr><td>IR-O-U-0470</td><td>Periyar University</td><td>Salem</td><td>Tamil Nadu</td><td>67.97</td><td>80</td><td>46.06</td><td>63</td></tr><tr><td>IR-O-U-0215</td><td>Bangalore University</td><td>Bangalore</td><td>Karnataka</td><td>74.73</td><td>44</td><td>46.01</td><td>64</td></tr><tr><td>IR-O-U-0564</td><td>University of Petroleum and Energy Studies</td><td>Dehradun</td><td>Uttarakhand</td><td>60.48</td><td>151</td><td>45.49</td><td>65</td></tr><tr><td>IR-O-U-0341</td><td>North Eastern Hill University</td><td>Shillong</td><td>Meghalaya</td><td>77.78</td><td>34</td><td>45.44</td><td>66</td></tr><tr><td>IR-O-U-0037</td><td>Sri Venkateswara University</td><td>Tirupati</td><td>Andhra Pradesh</td><td>79.86</td><td>25</td><td>45.07</td><td>67</td></tr><tr><td>IR-O-U-0369</td><td>Pondicherry University</td><td>Puducherry</td><td>Pondicherry</td><td>73.16</td><td>53</td><td>44.95</td><td>68</td></tr><tr><td>IR-O-U-0251</td><td>Calicut University, Thenhipalem</td><td>Malappuram</td><td>Kerala</td><td>61.20</td><td>137</td><td>44.93</td><td>69</td></tr><tr><td>IR-O-U-0370</td><td>Sri Balaji Vidyapeeth Mahatma Gandhi Medical College Campus</td><td>Puducherry</td><td>Pondicherry</td><td>60.40</td><td>152</td><td>44.72</td><td>70</td></tr><tr><td>IR-O-U-0217</td><td>Christ University</td><td>Bengaluru</td><td>Karnataka</td><td>67.04</td><td>85</td><td>44.31</td><td>71</td></tr><tr><td>IR-O-U-0249</td><td>Visvesvaraya Technological University</td><td>Belgaum</td><td>Karnataka</td><td>61.10</td><td>141</td><td>44.22</td><td>72</td></tr><tr><td>IR-O-U-0311</td><td>Krishna Institute of Medical Sciences Deemed University, Karad</td><td>Karad</td><td>Maharashtra</td><td>60.27</td><td>155</td><td>44.14</td><td>73</td></tr><tr><td>IR-O-U-0555</td><td>Graphic Era University</td><td>Dehradun</td><td>Uttarakhand</td><td>61.98</td><td>124</td><td>43.82</td><td>74</td></tr><tr><td>IR-O-U-0239</td><td>NITTE</td><td>Mangaluru</td><td>Karnataka</td><td>61.47</td><td>130</td><td>43.64</td><td>75</td></tr><tr><td>IR-O-I-1361</td><td>Bharati Vidyapeeth</td><td>Pune</td><td>Maharashtra</td><td>67.95</td><td>81</td><td>43.54</td><td>76</td></tr><tr><td>IR-O-U-0099</td><td>Guru Gobind Singh Indraprastha University</td><td>New Delhi</td><td>Delhi</td><td>67.35</td><td>84</td><td>43.39</td><td>77</td></tr><tr><td>IR-O-U-0345</td><td>Mizoram University</td><td>Aizawl</td><td>Mizoram</td><td>73.52</td><td>49</td><td>43.24</td><td>78</td></tr><tr><td>IR-O-U-0223</td><td>Jain University, Bangalore</td><td>Bengluru</td><td>Karnataka</td><td>76.57</td><td>37</td><td>43.21</td><td>79</td></tr><tr><td>IR-O-U-0464</td><td>Manonmaniam Sundaranar University, Tirunelveli</td><td>Tirunelveli</td><td>Tamil Nadu</td><td>61.72</td><td>128</td><td>42.92</td><td>80</td></tr><tr><td>IR-O-U-0321</td><td>Padmashree Dr. D. Y. Patil Vidyapeeth, Mumbai</td><td>Mumbai</td><td>Maharashtra</td><td>64.27</td><td>105</td><td>42.64</td><td>81</td></tr><tr><td>IR-O-U-0372</td><td>Central University of Punjab</td><td>Bathinda</td><td>Punjab</td><td>55.28</td><td>206</td><td>42.64</td><td>81</td></tr><tr><td>IR-O-U-0298</td><td>Dr. Babasaheb Ambedkar Marathwada University, Aurangabad</td><td>Aurangabad</td><td>Maharashtra</td><td>92.16</td><td>7</td><td>42.59</td><td>83</td></tr><tr><td>IR-O-U-0444</td><td>Avinashilingam Institute for Home Science &amp; Higher Education for Women</td><td>Coimbatore</td><td>Tamil Nadu</td><td>65.88</td><td>92</td><td>42.53</td><td>84</td></tr><tr><td>IR-O-U-0449</td><td>Central University of Tamil Nadu</td><td>Tiruvarur</td><td>Tamil Nadu</td><td>61.13</td><td>139</td><td>42.47</td><td>85</td></tr><tr><td>IR-O-U-0232</td><td>Kuvempu University</td><td>Shivamogga</td><td>Karnataka</td><td>72.82</td><td>56</td><td>42.44</td><td>86</td></tr><tr><td>IR-O-U-0569</td><td>The University of Burdwan</td><td>Bardhaman</td><td>West Bengal</td><td>74.90</td><td>41</td><td>42.42</td><td>87</td></tr><tr><td>IR-O-U-0744</td><td>Ashoka University</td><td>Sonepat</td><td>Haryana</td><td>60.00</td><td>160</td><td>42.27</td><td>88</td></tr><tr><td>IR-O-U-0225</td><td>KLE Academy of Higher Education and Research</td><td>Belagavi</td><td>Karnataka</td><td>54.89</td><td>209</td><td>42.27</td><td>88</td></tr><tr><td>IR-O-U-0366</td><td>Utkal University</td><td>Bhubaneswar</td><td>Odisha</td><td>78.71</td><td>29</td><td>42.27</td><td>88</td></tr><tr><td>IR-O-U-0168</td><td>Maharishi Markandeshwar</td><td>Ambala</td><td>Haryana</td><td>52.63</td><td>219</td><td>42.26</td><td>91</td></tr><tr><td>IR-O-U-0011</td><td>Gandhi Institute of Technology and Management </td><td>Visakhapatnam</td><td>Andhra Pradesh</td><td>68.99</td><td>77</td><td>42.14</td><td>92</td></tr><tr><td>IR-O-U-0451</td><td>Chettinad Academy of Research and Education</td><td>Kelambakkam, Chengalpattu District</td><td>Tamil Nadu</td><td>61.40</td><td>132</td><td>42.04</td><td>93</td></tr><tr><td>IR-O-I-1280</td><td>Maharshi Dayanand University</td><td>Rohtak</td><td>Haryana</td><td>74.17</td><td>46</td><td>41.88</td><td>94</td></tr><tr><td>IR-O-U-0043</td><td>Vignan's Foundation for Science, Technology and Research</td><td>Guntur</td><td>Andhra Pradesh</td><td>59.77</td><td>169</td><td>41.79</td><td>95</td></tr><tr><td>IR-O-U-0190</td><td>Shoolini University of Biotechnology and Management Sciences</td><td>Solan</td><td>Himachal Pradesh</td><td>68.66</td><td>79</td><td>41.19</td><td>96</td></tr><tr><td>IR-O-U-0250</td><td>Yenepoya University</td><td>Mangaluru</td><td>Karnataka</td><td>49.62</td><td>241</td><td>41.03</td><td>97</td></tr><tr><td>IR-O-U-0589</td><td>Visva Bharati</td><td>Santiniketan</td><td>West Bengal</td><td>76.87</td><td>35</td><td>40.96</td><td>98</td></tr><tr><td>IR-O-U-0202</td><td>Birla Institute of Technology</td><td>Ranchi</td><td>Jharkhand</td><td>56.39</td><td>202</td><td>40.69</td><td>99</td></tr><tr><td>IR-O-U-0461</td><td>M. G. R. Educational and Research Institute</td><td>Chennai</td><td>Tamil Nadu</td><td>57.40</td><td>188</td><td>40.39</td><td>100</td></tr></tbody></table></div><div class=\"div_to_hide\" id=\"div_oi\" style=\"display: none;\"><h3 class=\"text-center\"><strong>University (OI)</strong></h3><table class=\"table table-condensed\" id=\"tbl_oi\" style=\"width:100%;\"><thead><tr><th>Institute ID</th><th>Name</th><th>City</th><th>State</th><th>OI Score</th><th>OI Rank</th><th>Score</th><th>Rank</th></tr></thead><tbody><tr><td>IR-O-U-0220</td><td>Indian Institute of Science</td><td>Bengaluru</td><td>Karnataka</td><td>57.46</td><td>86</td><td>83.57</td><td>1</td></tr><tr><td>IR-O-U-0109</td><td>Jawaharlal Nehru University</td><td>New Delhi</td><td>Delhi</td><td>70.27</td><td>13</td><td>68.47</td><td>2</td></tr><tr><td>IR-O-U-0108</td><td>Jamia Millia Islamia, New Delhi</td><td>New Delhi</td><td>Delhi</td><td>81.14</td><td>1</td><td>65.91</td><td>3</td></tr><tr><td>IR-O-U-0575</td><td>Jadavpur University</td><td>Kolkata</td><td>West Bengal</td><td>56.86</td><td>93</td><td>65.37</td><td>4</td></tr><tr><td>IR-O-U-0436</td><td>Amrita Vishwa Vidyapeetham</td><td>Coimbatore</td><td>Tamil Nadu</td><td>69.53</td><td>14</td><td>63.40</td><td>5</td></tr><tr><td>IR-O-U-0500</td><td>Banaras Hindu University</td><td>Varanasi</td><td>Uttar Pradesh</td><td>57.32</td><td>89</td><td>63.20</td><td>6</td></tr><tr><td>IR-O-U-0234</td><td>Manipal Academy of Higher Education, Manipal</td><td>Manipal</td><td>Karnataka</td><td>64.81</td><td>30</td><td>62.84</td><td>7</td></tr><tr><td>IR-O-U-0570</td><td>Calcutta University</td><td>Kolkata</td><td>West Bengal</td><td>61.90</td><td>52</td><td>62.23</td><td>8</td></tr><tr><td>IR-O-U-0490</td><td>Vellore Institute of Technology</td><td>Vellore</td><td>Tamil Nadu</td><td>59.07</td><td>69</td><td>61.77</td><td>9</td></tr><tr><td>IR-O-U-0042</td><td>University of Hyderabad</td><td>Hyderabad</td><td>Telangana</td><td>63.50</td><td>38</td><td>61.71</td><td>10</td></tr><tr><td>IR-O-U-0496</td><td>Aligarh Muslim University</td><td>Aligarh</td><td>Uttar Pradesh</td><td>56.29</td><td>100</td><td>61.43</td><td>11</td></tr><tr><td>IR-O-U-0323</td><td>Savitribai Phule Pune University</td><td>Pune</td><td>Maharashtra</td><td>52.07</td><td>143</td><td>59.48</td><td>12</td></tr><tr><td>IR-O-U-0120</td><td>University of Delhi</td><td>Delhi</td><td>Delhi</td><td>58.87</td><td>72</td><td>58.66</td><td>13</td></tr><tr><td>IR-O-U-0308</td><td>Institute of Chemical Technology</td><td>Mumbai</td><td>Maharashtra</td><td>54.50</td><td>117</td><td>58.61</td><td>14</td></tr><tr><td>IR-O-U-0447</td><td>Bharathiar University</td><td>Coimbatore</td><td>Tamil Nadu</td><td>63.96</td><td>37</td><td>58.25</td><td>15</td></tr><tr><td>IR-O-U-0363</td><td>Siksha `O` Anusandhan</td><td>Bhubaneswar</td><td>Odisha</td><td>68.40</td><td>19</td><td>57.60</td><td>16</td></tr><tr><td>IR-O-U-0304</td><td>Homi Bhabha National Institute</td><td>Mumbai</td><td>Maharashtra</td><td>52.01</td><td>147</td><td>57.09</td><td>17</td></tr><tr><td>IR-O-U-0391</td><td>Birla Institute of Technology &amp; Science - Pilani</td><td>Pilani</td><td>Rajasthan</td><td>58.76</td><td>74</td><td>56.68</td><td>18</td></tr><tr><td>IR-O-U-0473</td><td>S.R.M. Institute of Science and Technology</td><td>Chennai</td><td>Tamil Nadu</td><td>62.54</td><td>44</td><td>56.24</td><td>19</td></tr><tr><td>IR-O-U-0356</td><td>Kalinga Institute of Industrial Technology</td><td>Bhubaneswar</td><td>Odisha</td><td>77.86</td><td>3</td><td>56.22</td><td>20</td></tr><tr><td>IR-O-U-0439</td><td>Anna University</td><td>Chennai</td><td>Tamil Nadu</td><td>49.30</td><td>189</td><td>56.22</td><td>20</td></tr><tr><td>IR-O-U-0027</td><td>Osmania University</td><td>Hyderabad</td><td>Telangana</td><td>56.37</td><td>98</td><td>53.07</td><td>22</td></tr><tr><td>IR-O-U-0497</td><td>Amity University</td><td>Gautam Budh Nagar</td><td>Uttar Pradesh</td><td>64.17</td><td>33</td><td>53.07</td><td>22</td></tr><tr><td>IR-O-U-0476</td><td>Shanmugha Arts Science Technology &amp; Research Academy</td><td>Thanjavur</td><td>Tamil Nadu</td><td>59.74</td><td>66</td><td>53.04</td><td>24</td></tr><tr><td>IR-O-U-0078</td><td>Panjab University</td><td>Chandigarh</td><td>Chandigarh</td><td>60.73</td><td>61</td><td>52.80</td><td>25</td></tr><tr><td>IR-O-I-1441</td><td>Saveetha Institute of Medical and Technical Sciences</td><td>Chennai</td><td>Tamil Nadu</td><td>65.97</td><td>24</td><td>52.45</td><td>26</td></tr><tr><td>IR-O-U-0020</td><td>Koneru Lakshmaiah Education Foundation University (K L College of Engineering)</td><td>Vaddeswaram</td><td>Andhra Pradesh</td><td>56.83</td><td>94</td><td>52.33</td><td>27</td></tr><tr><td>IR-O-U-0435</td><td>Alagappa University</td><td>Karaikudi</td><td>Tamil Nadu</td><td>51.56</td><td>155</td><td>52.18</td><td>28</td></tr><tr><td>IR-O-U-0747</td><td>Chandigarh University</td><td>Mohali</td><td>Punjab</td><td>78.62</td><td>2</td><td>51.85</td><td>29</td></tr><tr><td>IR-O-U-0262</td><td>Mahatma Gandhi University, Kottayam</td><td>Kottayam</td><td>Kerala</td><td>51.18</td><td>163</td><td>51.61</td><td>30</td></tr><tr><td>IR-O-I-1480</td><td>Thapar Institute of Engineering and Technology</td><td>Patiala</td><td>Punjab</td><td>55.09</td><td>110</td><td>51.56</td><td>31</td></tr><tr><td>IR-O-U-0329</td><td>Symbiosis International</td><td>Pune</td><td>Maharashtra</td><td>66.57</td><td>22</td><td>51.45</td><td>32</td></tr><tr><td>IR-O-U-0235</td><td>Mysore University</td><td>Mysuru</td><td>Karnataka</td><td>53.79</td><td>124</td><td>51.37</td><td>33</td></tr><tr><td>IR-O-U-0222</td><td>JSS Academy of Higher Education and Research</td><td>Mysuru</td><td>Karnataka</td><td>69.37</td><td>15</td><td>51.20</td><td>34</td></tr><tr><td>IR-O-U-0458</td><td>Kalasalingam Academy of Research and Education</td><td>Srivilliputtur</td><td>Tamil Nadu</td><td>74.72</td><td>8</td><td>51.09</td><td>35</td></tr><tr><td>IR-O-U-0006</td><td>Andhra University, Visakhapatnam</td><td>Visakhapatnam</td><td>Andhra Pradesh</td><td>53.73</td><td>125</td><td>50.52</td><td>36</td></tr><tr><td>IR-O-U-0052</td><td>Gauhati University</td><td>Guwahati</td><td>Assam</td><td>58.19</td><td>83</td><td>50.52</td><td>36</td></tr><tr><td>IR-O-U-0098</td><td>Delhi Technological University</td><td>New Delhi</td><td>Delhi</td><td>57.34</td><td>88</td><td>49.97</td><td>38</td></tr><tr><td>IR-O-I-1357</td><td>University of Madras</td><td>Chennai</td><td>Tamil Nadu</td><td>52.41</td><td>138</td><td>49.86</td><td>39</td></tr><tr><td>IR-O-U-0260</td><td>Kerala University</td><td>Thiruvananthapuram</td><td>Kerala</td><td>51.07</td><td>167</td><td>49.80</td><td>40</td></tr><tr><td>IR-O-U-0253</td><td>Cochin University of Science and Technology</td><td>Cochin</td><td>Kerala</td><td>51.63</td><td>153</td><td>49.43</td><td>41</td></tr><tr><td>IR-O-I-1110</td><td>Dr. D. Y. Patil Vidyapeeth</td><td>Pune</td><td>Maharashtra</td><td>61.30</td><td>57</td><td>49.43</td><td>41</td></tr><tr><td>IR-O-U-0474</td><td>Sathyabama Institute of Science and Technology</td><td>Chennai</td><td>Tamil Nadu</td><td>65.05</td><td>28</td><td>49.18</td><td>43</td></tr><tr><td>IR-O-U-0376</td><td>Guru Nanak Dev University</td><td>Amritsar</td><td>Punjab</td><td>56.60</td><td>97</td><td>49.01</td><td>44</td></tr><tr><td>IR-O-U-0318</td><td>Mumbai University</td><td>Mumbai</td><td>Maharashtra</td><td>55.95</td><td>103</td><td>48.93</td><td>45</td></tr><tr><td>IR-O-U-0107</td><td>Jamia Hamdard</td><td>New Delhi</td><td>Delhi</td><td>60.93</td><td>59</td><td>48.93</td><td>45</td></tr><tr><td>IR-O-U-0379</td><td>Lovely Professional University</td><td>Phagwara</td><td>Punjab</td><td>69.33</td><td>16</td><td>48.92</td><td>47</td></tr><tr><td>IR-O-I-1486</td><td>Sri Ramachandra Institute of Higher Education and Research</td><td>Chennai</td><td>Tamil Nadu</td><td>65.08</td><td>27</td><td>48.87</td><td>48</td></tr><tr><td>IR-O-U-0389</td><td>Banasthali Vidyapith</td><td>Banasthali</td><td>Rajasthan</td><td>75.83</td><td>6</td><td>48.64</td><td>49</td></tr><tr><td>IR-O-U-0523</td><td>King George`s Medical University</td><td>Lucknow</td><td>Uttar Pradesh</td><td>55.83</td><td>105</td><td>48.51</td><td>50</td></tr><tr><td>IR-O-N-10</td><td>SVKM`s Narsee Monjee Institute of Management Studies</td><td>Mumbai</td><td>Maharashtra</td><td>62.17</td><td>46</td><td>48.46</td><td>51</td></tr><tr><td>IR-O-U-0463</td><td>Madurai Kamaraj University</td><td>Madurai</td><td>Tamil Nadu</td><td>52.47</td><td>136</td><td>48.39</td><td>52</td></tr><tr><td>IR-O-U-0196</td><td>University of Kashmir</td><td>Srinagar</td><td>Jammu and Kashmir</td><td>51.37</td><td>159</td><td>48.27</td><td>53</td></tr><tr><td>IR-O-U-0295</td><td>Datta Meghe Institute of Medical Sciences</td><td>Wardha</td><td>Maharashtra</td><td>65.38</td><td>26</td><td>48.18</td><td>54</td></tr><tr><td>IR-O-U-0498</td><td>Babasheb Bhimrao Ambedkar University</td><td>Lucknow</td><td>Uttar Pradesh</td><td>74.59</td><td>9</td><td>48.05</td><td>55</td></tr><tr><td>IR-O-U-0195</td><td>University of Jammu</td><td>Jammu</td><td>Jammu and Kashmir</td><td>46.63</td><td>216</td><td>48.03</td><td>56</td></tr><tr><td>IR-O-U-0448</td><td>Bharathidasan University</td><td>Tiruchirappalli</td><td>Tamil Nadu</td><td>48.10</td><td>201</td><td>47.98</td><td>57</td></tr><tr><td>IR-O-U-0136</td><td>Gujarat University</td><td>Ahmedabad</td><td>Gujarat</td><td>57.39</td><td>87</td><td>47.61</td><td>58</td></tr><tr><td>IR-O-U-0056</td><td>Tezpur University</td><td>Tezpur</td><td>Assam</td><td>50.67</td><td>172</td><td>47.48</td><td>59</td></tr><tr><td>IR-O-U-0331</td><td>Tata Institute of Social Sciences</td><td>Mumbai</td><td>Maharashtra</td><td>75.42</td><td>7</td><td>47.16</td><td>60</td></tr><tr><td>IR-O-U-0642</td><td>Shiv Nadar University</td><td>Dadri</td><td>Uttar Pradesh</td><td>61.38</td><td>56</td><td>46.57</td><td>61</td></tr><tr><td>IR-O-U-0446</td><td>Bharath Institute of Higher Education &amp; Research</td><td>Chennai</td><td>Tamil Nadu</td><td>64.28</td><td>32</td><td>46.40</td><td>62</td></tr><tr><td>IR-O-U-0470</td><td>Periyar University</td><td>Salem</td><td>Tamil Nadu</td><td>55.91</td><td>104</td><td>46.06</td><td>63</td></tr><tr><td>IR-O-U-0215</td><td>Bangalore University</td><td>Bangalore</td><td>Karnataka</td><td>57.04</td><td>91</td><td>46.01</td><td>64</td></tr><tr><td>IR-O-U-0564</td><td>University of Petroleum and Energy Studies</td><td>Dehradun</td><td>Uttarakhand</td><td>65.01</td><td>29</td><td>45.49</td><td>65</td></tr><tr><td>IR-O-U-0341</td><td>North Eastern Hill University</td><td>Shillong</td><td>Meghalaya</td><td>51.80</td><td>152</td><td>45.44</td><td>66</td></tr><tr><td>IR-O-U-0037</td><td>Sri Venkateswara University</td><td>Tirupati</td><td>Andhra Pradesh</td><td>52.04</td><td>145</td><td>45.07</td><td>67</td></tr><tr><td>IR-O-U-0369</td><td>Pondicherry University</td><td>Puducherry</td><td>Pondicherry</td><td>59.69</td><td>67</td><td>44.95</td><td>68</td></tr><tr><td>IR-O-U-0251</td><td>Calicut University, Thenhipalem</td><td>Malappuram</td><td>Kerala</td><td>58.56</td><td>76</td><td>44.93</td><td>69</td></tr><tr><td>IR-O-U-0370</td><td>Sri Balaji Vidyapeeth Mahatma Gandhi Medical College Campus</td><td>Puducherry</td><td>Pondicherry</td><td>77.26</td><td>4</td><td>44.72</td><td>70</td></tr><tr><td>IR-O-U-0217</td><td>Christ University</td><td>Bengaluru</td><td>Karnataka</td><td>68.64</td><td>17</td><td>44.31</td><td>71</td></tr><tr><td>IR-O-U-0249</td><td>Visvesvaraya Technological University</td><td>Belgaum</td><td>Karnataka</td><td>58.36</td><td>80</td><td>44.22</td><td>72</td></tr><tr><td>IR-O-U-0311</td><td>Krishna Institute of Medical Sciences Deemed University, Karad</td><td>Karad</td><td>Maharashtra</td><td>58.50</td><td>78</td><td>44.14</td><td>73</td></tr><tr><td>IR-O-U-0555</td><td>Graphic Era University</td><td>Dehradun</td><td>Uttarakhand</td><td>67.62</td><td>21</td><td>43.82</td><td>74</td></tr><tr><td>IR-O-U-0239</td><td>NITTE</td><td>Mangaluru</td><td>Karnataka</td><td>67.95</td><td>20</td><td>43.64</td><td>75</td></tr><tr><td>IR-O-I-1361</td><td>Bharati Vidyapeeth</td><td>Pune</td><td>Maharashtra</td><td>56.11</td><td>101</td><td>43.54</td><td>76</td></tr><tr><td>IR-O-U-0099</td><td>Guru Gobind Singh Indraprastha University</td><td>New Delhi</td><td>Delhi</td><td>52.63</td><td>135</td><td>43.39</td><td>77</td></tr><tr><td>IR-O-U-0345</td><td>Mizoram University</td><td>Aizawl</td><td>Mizoram</td><td>53.58</td><td>127</td><td>43.24</td><td>78</td></tr><tr><td>IR-O-U-0223</td><td>Jain University, Bangalore</td><td>Bengluru</td><td>Karnataka</td><td>62.17</td><td>46</td><td>43.21</td><td>79</td></tr><tr><td>IR-O-U-0464</td><td>Manonmaniam Sundaranar University, Tirunelveli</td><td>Tirunelveli</td><td>Tamil Nadu</td><td>50.45</td><td>174</td><td>42.92</td><td>80</td></tr><tr><td>IR-O-U-0321</td><td>Padmashree Dr. D. Y. Patil Vidyapeeth, Mumbai</td><td>Mumbai</td><td>Maharashtra</td><td>62.10</td><td>49</td><td>42.64</td><td>81</td></tr><tr><td>IR-O-U-0372</td><td>Central University of Punjab</td><td>Bathinda</td><td>Punjab</td><td>68.45</td><td>18</td><td>42.64</td><td>81</td></tr><tr><td>IR-O-U-0298</td><td>Dr. Babasaheb Ambedkar Marathwada University, Aurangabad</td><td>Aurangabad</td><td>Maharashtra</td><td>46.18</td><td>222</td><td>42.59</td><td>83</td></tr><tr><td>IR-O-U-0444</td><td>Avinashilingam Institute for Home Science &amp; Higher Education for Women</td><td>Coimbatore</td><td>Tamil Nadu</td><td>60.71</td><td>62</td><td>42.53</td><td>84</td></tr><tr><td>IR-O-U-0449</td><td>Central University of Tamil Nadu</td><td>Tiruvarur</td><td>Tamil Nadu</td><td>64.06</td><td>34</td><td>42.47</td><td>85</td></tr><tr><td>IR-O-U-0232</td><td>Kuvempu University</td><td>Shivamogga</td><td>Karnataka</td><td>50.18</td><td>176</td><td>42.44</td><td>86</td></tr><tr><td>IR-O-U-0569</td><td>The University of Burdwan</td><td>Bardhaman</td><td>West Bengal</td><td>49.04</td><td>193</td><td>42.42</td><td>87</td></tr><tr><td>IR-O-U-0744</td><td>Ashoka University</td><td>Sonepat</td><td>Haryana</td><td>76.83</td><td>5</td><td>42.27</td><td>88</td></tr><tr><td>IR-O-U-0225</td><td>KLE Academy of Higher Education and Research</td><td>Belagavi</td><td>Karnataka</td><td>64.05</td><td>35</td><td>42.27</td><td>88</td></tr><tr><td>IR-O-U-0366</td><td>Utkal University</td><td>Bhubaneswar</td><td>Odisha</td><td>50.12</td><td>177</td><td>42.27</td><td>88</td></tr><tr><td>IR-O-U-0168</td><td>Maharishi Markandeshwar</td><td>Ambala</td><td>Haryana</td><td>58.95</td><td>71</td><td>42.26</td><td>91</td></tr><tr><td>IR-O-U-0011</td><td>Gandhi Institute of Technology and Management </td><td>Visakhapatnam</td><td>Andhra Pradesh</td><td>54.68</td><td>114</td><td>42.14</td><td>92</td></tr><tr><td>IR-O-U-0451</td><td>Chettinad Academy of Research and Education</td><td>Kelambakkam, Chengalpattu District</td><td>Tamil Nadu</td><td>61.21</td><td>58</td><td>42.04</td><td>93</td></tr><tr><td>IR-O-I-1280</td><td>Maharshi Dayanand University</td><td>Rohtak</td><td>Haryana</td><td>53.13</td><td>129</td><td>41.88</td><td>94</td></tr><tr><td>IR-O-U-0043</td><td>Vignan's Foundation for Science, Technology and Research</td><td>Guntur</td><td>Andhra Pradesh</td><td>56.33</td><td>99</td><td>41.79</td><td>95</td></tr><tr><td>IR-O-U-0190</td><td>Shoolini University of Biotechnology and Management Sciences</td><td>Solan</td><td>Himachal Pradesh</td><td>58.25</td><td>81</td><td>41.19</td><td>96</td></tr><tr><td>IR-O-U-0250</td><td>Yenepoya University</td><td>Mangaluru</td><td>Karnataka</td><td>71.14</td><td>12</td><td>41.03</td><td>97</td></tr><tr><td>IR-O-U-0589</td><td>Visva Bharati</td><td>Santiniketan</td><td>West Bengal</td><td>33.44</td><td>313</td><td>40.96</td><td>98</td></tr><tr><td>IR-O-U-0202</td><td>Birla Institute of Technology</td><td>Ranchi</td><td>Jharkhand</td><td>49.86</td><td>183</td><td>40.69</td><td>99</td></tr><tr><td>IR-O-U-0461</td><td>M. G. R. Educational and Research Institute</td><td>Chennai</td><td>Tamil Nadu</td><td>63.35</td><td>39</td><td>40.39</td><td>100</td></tr></tbody></table></div><div class=\"div_to_hide\" id=\"div_pr\" style=\"display: none;\"><h3 class=\"text-center\"><strong>University (PR)</strong></h3><table class=\"table table-condensed\" id=\"tbl_pr\" style=\"width:100%;\"><thead><tr><th>Institute ID</th><th>Name</th><th>City</th><th>State</th><th>PR Score</th><th>PR Rank</th><th>Score</th><th>Rank</th></tr></thead><tbody><tr><td>IR-O-U-0220</td><td>Indian Institute of Science</td><td>Bengaluru</td><td>Karnataka</td><td>100.00</td><td>1</td><td>83.57</td><td>1</td></tr><tr><td>IR-O-U-0109</td><td>Jawaharlal Nehru University</td><td>New Delhi</td><td>Delhi</td><td>71.43</td><td>2</td><td>68.47</td><td>2</td></tr><tr><td>IR-O-U-0108</td><td>Jamia Millia Islamia, New Delhi</td><td>New Delhi</td><td>Delhi</td><td>46.50</td><td>12</td><td>65.91</td><td>3</td></tr><tr><td>IR-O-U-0575</td><td>Jadavpur University</td><td>Kolkata</td><td>West Bengal</td><td>64.67</td><td>3</td><td>65.37</td><td>4</td></tr><tr><td>IR-O-U-0436</td><td>Amrita Vishwa Vidyapeetham</td><td>Coimbatore</td><td>Tamil Nadu</td><td>56.66</td><td>5</td><td>63.40</td><td>5</td></tr><tr><td>IR-O-U-0500</td><td>Banaras Hindu University</td><td>Varanasi</td><td>Uttar Pradesh</td><td>37.76</td><td>31</td><td>63.20</td><td>6</td></tr><tr><td>IR-O-U-0234</td><td>Manipal Academy of Higher Education, Manipal</td><td>Manipal</td><td>Karnataka</td><td>42.46</td><td>21</td><td>62.84</td><td>7</td></tr><tr><td>IR-O-U-0570</td><td>Calcutta University</td><td>Kolkata</td><td>West Bengal</td><td>44.50</td><td>14</td><td>62.23</td><td>8</td></tr><tr><td>IR-O-U-0490</td><td>Vellore Institute of Technology</td><td>Vellore</td><td>Tamil Nadu</td><td>62.02</td><td>4</td><td>61.77</td><td>9</td></tr><tr><td>IR-O-U-0042</td><td>University of Hyderabad</td><td>Hyderabad</td><td>Telangana</td><td>52.39</td><td>7</td><td>61.71</td><td>10</td></tr><tr><td>IR-O-U-0496</td><td>Aligarh Muslim University</td><td>Aligarh</td><td>Uttar Pradesh</td><td>43.49</td><td>15</td><td>61.43</td><td>11</td></tr><tr><td>IR-O-U-0323</td><td>Savitribai Phule Pune University</td><td>Pune</td><td>Maharashtra</td><td>41.88</td><td>23</td><td>59.48</td><td>12</td></tr><tr><td>IR-O-U-0120</td><td>University of Delhi</td><td>Delhi</td><td>Delhi</td><td>56.15</td><td>6</td><td>58.66</td><td>13</td></tr><tr><td>IR-O-U-0308</td><td>Institute of Chemical Technology</td><td>Mumbai</td><td>Maharashtra</td><td>42.91</td><td>19</td><td>58.61</td><td>14</td></tr><tr><td>IR-O-U-0447</td><td>Bharathiar University</td><td>Coimbatore</td><td>Tamil Nadu</td><td>36.88</td><td>38</td><td>58.25</td><td>15</td></tr><tr><td>IR-O-U-0363</td><td>Siksha `O` Anusandhan</td><td>Bhubaneswar</td><td>Odisha</td><td>49.08</td><td>9</td><td>57.60</td><td>16</td></tr><tr><td>IR-O-U-0304</td><td>Homi Bhabha National Institute</td><td>Mumbai</td><td>Maharashtra</td><td>27.71</td><td>74</td><td>57.09</td><td>17</td></tr><tr><td>IR-O-U-0391</td><td>Birla Institute of Technology &amp; Science - Pilani</td><td>Pilani</td><td>Rajasthan</td><td>43.08</td><td>18</td><td>56.68</td><td>18</td></tr><tr><td>IR-O-U-0473</td><td>S.R.M. Institute of Science and Technology</td><td>Chennai</td><td>Tamil Nadu</td><td>47.60</td><td>11</td><td>56.24</td><td>19</td></tr><tr><td>IR-O-U-0356</td><td>Kalinga Institute of Industrial Technology</td><td>Bhubaneswar</td><td>Odisha</td><td>36.40</td><td>40</td><td>56.22</td><td>20</td></tr><tr><td>IR-O-U-0439</td><td>Anna University</td><td>Chennai</td><td>Tamil Nadu</td><td>43.47</td><td>16</td><td>56.22</td><td>20</td></tr><tr><td>IR-O-U-0027</td><td>Osmania University</td><td>Hyderabad</td><td>Telangana</td><td>42.40</td><td>22</td><td>53.07</td><td>22</td></tr><tr><td>IR-O-U-0497</td><td>Amity University</td><td>Gautam Budh Nagar</td><td>Uttar Pradesh</td><td>33.40</td><td>55</td><td>53.07</td><td>22</td></tr><tr><td>IR-O-U-0476</td><td>Shanmugha Arts Science Technology &amp; Research Academy</td><td>Thanjavur</td><td>Tamil Nadu</td><td>36.70</td><td>39</td><td>53.04</td><td>24</td></tr><tr><td>IR-O-U-0078</td><td>Panjab University</td><td>Chandigarh</td><td>Chandigarh</td><td>43.29</td><td>17</td><td>52.80</td><td>25</td></tr><tr><td>IR-O-I-1441</td><td>Saveetha Institute of Medical and Technical Sciences</td><td>Chennai</td><td>Tamil Nadu</td><td>21.71</td><td>108</td><td>52.45</td><td>26</td></tr><tr><td>IR-O-U-0020</td><td>Koneru Lakshmaiah Education Foundation University (K L College of Engineering)</td><td>Vaddeswaram</td><td>Andhra Pradesh</td><td>38.82</td><td>26</td><td>52.33</td><td>27</td></tr><tr><td>IR-O-U-0435</td><td>Alagappa University</td><td>Karaikudi</td><td>Tamil Nadu</td><td>42.91</td><td>19</td><td>52.18</td><td>28</td></tr><tr><td>IR-O-U-0747</td><td>Chandigarh University</td><td>Mohali</td><td>Punjab</td><td>45.83</td><td>13</td><td>51.85</td><td>29</td></tr><tr><td>IR-O-U-0262</td><td>Mahatma Gandhi University, Kottayam</td><td>Kottayam</td><td>Kerala</td><td>19.92</td><td>125</td><td>51.61</td><td>30</td></tr><tr><td>IR-O-I-1480</td><td>Thapar Institute of Engineering and Technology</td><td>Patiala</td><td>Punjab</td><td>35.34</td><td>45</td><td>51.56</td><td>31</td></tr><tr><td>IR-O-U-0329</td><td>Symbiosis International</td><td>Pune</td><td>Maharashtra</td><td>47.82</td><td>10</td><td>51.45</td><td>32</td></tr><tr><td>IR-O-U-0235</td><td>Mysore University</td><td>Mysuru</td><td>Karnataka</td><td>21.36</td><td>113</td><td>51.37</td><td>33</td></tr><tr><td>IR-O-U-0222</td><td>JSS Academy of Higher Education and Research</td><td>Mysuru</td><td>Karnataka</td><td>35.88</td><td>43</td><td>51.20</td><td>34</td></tr><tr><td>IR-O-U-0458</td><td>Kalasalingam Academy of Research and Education</td><td>Srivilliputtur</td><td>Tamil Nadu</td><td>34.05</td><td>52</td><td>51.09</td><td>35</td></tr><tr><td>IR-O-U-0006</td><td>Andhra University, Visakhapatnam</td><td>Visakhapatnam</td><td>Andhra Pradesh</td><td>40.53</td><td>24</td><td>50.52</td><td>36</td></tr><tr><td>IR-O-U-0052</td><td>Gauhati University</td><td>Guwahati</td><td>Assam</td><td>24.06</td><td>100</td><td>50.52</td><td>36</td></tr><tr><td>IR-O-U-0098</td><td>Delhi Technological University</td><td>New Delhi</td><td>Delhi</td><td>38.10</td><td>29</td><td>49.97</td><td>38</td></tr><tr><td>IR-O-I-1357</td><td>University of Madras</td><td>Chennai</td><td>Tamil Nadu</td><td>36.91</td><td>37</td><td>49.86</td><td>39</td></tr><tr><td>IR-O-U-0260</td><td>Kerala University</td><td>Thiruvananthapuram</td><td>Kerala</td><td>1.54</td><td>281</td><td>49.80</td><td>40</td></tr><tr><td>IR-O-U-0253</td><td>Cochin University of Science and Technology</td><td>Cochin</td><td>Kerala</td><td>27.11</td><td>77</td><td>49.43</td><td>41</td></tr><tr><td>IR-O-I-1110</td><td>Dr. D. Y. Patil Vidyapeeth</td><td>Pune</td><td>Maharashtra</td><td>37.63</td><td>33</td><td>49.43</td><td>41</td></tr><tr><td>IR-O-U-0474</td><td>Sathyabama Institute of Science and Technology</td><td>Chennai</td><td>Tamil Nadu</td><td>34.50</td><td>51</td><td>49.18</td><td>43</td></tr><tr><td>IR-O-U-0376</td><td>Guru Nanak Dev University</td><td>Amritsar</td><td>Punjab</td><td>37.01</td><td>36</td><td>49.01</td><td>44</td></tr><tr><td>IR-O-U-0318</td><td>Mumbai University</td><td>Mumbai</td><td>Maharashtra</td><td>35.08</td><td>46</td><td>48.93</td><td>45</td></tr><tr><td>IR-O-U-0107</td><td>Jamia Hamdard</td><td>New Delhi</td><td>Delhi</td><td>26.53</td><td>81</td><td>48.93</td><td>45</td></tr><tr><td>IR-O-U-0379</td><td>Lovely Professional University</td><td>Phagwara</td><td>Punjab</td><td>14.40</td><td>177</td><td>48.92</td><td>47</td></tr><tr><td>IR-O-I-1486</td><td>Sri Ramachandra Institute of Higher Education and Research</td><td>Chennai</td><td>Tamil Nadu</td><td>34.74</td><td>49</td><td>48.87</td><td>48</td></tr><tr><td>IR-O-U-0389</td><td>Banasthali Vidyapith</td><td>Banasthali</td><td>Rajasthan</td><td>33.71</td><td>53</td><td>48.64</td><td>49</td></tr><tr><td>IR-O-U-0523</td><td>King George`s Medical University</td><td>Lucknow</td><td>Uttar Pradesh</td><td>24.70</td><td>95</td><td>48.51</td><td>50</td></tr><tr><td>IR-O-N-10</td><td>SVKM`s Narsee Monjee Institute of Management Studies</td><td>Mumbai</td><td>Maharashtra</td><td>35.08</td><td>46</td><td>48.46</td><td>51</td></tr><tr><td>IR-O-U-0463</td><td>Madurai Kamaraj University</td><td>Madurai</td><td>Tamil Nadu</td><td>38.82</td><td>26</td><td>48.39</td><td>52</td></tr><tr><td>IR-O-U-0196</td><td>University of Kashmir</td><td>Srinagar</td><td>Jammu and Kashmir</td><td>26.65</td><td>79</td><td>48.27</td><td>53</td></tr><tr><td>IR-O-U-0295</td><td>Datta Meghe Institute of Medical Sciences</td><td>Wardha</td><td>Maharashtra</td><td>30.78</td><td>61</td><td>48.18</td><td>54</td></tr><tr><td>IR-O-U-0498</td><td>Babasheb Bhimrao Ambedkar University</td><td>Lucknow</td><td>Uttar Pradesh</td><td>21.36</td><td>113</td><td>48.05</td><td>55</td></tr><tr><td>IR-O-U-0195</td><td>University of Jammu</td><td>Jammu</td><td>Jammu and Kashmir</td><td>31.92</td><td>59</td><td>48.03</td><td>56</td></tr><tr><td>IR-O-U-0448</td><td>Bharathidasan University</td><td>Tiruchirappalli</td><td>Tamil Nadu</td><td>37.17</td><td>35</td><td>47.98</td><td>57</td></tr><tr><td>IR-O-U-0136</td><td>Gujarat University</td><td>Ahmedabad</td><td>Gujarat</td><td>2.65</td><td>272</td><td>47.61</td><td>58</td></tr><tr><td>IR-O-U-0056</td><td>Tezpur University</td><td>Tezpur</td><td>Assam</td><td>35.88</td><td>43</td><td>47.48</td><td>59</td></tr><tr><td>IR-O-U-0331</td><td>Tata Institute of Social Sciences</td><td>Mumbai</td><td>Maharashtra</td><td>38.23</td><td>28</td><td>47.16</td><td>60</td></tr><tr><td>IR-O-U-0642</td><td>Shiv Nadar University</td><td>Dadri</td><td>Uttar Pradesh</td><td>22.06</td><td>107</td><td>46.57</td><td>61</td></tr><tr><td>IR-O-U-0446</td><td>Bharath Institute of Higher Education &amp; Research</td><td>Chennai</td><td>Tamil Nadu</td><td>21.01</td><td>115</td><td>46.40</td><td>62</td></tr><tr><td>IR-O-U-0470</td><td>Periyar University</td><td>Salem</td><td>Tamil Nadu</td><td>32.65</td><td>58</td><td>46.06</td><td>63</td></tr><tr><td>IR-O-U-0215</td><td>Bangalore University</td><td>Bangalore</td><td>Karnataka</td><td>25.32</td><td>91</td><td>46.01</td><td>64</td></tr><tr><td>IR-O-U-0564</td><td>University of Petroleum and Energy Studies</td><td>Dehradun</td><td>Uttarakhand</td><td>40.39</td><td>25</td><td>45.49</td><td>65</td></tr><tr><td>IR-O-U-0341</td><td>North Eastern Hill University</td><td>Shillong</td><td>Meghalaya</td><td>23.41</td><td>104</td><td>45.44</td><td>66</td></tr><tr><td>IR-O-U-0037</td><td>Sri Venkateswara University</td><td>Tirupati</td><td>Andhra Pradesh</td><td>36.38</td><td>42</td><td>45.07</td><td>67</td></tr><tr><td>IR-O-U-0369</td><td>Pondicherry University</td><td>Puducherry</td><td>Pondicherry</td><td>28.53</td><td>70</td><td>44.95</td><td>68</td></tr><tr><td>IR-O-U-0251</td><td>Calicut University, Thenhipalem</td><td>Malappuram</td><td>Kerala</td><td>21.71</td><td>108</td><td>44.93</td><td>69</td></tr><tr><td>IR-O-U-0370</td><td>Sri Balaji Vidyapeeth Mahatma Gandhi Medical College Campus</td><td>Puducherry</td><td>Pondicherry</td><td>30.00</td><td>65</td><td>44.72</td><td>70</td></tr><tr><td>IR-O-U-0217</td><td>Christ University</td><td>Bengaluru</td><td>Karnataka</td><td>52.36</td><td>8</td><td>44.31</td><td>71</td></tr><tr><td>IR-O-U-0249</td><td>Visvesvaraya Technological University</td><td>Belgaum</td><td>Karnataka</td><td>3.01</td><td>268</td><td>44.22</td><td>72</td></tr><tr><td>IR-O-U-0311</td><td>Krishna Institute of Medical Sciences Deemed University, Karad</td><td>Karad</td><td>Maharashtra</td><td>24.39</td><td>96</td><td>44.14</td><td>73</td></tr><tr><td>IR-O-U-0555</td><td>Graphic Era University</td><td>Dehradun</td><td>Uttarakhand</td><td>37.70</td><td>32</td><td>43.82</td><td>74</td></tr><tr><td>IR-O-U-0239</td><td>NITTE</td><td>Mangaluru</td><td>Karnataka</td><td>27.01</td><td>78</td><td>43.64</td><td>75</td></tr><tr><td>IR-O-I-1361</td><td>Bharati Vidyapeeth</td><td>Pune</td><td>Maharashtra</td><td>37.93</td><td>30</td><td>43.54</td><td>76</td></tr><tr><td>IR-O-U-0099</td><td>Guru Gobind Singh Indraprastha University</td><td>New Delhi</td><td>Delhi</td><td>16.72</td><td>168</td><td>43.39</td><td>77</td></tr><tr><td>IR-O-U-0345</td><td>Mizoram University</td><td>Aizawl</td><td>Mizoram</td><td>20.28</td><td>120</td><td>43.24</td><td>78</td></tr><tr><td>IR-O-U-0223</td><td>Jain University, Bangalore</td><td>Bengluru</td><td>Karnataka</td><td>33.01</td><td>56</td><td>43.21</td><td>79</td></tr><tr><td>IR-O-U-0464</td><td>Manonmaniam Sundaranar University, Tirunelveli</td><td>Tirunelveli</td><td>Tamil Nadu</td><td>20.28</td><td>120</td><td>42.92</td><td>80</td></tr><tr><td>IR-O-U-0321</td><td>Padmashree Dr. D. Y. Patil Vidyapeeth, Mumbai</td><td>Mumbai</td><td>Maharashtra</td><td>24.39</td><td>96</td><td>42.64</td><td>81</td></tr><tr><td>IR-O-U-0372</td><td>Central University of Punjab</td><td>Bathinda</td><td>Punjab</td><td>26.53</td><td>81</td><td>42.64</td><td>81</td></tr><tr><td>IR-O-U-0298</td><td>Dr. Babasaheb Ambedkar Marathwada University, Aurangabad</td><td>Aurangabad</td><td>Maharashtra</td><td>20.28</td><td>120</td><td>42.59</td><td>83</td></tr><tr><td>IR-O-U-0444</td><td>Avinashilingam Institute for Home Science &amp; Higher Education for Women</td><td>Coimbatore</td><td>Tamil Nadu</td><td>35.08</td><td>46</td><td>42.53</td><td>84</td></tr><tr><td>IR-O-U-0449</td><td>Central University of Tamil Nadu</td><td>Tiruvarur</td><td>Tamil Nadu</td><td>15.36</td><td>171</td><td>42.47</td><td>85</td></tr><tr><td>IR-O-U-0232</td><td>Kuvempu University</td><td>Shivamogga</td><td>Karnataka</td><td>18.00</td><td>152</td><td>42.44</td><td>86</td></tr><tr><td>IR-O-U-0569</td><td>The University of Burdwan</td><td>Bardhaman</td><td>West Bengal</td><td>19.92</td><td>125</td><td>42.42</td><td>87</td></tr><tr><td>IR-O-U-0744</td><td>Ashoka University</td><td>Sonepat</td><td>Haryana</td><td>9.69</td><td>230</td><td>42.27</td><td>88</td></tr><tr><td>IR-O-U-0225</td><td>KLE Academy of Higher Education and Research</td><td>Belagavi</td><td>Karnataka</td><td>28.06</td><td>72</td><td>42.27</td><td>88</td></tr><tr><td>IR-O-U-0366</td><td>Utkal University</td><td>Bhubaneswar</td><td>Odisha</td><td>37.63</td><td>33</td><td>42.27</td><td>88</td></tr><tr><td>IR-O-U-0168</td><td>Maharishi Markandeshwar</td><td>Ambala</td><td>Haryana</td><td>34.74</td><td>49</td><td>42.26</td><td>91</td></tr><tr><td>IR-O-U-0011</td><td>Gandhi Institute of Technology and Management </td><td>Visakhapatnam</td><td>Andhra Pradesh</td><td>33.01</td><td>56</td><td>42.14</td><td>92</td></tr><tr><td>IR-O-U-0451</td><td>Chettinad Academy of Research and Education</td><td>Kelambakkam, Chengalpattu District</td><td>Tamil Nadu</td><td>19.54</td><td>129</td><td>42.04</td><td>93</td></tr><tr><td>IR-O-I-1280</td><td>Maharshi Dayanand University</td><td>Rohtak</td><td>Haryana</td><td>27.36</td><td>76</td><td>41.88</td><td>94</td></tr><tr><td>IR-O-U-0043</td><td>Vignan's Foundation for Science, Technology and Research</td><td>Guntur</td><td>Andhra Pradesh</td><td>28.06</td><td>72</td><td>41.79</td><td>95</td></tr><tr><td>IR-O-U-0190</td><td>Shoolini University of Biotechnology and Management Sciences</td><td>Solan</td><td>Himachal Pradesh</td><td>15.71</td><td>169</td><td>41.19</td><td>96</td></tr><tr><td>IR-O-U-0250</td><td>Yenepoya University</td><td>Mangaluru</td><td>Karnataka</td><td>20.65</td><td>117</td><td>41.03</td><td>97</td></tr><tr><td>IR-O-U-0589</td><td>Visva Bharati</td><td>Santiniketan</td><td>West Bengal</td><td>14.65</td><td>174</td><td>40.96</td><td>98</td></tr><tr><td>IR-O-U-0202</td><td>Birla Institute of Technology</td><td>Ranchi</td><td>Jharkhand</td><td>12.40</td><td>200</td><td>40.69</td><td>99</td></tr><tr><td>IR-O-U-0461</td><td>M. G. R. Educational and Research Institute</td><td>Chennai</td><td>Tamil Nadu</td><td>24.00</td><td>102</td><td>40.39</td><td>100</td></tr></tbody></table></div></div></div></div></div><div id=\"footer\"><ul class=\"portalLinks\"><li><a href=\"https://www.nirfindia.org/Home\">Home</a></li><li><a href=\"https://www.nirfindia.org/About\">About NIRF</a></li><li><a href=\"https://www.nirfindia.org/parameter\">Parameters</a></li><li><a href=\"https://www.nirfindia.org/Documents\">Documents</a></li><li><a href=\"https://www.nirfindia.org/2022/Ranking.html\"> Ranking</a></li><li><a href=\"https://www.nirfindia.org/Advertisement\">Notification/Advt</a></li><li><a href=\"https://www.nirfindia.org/Contact\">Contact</a></li></ul><p class=\"copyright\">Copyright © 2022, National Institutional Ranking Framework (NIRF), MoE. All rights reserved.</p><!-- hitwebcounter Code START --><!-- hitwebcounter.com --><a href=\"..\" style=\"font-family: Geneva, Arial, Helvetica, sans-serif; font-size: 8px; color: #686A6F; text-decoration: none;\" target=\"_blank\" title=\"Track My Website\"><strong></strong></a></div></div></div><a href=\"#top\" id=\"backtotop\" style=\"display: block;\" title=\"Back to Top\">Back to Top</a><script> $.extend($.fn.dataTable.defaults, { responsive: true });$(document).ready(function () { $('.btn-more-details').on('click', function () { var btn = $(this); btn.parent().next().slideToggle(500, function () { if (btn.find('span').text() == 'More Details') { btn.find('span').text('Close'); } else { btn.find('span').text('More Details'); } }); });$('#tbl_overall').DataTable({ \"order\": [[4, \"desc\"]], \"pageLength\": 100 });  });</script><script src=\"https://www.nirfindia.org/js/functions.js\" type=\"text/javascript\"></script><script src=\"https://www.nirfindia.org/js/general.js\" type=\"text/javascript\"></script></body></html>"
            ]
          },
          "metadata": {},
          "execution_count": 40
        }
      ]
    },
    {
      "cell_type": "code",
      "source": [
        "table = uni_data.find('table')\n",
        "table"
      ],
      "metadata": {
        "colab": {
          "base_uri": "https://localhost:8080/"
        },
        "id": "f-Ungf-gBtLR",
        "outputId": "1ad93009-683a-43d7-852a-2a67f41843cc"
      },
      "execution_count": null,
      "outputs": [
        {
          "output_type": "execute_result",
          "data": {
            "text/plain": [
              "<table class=\"table table-condensed\" id=\"tbl_overall\"><thead><tr><th style=\"20%\">Institute ID</th><th>Name</th><th>City</th><th>State</th><th>Score</th><th>Rank</th></tr></thead><tbody><tr><td>IR-O-U-0220</td><td>Indian Institute of Science<div style=\"float:right;\"><a class=\"btn-more-details\" href=\"javascript:;\"><span>More Details</span></a><a class=\"close_data\" id=\"close_1\" style=\"display: none;\">Close</a> | <a href=\"https://www.nirfindia.org/nirfpdfcdn/2022/pdf/University/IR-O-U-0220.pdf\" target=\"_blank\"><img src=\"https://www.nirfindia.org/images/pdf_icon.png\" style=\"width: 20px; height: 20px !important\"/></a> | <a href=\"https://www.nirfindia.org/nirfpdfcdn/2022/graph/University/IR-O-U-0220.png\" target=\"_blank\"><img src=\"https://www.nirfindia.org/images/graph.png\" style=\"width: 20px; height: 20px !important\"/></a></div><div class=\"tbl_hidden\" style=\"display:none;width:100%;\"><br/><table class=\"table \"><thead><tr><th>TLR (100)</th><th>RPC (100)</th><th>GO (100)</th><th>OI (100)</th><th>PERCEPTION (100)</th></tr></thead><tbody><tr><td>82.08</td><td>87.45</td><td>84.80</td><td>57.46</td><td>100.00</td></tr></tbody></table></div></td><td>Bengaluru</td><td>Karnataka</td><td>83.57</td><td>1</td></tr><tr><td>IR-O-U-0109</td><td>Jawaharlal Nehru University<div style=\"float:right;\"><a class=\"btn-more-details\" href=\"javascript:;\"><span>More Details</span></a><a class=\"close_data\" id=\"close_1\" style=\"display: none;\">Close</a> | <a href=\"https://www.nirfindia.org/nirfpdfcdn/2022/pdf/University/IR-O-U-0109.pdf\" target=\"_blank\"><img src=\"https://www.nirfindia.org/images/pdf_icon.png\" style=\"width: 20px; height: 20px !important\"/></a> | <a href=\"https://www.nirfindia.org/nirfpdfcdn/2022/graph/University/IR-O-U-0109.png\" target=\"_blank\"><img src=\"https://www.nirfindia.org/images/graph.png\" style=\"width: 20px; height: 20px !important\"/></a></div><div class=\"tbl_hidden\" style=\"display:none;width:100%;\"><br/><table class=\"table \"><thead><tr><th>TLR (100)</th><th>RPC (100)</th><th>GO (100)</th><th>OI (100)</th><th>PERCEPTION (100)</th></tr></thead><tbody><tr><td>71.95</td><td>45.55</td><td>95.27</td><td>70.27</td><td>71.43</td></tr></tbody></table></div></td><td>New Delhi</td><td>Delhi</td><td>68.47</td><td>2</td></tr><tr><td>IR-O-U-0108</td><td>Jamia Millia Islamia, New Delhi<div style=\"float:right;\"><a class=\"btn-more-details\" href=\"javascript:;\"><span>More Details</span></a><a class=\"close_data\" id=\"close_1\" style=\"display: none;\">Close</a> | <a href=\"https://www.nirfindia.org/nirfpdfcdn/2022/pdf/University/IR-O-U-0108.pdf\" target=\"_blank\"><img src=\"https://www.nirfindia.org/images/pdf_icon.png\" style=\"width: 20px; height: 20px !important\"/></a> | <a href=\"https://www.nirfindia.org/nirfpdfcdn/2022/graph/University/IR-O-U-0108.png\" target=\"_blank\"><img src=\"https://www.nirfindia.org/images/graph.png\" style=\"width: 20px; height: 20px !important\"/></a></div><div class=\"tbl_hidden\" style=\"display:none;width:100%;\"><br/><table class=\"table \"><thead><tr><th>TLR (100)</th><th>RPC (100)</th><th>GO (100)</th><th>OI (100)</th><th>PERCEPTION (100)</th></tr></thead><tbody><tr><td>68.16</td><td>47.38</td><td>92.46</td><td>81.14</td><td>46.50</td></tr></tbody></table></div></td><td>New Delhi</td><td>Delhi</td><td>65.91</td><td>3</td></tr><tr><td>IR-O-U-0575</td><td>Jadavpur University<div style=\"float:right;\"><a class=\"btn-more-details\" href=\"javascript:;\"><span>More Details</span></a><a class=\"close_data\" id=\"close_1\" style=\"display: none;\">Close</a> | <a href=\"https://www.nirfindia.org/nirfpdfcdn/2022/pdf/University/IR-O-U-0575.pdf\" target=\"_blank\"><img src=\"https://www.nirfindia.org/images/pdf_icon.png\" style=\"width: 20px; height: 20px !important\"/></a> | <a href=\"https://www.nirfindia.org/nirfpdfcdn/2022/graph/University/IR-O-U-0575.png\" target=\"_blank\"><img src=\"https://www.nirfindia.org/images/graph.png\" style=\"width: 20px; height: 20px !important\"/></a></div><div class=\"tbl_hidden\" style=\"display:none;width:100%;\"><br/><table class=\"table \"><thead><tr><th>TLR (100)</th><th>RPC (100)</th><th>GO (100)</th><th>OI (100)</th><th>PERCEPTION (100)</th></tr></thead><tbody><tr><td>63.57</td><td>53.73</td><td>90.10</td><td>56.86</td><td>64.67</td></tr></tbody></table></div></td><td>Kolkata</td><td>West Bengal</td><td>65.37</td><td>4</td></tr><tr><td>IR-O-U-0436</td><td>Amrita Vishwa Vidyapeetham<div style=\"float:right;\"><a class=\"btn-more-details\" href=\"javascript:;\"><span>More Details</span></a><a class=\"close_data\" id=\"close_1\" style=\"display: none;\">Close</a> | <a href=\"https://www.nirfindia.org/nirfpdfcdn/2022/pdf/University/IR-O-U-0436.pdf\" target=\"_blank\"><img src=\"https://www.nirfindia.org/images/pdf_icon.png\" style=\"width: 20px; height: 20px !important\"/></a> | <a href=\"https://www.nirfindia.org/nirfpdfcdn/2022/graph/University/IR-O-U-0436.png\" target=\"_blank\"><img src=\"https://www.nirfindia.org/images/graph.png\" style=\"width: 20px; height: 20px !important\"/></a></div><div class=\"tbl_hidden\" style=\"display:none;width:100%;\"><br/><table class=\"table \"><thead><tr><th>TLR (100)</th><th>RPC (100)</th><th>GO (100)</th><th>OI (100)</th><th>PERCEPTION (100)</th></tr></thead><tbody><tr><td>69.80</td><td>50.06</td><td>74.09</td><td>69.53</td><td>56.66</td></tr></tbody></table></div></td><td>Coimbatore</td><td>Tamil Nadu</td><td>63.40</td><td>5</td></tr><tr><td>IR-O-U-0500</td><td>Banaras Hindu University<div style=\"float:right;\"><a class=\"btn-more-details\" href=\"javascript:;\"><span>More Details</span></a><a class=\"close_data\" id=\"close_1\" style=\"display: none;\">Close</a> | <a href=\"https://www.nirfindia.org/nirfpdfcdn/2022/pdf/University/IR-O-U-0500.pdf\" target=\"_blank\"><img src=\"https://www.nirfindia.org/images/pdf_icon.png\" style=\"width: 20px; height: 20px !important\"/></a> | <a href=\"https://www.nirfindia.org/nirfpdfcdn/2022/graph/University/IR-O-U-0500.png\" target=\"_blank\"><img src=\"https://www.nirfindia.org/images/graph.png\" style=\"width: 20px; height: 20px !important\"/></a></div><div class=\"tbl_hidden\" style=\"display:none;width:100%;\"><br/><table class=\"table \"><thead><tr><th>TLR (100)</th><th>RPC (100)</th><th>GO (100)</th><th>OI (100)</th><th>PERCEPTION (100)</th></tr></thead><tbody><tr><td>69.90</td><td>43.91</td><td>97.74</td><td>57.32</td><td>37.76</td></tr></tbody></table></div></td><td>Varanasi</td><td>Uttar Pradesh</td><td>63.20</td><td>6</td></tr><tr><td>IR-O-U-0234</td><td>Manipal Academy of Higher Education, Manipal<div style=\"float:right;\"><a class=\"btn-more-details\" href=\"javascript:;\"><span>More Details</span></a><a class=\"close_data\" id=\"close_1\" style=\"display: none;\">Close</a> | <a href=\"https://www.nirfindia.org/nirfpdfcdn/2022/pdf/University/IR-O-U-0234.pdf\" target=\"_blank\"><img src=\"https://www.nirfindia.org/images/pdf_icon.png\" style=\"width: 20px; height: 20px !important\"/></a> | <a href=\"https://www.nirfindia.org/nirfpdfcdn/2022/graph/University/IR-O-U-0234.png\" target=\"_blank\"><img src=\"https://www.nirfindia.org/images/graph.png\" style=\"width: 20px; height: 20px !important\"/></a></div><div class=\"tbl_hidden\" style=\"display:none;width:100%;\"><br/><table class=\"table \"><thead><tr><th>TLR (100)</th><th>RPC (100)</th><th>GO (100)</th><th>OI (100)</th><th>PERCEPTION (100)</th></tr></thead><tbody><tr><td>70.53</td><td>51.07</td><td>78.15</td><td>64.81</td><td>42.46</td></tr></tbody></table></div></td><td>Manipal</td><td>Karnataka</td><td>62.84</td><td>7</td></tr><tr><td>IR-O-U-0570</td><td>Calcutta University<div style=\"float:right;\"><a class=\"btn-more-details\" href=\"javascript:;\"><span>More Details</span></a><a class=\"close_data\" id=\"close_1\" style=\"display: none;\">Close</a> | <a href=\"https://www.nirfindia.org/nirfpdfcdn/2022/pdf/University/IR-O-U-0570.pdf\" target=\"_blank\"><img src=\"https://www.nirfindia.org/images/pdf_icon.png\" style=\"width: 20px; height: 20px !important\"/></a> | <a href=\"https://www.nirfindia.org/nirfpdfcdn/2022/graph/University/IR-O-U-0570.png\" target=\"_blank\"><img src=\"https://www.nirfindia.org/images/graph.png\" style=\"width: 20px; height: 20px !important\"/></a></div><div class=\"tbl_hidden\" style=\"display:none;width:100%;\"><br/><table class=\"table \"><thead><tr><th>TLR (100)</th><th>RPC (100)</th><th>GO (100)</th><th>OI (100)</th><th>PERCEPTION (100)</th></tr></thead><tbody><tr><td>67.46</td><td>40.85</td><td>95.48</td><td>61.90</td><td>44.50</td></tr></tbody></table></div></td><td>Kolkata</td><td>West Bengal</td><td>62.23</td><td>8</td></tr><tr><td>IR-O-U-0490</td><td>Vellore Institute of Technology<div style=\"float:right;\"><a class=\"btn-more-details\" href=\"javascript:;\"><span>More Details</span></a><a class=\"close_data\" id=\"close_1\" style=\"display: none;\">Close</a> | <a href=\"https://www.nirfindia.org/nirfpdfcdn/2022/pdf/University/IR-O-U-0490.pdf\" target=\"_blank\"><img src=\"https://www.nirfindia.org/images/pdf_icon.png\" style=\"width: 20px; height: 20px !important\"/></a> | <a href=\"https://www.nirfindia.org/nirfpdfcdn/2022/graph/University/IR-O-U-0490.png\" target=\"_blank\"><img src=\"https://www.nirfindia.org/images/graph.png\" style=\"width: 20px; height: 20px !important\"/></a></div><div class=\"tbl_hidden\" style=\"display:none;width:100%;\"><br/><table class=\"table \"><thead><tr><th>TLR (100)</th><th>RPC (100)</th><th>GO (100)</th><th>OI (100)</th><th>PERCEPTION (100)</th></tr></thead><tbody><tr><td>52.72</td><td>59.82</td><td>79.43</td><td>59.07</td><td>62.02</td></tr></tbody></table></div></td><td>Vellore</td><td>Tamil Nadu</td><td>61.77</td><td>9</td></tr><tr><td>IR-O-U-0042</td><td>University of Hyderabad<div style=\"float:right;\"><a class=\"btn-more-details\" href=\"javascript:;\"><span>More Details</span></a><a class=\"close_data\" id=\"close_1\" style=\"display: none;\">Close</a> | <a href=\"https://www.nirfindia.org/nirfpdfcdn/2022/pdf/University/IR-O-U-0042.pdf\" target=\"_blank\"><img src=\"https://www.nirfindia.org/images/pdf_icon.png\" style=\"width: 20px; height: 20px !important\"/></a> | <a href=\"https://www.nirfindia.org/nirfpdfcdn/2022/graph/University/IR-O-U-0042.png\" target=\"_blank\"><img src=\"https://www.nirfindia.org/images/graph.png\" style=\"width: 20px; height: 20px !important\"/></a></div><div class=\"tbl_hidden\" style=\"display:none;width:100%;\"><br/><table class=\"table \"><thead><tr><th>TLR (100)</th><th>RPC (100)</th><th>GO (100)</th><th>OI (100)</th><th>PERCEPTION (100)</th></tr></thead><tbody><tr><td>70.94</td><td>40.18</td><td>83.97</td><td>63.50</td><td>52.39</td></tr></tbody></table></div></td><td>Hyderabad</td><td>Telangana</td><td>61.71</td><td>10</td></tr><tr><td>IR-O-U-0496</td><td>Aligarh Muslim University<div style=\"float:right;\"><a class=\"btn-more-details\" href=\"javascript:;\"><span>More Details</span></a><a class=\"close_data\" id=\"close_1\" style=\"display: none;\">Close</a> | <a href=\"https://www.nirfindia.org/nirfpdfcdn/2022/pdf/University/IR-O-U-0496.pdf\" target=\"_blank\"><img src=\"https://www.nirfindia.org/images/pdf_icon.png\" style=\"width: 20px; height: 20px !important\"/></a> | <a href=\"https://www.nirfindia.org/nirfpdfcdn/2022/graph/University/IR-O-U-0496.png\" target=\"_blank\"><img src=\"https://www.nirfindia.org/images/graph.png\" style=\"width: 20px; height: 20px !important\"/></a></div><div class=\"tbl_hidden\" style=\"display:none;width:100%;\"><br/><table class=\"table \"><thead><tr><th>TLR (100)</th><th>RPC (100)</th><th>GO (100)</th><th>OI (100)</th><th>PERCEPTION (100)</th></tr></thead><tbody><tr><td>69.21</td><td>43.04</td><td>88.92</td><td>56.29</td><td>43.49</td></tr></tbody></table></div></td><td>Aligarh</td><td>Uttar Pradesh</td><td>61.43</td><td>11</td></tr><tr><td>IR-O-U-0323</td><td>Savitribai Phule Pune University<div style=\"float:right;\"><a class=\"btn-more-details\" href=\"javascript:;\"><span>More Details</span></a><a class=\"close_data\" id=\"close_1\" style=\"display: none;\">Close</a> | <a href=\"https://www.nirfindia.org/nirfpdfcdn/2022/pdf/University/IR-O-U-0323.pdf\" target=\"_blank\"><img src=\"https://www.nirfindia.org/images/pdf_icon.png\" style=\"width: 20px; height: 20px !important\"/></a> | <a href=\"https://www.nirfindia.org/nirfpdfcdn/2022/graph/University/IR-O-U-0323.png\" target=\"_blank\"><img src=\"https://www.nirfindia.org/images/graph.png\" style=\"width: 20px; height: 20px !important\"/></a></div><div class=\"tbl_hidden\" style=\"display:none;width:100%;\"><br/><table class=\"table \"><thead><tr><th>TLR (100)</th><th>RPC (100)</th><th>GO (100)</th><th>OI (100)</th><th>PERCEPTION (100)</th></tr></thead><tbody><tr><td>63.66</td><td>41.64</td><td>92.44</td><td>52.07</td><td>41.88</td></tr></tbody></table></div></td><td>Pune</td><td>Maharashtra</td><td>59.48</td><td>12</td></tr><tr><td>IR-O-U-0120</td><td>University of Delhi<div style=\"float:right;\"><a class=\"btn-more-details\" href=\"javascript:;\"><span>More Details</span></a><a class=\"close_data\" id=\"close_1\" style=\"display: none;\">Close</a> | <a href=\"https://www.nirfindia.org/nirfpdfcdn/2022/pdf/University/IR-O-U-0120.pdf\" target=\"_blank\"><img src=\"https://www.nirfindia.org/images/pdf_icon.png\" style=\"width: 20px; height: 20px !important\"/></a> | <a href=\"https://www.nirfindia.org/nirfpdfcdn/2022/graph/University/IR-O-U-0120.png\" target=\"_blank\"><img src=\"https://www.nirfindia.org/images/graph.png\" style=\"width: 20px; height: 20px !important\"/></a></div><div class=\"tbl_hidden\" style=\"display:none;width:100%;\"><br/><table class=\"table \"><thead><tr><th>TLR (100)</th><th>RPC (100)</th><th>GO (100)</th><th>OI (100)</th><th>PERCEPTION (100)</th></tr></thead><tbody><tr><td>43.11</td><td>52.82</td><td>91.85</td><td>58.87</td><td>56.15</td></tr></tbody></table></div></td><td>Delhi</td><td>Delhi</td><td>58.66</td><td>13</td></tr><tr><td>IR-O-U-0308</td><td>Institute of Chemical Technology<div style=\"float:right;\"><a class=\"btn-more-details\" href=\"javascript:;\"><span>More Details</span></a><a class=\"close_data\" id=\"close_1\" style=\"display: none;\">Close</a> | <a href=\"https://www.nirfindia.org/nirfpdfcdn/2022/pdf/University/IR-O-U-0308.pdf\" target=\"_blank\"><img src=\"https://www.nirfindia.org/images/pdf_icon.png\" style=\"width: 20px; height: 20px !important\"/></a> | <a href=\"https://www.nirfindia.org/nirfpdfcdn/2022/graph/University/IR-O-U-0308.png\" target=\"_blank\"><img src=\"https://www.nirfindia.org/images/graph.png\" style=\"width: 20px; height: 20px !important\"/></a></div><div class=\"tbl_hidden\" style=\"display:none;width:100%;\"><br/><table class=\"table \"><thead><tr><th>TLR (100)</th><th>RPC (100)</th><th>GO (100)</th><th>OI (100)</th><th>PERCEPTION (100)</th></tr></thead><tbody><tr><td>59.27</td><td>50.58</td><td>79.61</td><td>54.50</td><td>42.91</td></tr></tbody></table></div></td><td>Mumbai</td><td>Maharashtra</td><td>58.61</td><td>14</td></tr><tr><td>IR-O-U-0447</td><td>Bharathiar University<div style=\"float:right;\"><a class=\"btn-more-details\" href=\"javascript:;\"><span>More Details</span></a><a class=\"close_data\" id=\"close_1\" style=\"display: none;\">Close</a> | <a href=\"https://www.nirfindia.org/nirfpdfcdn/2022/pdf/University/IR-O-U-0447.pdf\" target=\"_blank\"><img src=\"https://www.nirfindia.org/images/pdf_icon.png\" style=\"width: 20px; height: 20px !important\"/></a> | <a href=\"https://www.nirfindia.org/nirfpdfcdn/2022/graph/University/IR-O-U-0447.png\" target=\"_blank\"><img src=\"https://www.nirfindia.org/images/graph.png\" style=\"width: 20px; height: 20px !important\"/></a></div><div class=\"tbl_hidden\" style=\"display:none;width:100%;\"><br/><table class=\"table \"><thead><tr><th>TLR (100)</th><th>RPC (100)</th><th>GO (100)</th><th>OI (100)</th><th>PERCEPTION (100)</th></tr></thead><tbody><tr><td>63.97</td><td>44.36</td><td>78.31</td><td>63.96</td><td>36.88</td></tr></tbody></table></div></td><td>Coimbatore</td><td>Tamil Nadu</td><td>58.25</td><td>15</td></tr><tr><td>IR-O-U-0363</td><td>Siksha `O` Anusandhan<div style=\"float:right;\"><a class=\"btn-more-details\" href=\"javascript:;\"><span>More Details</span></a><a class=\"close_data\" id=\"close_1\" style=\"display: none;\">Close</a> | <a href=\"https://www.nirfindia.org/nirfpdfcdn/2022/pdf/University/IR-O-U-0363.pdf\" target=\"_blank\"><img src=\"https://www.nirfindia.org/images/pdf_icon.png\" style=\"width: 20px; height: 20px !important\"/></a> | <a href=\"https://www.nirfindia.org/nirfpdfcdn/2022/graph/University/IR-O-U-0363.png\" target=\"_blank\"><img src=\"https://www.nirfindia.org/images/graph.png\" style=\"width: 20px; height: 20px !important\"/></a></div><div class=\"tbl_hidden\" style=\"display:none;width:100%;\"><br/><table class=\"table \"><thead><tr><th>TLR (100)</th><th>RPC (100)</th><th>GO (100)</th><th>OI (100)</th><th>PERCEPTION (100)</th></tr></thead><tbody><tr><td>68.30</td><td>35.58</td><td>73.45</td><td>68.40</td><td>49.08</td></tr></tbody></table></div></td><td>Bhubaneswar</td><td>Odisha</td><td>57.60</td><td>16</td></tr><tr><td>IR-O-U-0304</td><td>Homi Bhabha National Institute<div style=\"float:right;\"><a class=\"btn-more-details\" href=\"javascript:;\"><span>More Details</span></a><a class=\"close_data\" id=\"close_1\" style=\"display: none;\">Close</a> | <a href=\"https://www.nirfindia.org/nirfpdfcdn/2022/pdf/University/IR-O-U-0304.pdf\" target=\"_blank\"><img src=\"https://www.nirfindia.org/images/pdf_icon.png\" style=\"width: 20px; height: 20px !important\"/></a> | <a href=\"https://www.nirfindia.org/nirfpdfcdn/2022/graph/University/IR-O-U-0304.png\" target=\"_blank\"><img src=\"https://www.nirfindia.org/images/graph.png\" style=\"width: 20px; height: 20px !important\"/></a></div><div class=\"tbl_hidden\" style=\"display:none;width:100%;\"><br/><table class=\"table \"><thead><tr><th>TLR (100)</th><th>RPC (100)</th><th>GO (100)</th><th>OI (100)</th><th>PERCEPTION (100)</th></tr></thead><tbody><tr><td>72.51</td><td>45.25</td><td>68.93</td><td>52.01</td><td>27.71</td></tr></tbody></table></div></td><td>Mumbai</td><td>Maharashtra</td><td>57.09</td><td>17</td></tr><tr><td>IR-O-U-0391</td><td>Birla Institute of Technology &amp; Science - Pilani<div style=\"float:right;\"><a class=\"btn-more-details\" href=\"javascript:;\"><span>More Details</span></a><a class=\"close_data\" id=\"close_1\" style=\"display: none;\">Close</a> | <a href=\"https://www.nirfindia.org/nirfpdfcdn/2022/pdf/University/IR-O-U-0391.pdf\" target=\"_blank\"><img src=\"https://www.nirfindia.org/images/pdf_icon.png\" style=\"width: 20px; height: 20px !important\"/></a> | <a href=\"https://www.nirfindia.org/nirfpdfcdn/2022/graph/University/IR-O-U-0391.png\" target=\"_blank\"><img src=\"https://www.nirfindia.org/images/graph.png\" style=\"width: 20px; height: 20px !important\"/></a></div><div class=\"tbl_hidden\" style=\"display:none;width:100%;\"><br/><table class=\"table \"><thead><tr><th>TLR (100)</th><th>RPC (100)</th><th>GO (100)</th><th>OI (100)</th><th>PERCEPTION (100)</th></tr></thead><tbody><tr><td>59.27</td><td>46.74</td><td>73.45</td><td>58.76</td><td>43.08</td></tr></tbody></table></div></td><td>Pilani</td><td>Rajasthan</td><td>56.68</td><td>18</td></tr><tr><td>IR-O-U-0473</td><td>S.R.M. Institute of Science and Technology<div style=\"float:right;\"><a class=\"btn-more-details\" href=\"javascript:;\"><span>More Details</span></a><a class=\"close_data\" id=\"close_1\" style=\"display: none;\">Close</a> | <a href=\"https://www.nirfindia.org/nirfpdfcdn/2022/pdf/University/IR-O-U-0473.pdf\" target=\"_blank\"><img src=\"https://www.nirfindia.org/images/pdf_icon.png\" style=\"width: 20px; height: 20px !important\"/></a> | <a href=\"https://www.nirfindia.org/nirfpdfcdn/2022/graph/University/IR-O-U-0473.png\" target=\"_blank\"><img src=\"https://www.nirfindia.org/images/graph.png\" style=\"width: 20px; height: 20px !important\"/></a></div><div class=\"tbl_hidden\" style=\"display:none;width:100%;\"><br/><table class=\"table \"><thead><tr><th>TLR (100)</th><th>RPC (100)</th><th>GO (100)</th><th>OI (100)</th><th>PERCEPTION (100)</th></tr></thead><tbody><tr><td>57.91</td><td>45.28</td><td>71.41</td><td>62.54</td><td>47.60</td></tr></tbody></table></div></td><td>Chennai</td><td>Tamil Nadu</td><td>56.24</td><td>19</td></tr><tr><td>IR-O-U-0356</td><td>Kalinga Institute of Industrial Technology<div style=\"float:right;\"><a class=\"btn-more-details\" href=\"javascript:;\"><span>More Details</span></a><a class=\"close_data\" id=\"close_1\" style=\"display: none;\">Close</a> | <a href=\"https://www.nirfindia.org/nirfpdfcdn/2022/pdf/University/IR-O-U-0356.pdf\" target=\"_blank\"><img src=\"https://www.nirfindia.org/images/pdf_icon.png\" style=\"width: 20px; height: 20px !important\"/></a> | <a href=\"https://www.nirfindia.org/nirfpdfcdn/2022/graph/University/IR-O-U-0356.png\" target=\"_blank\"><img src=\"https://www.nirfindia.org/images/graph.png\" style=\"width: 20px; height: 20px !important\"/></a></div><div class=\"tbl_hidden\" style=\"display:none;width:100%;\"><br/><table class=\"table \"><thead><tr><th>TLR (100)</th><th>RPC (100)</th><th>GO (100)</th><th>OI (100)</th><th>PERCEPTION (100)</th></tr></thead><tbody><tr><td>69.00</td><td>30.20</td><td>75.13</td><td>77.86</td><td>36.40</td></tr></tbody></table></div></td><td>Bhubaneswar</td><td>Odisha</td><td>56.22</td><td>20</td></tr><tr><td>IR-O-U-0439</td><td>Anna University<div style=\"float:right;\"><a class=\"btn-more-details\" href=\"javascript:;\"><span>More Details</span></a><a class=\"close_data\" id=\"close_1\" style=\"display: none;\">Close</a> | <a href=\"https://www.nirfindia.org/nirfpdfcdn/2022/pdf/University/IR-O-U-0439.pdf\" target=\"_blank\"><img src=\"https://www.nirfindia.org/images/pdf_icon.png\" style=\"width: 20px; height: 20px !important\"/></a> | <a href=\"https://www.nirfindia.org/nirfpdfcdn/2022/graph/University/IR-O-U-0439.png\" target=\"_blank\"><img src=\"https://www.nirfindia.org/images/graph.png\" style=\"width: 20px; height: 20px !important\"/></a></div><div class=\"tbl_hidden\" style=\"display:none;width:100%;\"><br/><table class=\"table \"><thead><tr><th>TLR (100)</th><th>RPC (100)</th><th>GO (100)</th><th>OI (100)</th><th>PERCEPTION (100)</th></tr></thead><tbody><tr><td>53.32</td><td>53.15</td><td>74.97</td><td>49.30</td><td>43.47</td></tr></tbody></table></div></td><td>Chennai</td><td>Tamil Nadu</td><td>56.22</td><td>20</td></tr><tr><td>IR-O-U-0027</td><td>Osmania University<div style=\"float:right;\"><a class=\"btn-more-details\" href=\"javascript:;\"><span>More Details</span></a><a class=\"close_data\" id=\"close_1\" style=\"display: none;\">Close</a> | <a href=\"https://www.nirfindia.org/nirfpdfcdn/2022/pdf/University/IR-O-U-0027.pdf\" target=\"_blank\"><img src=\"https://www.nirfindia.org/images/pdf_icon.png\" style=\"width: 20px; height: 20px !important\"/></a> | <a href=\"https://www.nirfindia.org/nirfpdfcdn/2022/graph/University/IR-O-U-0027.png\" target=\"_blank\"><img src=\"https://www.nirfindia.org/images/graph.png\" style=\"width: 20px; height: 20px !important\"/></a></div><div class=\"tbl_hidden\" style=\"display:none;width:100%;\"><br/><table class=\"table \"><thead><tr><th>TLR (100)</th><th>RPC (100)</th><th>GO (100)</th><th>OI (100)</th><th>PERCEPTION (100)</th></tr></thead><tbody><tr><td>60.22</td><td>30.41</td><td>79.98</td><td>56.37</td><td>42.40</td></tr></tbody></table></div></td><td>Hyderabad</td><td>Telangana</td><td>53.07</td><td>22</td></tr><tr><td>IR-O-U-0497</td><td>Amity University<div style=\"float:right;\"><a class=\"btn-more-details\" href=\"javascript:;\"><span>More Details</span></a><a class=\"close_data\" id=\"close_1\" style=\"display: none;\">Close</a> | <a href=\"https://www.nirfindia.org/nirfpdfcdn/2022/pdf/University/IR-O-U-0497.pdf\" target=\"_blank\"><img src=\"https://www.nirfindia.org/images/pdf_icon.png\" style=\"width: 20px; height: 20px !important\"/></a> | <a href=\"https://www.nirfindia.org/nirfpdfcdn/2022/graph/University/IR-O-U-0497.png\" target=\"_blank\"><img src=\"https://www.nirfindia.org/images/graph.png\" style=\"width: 20px; height: 20px !important\"/></a></div><div class=\"tbl_hidden\" style=\"display:none;width:100%;\"><br/><table class=\"table \"><thead><tr><th>TLR (100)</th><th>RPC (100)</th><th>GO (100)</th><th>OI (100)</th><th>PERCEPTION (100)</th></tr></thead><tbody><tr><td>49.57</td><td>47.89</td><td>70.35</td><td>64.17</td><td>33.40</td></tr></tbody></table></div></td><td>Gautam Budh Nagar</td><td>Uttar Pradesh</td><td>53.07</td><td>22</td></tr><tr><td>IR-O-U-0476</td><td>Shanmugha Arts Science Technology &amp; Research Academy<div style=\"float:right;\"><a class=\"btn-more-details\" href=\"javascript:;\"><span>More Details</span></a><a class=\"close_data\" id=\"close_1\" style=\"display: none;\">Close</a> | <a href=\"https://www.nirfindia.org/nirfpdfcdn/2022/pdf/University/IR-O-U-0476.pdf\" target=\"_blank\"><img src=\"https://www.nirfindia.org/images/pdf_icon.png\" style=\"width: 20px; height: 20px !important\"/></a> | <a href=\"https://www.nirfindia.org/nirfpdfcdn/2022/graph/University/IR-O-U-0476.png\" target=\"_blank\"><img src=\"https://www.nirfindia.org/images/graph.png\" style=\"width: 20px; height: 20px !important\"/></a></div><div class=\"tbl_hidden\" style=\"display:none;width:100%;\"><br/><table class=\"table \"><thead><tr><th>TLR (100)</th><th>RPC (100)</th><th>GO (100)</th><th>OI (100)</th><th>PERCEPTION (100)</th></tr></thead><tbody><tr><td>61.35</td><td>38.23</td><td>67.66</td><td>59.74</td><td>36.70</td></tr></tbody></table></div></td><td>Thanjavur</td><td>Tamil Nadu</td><td>53.04</td><td>24</td></tr><tr><td>IR-O-U-0078</td><td>Panjab University<div style=\"float:right;\"><a class=\"btn-more-details\" href=\"javascript:;\"><span>More Details</span></a><a class=\"close_data\" id=\"close_1\" style=\"display: none;\">Close</a> | <a href=\"https://www.nirfindia.org/nirfpdfcdn/2022/pdf/University/IR-O-U-0078.pdf\" target=\"_blank\"><img src=\"https://www.nirfindia.org/images/pdf_icon.png\" style=\"width: 20px; height: 20px !important\"/></a> | <a href=\"https://www.nirfindia.org/nirfpdfcdn/2022/graph/University/IR-O-U-0078.png\" target=\"_blank\"><img src=\"https://www.nirfindia.org/images/graph.png\" style=\"width: 20px; height: 20px !important\"/></a></div><div class=\"tbl_hidden\" style=\"display:none;width:100%;\"><br/><table class=\"table \"><thead><tr><th>TLR (100)</th><th>RPC (100)</th><th>GO (100)</th><th>OI (100)</th><th>PERCEPTION (100)</th></tr></thead><tbody><tr><td>48.43</td><td>43.18</td><td>74.62</td><td>60.73</td><td>43.29</td></tr></tbody></table></div></td><td>Chandigarh</td><td>Chandigarh</td><td>52.80</td><td>25</td></tr><tr><td>IR-O-I-1441</td><td>Saveetha Institute of Medical and Technical Sciences<div style=\"float:right;\"><a class=\"btn-more-details\" href=\"javascript:;\"><span>More Details</span></a><a class=\"close_data\" id=\"close_1\" style=\"display: none;\">Close</a> | <a href=\"https://www.nirfindia.org/nirfpdfcdn/2022/pdf/University/IR-O-I-1441.pdf\" target=\"_blank\"><img src=\"https://www.nirfindia.org/images/pdf_icon.png\" style=\"width: 20px; height: 20px !important\"/></a> | <a href=\"https://www.nirfindia.org/nirfpdfcdn/2022/graph/University/IR-O-I-1441.png\" target=\"_blank\"><img src=\"https://www.nirfindia.org/images/graph.png\" style=\"width: 20px; height: 20px !important\"/></a></div><div class=\"tbl_hidden\" style=\"display:none;width:100%;\"><br/><table class=\"table \"><thead><tr><th>TLR (100)</th><th>RPC (100)</th><th>GO (100)</th><th>OI (100)</th><th>PERCEPTION (100)</th></tr></thead><tbody><tr><td>56.29</td><td>43.01</td><td>69.46</td><td>65.97</td><td>21.71</td></tr></tbody></table></div></td><td>Chennai</td><td>Tamil Nadu</td><td>52.45</td><td>26</td></tr><tr><td>IR-O-U-0020</td><td>Koneru Lakshmaiah Education Foundation University (K L College of Engineering)<div style=\"float:right;\"><a class=\"btn-more-details\" href=\"javascript:;\"><span>More Details</span></a><a class=\"close_data\" id=\"close_1\" style=\"display: none;\">Close</a> | <a href=\"https://www.nirfindia.org/nirfpdfcdn/2022/pdf/University/IR-O-U-0020.pdf\" target=\"_blank\"><img src=\"https://www.nirfindia.org/images/pdf_icon.png\" style=\"width: 20px; height: 20px !important\"/></a> | <a href=\"https://www.nirfindia.org/nirfpdfcdn/2022/graph/University/IR-O-U-0020.png\" target=\"_blank\"><img src=\"https://www.nirfindia.org/images/graph.png\" style=\"width: 20px; height: 20px !important\"/></a></div><div class=\"tbl_hidden\" style=\"display:none;width:100%;\"><br/><table class=\"table \"><thead><tr><th>TLR (100)</th><th>RPC (100)</th><th>GO (100)</th><th>OI (100)</th><th>PERCEPTION (100)</th></tr></thead><tbody><tr><td>61.22</td><td>36.63</td><td>67.04</td><td>56.83</td><td>38.82</td></tr></tbody></table></div></td><td>Vaddeswaram</td><td>Andhra Pradesh</td><td>52.33</td><td>27</td></tr><tr><td>IR-O-U-0435</td><td>Alagappa University<div style=\"float:right;\"><a class=\"btn-more-details\" href=\"javascript:;\"><span>More Details</span></a><a class=\"close_data\" id=\"close_1\" style=\"display: none;\">Close</a> | <a href=\"https://www.nirfindia.org/nirfpdfcdn/2022/pdf/University/IR-O-U-0435.pdf\" target=\"_blank\"><img src=\"https://www.nirfindia.org/images/pdf_icon.png\" style=\"width: 20px; height: 20px !important\"/></a> | <a href=\"https://www.nirfindia.org/nirfpdfcdn/2022/graph/University/IR-O-U-0435.png\" target=\"_blank\"><img src=\"https://www.nirfindia.org/images/graph.png\" style=\"width: 20px; height: 20px !important\"/></a></div><div class=\"tbl_hidden\" style=\"display:none;width:100%;\"><br/><table class=\"table \"><thead><tr><th>TLR (100)</th><th>RPC (100)</th><th>GO (100)</th><th>OI (100)</th><th>PERCEPTION (100)</th></tr></thead><tbody><tr><td>61.66</td><td>32.63</td><td>72.21</td><td>51.56</td><td>42.91</td></tr></tbody></table></div></td><td>Karaikudi</td><td>Tamil Nadu</td><td>52.18</td><td>28</td></tr><tr><td>IR-O-U-0747</td><td>Chandigarh University<div style=\"float:right;\"><a class=\"btn-more-details\" href=\"javascript:;\"><span>More Details</span></a><a class=\"close_data\" id=\"close_1\" style=\"display: none;\">Close</a> | <a href=\"https://www.nirfindia.org/nirfpdfcdn/2022/pdf/University/IR-O-U-0747.pdf\" target=\"_blank\"><img src=\"https://www.nirfindia.org/images/pdf_icon.png\" style=\"width: 20px; height: 20px !important\"/></a> | <a href=\"https://www.nirfindia.org/nirfpdfcdn/2022/graph/University/IR-O-U-0747.png\" target=\"_blank\"><img src=\"https://www.nirfindia.org/images/graph.png\" style=\"width: 20px; height: 20px !important\"/></a></div><div class=\"tbl_hidden\" style=\"display:none;width:100%;\"><br/><table class=\"table \"><thead><tr><th>TLR (100)</th><th>RPC (100)</th><th>GO (100)</th><th>OI (100)</th><th>PERCEPTION (100)</th></tr></thead><tbody><tr><td>63.04</td><td>22.16</td><td>69.27</td><td>78.62</td><td>45.83</td></tr></tbody></table></div></td><td>Mohali</td><td>Punjab</td><td>51.85</td><td>29</td></tr><tr><td>IR-O-U-0262</td><td>Mahatma Gandhi University, Kottayam<div style=\"float:right;\"><a class=\"btn-more-details\" href=\"javascript:;\"><span>More Details</span></a><a class=\"close_data\" id=\"close_1\" style=\"display: none;\">Close</a> | <a href=\"https://www.nirfindia.org/nirfpdfcdn/2022/pdf/University/IR-O-U-0262.pdf\" target=\"_blank\"><img src=\"https://www.nirfindia.org/images/pdf_icon.png\" style=\"width: 20px; height: 20px !important\"/></a> | <a href=\"https://www.nirfindia.org/nirfpdfcdn/2022/graph/University/IR-O-U-0262.png\" target=\"_blank\"><img src=\"https://www.nirfindia.org/images/graph.png\" style=\"width: 20px; height: 20px !important\"/></a></div><div class=\"tbl_hidden\" style=\"display:none;width:100%;\"><br/><table class=\"table \"><thead><tr><th>TLR (100)</th><th>RPC (100)</th><th>GO (100)</th><th>OI (100)</th><th>PERCEPTION (100)</th></tr></thead><tbody><tr><td>65.16</td><td>36.16</td><td>70.48</td><td>51.18</td><td>19.92</td></tr></tbody></table></div></td><td>Kottayam</td><td>Kerala</td><td>51.61</td><td>30</td></tr><tr><td>IR-O-I-1480</td><td>Thapar Institute of Engineering and Technology<div style=\"float:right;\"><a class=\"btn-more-details\" href=\"javascript:;\"><span>More Details</span></a><a class=\"close_data\" id=\"close_1\" style=\"display: none;\">Close</a> | <a href=\"https://www.nirfindia.org/nirfpdfcdn/2022/pdf/University/IR-O-I-1480.pdf\" target=\"_blank\"><img src=\"https://www.nirfindia.org/images/pdf_icon.png\" style=\"width: 20px; height: 20px !important\"/></a> | <a href=\"https://www.nirfindia.org/nirfpdfcdn/2022/graph/University/IR-O-I-1480.png\" target=\"_blank\"><img src=\"https://www.nirfindia.org/images/graph.png\" style=\"width: 20px; height: 20px !important\"/></a></div><div class=\"tbl_hidden\" style=\"display:none;width:100%;\"><br/><table class=\"table \"><thead><tr><th>TLR (100)</th><th>RPC (100)</th><th>GO (100)</th><th>OI (100)</th><th>PERCEPTION (100)</th></tr></thead><tbody><tr><td>49.86</td><td>44.83</td><td>70.57</td><td>55.09</td><td>35.34</td></tr></tbody></table></div></td><td>Patiala</td><td>Punjab</td><td>51.56</td><td>31</td></tr><tr><td>IR-O-U-0329</td><td>Symbiosis International<div style=\"float:right;\"><a class=\"btn-more-details\" href=\"javascript:;\"><span>More Details</span></a><a class=\"close_data\" id=\"close_1\" style=\"display: none;\">Close</a> | <a href=\"https://www.nirfindia.org/nirfpdfcdn/2022/pdf/University/IR-O-U-0329.pdf\" target=\"_blank\"><img src=\"https://www.nirfindia.org/images/pdf_icon.png\" style=\"width: 20px; height: 20px !important\"/></a> | <a href=\"https://www.nirfindia.org/nirfpdfcdn/2022/graph/University/IR-O-U-0329.png\" target=\"_blank\"><img src=\"https://www.nirfindia.org/images/graph.png\" style=\"width: 20px; height: 20px !important\"/></a></div><div class=\"tbl_hidden\" style=\"display:none;width:100%;\"><br/><table class=\"table \"><thead><tr><th>TLR (100)</th><th>RPC (100)</th><th>GO (100)</th><th>OI (100)</th><th>PERCEPTION (100)</th></tr></thead><tbody><tr><td>65.62</td><td>17.80</td><td>74.90</td><td>66.57</td><td>47.82</td></tr></tbody></table></div></td><td>Pune</td><td>Maharashtra</td><td>51.45</td><td>32</td></tr><tr><td>IR-O-U-0235</td><td>Mysore University<div style=\"float:right;\"><a class=\"btn-more-details\" href=\"javascript:;\"><span>More Details</span></a><a class=\"close_data\" id=\"close_1\" style=\"display: none;\">Close</a> | <a href=\"https://www.nirfindia.org/nirfpdfcdn/2022/pdf/University/IR-O-U-0235.pdf\" target=\"_blank\"><img src=\"https://www.nirfindia.org/images/pdf_icon.png\" style=\"width: 20px; height: 20px !important\"/></a> | <a href=\"https://www.nirfindia.org/nirfpdfcdn/2022/graph/University/IR-O-U-0235.png\" target=\"_blank\"><img src=\"https://www.nirfindia.org/images/graph.png\" style=\"width: 20px; height: 20px !important\"/></a></div><div class=\"tbl_hidden\" style=\"display:none;width:100%;\"><br/><table class=\"table \"><thead><tr><th>TLR (100)</th><th>RPC (100)</th><th>GO (100)</th><th>OI (100)</th><th>PERCEPTION (100)</th></tr></thead><tbody><tr><td>68.90</td><td>16.81</td><td>90.68</td><td>53.79</td><td>21.36</td></tr></tbody></table></div></td><td>Mysuru</td><td>Karnataka</td><td>51.37</td><td>33</td></tr><tr><td>IR-O-U-0222</td><td>JSS Academy of Higher Education and Research<div style=\"float:right;\"><a class=\"btn-more-details\" href=\"javascript:;\"><span>More Details</span></a><a class=\"close_data\" id=\"close_1\" style=\"display: none;\">Close</a> | <a href=\"https://www.nirfindia.org/nirfpdfcdn/2022/pdf/University/IR-O-U-0222.pdf\" target=\"_blank\"><img src=\"https://www.nirfindia.org/images/pdf_icon.png\" style=\"width: 20px; height: 20px !important\"/></a> | <a href=\"https://www.nirfindia.org/nirfpdfcdn/2022/graph/University/IR-O-U-0222.png\" target=\"_blank\"><img src=\"https://www.nirfindia.org/images/graph.png\" style=\"width: 20px; height: 20px !important\"/></a></div><div class=\"tbl_hidden\" style=\"display:none;width:100%;\"><br/><table class=\"table \"><thead><tr><th>TLR (100)</th><th>RPC (100)</th><th>GO (100)</th><th>OI (100)</th><th>PERCEPTION (100)</th></tr></thead><tbody><tr><td>68.12</td><td>21.40</td><td>69.04</td><td>69.37</td><td>35.88</td></tr></tbody></table></div></td><td>Mysuru</td><td>Karnataka</td><td>51.20</td><td>34</td></tr><tr><td>IR-O-U-0458</td><td>Kalasalingam Academy of Research and Education<div style=\"float:right;\"><a class=\"btn-more-details\" href=\"javascript:;\"><span>More Details</span></a><a class=\"close_data\" id=\"close_1\" style=\"display: none;\">Close</a> | <a href=\"https://www.nirfindia.org/nirfpdfcdn/2022/pdf/University/IR-O-U-0458.pdf\" target=\"_blank\"><img src=\"https://www.nirfindia.org/images/pdf_icon.png\" style=\"width: 20px; height: 20px !important\"/></a> | <a href=\"https://www.nirfindia.org/nirfpdfcdn/2022/graph/University/IR-O-U-0458.png\" target=\"_blank\"><img src=\"https://www.nirfindia.org/images/graph.png\" style=\"width: 20px; height: 20px !important\"/></a></div><div class=\"tbl_hidden\" style=\"display:none;width:100%;\"><br/><table class=\"table \"><thead><tr><th>TLR (100)</th><th>RPC (100)</th><th>GO (100)</th><th>OI (100)</th><th>PERCEPTION (100)</th></tr></thead><tbody><tr><td>60.10</td><td>26.46</td><td>71.20</td><td>74.72</td><td>34.05</td></tr></tbody></table></div></td><td>Srivilliputtur</td><td>Tamil Nadu</td><td>51.09</td><td>35</td></tr><tr><td>IR-O-U-0006</td><td>Andhra University, Visakhapatnam<div style=\"float:right;\"><a class=\"btn-more-details\" href=\"javascript:;\"><span>More Details</span></a><a class=\"close_data\" id=\"close_1\" style=\"display: none;\">Close</a> | <a href=\"https://www.nirfindia.org/nirfpdfcdn/2022/pdf/University/IR-O-U-0006.pdf\" target=\"_blank\"><img src=\"https://www.nirfindia.org/images/pdf_icon.png\" style=\"width: 20px; height: 20px !important\"/></a> | <a href=\"https://www.nirfindia.org/nirfpdfcdn/2022/graph/University/IR-O-U-0006.png\" target=\"_blank\"><img src=\"https://www.nirfindia.org/images/graph.png\" style=\"width: 20px; height: 20px !important\"/></a></div><div class=\"tbl_hidden\" style=\"display:none;width:100%;\"><br/><table class=\"table \"><thead><tr><th>TLR (100)</th><th>RPC (100)</th><th>GO (100)</th><th>OI (100)</th><th>PERCEPTION (100)</th></tr></thead><tbody><tr><td>54.05</td><td>25.80</td><td>85.70</td><td>53.73</td><td>40.53</td></tr></tbody></table></div></td><td>Visakhapatnam</td><td>Andhra Pradesh</td><td>50.52</td><td>36</td></tr><tr><td>IR-O-U-0052</td><td>Gauhati University<div style=\"float:right;\"><a class=\"btn-more-details\" href=\"javascript:;\"><span>More Details</span></a><a class=\"close_data\" id=\"close_1\" style=\"display: none;\">Close</a> | <a href=\"https://www.nirfindia.org/nirfpdfcdn/2022/pdf/University/IR-O-U-0052.pdf\" target=\"_blank\"><img src=\"https://www.nirfindia.org/images/pdf_icon.png\" style=\"width: 20px; height: 20px !important\"/></a> | <a href=\"https://www.nirfindia.org/nirfpdfcdn/2022/graph/University/IR-O-U-0052.png\" target=\"_blank\"><img src=\"https://www.nirfindia.org/images/graph.png\" style=\"width: 20px; height: 20px !important\"/></a></div><div class=\"tbl_hidden\" style=\"display:none;width:100%;\"><br/><table class=\"table \"><thead><tr><th>TLR (100)</th><th>RPC (100)</th><th>GO (100)</th><th>OI (100)</th><th>PERCEPTION (100)</th></tr></thead><tbody><tr><td>59.42</td><td>21.66</td><td>89.82</td><td>58.19</td><td>24.06</td></tr></tbody></table></div></td><td>Guwahati</td><td>Assam</td><td>50.52</td><td>36</td></tr><tr><td>IR-O-U-0098</td><td>Delhi Technological University<div style=\"float:right;\"><a class=\"btn-more-details\" href=\"javascript:;\"><span>More Details</span></a><a class=\"close_data\" id=\"close_1\" style=\"display: none;\">Close</a> | <a href=\"https://www.nirfindia.org/nirfpdfcdn/2022/pdf/University/IR-O-U-0098.pdf\" target=\"_blank\"><img src=\"https://www.nirfindia.org/images/pdf_icon.png\" style=\"width: 20px; height: 20px !important\"/></a> | <a href=\"https://www.nirfindia.org/nirfpdfcdn/2022/graph/University/IR-O-U-0098.png\" target=\"_blank\"><img src=\"https://www.nirfindia.org/images/graph.png\" style=\"width: 20px; height: 20px !important\"/></a></div><div class=\"tbl_hidden\" style=\"display:none;width:100%;\"><br/><table class=\"table \"><thead><tr><th>TLR (100)</th><th>RPC (100)</th><th>GO (100)</th><th>OI (100)</th><th>PERCEPTION (100)</th></tr></thead><tbody><tr><td>57.93</td><td>32.46</td><td>66.55</td><td>57.34</td><td>38.10</td></tr></tbody></table></div></td><td>New Delhi</td><td>Delhi</td><td>49.97</td><td>38</td></tr><tr><td>IR-O-I-1357</td><td>University of Madras<div style=\"float:right;\"><a class=\"btn-more-details\" href=\"javascript:;\"><span>More Details</span></a><a class=\"close_data\" id=\"close_1\" style=\"display: none;\">Close</a> | <a href=\"https://www.nirfindia.org/nirfpdfcdn/2022/pdf/University/IR-O-I-1357.pdf\" target=\"_blank\"><img src=\"https://www.nirfindia.org/images/pdf_icon.png\" style=\"width: 20px; height: 20px !important\"/></a> | <a href=\"https://www.nirfindia.org/nirfpdfcdn/2022/graph/University/IR-O-I-1357.png\" target=\"_blank\"><img src=\"https://www.nirfindia.org/images/graph.png\" style=\"width: 20px; height: 20px !important\"/></a></div><div class=\"tbl_hidden\" style=\"display:none;width:100%;\"><br/><table class=\"table \"><thead><tr><th>TLR (100)</th><th>RPC (100)</th><th>GO (100)</th><th>OI (100)</th><th>PERCEPTION (100)</th></tr></thead><tbody><tr><td>56.58</td><td>32.35</td><td>71.30</td><td>52.41</td><td>36.91</td></tr></tbody></table></div></td><td>Chennai</td><td>Tamil Nadu</td><td>49.86</td><td>39</td></tr><tr><td>IR-O-U-0260</td><td>Kerala University<div style=\"float:right;\"><a class=\"btn-more-details\" href=\"javascript:;\"><span>More Details</span></a><a class=\"close_data\" id=\"close_1\" style=\"display: none;\">Close</a> | <a href=\"https://www.nirfindia.org/nirfpdfcdn/2022/pdf/University/IR-O-U-0260.pdf\" target=\"_blank\"><img src=\"https://www.nirfindia.org/images/pdf_icon.png\" style=\"width: 20px; height: 20px !important\"/></a> | <a href=\"https://www.nirfindia.org/nirfpdfcdn/2022/graph/University/IR-O-U-0260.png\" target=\"_blank\"><img src=\"https://www.nirfindia.org/images/graph.png\" style=\"width: 20px; height: 20px !important\"/></a></div><div class=\"tbl_hidden\" style=\"display:none;width:100%;\"><br/><table class=\"table \"><thead><tr><th>TLR (100)</th><th>RPC (100)</th><th>GO (100)</th><th>OI (100)</th><th>PERCEPTION (100)</th></tr></thead><tbody><tr><td>65.23</td><td>20.29</td><td>94.40</td><td>51.07</td><td>1.54</td></tr></tbody></table></div></td><td>Thiruvananthapuram</td><td>Kerala</td><td>49.80</td><td>40</td></tr><tr><td>IR-O-U-0253</td><td>Cochin University of Science and Technology<div style=\"float:right;\"><a class=\"btn-more-details\" href=\"javascript:;\"><span>More Details</span></a><a class=\"close_data\" id=\"close_1\" style=\"display: none;\">Close</a> | <a href=\"https://www.nirfindia.org/nirfpdfcdn/2022/pdf/University/IR-O-U-0253.pdf\" target=\"_blank\"><img src=\"https://www.nirfindia.org/images/pdf_icon.png\" style=\"width: 20px; height: 20px !important\"/></a> | <a href=\"https://www.nirfindia.org/nirfpdfcdn/2022/graph/University/IR-O-U-0253.png\" target=\"_blank\"><img src=\"https://www.nirfindia.org/images/graph.png\" style=\"width: 20px; height: 20px !important\"/></a></div><div class=\"tbl_hidden\" style=\"display:none;width:100%;\"><br/><table class=\"table \"><thead><tr><th>TLR (100)</th><th>RPC (100)</th><th>GO (100)</th><th>OI (100)</th><th>PERCEPTION (100)</th></tr></thead><tbody><tr><td>57.05</td><td>32.57</td><td>73.37</td><td>51.63</td><td>27.11</td></tr></tbody></table></div></td><td>Cochin</td><td>Kerala</td><td>49.43</td><td>41</td></tr><tr><td>IR-O-I-1110</td><td>Dr. D. Y. Patil Vidyapeeth<div style=\"float:right;\"><a class=\"btn-more-details\" href=\"javascript:;\"><span>More Details</span></a><a class=\"close_data\" id=\"close_1\" style=\"display: none;\">Close</a> | <a href=\"https://www.nirfindia.org/nirfpdfcdn/2022/pdf/University/IR-O-I-1110.pdf\" target=\"_blank\"><img src=\"https://www.nirfindia.org/images/pdf_icon.png\" style=\"width: 20px; height: 20px !important\"/></a> | <a href=\"https://www.nirfindia.org/nirfpdfcdn/2022/graph/University/IR-O-I-1110.png\" target=\"_blank\"><img src=\"https://www.nirfindia.org/images/graph.png\" style=\"width: 20px; height: 20px !important\"/></a></div><div class=\"tbl_hidden\" style=\"display:none;width:100%;\"><br/><table class=\"table \"><thead><tr><th>TLR (100)</th><th>RPC (100)</th><th>GO (100)</th><th>OI (100)</th><th>PERCEPTION (100)</th></tr></thead><tbody><tr><td>69.78</td><td>19.22</td><td>64.27</td><td>61.30</td><td>37.63</td></tr></tbody></table></div></td><td>Pune</td><td>Maharashtra</td><td>49.43</td><td>41</td></tr><tr><td>IR-O-U-0474</td><td>Sathyabama Institute of Science and Technology<div style=\"float:right;\"><a class=\"btn-more-details\" href=\"javascript:;\"><span>More Details</span></a><a class=\"close_data\" id=\"close_1\" style=\"display: none;\">Close</a> | <a href=\"https://www.nirfindia.org/nirfpdfcdn/2022/pdf/University/IR-O-U-0474.pdf\" target=\"_blank\"><img src=\"https://www.nirfindia.org/images/pdf_icon.png\" style=\"width: 20px; height: 20px !important\"/></a> | <a href=\"https://www.nirfindia.org/nirfpdfcdn/2022/graph/University/IR-O-U-0474.png\" target=\"_blank\"><img src=\"https://www.nirfindia.org/images/graph.png\" style=\"width: 20px; height: 20px !important\"/></a></div><div class=\"tbl_hidden\" style=\"display:none;width:100%;\"><br/><table class=\"table \"><thead><tr><th>TLR (100)</th><th>RPC (100)</th><th>GO (100)</th><th>OI (100)</th><th>PERCEPTION (100)</th></tr></thead><tbody><tr><td>56.99</td><td>29.87</td><td>65.82</td><td>65.05</td><td>34.50</td></tr></tbody></table></div></td><td>Chennai</td><td>Tamil Nadu</td><td>49.18</td><td>43</td></tr><tr><td>IR-O-U-0376</td><td>Guru Nanak Dev University<div style=\"float:right;\"><a class=\"btn-more-details\" href=\"javascript:;\"><span>More Details</span></a><a class=\"close_data\" id=\"close_1\" style=\"display: none;\">Close</a> | <a href=\"https://www.nirfindia.org/nirfpdfcdn/2022/pdf/University/IR-O-U-0376.pdf\" target=\"_blank\"><img src=\"https://www.nirfindia.org/images/pdf_icon.png\" style=\"width: 20px; height: 20px !important\"/></a> | <a href=\"https://www.nirfindia.org/nirfpdfcdn/2022/graph/University/IR-O-U-0376.png\" target=\"_blank\"><img src=\"https://www.nirfindia.org/images/graph.png\" style=\"width: 20px; height: 20px !important\"/></a></div><div class=\"tbl_hidden\" style=\"display:none;width:100%;\"><br/><table class=\"table \"><thead><tr><th>TLR (100)</th><th>RPC (100)</th><th>GO (100)</th><th>OI (100)</th><th>PERCEPTION (100)</th></tr></thead><tbody><tr><td>51.06</td><td>28.73</td><td>78.53</td><td>56.60</td><td>37.01</td></tr></tbody></table></div></td><td>Amritsar</td><td>Punjab</td><td>49.01</td><td>44</td></tr><tr><td>IR-O-U-0318</td><td>Mumbai University<div style=\"float:right;\"><a class=\"btn-more-details\" href=\"javascript:;\"><span>More Details</span></a><a class=\"close_data\" id=\"close_1\" style=\"display: none;\">Close</a> | <a href=\"https://www.nirfindia.org/nirfpdfcdn/2022/pdf/University/IR-O-U-0318.pdf\" target=\"_blank\"><img src=\"https://www.nirfindia.org/images/pdf_icon.png\" style=\"width: 20px; height: 20px !important\"/></a> | <a href=\"https://www.nirfindia.org/nirfpdfcdn/2022/graph/University/IR-O-U-0318.png\" target=\"_blank\"><img src=\"https://www.nirfindia.org/images/graph.png\" style=\"width: 20px; height: 20px !important\"/></a></div><div class=\"tbl_hidden\" style=\"display:none;width:100%;\"><br/><table class=\"table \"><thead><tr><th>TLR (100)</th><th>RPC (100)</th><th>GO (100)</th><th>OI (100)</th><th>PERCEPTION (100)</th></tr></thead><tbody><tr><td>55.16</td><td>22.52</td><td>82.54</td><td>55.95</td><td>35.08</td></tr></tbody></table></div></td><td>Mumbai</td><td>Maharashtra</td><td>48.93</td><td>45</td></tr><tr><td>IR-O-U-0107</td><td>Jamia Hamdard<div style=\"float:right;\"><a class=\"btn-more-details\" href=\"javascript:;\"><span>More Details</span></a><a class=\"close_data\" id=\"close_1\" style=\"display: none;\">Close</a> | <a href=\"https://www.nirfindia.org/nirfpdfcdn/2022/pdf/University/IR-O-U-0107.pdf\" target=\"_blank\"><img src=\"https://www.nirfindia.org/images/pdf_icon.png\" style=\"width: 20px; height: 20px !important\"/></a> | <a href=\"https://www.nirfindia.org/nirfpdfcdn/2022/graph/University/IR-O-U-0107.png\" target=\"_blank\"><img src=\"https://www.nirfindia.org/images/graph.png\" style=\"width: 20px; height: 20px !important\"/></a></div><div class=\"tbl_hidden\" style=\"display:none;width:100%;\"><br/><table class=\"table \"><thead><tr><th>TLR (100)</th><th>RPC (100)</th><th>GO (100)</th><th>OI (100)</th><th>PERCEPTION (100)</th></tr></thead><tbody><tr><td>56.93</td><td>30.15</td><td>70.35</td><td>60.93</td><td>26.53</td></tr></tbody></table></div></td><td>New Delhi</td><td>Delhi</td><td>48.93</td><td>45</td></tr><tr><td>IR-O-U-0379</td><td>Lovely Professional University<div style=\"float:right;\"><a class=\"btn-more-details\" href=\"javascript:;\"><span>More Details</span></a><a class=\"close_data\" id=\"close_1\" style=\"display: none;\">Close</a> | <a href=\"https://www.nirfindia.org/nirfpdfcdn/2022/pdf/University/IR-O-U-0379.pdf\" target=\"_blank\"><img src=\"https://www.nirfindia.org/images/pdf_icon.png\" style=\"width: 20px; height: 20px !important\"/></a> | <a href=\"https://www.nirfindia.org/nirfpdfcdn/2022/graph/University/IR-O-U-0379.png\" target=\"_blank\"><img src=\"https://www.nirfindia.org/images/graph.png\" style=\"width: 20px; height: 20px !important\"/></a></div><div class=\"tbl_hidden\" style=\"display:none;width:100%;\"><br/><table class=\"table \"><thead><tr><th>TLR (100)</th><th>RPC (100)</th><th>GO (100)</th><th>OI (100)</th><th>PERCEPTION (100)</th></tr></thead><tbody><tr><td>56.40</td><td>34.71</td><td>66.11</td><td>69.33</td><td>14.40</td></tr></tbody></table></div></td><td>Phagwara</td><td>Punjab</td><td>48.92</td><td>47</td></tr><tr><td>IR-O-I-1486</td><td>Sri Ramachandra Institute of Higher Education and Research<div style=\"float:right;\"><a class=\"btn-more-details\" href=\"javascript:;\"><span>More Details</span></a><a class=\"close_data\" id=\"close_1\" style=\"display: none;\">Close</a> | <a href=\"https://www.nirfindia.org/nirfpdfcdn/2022/pdf/University/IR-O-I-1486.pdf\" target=\"_blank\"><img src=\"https://www.nirfindia.org/images/pdf_icon.png\" style=\"width: 20px; height: 20px !important\"/></a> | <a href=\"https://www.nirfindia.org/nirfpdfcdn/2022/graph/University/IR-O-I-1486.png\" target=\"_blank\"><img src=\"https://www.nirfindia.org/images/graph.png\" style=\"width: 20px; height: 20px !important\"/></a></div><div class=\"tbl_hidden\" style=\"display:none;width:100%;\"><br/><table class=\"table \"><thead><tr><th>TLR (100)</th><th>RPC (100)</th><th>GO (100)</th><th>OI (100)</th><th>PERCEPTION (100)</th></tr></thead><tbody><tr><td>69.68</td><td>17.07</td><td>64.33</td><td>65.08</td><td>34.74</td></tr></tbody></table></div></td><td>Chennai</td><td>Tamil Nadu</td><td>48.87</td><td>48</td></tr><tr><td>IR-O-U-0389</td><td>Banasthali Vidyapith<div style=\"float:right;\"><a class=\"btn-more-details\" href=\"javascript:;\"><span>More Details</span></a><a class=\"close_data\" id=\"close_1\" style=\"display: none;\">Close</a> | <a href=\"https://www.nirfindia.org/nirfpdfcdn/2022/pdf/University/IR-O-U-0389.pdf\" target=\"_blank\"><img src=\"https://www.nirfindia.org/images/pdf_icon.png\" style=\"width: 20px; height: 20px !important\"/></a> | <a href=\"https://www.nirfindia.org/nirfpdfcdn/2022/graph/University/IR-O-U-0389.png\" target=\"_blank\"><img src=\"https://www.nirfindia.org/images/graph.png\" style=\"width: 20px; height: 20px !important\"/></a></div><div class=\"tbl_hidden\" style=\"display:none;width:100%;\"><br/><table class=\"table \"><thead><tr><th>TLR (100)</th><th>RPC (100)</th><th>GO (100)</th><th>OI (100)</th><th>PERCEPTION (100)</th></tr></thead><tbody><tr><td>53.01</td><td>15.98</td><td>84.96</td><td>75.83</td><td>33.71</td></tr></tbody></table></div></td><td>Banasthali</td><td>Rajasthan</td><td>48.64</td><td>49</td></tr><tr><td>IR-O-U-0523</td><td>King George`s Medical University<div style=\"float:right;\"><a class=\"btn-more-details\" href=\"javascript:;\"><span>More Details</span></a><a class=\"close_data\" id=\"close_1\" style=\"display: none;\">Close</a> | <a href=\"https://www.nirfindia.org/nirfpdfcdn/2022/pdf/University/IR-O-U-0523.pdf\" target=\"_blank\"><img src=\"https://www.nirfindia.org/images/pdf_icon.png\" style=\"width: 20px; height: 20px !important\"/></a> | <a href=\"https://www.nirfindia.org/nirfpdfcdn/2022/graph/University/IR-O-U-0523.png\" target=\"_blank\"><img src=\"https://www.nirfindia.org/images/graph.png\" style=\"width: 20px; height: 20px !important\"/></a></div><div class=\"tbl_hidden\" style=\"display:none;width:100%;\"><br/><table class=\"table \"><thead><tr><th>TLR (100)</th><th>RPC (100)</th><th>GO (100)</th><th>OI (100)</th><th>PERCEPTION (100)</th></tr></thead><tbody><tr><td>66.33</td><td>26.31</td><td>63.36</td><td>55.83</td><td>24.70</td></tr></tbody></table></div></td><td>Lucknow</td><td>Uttar Pradesh</td><td>48.51</td><td>50</td></tr><tr><td>IR-O-N-10</td><td>SVKM`s Narsee Monjee Institute of Management Studies<div style=\"float:right;\"><a class=\"btn-more-details\" href=\"javascript:;\"><span>More Details</span></a><a class=\"close_data\" id=\"close_1\" style=\"display: none;\">Close</a> | <a href=\"https://www.nirfindia.org/nirfpdfcdn/2022/pdf/University/IR-O-N-10.pdf\" target=\"_blank\"><img src=\"https://www.nirfindia.org/images/pdf_icon.png\" style=\"width: 20px; height: 20px !important\"/></a> | <a href=\"https://www.nirfindia.org/nirfpdfcdn/2022/graph/University/IR-O-N-10.png\" target=\"_blank\"><img src=\"https://www.nirfindia.org/images/graph.png\" style=\"width: 20px; height: 20px !important\"/></a></div><div class=\"tbl_hidden\" style=\"display:none;width:100%;\"><br/><table class=\"table \"><thead><tr><th>TLR (100)</th><th>RPC (100)</th><th>GO (100)</th><th>OI (100)</th><th>PERCEPTION (100)</th></tr></thead><tbody><tr><td>68.42</td><td>17.66</td><td>64.52</td><td>62.17</td><td>35.08</td></tr></tbody></table></div></td><td>Mumbai</td><td>Maharashtra</td><td>48.46</td><td>51</td></tr><tr><td>IR-O-U-0463</td><td>Madurai Kamaraj University<div style=\"float:right;\"><a class=\"btn-more-details\" href=\"javascript:;\"><span>More Details</span></a><a class=\"close_data\" id=\"close_1\" style=\"display: none;\">Close</a> | <a href=\"https://www.nirfindia.org/nirfpdfcdn/2022/pdf/University/IR-O-U-0463.pdf\" target=\"_blank\"><img src=\"https://www.nirfindia.org/images/pdf_icon.png\" style=\"width: 20px; height: 20px !important\"/></a> | <a href=\"https://www.nirfindia.org/nirfpdfcdn/2022/graph/University/IR-O-U-0463.png\" target=\"_blank\"><img src=\"https://www.nirfindia.org/images/graph.png\" style=\"width: 20px; height: 20px !important\"/></a></div><div class=\"tbl_hidden\" style=\"display:none;width:100%;\"><br/><table class=\"table \"><thead><tr><th>TLR (100)</th><th>RPC (100)</th><th>GO (100)</th><th>OI (100)</th><th>PERCEPTION (100)</th></tr></thead><tbody><tr><td>63.33</td><td>24.04</td><td>65.24</td><td>52.47</td><td>38.82</td></tr></tbody></table></div></td><td>Madurai</td><td>Tamil Nadu</td><td>48.39</td><td>52</td></tr><tr><td>IR-O-U-0196</td><td>University of Kashmir<div style=\"float:right;\"><a class=\"btn-more-details\" href=\"javascript:;\"><span>More Details</span></a><a class=\"close_data\" id=\"close_1\" style=\"display: none;\">Close</a> | <a href=\"https://www.nirfindia.org/nirfpdfcdn/2022/pdf/University/IR-O-U-0196.pdf\" target=\"_blank\"><img src=\"https://www.nirfindia.org/images/pdf_icon.png\" style=\"width: 20px; height: 20px !important\"/></a> | <a href=\"https://www.nirfindia.org/nirfpdfcdn/2022/graph/University/IR-O-U-0196.png\" target=\"_blank\"><img src=\"https://www.nirfindia.org/images/graph.png\" style=\"width: 20px; height: 20px !important\"/></a></div><div class=\"tbl_hidden\" style=\"display:none;width:100%;\"><br/><table class=\"table \"><thead><tr><th>TLR (100)</th><th>RPC (100)</th><th>GO (100)</th><th>OI (100)</th><th>PERCEPTION (100)</th></tr></thead><tbody><tr><td>60.58</td><td>21.23</td><td>79.56</td><td>51.37</td><td>26.65</td></tr></tbody></table></div></td><td>Srinagar</td><td>Jammu and Kashmir</td><td>48.27</td><td>53</td></tr><tr><td>IR-O-U-0295</td><td>Datta Meghe Institute of Medical Sciences<div style=\"float:right;\"><a class=\"btn-more-details\" href=\"javascript:;\"><span>More Details</span></a><a class=\"close_data\" id=\"close_1\" style=\"display: none;\">Close</a> | <a href=\"https://www.nirfindia.org/nirfpdfcdn/2022/pdf/University/IR-O-U-0295.pdf\" target=\"_blank\"><img src=\"https://www.nirfindia.org/images/pdf_icon.png\" style=\"width: 20px; height: 20px !important\"/></a> | <a href=\"https://www.nirfindia.org/nirfpdfcdn/2022/graph/University/IR-O-U-0295.png\" target=\"_blank\"><img src=\"https://www.nirfindia.org/images/graph.png\" style=\"width: 20px; height: 20px !important\"/></a></div><div class=\"tbl_hidden\" style=\"display:none;width:100%;\"><br/><table class=\"table \"><thead><tr><th>TLR (100)</th><th>RPC (100)</th><th>GO (100)</th><th>OI (100)</th><th>PERCEPTION (100)</th></tr></thead><tbody><tr><td>65.25</td><td>23.54</td><td>59.60</td><td>65.38</td><td>30.78</td></tr></tbody></table></div></td><td>Wardha</td><td>Maharashtra</td><td>48.18</td><td>54</td></tr><tr><td>IR-O-U-0498</td><td>Babasheb Bhimrao Ambedkar University<div style=\"float:right;\"><a class=\"btn-more-details\" href=\"javascript:;\"><span>More Details</span></a><a class=\"close_data\" id=\"close_1\" style=\"display: none;\">Close</a> | <a href=\"https://www.nirfindia.org/nirfpdfcdn/2022/pdf/University/IR-O-U-0498.pdf\" target=\"_blank\"><img src=\"https://www.nirfindia.org/images/pdf_icon.png\" style=\"width: 20px; height: 20px !important\"/></a> | <a href=\"https://www.nirfindia.org/nirfpdfcdn/2022/graph/University/IR-O-U-0498.png\" target=\"_blank\"><img src=\"https://www.nirfindia.org/images/graph.png\" style=\"width: 20px; height: 20px !important\"/></a></div><div class=\"tbl_hidden\" style=\"display:none;width:100%;\"><br/><table class=\"table \"><thead><tr><th>TLR (100)</th><th>RPC (100)</th><th>GO (100)</th><th>OI (100)</th><th>PERCEPTION (100)</th></tr></thead><tbody><tr><td>53.54</td><td>19.68</td><td>82.46</td><td>74.59</td><td>21.36</td></tr></tbody></table></div></td><td>Lucknow</td><td>Uttar Pradesh</td><td>48.05</td><td>55</td></tr><tr><td>IR-O-U-0195</td><td>University of Jammu<div style=\"float:right;\"><a class=\"btn-more-details\" href=\"javascript:;\"><span>More Details</span></a><a class=\"close_data\" id=\"close_1\" style=\"display: none;\">Close</a> | <a href=\"https://www.nirfindia.org/nirfpdfcdn/2022/pdf/University/IR-O-U-0195.pdf\" target=\"_blank\"><img src=\"https://www.nirfindia.org/images/pdf_icon.png\" style=\"width: 20px; height: 20px !important\"/></a> | <a href=\"https://www.nirfindia.org/nirfpdfcdn/2022/graph/University/IR-O-U-0195.png\" target=\"_blank\"><img src=\"https://www.nirfindia.org/images/graph.png\" style=\"width: 20px; height: 20px !important\"/></a></div><div class=\"tbl_hidden\" style=\"display:none;width:100%;\"><br/><table class=\"table \"><thead><tr><th>TLR (100)</th><th>RPC (100)</th><th>GO (100)</th><th>OI (100)</th><th>PERCEPTION (100)</th></tr></thead><tbody><tr><td>64.90</td><td>19.12</td><td>74.83</td><td>46.63</td><td>31.92</td></tr></tbody></table></div></td><td>Jammu</td><td>Jammu and Kashmir</td><td>48.03</td><td>56</td></tr><tr><td>IR-O-U-0448</td><td>Bharathidasan University<div style=\"float:right;\"><a class=\"btn-more-details\" href=\"javascript:;\"><span>More Details</span></a><a class=\"close_data\" id=\"close_1\" style=\"display: none;\">Close</a> | <a href=\"https://www.nirfindia.org/nirfpdfcdn/2022/pdf/University/IR-O-U-0448.pdf\" target=\"_blank\"><img src=\"https://www.nirfindia.org/images/pdf_icon.png\" style=\"width: 20px; height: 20px !important\"/></a> | <a href=\"https://www.nirfindia.org/nirfpdfcdn/2022/graph/University/IR-O-U-0448.png\" target=\"_blank\"><img src=\"https://www.nirfindia.org/images/graph.png\" style=\"width: 20px; height: 20px !important\"/></a></div><div class=\"tbl_hidden\" style=\"display:none;width:100%;\"><br/><table class=\"table \"><thead><tr><th>TLR (100)</th><th>RPC (100)</th><th>GO (100)</th><th>OI (100)</th><th>PERCEPTION (100)</th></tr></thead><tbody><tr><td>57.72</td><td>32.56</td><td>61.80</td><td>48.10</td><td>37.17</td></tr></tbody></table></div></td><td>Tiruchirappalli</td><td>Tamil Nadu</td><td>47.98</td><td>57</td></tr><tr><td>IR-O-U-0136</td><td>Gujarat University<div style=\"float:right;\"><a class=\"btn-more-details\" href=\"javascript:;\"><span>More Details</span></a><a class=\"close_data\" id=\"close_1\" style=\"display: none;\">Close</a> | <a href=\"https://www.nirfindia.org/nirfpdfcdn/2022/pdf/University/IR-O-U-0136.pdf\" target=\"_blank\"><img src=\"https://www.nirfindia.org/images/pdf_icon.png\" style=\"width: 20px; height: 20px !important\"/></a> | <a href=\"https://www.nirfindia.org/nirfpdfcdn/2022/graph/University/IR-O-U-0136.png\" target=\"_blank\"><img src=\"https://www.nirfindia.org/images/graph.png\" style=\"width: 20px; height: 20px !important\"/></a></div><div class=\"tbl_hidden\" style=\"display:none;width:100%;\"><br/><table class=\"table \"><thead><tr><th>TLR (100)</th><th>RPC (100)</th><th>GO (100)</th><th>OI (100)</th><th>PERCEPTION (100)</th></tr></thead><tbody><tr><td>64.75</td><td>18.38</td><td>83.30</td><td>57.39</td><td>2.65</td></tr></tbody></table></div></td><td>Ahmedabad</td><td>Gujarat</td><td>47.61</td><td>58</td></tr><tr><td>IR-O-U-0056</td><td>Tezpur University<div style=\"float:right;\"><a class=\"btn-more-details\" href=\"javascript:;\"><span>More Details</span></a><a class=\"close_data\" id=\"close_1\" style=\"display: none;\">Close</a> | <a href=\"https://www.nirfindia.org/nirfpdfcdn/2022/pdf/University/IR-O-U-0056.pdf\" target=\"_blank\"><img src=\"https://www.nirfindia.org/images/pdf_icon.png\" style=\"width: 20px; height: 20px !important\"/></a> | <a href=\"https://www.nirfindia.org/nirfpdfcdn/2022/graph/University/IR-O-U-0056.png\" target=\"_blank\"><img src=\"https://www.nirfindia.org/images/graph.png\" style=\"width: 20px; height: 20px !important\"/></a></div><div class=\"tbl_hidden\" style=\"display:none;width:100%;\"><br/><table class=\"table \"><thead><tr><th>TLR (100)</th><th>RPC (100)</th><th>GO (100)</th><th>OI (100)</th><th>PERCEPTION (100)</th></tr></thead><tbody><tr><td>59.71</td><td>27.49</td><td>63.29</td><td>50.67</td><td>35.88</td></tr></tbody></table></div></td><td>Tezpur</td><td>Assam</td><td>47.48</td><td>59</td></tr><tr><td>IR-O-U-0331</td><td>Tata Institute of Social Sciences<div style=\"float:right;\"><a class=\"btn-more-details\" href=\"javascript:;\"><span>More Details</span></a><a class=\"close_data\" id=\"close_1\" style=\"display: none;\">Close</a> | <a href=\"https://www.nirfindia.org/nirfpdfcdn/2022/pdf/University/IR-O-U-0331.pdf\" target=\"_blank\"><img src=\"https://www.nirfindia.org/images/pdf_icon.png\" style=\"width: 20px; height: 20px !important\"/></a> | <a href=\"https://www.nirfindia.org/nirfpdfcdn/2022/graph/University/IR-O-U-0331.png\" target=\"_blank\"><img src=\"https://www.nirfindia.org/images/graph.png\" style=\"width: 20px; height: 20px !important\"/></a></div><div class=\"tbl_hidden\" style=\"display:none;width:100%;\"><br/><table class=\"table \"><thead><tr><th>TLR (100)</th><th>RPC (100)</th><th>GO (100)</th><th>OI (100)</th><th>PERCEPTION (100)</th></tr></thead><tbody><tr><td>56.66</td><td>10.45</td><td>78.36</td><td>75.42</td><td>38.23</td></tr></tbody></table></div></td><td>Mumbai</td><td>Maharashtra</td><td>47.16</td><td>60</td></tr><tr><td>IR-O-U-0642</td><td>Shiv Nadar University<div style=\"float:right;\"><a class=\"btn-more-details\" href=\"javascript:;\"><span>More Details</span></a><a class=\"close_data\" id=\"close_1\" style=\"display: none;\">Close</a> | <a href=\"https://www.nirfindia.org/nirfpdfcdn/2022/pdf/University/IR-O-U-0642.pdf\" target=\"_blank\"><img src=\"https://www.nirfindia.org/images/pdf_icon.png\" style=\"width: 20px; height: 20px !important\"/></a> | <a href=\"https://www.nirfindia.org/nirfpdfcdn/2022/graph/University/IR-O-U-0642.png\" target=\"_blank\"><img src=\"https://www.nirfindia.org/images/graph.png\" style=\"width: 20px; height: 20px !important\"/></a></div><div class=\"tbl_hidden\" style=\"display:none;width:100%;\"><br/><table class=\"table \"><thead><tr><th>TLR (100)</th><th>RPC (100)</th><th>GO (100)</th><th>OI (100)</th><th>PERCEPTION (100)</th></tr></thead><tbody><tr><td>63.53</td><td>20.75</td><td>64.70</td><td>61.38</td><td>22.06</td></tr></tbody></table></div></td><td>Dadri</td><td>Uttar Pradesh</td><td>46.57</td><td>61</td></tr><tr><td>IR-O-U-0446</td><td>Bharath Institute of Higher Education &amp; Research<div style=\"float:right;\"><a class=\"btn-more-details\" href=\"javascript:;\"><span>More Details</span></a><a class=\"close_data\" id=\"close_1\" style=\"display: none;\">Close</a> | <a href=\"https://www.nirfindia.org/nirfpdfcdn/2022/pdf/University/IR-O-U-0446.pdf\" target=\"_blank\"><img src=\"https://www.nirfindia.org/images/pdf_icon.png\" style=\"width: 20px; height: 20px !important\"/></a> | <a href=\"https://www.nirfindia.org/nirfpdfcdn/2022/graph/University/IR-O-U-0446.png\" target=\"_blank\"><img src=\"https://www.nirfindia.org/images/graph.png\" style=\"width: 20px; height: 20px !important\"/></a></div><div class=\"tbl_hidden\" style=\"display:none;width:100%;\"><br/><table class=\"table \"><thead><tr><th>TLR (100)</th><th>RPC (100)</th><th>GO (100)</th><th>OI (100)</th><th>PERCEPTION (100)</th></tr></thead><tbody><tr><td>56.20</td><td>23.15</td><td>70.31</td><td>64.28</td><td>21.01</td></tr></tbody></table></div></td><td>Chennai</td><td>Tamil Nadu</td><td>46.40</td><td>62</td></tr><tr><td>IR-O-U-0470</td><td>Periyar University<div style=\"float:right;\"><a class=\"btn-more-details\" href=\"javascript:;\"><span>More Details</span></a><a class=\"close_data\" id=\"close_1\" style=\"display: none;\">Close</a> | <a href=\"https://www.nirfindia.org/nirfpdfcdn/2022/pdf/University/IR-O-U-0470.pdf\" target=\"_blank\"><img src=\"https://www.nirfindia.org/images/pdf_icon.png\" style=\"width: 20px; height: 20px !important\"/></a> | <a href=\"https://www.nirfindia.org/nirfpdfcdn/2022/graph/University/IR-O-U-0470.png\" target=\"_blank\"><img src=\"https://www.nirfindia.org/images/graph.png\" style=\"width: 20px; height: 20px !important\"/></a></div><div class=\"tbl_hidden\" style=\"display:none;width:100%;\"><br/><table class=\"table \"><thead><tr><th>TLR (100)</th><th>RPC (100)</th><th>GO (100)</th><th>OI (100)</th><th>PERCEPTION (100)</th></tr></thead><tbody><tr><td>53.08</td><td>25.63</td><td>67.97</td><td>55.91</td><td>32.65</td></tr></tbody></table></div></td><td>Salem</td><td>Tamil Nadu</td><td>46.06</td><td>63</td></tr><tr><td>IR-O-U-0215</td><td>Bangalore University<div style=\"float:right;\"><a class=\"btn-more-details\" href=\"javascript:;\"><span>More Details</span></a><a class=\"close_data\" id=\"close_1\" style=\"display: none;\">Close</a> | <a href=\"https://www.nirfindia.org/nirfpdfcdn/2022/pdf/University/IR-O-U-0215.pdf\" target=\"_blank\"><img src=\"https://www.nirfindia.org/images/pdf_icon.png\" style=\"width: 20px; height: 20px !important\"/></a> | <a href=\"https://www.nirfindia.org/nirfpdfcdn/2022/graph/University/IR-O-U-0215.png\" target=\"_blank\"><img src=\"https://www.nirfindia.org/images/graph.png\" style=\"width: 20px; height: 20px !important\"/></a></div><div class=\"tbl_hidden\" style=\"display:none;width:100%;\"><br/><table class=\"table \"><thead><tr><th>TLR (100)</th><th>RPC (100)</th><th>GO (100)</th><th>OI (100)</th><th>PERCEPTION (100)</th></tr></thead><tbody><tr><td>58.70</td><td>17.38</td><td>74.73</td><td>57.04</td><td>25.32</td></tr></tbody></table></div></td><td>Bangalore</td><td>Karnataka</td><td>46.01</td><td>64</td></tr><tr><td>IR-O-U-0564</td><td>University of Petroleum and Energy Studies<div style=\"float:right;\"><a class=\"btn-more-details\" href=\"javascript:;\"><span>More Details</span></a><a class=\"close_data\" id=\"close_1\" style=\"display: none;\">Close</a> | <a href=\"https://www.nirfindia.org/nirfpdfcdn/2022/pdf/University/IR-O-U-0564.pdf\" target=\"_blank\"><img src=\"https://www.nirfindia.org/images/pdf_icon.png\" style=\"width: 20px; height: 20px !important\"/></a> | <a href=\"https://www.nirfindia.org/nirfpdfcdn/2022/graph/University/IR-O-U-0564.png\" target=\"_blank\"><img src=\"https://www.nirfindia.org/images/graph.png\" style=\"width: 20px; height: 20px !important\"/></a></div><div class=\"tbl_hidden\" style=\"display:none;width:100%;\"><br/><table class=\"table \"><thead><tr><th>TLR (100)</th><th>RPC (100)</th><th>GO (100)</th><th>OI (100)</th><th>PERCEPTION (100)</th></tr></thead><tbody><tr><td>56.69</td><td>19.48</td><td>60.48</td><td>65.01</td><td>40.39</td></tr></tbody></table></div></td><td>Dehradun</td><td>Uttarakhand</td><td>45.49</td><td>65</td></tr><tr><td>IR-O-U-0341</td><td>North Eastern Hill University<div style=\"float:right;\"><a class=\"btn-more-details\" href=\"javascript:;\"><span>More Details</span></a><a class=\"close_data\" id=\"close_1\" style=\"display: none;\">Close</a> | <a href=\"https://www.nirfindia.org/nirfpdfcdn/2022/pdf/University/IR-O-U-0341.pdf\" target=\"_blank\"><img src=\"https://www.nirfindia.org/images/pdf_icon.png\" style=\"width: 20px; height: 20px !important\"/></a> | <a href=\"https://www.nirfindia.org/nirfpdfcdn/2022/graph/University/IR-O-U-0341.png\" target=\"_blank\"><img src=\"https://www.nirfindia.org/images/graph.png\" style=\"width: 20px; height: 20px !important\"/></a></div><div class=\"tbl_hidden\" style=\"display:none;width:100%;\"><br/><table class=\"table \"><thead><tr><th>TLR (100)</th><th>RPC (100)</th><th>GO (100)</th><th>OI (100)</th><th>PERCEPTION (100)</th></tr></thead><tbody><tr><td>56.73</td><td>17.80</td><td>77.78</td><td>51.80</td><td>23.41</td></tr></tbody></table></div></td><td>Shillong</td><td>Meghalaya</td><td>45.44</td><td>66</td></tr><tr><td>IR-O-U-0037</td><td>Sri Venkateswara University<div style=\"float:right;\"><a class=\"btn-more-details\" href=\"javascript:;\"><span>More Details</span></a><a class=\"close_data\" id=\"close_1\" style=\"display: none;\">Close</a> | <a href=\"https://www.nirfindia.org/nirfpdfcdn/2022/pdf/University/IR-O-U-0037.pdf\" target=\"_blank\"><img src=\"https://www.nirfindia.org/images/pdf_icon.png\" style=\"width: 20px; height: 20px !important\"/></a> | <a href=\"https://www.nirfindia.org/nirfpdfcdn/2022/graph/University/IR-O-U-0037.png\" target=\"_blank\"><img src=\"https://www.nirfindia.org/images/graph.png\" style=\"width: 20px; height: 20px !important\"/></a></div><div class=\"tbl_hidden\" style=\"display:none;width:100%;\"><br/><table class=\"table \"><thead><tr><th>TLR (100)</th><th>RPC (100)</th><th>GO (100)</th><th>OI (100)</th><th>PERCEPTION (100)</th></tr></thead><tbody><tr><td>49.27</td><td>18.27</td><td>79.86</td><td>52.04</td><td>36.38</td></tr></tbody></table></div></td><td>Tirupati</td><td>Andhra Pradesh</td><td>45.07</td><td>67</td></tr><tr><td>IR-O-U-0369</td><td>Pondicherry University<div style=\"float:right;\"><a class=\"btn-more-details\" href=\"javascript:;\"><span>More Details</span></a><a class=\"close_data\" id=\"close_1\" style=\"display: none;\">Close</a> | <a href=\"https://www.nirfindia.org/nirfpdfcdn/2022/pdf/University/IR-O-U-0369.pdf\" target=\"_blank\"><img src=\"https://www.nirfindia.org/images/pdf_icon.png\" style=\"width: 20px; height: 20px !important\"/></a> | <a href=\"https://www.nirfindia.org/nirfpdfcdn/2022/graph/University/IR-O-U-0369.png\" target=\"_blank\"><img src=\"https://www.nirfindia.org/images/graph.png\" style=\"width: 20px; height: 20px !important\"/></a></div><div class=\"tbl_hidden\" style=\"display:none;width:100%;\"><br/><table class=\"table \"><thead><tr><th>TLR (100)</th><th>RPC (100)</th><th>GO (100)</th><th>OI (100)</th><th>PERCEPTION (100)</th></tr></thead><tbody><tr><td>42.84</td><td>28.84</td><td>73.16</td><td>59.69</td><td>28.53</td></tr></tbody></table></div></td><td>Puducherry</td><td>Pondicherry</td><td>44.95</td><td>68</td></tr><tr><td>IR-O-U-0251</td><td>Calicut University, Thenhipalem<div style=\"float:right;\"><a class=\"btn-more-details\" href=\"javascript:;\"><span>More Details</span></a><a class=\"close_data\" id=\"close_1\" style=\"display: none;\">Close</a> | <a href=\"https://www.nirfindia.org/nirfpdfcdn/2022/pdf/University/IR-O-U-0251.pdf\" target=\"_blank\"><img src=\"https://www.nirfindia.org/images/pdf_icon.png\" style=\"width: 20px; height: 20px !important\"/></a> | <a href=\"https://www.nirfindia.org/nirfpdfcdn/2022/graph/University/IR-O-U-0251.png\" target=\"_blank\"><img src=\"https://www.nirfindia.org/images/graph.png\" style=\"width: 20px; height: 20px !important\"/></a></div><div class=\"tbl_hidden\" style=\"display:none;width:100%;\"><br/><table class=\"table \"><thead><tr><th>TLR (100)</th><th>RPC (100)</th><th>GO (100)</th><th>OI (100)</th><th>PERCEPTION (100)</th></tr></thead><tbody><tr><td>65.11</td><td>17.09</td><td>61.20</td><td>58.56</td><td>21.71</td></tr></tbody></table></div></td><td>Malappuram</td><td>Kerala</td><td>44.93</td><td>69</td></tr><tr><td>IR-O-U-0370</td><td>Sri Balaji Vidyapeeth Mahatma Gandhi Medical College Campus<div style=\"float:right;\"><a class=\"btn-more-details\" href=\"javascript:;\"><span>More Details</span></a><a class=\"close_data\" id=\"close_1\" style=\"display: none;\">Close</a> | <a href=\"https://www.nirfindia.org/nirfpdfcdn/2022/pdf/University/IR-O-U-0370.pdf\" target=\"_blank\"><img src=\"https://www.nirfindia.org/images/pdf_icon.png\" style=\"width: 20px; height: 20px !important\"/></a> | <a href=\"https://www.nirfindia.org/nirfpdfcdn/2022/graph/University/IR-O-U-0370.png\" target=\"_blank\"><img src=\"https://www.nirfindia.org/images/graph.png\" style=\"width: 20px; height: 20px !important\"/></a></div><div class=\"tbl_hidden\" style=\"display:none;width:100%;\"><br/><table class=\"table \"><thead><tr><th>TLR (100)</th><th>RPC (100)</th><th>GO (100)</th><th>OI (100)</th><th>PERCEPTION (100)</th></tr></thead><tbody><tr><td>64.47</td><td>8.58</td><td>60.40</td><td>77.26</td><td>30.00</td></tr></tbody></table></div></td><td>Puducherry</td><td>Pondicherry</td><td>44.72</td><td>70</td></tr><tr><td>IR-O-U-0217</td><td>Christ University<div style=\"float:right;\"><a class=\"btn-more-details\" href=\"javascript:;\"><span>More Details</span></a><a class=\"close_data\" id=\"close_1\" style=\"display: none;\">Close</a> | <a href=\"https://www.nirfindia.org/nirfpdfcdn/2022/pdf/University/IR-O-U-0217.pdf\" target=\"_blank\"><img src=\"https://www.nirfindia.org/images/pdf_icon.png\" style=\"width: 20px; height: 20px !important\"/></a> | <a href=\"https://www.nirfindia.org/nirfpdfcdn/2022/graph/University/IR-O-U-0217.png\" target=\"_blank\"><img src=\"https://www.nirfindia.org/images/graph.png\" style=\"width: 20px; height: 20px !important\"/></a></div><div class=\"tbl_hidden\" style=\"display:none;width:100%;\"><br/><table class=\"table \"><thead><tr><th>TLR (100)</th><th>RPC (100)</th><th>GO (100)</th><th>OI (100)</th><th>PERCEPTION (100)</th></tr></thead><tbody><tr><td>51.83</td><td>10.84</td><td>67.04</td><td>68.64</td><td>52.36</td></tr></tbody></table></div></td><td>Bengaluru</td><td>Karnataka</td><td>44.31</td><td>71</td></tr><tr><td>IR-O-U-0249</td><td>Visvesvaraya Technological University<div style=\"float:right;\"><a class=\"btn-more-details\" href=\"javascript:;\"><span>More Details</span></a><a class=\"close_data\" id=\"close_1\" style=\"display: none;\">Close</a> | <a href=\"https://www.nirfindia.org/nirfpdfcdn/2022/pdf/University/IR-O-U-0249.pdf\" target=\"_blank\"><img src=\"https://www.nirfindia.org/images/pdf_icon.png\" style=\"width: 20px; height: 20px !important\"/></a> | <a href=\"https://www.nirfindia.org/nirfpdfcdn/2022/graph/University/IR-O-U-0249.png\" target=\"_blank\"><img src=\"https://www.nirfindia.org/images/graph.png\" style=\"width: 20px; height: 20px !important\"/></a></div><div class=\"tbl_hidden\" style=\"display:none;width:100%;\"><br/><table class=\"table \"><thead><tr><th>TLR (100)</th><th>RPC (100)</th><th>GO (100)</th><th>OI (100)</th><th>PERCEPTION (100)</th></tr></thead><tbody><tr><td>58.94</td><td>27.28</td><td>61.10</td><td>58.36</td><td>3.01</td></tr></tbody></table></div></td><td>Belgaum</td><td>Karnataka</td><td>44.22</td><td>72</td></tr><tr><td>IR-O-U-0311</td><td>Krishna Institute of Medical Sciences Deemed University, Karad<div style=\"float:right;\"><a class=\"btn-more-details\" href=\"javascript:;\"><span>More Details</span></a><a class=\"close_data\" id=\"close_1\" style=\"display: none;\">Close</a> | <a href=\"https://www.nirfindia.org/nirfpdfcdn/2022/pdf/University/IR-O-U-0311.pdf\" target=\"_blank\"><img src=\"https://www.nirfindia.org/images/pdf_icon.png\" style=\"width: 20px; height: 20px !important\"/></a> | <a href=\"https://www.nirfindia.org/nirfpdfcdn/2022/graph/University/IR-O-U-0311.png\" target=\"_blank\"><img src=\"https://www.nirfindia.org/images/graph.png\" style=\"width: 20px; height: 20px !important\"/></a></div><div class=\"tbl_hidden\" style=\"display:none;width:100%;\"><br/><table class=\"table \"><thead><tr><th>TLR (100)</th><th>RPC (100)</th><th>GO (100)</th><th>OI (100)</th><th>PERCEPTION (100)</th></tr></thead><tbody><tr><td>64.69</td><td>14.63</td><td>60.27</td><td>58.50</td><td>24.39</td></tr></tbody></table></div></td><td>Karad</td><td>Maharashtra</td><td>44.14</td><td>73</td></tr><tr><td>IR-O-U-0555</td><td>Graphic Era University<div style=\"float:right;\"><a class=\"btn-more-details\" href=\"javascript:;\"><span>More Details</span></a><a class=\"close_data\" id=\"close_1\" style=\"display: none;\">Close</a> | <a href=\"https://www.nirfindia.org/nirfpdfcdn/2022/pdf/University/IR-O-U-0555.pdf\" target=\"_blank\"><img src=\"https://www.nirfindia.org/images/pdf_icon.png\" style=\"width: 20px; height: 20px !important\"/></a> | <a href=\"https://www.nirfindia.org/nirfpdfcdn/2022/graph/University/IR-O-U-0555.png\" target=\"_blank\"><img src=\"https://www.nirfindia.org/images/graph.png\" style=\"width: 20px; height: 20px !important\"/></a></div><div class=\"tbl_hidden\" style=\"display:none;width:100%;\"><br/><table class=\"table \"><thead><tr><th>TLR (100)</th><th>RPC (100)</th><th>GO (100)</th><th>OI (100)</th><th>PERCEPTION (100)</th></tr></thead><tbody><tr><td>57.05</td><td>12.55</td><td>61.98</td><td>67.62</td><td>37.70</td></tr></tbody></table></div></td><td>Dehradun</td><td>Uttarakhand</td><td>43.82</td><td>74</td></tr><tr><td>IR-O-U-0239</td><td>NITTE<div style=\"float:right;\"><a class=\"btn-more-details\" href=\"javascript:;\"><span>More Details</span></a><a class=\"close_data\" id=\"close_1\" style=\"display: none;\">Close</a> | <a href=\"https://www.nirfindia.org/nirfpdfcdn/2022/pdf/University/IR-O-U-0239.pdf\" target=\"_blank\"><img src=\"https://www.nirfindia.org/images/pdf_icon.png\" style=\"width: 20px; height: 20px !important\"/></a> | <a href=\"https://www.nirfindia.org/nirfpdfcdn/2022/graph/University/IR-O-U-0239.png\" target=\"_blank\"><img src=\"https://www.nirfindia.org/images/graph.png\" style=\"width: 20px; height: 20px !important\"/></a></div><div class=\"tbl_hidden\" style=\"display:none;width:100%;\"><br/><table class=\"table \"><thead><tr><th>TLR (100)</th><th>RPC (100)</th><th>GO (100)</th><th>OI (100)</th><th>PERCEPTION (100)</th></tr></thead><tbody><tr><td>62.49</td><td>10.36</td><td>61.47</td><td>67.95</td><td>27.01</td></tr></tbody></table></div></td><td>Mangaluru</td><td>Karnataka</td><td>43.64</td><td>75</td></tr><tr><td>IR-O-I-1361</td><td>Bharati Vidyapeeth<div style=\"float:right;\"><a class=\"btn-more-details\" href=\"javascript:;\"><span>More Details</span></a><a class=\"close_data\" id=\"close_1\" style=\"display: none;\">Close</a> | <a href=\"https://www.nirfindia.org/nirfpdfcdn/2022/pdf/University/IR-O-I-1361.pdf\" target=\"_blank\"><img src=\"https://www.nirfindia.org/images/pdf_icon.png\" style=\"width: 20px; height: 20px !important\"/></a> | <a href=\"https://www.nirfindia.org/nirfpdfcdn/2022/graph/University/IR-O-I-1361.png\" target=\"_blank\"><img src=\"https://www.nirfindia.org/images/graph.png\" style=\"width: 20px; height: 20px !important\"/></a></div><div class=\"tbl_hidden\" style=\"display:none;width:100%;\"><br/><table class=\"table \"><thead><tr><th>TLR (100)</th><th>RPC (100)</th><th>GO (100)</th><th>OI (100)</th><th>PERCEPTION (100)</th></tr></thead><tbody><tr><td>57.47</td><td>11.05</td><td>67.95</td><td>56.11</td><td>37.93</td></tr></tbody></table></div></td><td>Pune</td><td>Maharashtra</td><td>43.54</td><td>76</td></tr><tr><td>IR-O-U-0099</td><td>Guru Gobind Singh Indraprastha University<div style=\"float:right;\"><a class=\"btn-more-details\" href=\"javascript:;\"><span>More Details</span></a><a class=\"close_data\" id=\"close_1\" style=\"display: none;\">Close</a> | <a href=\"https://www.nirfindia.org/nirfpdfcdn/2022/pdf/University/IR-O-U-0099.pdf\" target=\"_blank\"><img src=\"https://www.nirfindia.org/images/pdf_icon.png\" style=\"width: 20px; height: 20px !important\"/></a> | <a href=\"https://www.nirfindia.org/nirfpdfcdn/2022/graph/University/IR-O-U-0099.png\" target=\"_blank\"><img src=\"https://www.nirfindia.org/images/graph.png\" style=\"width: 20px; height: 20px !important\"/></a></div><div class=\"tbl_hidden\" style=\"display:none;width:100%;\"><br/><table class=\"table \"><thead><tr><th>TLR (100)</th><th>RPC (100)</th><th>GO (100)</th><th>OI (100)</th><th>PERCEPTION (100)</th></tr></thead><tbody><tr><td>50.61</td><td>26.02</td><td>67.35</td><td>52.63</td><td>16.72</td></tr></tbody></table></div></td><td>New Delhi</td><td>Delhi</td><td>43.39</td><td>77</td></tr><tr><td>IR-O-U-0345</td><td>Mizoram University<div style=\"float:right;\"><a class=\"btn-more-details\" href=\"javascript:;\"><span>More Details</span></a><a class=\"close_data\" id=\"close_1\" style=\"display: none;\">Close</a> | <a href=\"https://www.nirfindia.org/nirfpdfcdn/2022/pdf/University/IR-O-U-0345.pdf\" target=\"_blank\"><img src=\"https://www.nirfindia.org/images/pdf_icon.png\" style=\"width: 20px; height: 20px !important\"/></a> | <a href=\"https://www.nirfindia.org/nirfpdfcdn/2022/graph/University/IR-O-U-0345.png\" target=\"_blank\"><img src=\"https://www.nirfindia.org/images/graph.png\" style=\"width: 20px; height: 20px !important\"/></a></div><div class=\"tbl_hidden\" style=\"display:none;width:100%;\"><br/><table class=\"table \"><thead><tr><th>TLR (100)</th><th>RPC (100)</th><th>GO (100)</th><th>OI (100)</th><th>PERCEPTION (100)</th></tr></thead><tbody><tr><td>55.86</td><td>14.65</td><td>73.52</td><td>53.58</td><td>20.28</td></tr></tbody></table></div></td><td>Aizawl</td><td>Mizoram</td><td>43.24</td><td>78</td></tr><tr><td>IR-O-U-0223</td><td>Jain University, Bangalore<div style=\"float:right;\"><a class=\"btn-more-details\" href=\"javascript:;\"><span>More Details</span></a><a class=\"close_data\" id=\"close_1\" style=\"display: none;\">Close</a> | <a href=\"https://www.nirfindia.org/nirfpdfcdn/2022/pdf/University/IR-O-U-0223.pdf\" target=\"_blank\"><img src=\"https://www.nirfindia.org/images/pdf_icon.png\" style=\"width: 20px; height: 20px !important\"/></a> | <a href=\"https://www.nirfindia.org/nirfpdfcdn/2022/graph/University/IR-O-U-0223.png\" target=\"_blank\"><img src=\"https://www.nirfindia.org/images/graph.png\" style=\"width: 20px; height: 20px !important\"/></a></div><div class=\"tbl_hidden\" style=\"display:none;width:100%;\"><br/><table class=\"table \"><thead><tr><th>TLR (100)</th><th>RPC (100)</th><th>GO (100)</th><th>OI (100)</th><th>PERCEPTION (100)</th></tr></thead><tbody><tr><td>46.67</td><td>14.61</td><td>76.57</td><td>62.17</td><td>33.01</td></tr></tbody></table></div></td><td>Bengluru</td><td>Karnataka</td><td>43.21</td><td>79</td></tr><tr><td>IR-O-U-0464</td><td>Manonmaniam Sundaranar University, Tirunelveli<div style=\"float:right;\"><a class=\"btn-more-details\" href=\"javascript:;\"><span>More Details</span></a><a class=\"close_data\" id=\"close_1\" style=\"display: none;\">Close</a> | <a href=\"https://www.nirfindia.org/nirfpdfcdn/2022/pdf/University/IR-O-U-0464.pdf\" target=\"_blank\"><img src=\"https://www.nirfindia.org/images/pdf_icon.png\" style=\"width: 20px; height: 20px !important\"/></a> | <a href=\"https://www.nirfindia.org/nirfpdfcdn/2022/graph/University/IR-O-U-0464.png\" target=\"_blank\"><img src=\"https://www.nirfindia.org/images/graph.png\" style=\"width: 20px; height: 20px !important\"/></a></div><div class=\"tbl_hidden\" style=\"display:none;width:100%;\"><br/><table class=\"table \"><thead><tr><th>TLR (100)</th><th>RPC (100)</th><th>GO (100)</th><th>OI (100)</th><th>PERCEPTION (100)</th></tr></thead><tbody><tr><td>56.95</td><td>21.41</td><td>61.72</td><td>50.45</td><td>20.28</td></tr></tbody></table></div></td><td>Tirunelveli</td><td>Tamil Nadu</td><td>42.92</td><td>80</td></tr><tr><td>IR-O-U-0321</td><td>Padmashree Dr. D. Y. Patil Vidyapeeth, Mumbai<div style=\"float:right;\"><a class=\"btn-more-details\" href=\"javascript:;\"><span>More Details</span></a><a class=\"close_data\" id=\"close_1\" style=\"display: none;\">Close</a> | <a href=\"https://www.nirfindia.org/nirfpdfcdn/2022/pdf/University/IR-O-U-0321.pdf\" target=\"_blank\"><img src=\"https://www.nirfindia.org/images/pdf_icon.png\" style=\"width: 20px; height: 20px !important\"/></a> | <a href=\"https://www.nirfindia.org/nirfpdfcdn/2022/graph/University/IR-O-U-0321.png\" target=\"_blank\"><img src=\"https://www.nirfindia.org/images/graph.png\" style=\"width: 20px; height: 20px !important\"/></a></div><div class=\"tbl_hidden\" style=\"display:none;width:100%;\"><br/><table class=\"table \"><thead><tr><th>TLR (100)</th><th>RPC (100)</th><th>GO (100)</th><th>OI (100)</th><th>PERCEPTION (100)</th></tr></thead><tbody><tr><td>67.36</td><td>3.09</td><td>64.27</td><td>62.10</td><td>24.39</td></tr></tbody></table></div></td><td>Mumbai</td><td>Maharashtra</td><td>42.64</td><td>81</td></tr><tr><td>IR-O-U-0372</td><td>Central University of Punjab<div style=\"float:right;\"><a class=\"btn-more-details\" href=\"javascript:;\"><span>More Details</span></a><a class=\"close_data\" id=\"close_1\" style=\"display: none;\">Close</a> | <a href=\"https://www.nirfindia.org/nirfpdfcdn/2022/pdf/University/IR-O-U-0372.pdf\" target=\"_blank\"><img src=\"https://www.nirfindia.org/images/pdf_icon.png\" style=\"width: 20px; height: 20px !important\"/></a> | <a href=\"https://www.nirfindia.org/nirfpdfcdn/2022/graph/University/IR-O-U-0372.png\" target=\"_blank\"><img src=\"https://www.nirfindia.org/images/graph.png\" style=\"width: 20px; height: 20px !important\"/></a></div><div class=\"tbl_hidden\" style=\"display:none;width:100%;\"><br/><table class=\"table \"><thead><tr><th>TLR (100)</th><th>RPC (100)</th><th>GO (100)</th><th>OI (100)</th><th>PERCEPTION (100)</th></tr></thead><tbody><tr><td>54.61</td><td>19.03</td><td>55.28</td><td>68.45</td><td>26.53</td></tr></tbody></table></div></td><td>Bathinda</td><td>Punjab</td><td>42.64</td><td>81</td></tr><tr><td>IR-O-U-0298</td><td>Dr. Babasaheb Ambedkar Marathwada University, Aurangabad<div style=\"float:right;\"><a class=\"btn-more-details\" href=\"javascript:;\"><span>More Details</span></a><a class=\"close_data\" id=\"close_1\" style=\"display: none;\">Close</a> | <a href=\"https://www.nirfindia.org/nirfpdfcdn/2022/pdf/University/IR-O-U-0298.pdf\" target=\"_blank\"><img src=\"https://www.nirfindia.org/images/pdf_icon.png\" style=\"width: 20px; height: 20px !important\"/></a> | <a href=\"https://www.nirfindia.org/nirfpdfcdn/2022/graph/University/IR-O-U-0298.png\" target=\"_blank\"><img src=\"https://www.nirfindia.org/images/graph.png\" style=\"width: 20px; height: 20px !important\"/></a></div><div class=\"tbl_hidden\" style=\"display:none;width:100%;\"><br/><table class=\"table \"><thead><tr><th>TLR (100)</th><th>RPC (100)</th><th>GO (100)</th><th>OI (100)</th><th>PERCEPTION (100)</th></tr></thead><tbody><tr><td>42.23</td><td>16.12</td><td>92.16</td><td>46.18</td><td>20.28</td></tr></tbody></table></div></td><td>Aurangabad</td><td>Maharashtra</td><td>42.59</td><td>83</td></tr><tr><td>IR-O-U-0444</td><td>Avinashilingam Institute for Home Science &amp; Higher Education for Women<div style=\"float:right;\"><a class=\"btn-more-details\" href=\"javascript:;\"><span>More Details</span></a><a class=\"close_data\" id=\"close_1\" style=\"display: none;\">Close</a> | <a href=\"https://www.nirfindia.org/nirfpdfcdn/2022/pdf/University/IR-O-U-0444.pdf\" target=\"_blank\"><img src=\"https://www.nirfindia.org/images/pdf_icon.png\" style=\"width: 20px; height: 20px !important\"/></a> | <a href=\"https://www.nirfindia.org/nirfpdfcdn/2022/graph/University/IR-O-U-0444.png\" target=\"_blank\"><img src=\"https://www.nirfindia.org/images/graph.png\" style=\"width: 20px; height: 20px !important\"/></a></div><div class=\"tbl_hidden\" style=\"display:none;width:100%;\"><br/><table class=\"table \"><thead><tr><th>TLR (100)</th><th>RPC (100)</th><th>GO (100)</th><th>OI (100)</th><th>PERCEPTION (100)</th></tr></thead><tbody><tr><td>62.12</td><td>3.75</td><td>65.88</td><td>60.71</td><td>35.08</td></tr></tbody></table></div></td><td>Coimbatore</td><td>Tamil Nadu</td><td>42.53</td><td>84</td></tr><tr><td>IR-O-U-0449</td><td>Central University of Tamil Nadu<div style=\"float:right;\"><a class=\"btn-more-details\" href=\"javascript:;\"><span>More Details</span></a><a class=\"close_data\" id=\"close_1\" style=\"display: none;\">Close</a> | <a href=\"https://www.nirfindia.org/nirfpdfcdn/2022/pdf/University/IR-O-U-0449.pdf\" target=\"_blank\"><img src=\"https://www.nirfindia.org/images/pdf_icon.png\" style=\"width: 20px; height: 20px !important\"/></a> | <a href=\"https://www.nirfindia.org/nirfpdfcdn/2022/graph/University/IR-O-U-0449.png\" target=\"_blank\"><img src=\"https://www.nirfindia.org/images/graph.png\" style=\"width: 20px; height: 20px !important\"/></a></div><div class=\"tbl_hidden\" style=\"display:none;width:100%;\"><br/><table class=\"table \"><thead><tr><th>TLR (100)</th><th>RPC (100)</th><th>GO (100)</th><th>OI (100)</th><th>PERCEPTION (100)</th></tr></thead><tbody><tr><td>59.81</td><td>14.49</td><td>61.13</td><td>64.06</td><td>15.36</td></tr></tbody></table></div></td><td>Tiruvarur</td><td>Tamil Nadu</td><td>42.47</td><td>85</td></tr><tr><td>IR-O-U-0232</td><td>Kuvempu University<div style=\"float:right;\"><a class=\"btn-more-details\" href=\"javascript:;\"><span>More Details</span></a><a class=\"close_data\" id=\"close_1\" style=\"display: none;\">Close</a> | <a href=\"https://www.nirfindia.org/nirfpdfcdn/2022/pdf/University/IR-O-U-0232.pdf\" target=\"_blank\"><img src=\"https://www.nirfindia.org/images/pdf_icon.png\" style=\"width: 20px; height: 20px !important\"/></a> | <a href=\"https://www.nirfindia.org/nirfpdfcdn/2022/graph/University/IR-O-U-0232.png\" target=\"_blank\"><img src=\"https://www.nirfindia.org/images/graph.png\" style=\"width: 20px; height: 20px !important\"/></a></div><div class=\"tbl_hidden\" style=\"display:none;width:100%;\"><br/><table class=\"table \"><thead><tr><th>TLR (100)</th><th>RPC (100)</th><th>GO (100)</th><th>OI (100)</th><th>PERCEPTION (100)</th></tr></thead><tbody><tr><td>54.52</td><td>15.70</td><td>72.82</td><td>50.18</td><td>18.00</td></tr></tbody></table></div></td><td>Shivamogga</td><td>Karnataka</td><td>42.44</td><td>86</td></tr><tr><td>IR-O-U-0569</td><td>The University of Burdwan<div style=\"float:right;\"><a class=\"btn-more-details\" href=\"javascript:;\"><span>More Details</span></a><a class=\"close_data\" id=\"close_1\" style=\"display: none;\">Close</a> | <a href=\"https://www.nirfindia.org/nirfpdfcdn/2022/pdf/University/IR-O-U-0569.pdf\" target=\"_blank\"><img src=\"https://www.nirfindia.org/images/pdf_icon.png\" style=\"width: 20px; height: 20px !important\"/></a> | <a href=\"https://www.nirfindia.org/nirfpdfcdn/2022/graph/University/IR-O-U-0569.png\" target=\"_blank\"><img src=\"https://www.nirfindia.org/images/graph.png\" style=\"width: 20px; height: 20px !important\"/></a></div><div class=\"tbl_hidden\" style=\"display:none;width:100%;\"><br/><table class=\"table \"><thead><tr><th>TLR (100)</th><th>RPC (100)</th><th>GO (100)</th><th>OI (100)</th><th>PERCEPTION (100)</th></tr></thead><tbody><tr><td>47.03</td><td>21.47</td><td>74.90</td><td>49.04</td><td>19.92</td></tr></tbody></table></div></td><td>Bardhaman</td><td>West Bengal</td><td>42.42</td><td>87</td></tr><tr><td>IR-O-U-0744</td><td>Ashoka University<div style=\"float:right;\"><a class=\"btn-more-details\" href=\"javascript:;\"><span>More Details</span></a><a class=\"close_data\" id=\"close_1\" style=\"display: none;\">Close</a> | <a href=\"https://www.nirfindia.org/nirfpdfcdn/2022/pdf/University/IR-O-U-0744.pdf\" target=\"_blank\"><img src=\"https://www.nirfindia.org/images/pdf_icon.png\" style=\"width: 20px; height: 20px !important\"/></a> | <a href=\"https://www.nirfindia.org/nirfpdfcdn/2022/graph/University/IR-O-U-0744.png\" target=\"_blank\"><img src=\"https://www.nirfindia.org/images/graph.png\" style=\"width: 20px; height: 20px !important\"/></a></div><div class=\"tbl_hidden\" style=\"display:none;width:100%;\"><br/><table class=\"table \"><thead><tr><th>TLR (100)</th><th>RPC (100)</th><th>GO (100)</th><th>OI (100)</th><th>PERCEPTION (100)</th></tr></thead><tbody><tr><td>65.47</td><td>6.59</td><td>60.00</td><td>76.83</td><td>9.69</td></tr></tbody></table></div></td><td>Sonepat</td><td>Haryana</td><td>42.27</td><td>88</td></tr><tr><td>IR-O-U-0225</td><td>KLE Academy of Higher Education and Research<div style=\"float:right;\"><a class=\"btn-more-details\" href=\"javascript:;\"><span>More Details</span></a><a class=\"close_data\" id=\"close_1\" style=\"display: none;\">Close</a> | <a href=\"https://www.nirfindia.org/nirfpdfcdn/2022/pdf/University/IR-O-U-0225.pdf\" target=\"_blank\"><img src=\"https://www.nirfindia.org/images/pdf_icon.png\" style=\"width: 20px; height: 20px !important\"/></a> | <a href=\"https://www.nirfindia.org/nirfpdfcdn/2022/graph/University/IR-O-U-0225.png\" target=\"_blank\"><img src=\"https://www.nirfindia.org/images/graph.png\" style=\"width: 20px; height: 20px !important\"/></a></div><div class=\"tbl_hidden\" style=\"display:none;width:100%;\"><br/><table class=\"table \"><thead><tr><th>TLR (100)</th><th>RPC (100)</th><th>GO (100)</th><th>OI (100)</th><th>PERCEPTION (100)</th></tr></thead><tbody><tr><td>62.51</td><td>11.07</td><td>54.89</td><td>64.05</td><td>28.06</td></tr></tbody></table></div></td><td>Belagavi</td><td>Karnataka</td><td>42.27</td><td>88</td></tr><tr><td>IR-O-U-0366</td><td>Utkal University<div style=\"float:right;\"><a class=\"btn-more-details\" href=\"javascript:;\"><span>More Details</span></a><a class=\"close_data\" id=\"close_1\" style=\"display: none;\">Close</a> | <a href=\"https://www.nirfindia.org/nirfpdfcdn/2022/pdf/University/IR-O-U-0366.pdf\" target=\"_blank\"><img src=\"https://www.nirfindia.org/images/pdf_icon.png\" style=\"width: 20px; height: 20px !important\"/></a> | <a href=\"https://www.nirfindia.org/nirfpdfcdn/2022/graph/University/IR-O-U-0366.png\" target=\"_blank\"><img src=\"https://www.nirfindia.org/images/graph.png\" style=\"width: 20px; height: 20px !important\"/></a></div><div class=\"tbl_hidden\" style=\"display:none;width:100%;\"><br/><table class=\"table \"><thead><tr><th>TLR (100)</th><th>RPC (100)</th><th>GO (100)</th><th>OI (100)</th><th>PERCEPTION (100)</th></tr></thead><tbody><tr><td>44.59</td><td>14.60</td><td>78.71</td><td>50.12</td><td>37.63</td></tr></tbody></table></div></td><td>Bhubaneswar</td><td>Odisha</td><td>42.27</td><td>88</td></tr><tr><td>IR-O-U-0168</td><td>Maharishi Markandeshwar<div style=\"float:right;\"><a class=\"btn-more-details\" href=\"javascript:;\"><span>More Details</span></a><a class=\"close_data\" id=\"close_1\" style=\"display: none;\">Close</a> | <a href=\"https://www.nirfindia.org/nirfpdfcdn/2022/pdf/University/IR-O-U-0168.pdf\" target=\"_blank\"><img src=\"https://www.nirfindia.org/images/pdf_icon.png\" style=\"width: 20px; height: 20px !important\"/></a> | <a href=\"https://www.nirfindia.org/nirfpdfcdn/2022/graph/University/IR-O-U-0168.png\" target=\"_blank\"><img src=\"https://www.nirfindia.org/images/graph.png\" style=\"width: 20px; height: 20px !important\"/></a></div><div class=\"tbl_hidden\" style=\"display:none;width:100%;\"><br/><table class=\"table \"><thead><tr><th>TLR (100)</th><th>RPC (100)</th><th>GO (100)</th><th>OI (100)</th><th>PERCEPTION (100)</th></tr></thead><tbody><tr><td>56.91</td><td>17.64</td><td>52.63</td><td>58.95</td><td>34.74</td></tr></tbody></table></div></td><td>Ambala</td><td>Haryana</td><td>42.26</td><td>91</td></tr><tr><td>IR-O-U-0011</td><td>Gandhi Institute of Technology and Management <div style=\"float:right;\"><a class=\"btn-more-details\" href=\"javascript:;\"><span>More Details</span></a><a class=\"close_data\" id=\"close_1\" style=\"display: none;\">Close</a> | <a href=\"https://www.nirfindia.org/nirfpdfcdn/2022/pdf/University/IR-O-U-0011.pdf\" target=\"_blank\"><img src=\"https://www.nirfindia.org/images/pdf_icon.png\" style=\"width: 20px; height: 20px !important\"/></a> | <a href=\"https://www.nirfindia.org/nirfpdfcdn/2022/graph/University/IR-O-U-0011.png\" target=\"_blank\"><img src=\"https://www.nirfindia.org/images/graph.png\" style=\"width: 20px; height: 20px !important\"/></a></div><div class=\"tbl_hidden\" style=\"display:none;width:100%;\"><br/><table class=\"table \"><thead><tr><th>TLR (100)</th><th>RPC (100)</th><th>GO (100)</th><th>OI (100)</th><th>PERCEPTION (100)</th></tr></thead><tbody><tr><td>45.87</td><td>19.36</td><td>68.99</td><td>54.68</td><td>33.01</td></tr></tbody></table></div></td><td>Visakhapatnam</td><td>Andhra Pradesh</td><td>42.14</td><td>92</td></tr><tr><td>IR-O-U-0451</td><td>Chettinad Academy of Research and Education<div style=\"float:right;\"><a class=\"btn-more-details\" href=\"javascript:;\"><span>More Details</span></a><a class=\"close_data\" id=\"close_1\" style=\"display: none;\">Close</a> | <a href=\"https://www.nirfindia.org/nirfpdfcdn/2022/pdf/University/IR-O-U-0451.pdf\" target=\"_blank\"><img src=\"https://www.nirfindia.org/images/pdf_icon.png\" style=\"width: 20px; height: 20px !important\"/></a> | <a href=\"https://www.nirfindia.org/nirfpdfcdn/2022/graph/University/IR-O-U-0451.png\" target=\"_blank\"><img src=\"https://www.nirfindia.org/images/graph.png\" style=\"width: 20px; height: 20px !important\"/></a></div><div class=\"tbl_hidden\" style=\"display:none;width:100%;\"><br/><table class=\"table \"><thead><tr><th>TLR (100)</th><th>RPC (100)</th><th>GO (100)</th><th>OI (100)</th><th>PERCEPTION (100)</th></tr></thead><tbody><tr><td>63.69</td><td>8.60</td><td>61.40</td><td>61.21</td><td>19.54</td></tr></tbody></table></div></td><td>Kelambakkam, Chengalpattu District</td><td>Tamil Nadu</td><td>42.04</td><td>93</td></tr><tr><td>IR-O-I-1280</td><td>Maharshi Dayanand University<div style=\"float:right;\"><a class=\"btn-more-details\" href=\"javascript:;\"><span>More Details</span></a><a class=\"close_data\" id=\"close_1\" style=\"display: none;\">Close</a> | <a href=\"https://www.nirfindia.org/nirfpdfcdn/2022/pdf/University/IR-O-I-1280.pdf\" target=\"_blank\"><img src=\"https://www.nirfindia.org/images/pdf_icon.png\" style=\"width: 20px; height: 20px !important\"/></a> | <a href=\"https://www.nirfindia.org/nirfpdfcdn/2022/graph/University/IR-O-I-1280.png\" target=\"_blank\"><img src=\"https://www.nirfindia.org/images/graph.png\" style=\"width: 20px; height: 20px !important\"/></a></div><div class=\"tbl_hidden\" style=\"display:none;width:100%;\"><br/><table class=\"table \"><thead><tr><th>TLR (100)</th><th>RPC (100)</th><th>GO (100)</th><th>OI (100)</th><th>PERCEPTION (100)</th></tr></thead><tbody><tr><td>44.33</td><td>18.99</td><td>74.17</td><td>53.13</td><td>27.36</td></tr></tbody></table></div></td><td>Rohtak</td><td>Haryana</td><td>41.88</td><td>94</td></tr><tr><td>IR-O-U-0043</td><td>Vignan's Foundation for Science, Technology and Research<div style=\"float:right;\"><a class=\"btn-more-details\" href=\"javascript:;\"><span>More Details</span></a><a class=\"close_data\" id=\"close_1\" style=\"display: none;\">Close</a> | <a href=\"https://www.nirfindia.org/nirfpdfcdn/2022/pdf/University/IR-O-U-0043.pdf\" target=\"_blank\"><img src=\"https://www.nirfindia.org/images/pdf_icon.png\" style=\"width: 20px; height: 20px !important\"/></a> | <a href=\"https://www.nirfindia.org/nirfpdfcdn/2022/graph/University/IR-O-U-0043.png\" target=\"_blank\"><img src=\"https://www.nirfindia.org/images/graph.png\" style=\"width: 20px; height: 20px !important\"/></a></div><div class=\"tbl_hidden\" style=\"display:none;width:100%;\"><br/><table class=\"table \"><thead><tr><th>TLR (100)</th><th>RPC (100)</th><th>GO (100)</th><th>OI (100)</th><th>PERCEPTION (100)</th></tr></thead><tbody><tr><td>52.38</td><td>18.96</td><td>59.77</td><td>56.33</td><td>28.06</td></tr></tbody></table></div></td><td>Guntur</td><td>Andhra Pradesh</td><td>41.79</td><td>95</td></tr><tr><td>IR-O-U-0190</td><td>Shoolini University of Biotechnology and Management Sciences<div style=\"float:right;\"><a class=\"btn-more-details\" href=\"javascript:;\"><span>More Details</span></a><a class=\"close_data\" id=\"close_1\" style=\"display: none;\">Close</a> | <a href=\"https://www.nirfindia.org/nirfpdfcdn/2022/pdf/University/IR-O-U-0190.pdf\" target=\"_blank\"><img src=\"https://www.nirfindia.org/images/pdf_icon.png\" style=\"width: 20px; height: 20px !important\"/></a> | <a href=\"https://www.nirfindia.org/nirfpdfcdn/2022/graph/University/IR-O-U-0190.png\" target=\"_blank\"><img src=\"https://www.nirfindia.org/images/graph.png\" style=\"width: 20px; height: 20px !important\"/></a></div><div class=\"tbl_hidden\" style=\"display:none;width:100%;\"><br/><table class=\"table \"><thead><tr><th>TLR (100)</th><th>RPC (100)</th><th>GO (100)</th><th>OI (100)</th><th>PERCEPTION (100)</th></tr></thead><tbody><tr><td>38.80</td><td>28.11</td><td>68.66</td><td>58.25</td><td>15.71</td></tr></tbody></table></div></td><td>Solan</td><td>Himachal Pradesh</td><td>41.19</td><td>96</td></tr><tr><td>IR-O-U-0250</td><td>Yenepoya University<div style=\"float:right;\"><a class=\"btn-more-details\" href=\"javascript:;\"><span>More Details</span></a><a class=\"close_data\" id=\"close_1\" style=\"display: none;\">Close</a> | <a href=\"https://www.nirfindia.org/nirfpdfcdn/2022/pdf/University/IR-O-U-0250.pdf\" target=\"_blank\"><img src=\"https://www.nirfindia.org/images/pdf_icon.png\" style=\"width: 20px; height: 20px !important\"/></a> | <a href=\"https://www.nirfindia.org/nirfpdfcdn/2022/graph/University/IR-O-U-0250.png\" target=\"_blank\"><img src=\"https://www.nirfindia.org/images/graph.png\" style=\"width: 20px; height: 20px !important\"/></a></div><div class=\"tbl_hidden\" style=\"display:none;width:100%;\"><br/><table class=\"table \"><thead><tr><th>TLR (100)</th><th>RPC (100)</th><th>GO (100)</th><th>OI (100)</th><th>PERCEPTION (100)</th></tr></thead><tbody><tr><td>61.19</td><td>11.89</td><td>49.62</td><td>71.14</td><td>20.65</td></tr></tbody></table></div></td><td>Mangaluru</td><td>Karnataka</td><td>41.03</td><td>97</td></tr><tr><td>IR-O-U-0589</td><td>Visva Bharati<div style=\"float:right;\"><a class=\"btn-more-details\" href=\"javascript:;\"><span>More Details</span></a><a class=\"close_data\" id=\"close_1\" style=\"display: none;\">Close</a> | <a href=\"https://www.nirfindia.org/nirfpdfcdn/2022/pdf/University/IR-O-U-0589.pdf\" target=\"_blank\"><img src=\"https://www.nirfindia.org/images/pdf_icon.png\" style=\"width: 20px; height: 20px !important\"/></a> | <a href=\"https://www.nirfindia.org/nirfpdfcdn/2022/graph/University/IR-O-U-0589.png\" target=\"_blank\"><img src=\"https://www.nirfindia.org/images/graph.png\" style=\"width: 20px; height: 20px !important\"/></a></div><div class=\"tbl_hidden\" style=\"display:none;width:100%;\"><br/><table class=\"table \"><thead><tr><th>TLR (100)</th><th>RPC (100)</th><th>GO (100)</th><th>OI (100)</th><th>PERCEPTION (100)</th></tr></thead><tbody><tr><td>44.85</td><td>24.43</td><td>76.87</td><td>33.44</td><td>14.65</td></tr></tbody></table></div></td><td>Santiniketan</td><td>West Bengal</td><td>40.96</td><td>98</td></tr><tr><td>IR-O-U-0202</td><td>Birla Institute of Technology<div style=\"float:right;\"><a class=\"btn-more-details\" href=\"javascript:;\"><span>More Details</span></a><a class=\"close_data\" id=\"close_1\" style=\"display: none;\">Close</a> | <a href=\"https://www.nirfindia.org/nirfpdfcdn/2022/pdf/University/IR-O-U-0202.pdf\" target=\"_blank\"><img src=\"https://www.nirfindia.org/images/pdf_icon.png\" style=\"width: 20px; height: 20px !important\"/></a> | <a href=\"https://www.nirfindia.org/nirfpdfcdn/2022/graph/University/IR-O-U-0202.png\" target=\"_blank\"><img src=\"https://www.nirfindia.org/images/graph.png\" style=\"width: 20px; height: 20px !important\"/></a></div><div class=\"tbl_hidden\" style=\"display:none;width:100%;\"><br/><table class=\"table \"><thead><tr><th>TLR (100)</th><th>RPC (100)</th><th>GO (100)</th><th>OI (100)</th><th>PERCEPTION (100)</th></tr></thead><tbody><tr><td>49.52</td><td>27.74</td><td>56.39</td><td>49.86</td><td>12.40</td></tr></tbody></table></div></td><td>Ranchi</td><td>Jharkhand</td><td>40.69</td><td>99</td></tr><tr><td>IR-O-U-0461</td><td>Dr. M. G. R. Educational and Research Institute<div style=\"float:right;\"><a class=\"btn-more-details\" href=\"javascript:;\"><span>More Details</span></a><a class=\"close_data\" id=\"close_1\" style=\"display: none;\">Close</a> | <a href=\"https://www.nirfindia.org/nirfpdfcdn/2022/pdf/University/IR-O-U-0461.pdf\" target=\"_blank\"><img src=\"https://www.nirfindia.org/images/pdf_icon.png\" style=\"width: 20px; height: 20px !important\"/></a> | <a href=\"https://www.nirfindia.org/nirfpdfcdn/2022/graph/University/IR-O-U-0461.png\" target=\"_blank\"><img src=\"https://www.nirfindia.org/images/graph.png\" style=\"width: 20px; height: 20px !important\"/></a></div><div class=\"tbl_hidden\" style=\"display:none;width:100%;\"><br/><table class=\"table \"><thead><tr><th>TLR (100)</th><th>RPC (100)</th><th>GO (100)</th><th>OI (100)</th><th>PERCEPTION (100)</th></tr></thead><tbody><tr><td>54.35</td><td>12.89</td><td>57.40</td><td>63.35</td><td>24.00</td></tr></tbody></table></div></td><td>Chennai</td><td>Tamil Nadu</td><td>40.39</td><td>100</td></tr></tbody></table>"
            ]
          },
          "metadata": {},
          "execution_count": 41
        }
      ]
    },
    {
      "cell_type": "code",
      "source": [
        "rows = table.find_all('tr')\n",
        "rows"
      ],
      "metadata": {
        "colab": {
          "base_uri": "https://localhost:8080/"
        },
        "id": "afFNs28aCGZK",
        "outputId": "7bec0492-42f1-4eae-daa3-e9f8fb15ce62"
      },
      "execution_count": null,
      "outputs": [
        {
          "output_type": "execute_result",
          "data": {
            "text/plain": [
              "[<tr><th style=\"20%\">Institute ID</th><th>Name</th><th>City</th><th>State</th><th>Score</th><th>Rank</th></tr>,\n",
              " <tr><td>IR-O-U-0220</td><td>Indian Institute of Science<div style=\"float:right;\"><a class=\"btn-more-details\" href=\"javascript:;\"><span>More Details</span></a><a class=\"close_data\" id=\"close_1\" style=\"display: none;\">Close</a> | <a href=\"https://www.nirfindia.org/nirfpdfcdn/2022/pdf/University/IR-O-U-0220.pdf\" target=\"_blank\"><img src=\"https://www.nirfindia.org/images/pdf_icon.png\" style=\"width: 20px; height: 20px !important\"/></a> | <a href=\"https://www.nirfindia.org/nirfpdfcdn/2022/graph/University/IR-O-U-0220.png\" target=\"_blank\"><img src=\"https://www.nirfindia.org/images/graph.png\" style=\"width: 20px; height: 20px !important\"/></a></div><div class=\"tbl_hidden\" style=\"display:none;width:100%;\"><br/><table class=\"table \"><thead><tr><th>TLR (100)</th><th>RPC (100)</th><th>GO (100)</th><th>OI (100)</th><th>PERCEPTION (100)</th></tr></thead><tbody><tr><td>82.08</td><td>87.45</td><td>84.80</td><td>57.46</td><td>100.00</td></tr></tbody></table></div></td><td>Bengaluru</td><td>Karnataka</td><td>83.57</td><td>1</td></tr>,\n",
              " <tr><th>TLR (100)</th><th>RPC (100)</th><th>GO (100)</th><th>OI (100)</th><th>PERCEPTION (100)</th></tr>,\n",
              " <tr><td>82.08</td><td>87.45</td><td>84.80</td><td>57.46</td><td>100.00</td></tr>,\n",
              " <tr><td>IR-O-U-0109</td><td>Jawaharlal Nehru University<div style=\"float:right;\"><a class=\"btn-more-details\" href=\"javascript:;\"><span>More Details</span></a><a class=\"close_data\" id=\"close_1\" style=\"display: none;\">Close</a> | <a href=\"https://www.nirfindia.org/nirfpdfcdn/2022/pdf/University/IR-O-U-0109.pdf\" target=\"_blank\"><img src=\"https://www.nirfindia.org/images/pdf_icon.png\" style=\"width: 20px; height: 20px !important\"/></a> | <a href=\"https://www.nirfindia.org/nirfpdfcdn/2022/graph/University/IR-O-U-0109.png\" target=\"_blank\"><img src=\"https://www.nirfindia.org/images/graph.png\" style=\"width: 20px; height: 20px !important\"/></a></div><div class=\"tbl_hidden\" style=\"display:none;width:100%;\"><br/><table class=\"table \"><thead><tr><th>TLR (100)</th><th>RPC (100)</th><th>GO (100)</th><th>OI (100)</th><th>PERCEPTION (100)</th></tr></thead><tbody><tr><td>71.95</td><td>45.55</td><td>95.27</td><td>70.27</td><td>71.43</td></tr></tbody></table></div></td><td>New Delhi</td><td>Delhi</td><td>68.47</td><td>2</td></tr>,\n",
              " <tr><th>TLR (100)</th><th>RPC (100)</th><th>GO (100)</th><th>OI (100)</th><th>PERCEPTION (100)</th></tr>,\n",
              " <tr><td>71.95</td><td>45.55</td><td>95.27</td><td>70.27</td><td>71.43</td></tr>,\n",
              " <tr><td>IR-O-U-0108</td><td>Jamia Millia Islamia, New Delhi<div style=\"float:right;\"><a class=\"btn-more-details\" href=\"javascript:;\"><span>More Details</span></a><a class=\"close_data\" id=\"close_1\" style=\"display: none;\">Close</a> | <a href=\"https://www.nirfindia.org/nirfpdfcdn/2022/pdf/University/IR-O-U-0108.pdf\" target=\"_blank\"><img src=\"https://www.nirfindia.org/images/pdf_icon.png\" style=\"width: 20px; height: 20px !important\"/></a> | <a href=\"https://www.nirfindia.org/nirfpdfcdn/2022/graph/University/IR-O-U-0108.png\" target=\"_blank\"><img src=\"https://www.nirfindia.org/images/graph.png\" style=\"width: 20px; height: 20px !important\"/></a></div><div class=\"tbl_hidden\" style=\"display:none;width:100%;\"><br/><table class=\"table \"><thead><tr><th>TLR (100)</th><th>RPC (100)</th><th>GO (100)</th><th>OI (100)</th><th>PERCEPTION (100)</th></tr></thead><tbody><tr><td>68.16</td><td>47.38</td><td>92.46</td><td>81.14</td><td>46.50</td></tr></tbody></table></div></td><td>New Delhi</td><td>Delhi</td><td>65.91</td><td>3</td></tr>,\n",
              " <tr><th>TLR (100)</th><th>RPC (100)</th><th>GO (100)</th><th>OI (100)</th><th>PERCEPTION (100)</th></tr>,\n",
              " <tr><td>68.16</td><td>47.38</td><td>92.46</td><td>81.14</td><td>46.50</td></tr>,\n",
              " <tr><td>IR-O-U-0575</td><td>Jadavpur University<div style=\"float:right;\"><a class=\"btn-more-details\" href=\"javascript:;\"><span>More Details</span></a><a class=\"close_data\" id=\"close_1\" style=\"display: none;\">Close</a> | <a href=\"https://www.nirfindia.org/nirfpdfcdn/2022/pdf/University/IR-O-U-0575.pdf\" target=\"_blank\"><img src=\"https://www.nirfindia.org/images/pdf_icon.png\" style=\"width: 20px; height: 20px !important\"/></a> | <a href=\"https://www.nirfindia.org/nirfpdfcdn/2022/graph/University/IR-O-U-0575.png\" target=\"_blank\"><img src=\"https://www.nirfindia.org/images/graph.png\" style=\"width: 20px; height: 20px !important\"/></a></div><div class=\"tbl_hidden\" style=\"display:none;width:100%;\"><br/><table class=\"table \"><thead><tr><th>TLR (100)</th><th>RPC (100)</th><th>GO (100)</th><th>OI (100)</th><th>PERCEPTION (100)</th></tr></thead><tbody><tr><td>63.57</td><td>53.73</td><td>90.10</td><td>56.86</td><td>64.67</td></tr></tbody></table></div></td><td>Kolkata</td><td>West Bengal</td><td>65.37</td><td>4</td></tr>,\n",
              " <tr><th>TLR (100)</th><th>RPC (100)</th><th>GO (100)</th><th>OI (100)</th><th>PERCEPTION (100)</th></tr>,\n",
              " <tr><td>63.57</td><td>53.73</td><td>90.10</td><td>56.86</td><td>64.67</td></tr>,\n",
              " <tr><td>IR-O-U-0436</td><td>Amrita Vishwa Vidyapeetham<div style=\"float:right;\"><a class=\"btn-more-details\" href=\"javascript:;\"><span>More Details</span></a><a class=\"close_data\" id=\"close_1\" style=\"display: none;\">Close</a> | <a href=\"https://www.nirfindia.org/nirfpdfcdn/2022/pdf/University/IR-O-U-0436.pdf\" target=\"_blank\"><img src=\"https://www.nirfindia.org/images/pdf_icon.png\" style=\"width: 20px; height: 20px !important\"/></a> | <a href=\"https://www.nirfindia.org/nirfpdfcdn/2022/graph/University/IR-O-U-0436.png\" target=\"_blank\"><img src=\"https://www.nirfindia.org/images/graph.png\" style=\"width: 20px; height: 20px !important\"/></a></div><div class=\"tbl_hidden\" style=\"display:none;width:100%;\"><br/><table class=\"table \"><thead><tr><th>TLR (100)</th><th>RPC (100)</th><th>GO (100)</th><th>OI (100)</th><th>PERCEPTION (100)</th></tr></thead><tbody><tr><td>69.80</td><td>50.06</td><td>74.09</td><td>69.53</td><td>56.66</td></tr></tbody></table></div></td><td>Coimbatore</td><td>Tamil Nadu</td><td>63.40</td><td>5</td></tr>,\n",
              " <tr><th>TLR (100)</th><th>RPC (100)</th><th>GO (100)</th><th>OI (100)</th><th>PERCEPTION (100)</th></tr>,\n",
              " <tr><td>69.80</td><td>50.06</td><td>74.09</td><td>69.53</td><td>56.66</td></tr>,\n",
              " <tr><td>IR-O-U-0500</td><td>Banaras Hindu University<div style=\"float:right;\"><a class=\"btn-more-details\" href=\"javascript:;\"><span>More Details</span></a><a class=\"close_data\" id=\"close_1\" style=\"display: none;\">Close</a> | <a href=\"https://www.nirfindia.org/nirfpdfcdn/2022/pdf/University/IR-O-U-0500.pdf\" target=\"_blank\"><img src=\"https://www.nirfindia.org/images/pdf_icon.png\" style=\"width: 20px; height: 20px !important\"/></a> | <a href=\"https://www.nirfindia.org/nirfpdfcdn/2022/graph/University/IR-O-U-0500.png\" target=\"_blank\"><img src=\"https://www.nirfindia.org/images/graph.png\" style=\"width: 20px; height: 20px !important\"/></a></div><div class=\"tbl_hidden\" style=\"display:none;width:100%;\"><br/><table class=\"table \"><thead><tr><th>TLR (100)</th><th>RPC (100)</th><th>GO (100)</th><th>OI (100)</th><th>PERCEPTION (100)</th></tr></thead><tbody><tr><td>69.90</td><td>43.91</td><td>97.74</td><td>57.32</td><td>37.76</td></tr></tbody></table></div></td><td>Varanasi</td><td>Uttar Pradesh</td><td>63.20</td><td>6</td></tr>,\n",
              " <tr><th>TLR (100)</th><th>RPC (100)</th><th>GO (100)</th><th>OI (100)</th><th>PERCEPTION (100)</th></tr>,\n",
              " <tr><td>69.90</td><td>43.91</td><td>97.74</td><td>57.32</td><td>37.76</td></tr>,\n",
              " <tr><td>IR-O-U-0234</td><td>Manipal Academy of Higher Education, Manipal<div style=\"float:right;\"><a class=\"btn-more-details\" href=\"javascript:;\"><span>More Details</span></a><a class=\"close_data\" id=\"close_1\" style=\"display: none;\">Close</a> | <a href=\"https://www.nirfindia.org/nirfpdfcdn/2022/pdf/University/IR-O-U-0234.pdf\" target=\"_blank\"><img src=\"https://www.nirfindia.org/images/pdf_icon.png\" style=\"width: 20px; height: 20px !important\"/></a> | <a href=\"https://www.nirfindia.org/nirfpdfcdn/2022/graph/University/IR-O-U-0234.png\" target=\"_blank\"><img src=\"https://www.nirfindia.org/images/graph.png\" style=\"width: 20px; height: 20px !important\"/></a></div><div class=\"tbl_hidden\" style=\"display:none;width:100%;\"><br/><table class=\"table \"><thead><tr><th>TLR (100)</th><th>RPC (100)</th><th>GO (100)</th><th>OI (100)</th><th>PERCEPTION (100)</th></tr></thead><tbody><tr><td>70.53</td><td>51.07</td><td>78.15</td><td>64.81</td><td>42.46</td></tr></tbody></table></div></td><td>Manipal</td><td>Karnataka</td><td>62.84</td><td>7</td></tr>,\n",
              " <tr><th>TLR (100)</th><th>RPC (100)</th><th>GO (100)</th><th>OI (100)</th><th>PERCEPTION (100)</th></tr>,\n",
              " <tr><td>70.53</td><td>51.07</td><td>78.15</td><td>64.81</td><td>42.46</td></tr>,\n",
              " <tr><td>IR-O-U-0570</td><td>Calcutta University<div style=\"float:right;\"><a class=\"btn-more-details\" href=\"javascript:;\"><span>More Details</span></a><a class=\"close_data\" id=\"close_1\" style=\"display: none;\">Close</a> | <a href=\"https://www.nirfindia.org/nirfpdfcdn/2022/pdf/University/IR-O-U-0570.pdf\" target=\"_blank\"><img src=\"https://www.nirfindia.org/images/pdf_icon.png\" style=\"width: 20px; height: 20px !important\"/></a> | <a href=\"https://www.nirfindia.org/nirfpdfcdn/2022/graph/University/IR-O-U-0570.png\" target=\"_blank\"><img src=\"https://www.nirfindia.org/images/graph.png\" style=\"width: 20px; height: 20px !important\"/></a></div><div class=\"tbl_hidden\" style=\"display:none;width:100%;\"><br/><table class=\"table \"><thead><tr><th>TLR (100)</th><th>RPC (100)</th><th>GO (100)</th><th>OI (100)</th><th>PERCEPTION (100)</th></tr></thead><tbody><tr><td>67.46</td><td>40.85</td><td>95.48</td><td>61.90</td><td>44.50</td></tr></tbody></table></div></td><td>Kolkata</td><td>West Bengal</td><td>62.23</td><td>8</td></tr>,\n",
              " <tr><th>TLR (100)</th><th>RPC (100)</th><th>GO (100)</th><th>OI (100)</th><th>PERCEPTION (100)</th></tr>,\n",
              " <tr><td>67.46</td><td>40.85</td><td>95.48</td><td>61.90</td><td>44.50</td></tr>,\n",
              " <tr><td>IR-O-U-0490</td><td>Vellore Institute of Technology<div style=\"float:right;\"><a class=\"btn-more-details\" href=\"javascript:;\"><span>More Details</span></a><a class=\"close_data\" id=\"close_1\" style=\"display: none;\">Close</a> | <a href=\"https://www.nirfindia.org/nirfpdfcdn/2022/pdf/University/IR-O-U-0490.pdf\" target=\"_blank\"><img src=\"https://www.nirfindia.org/images/pdf_icon.png\" style=\"width: 20px; height: 20px !important\"/></a> | <a href=\"https://www.nirfindia.org/nirfpdfcdn/2022/graph/University/IR-O-U-0490.png\" target=\"_blank\"><img src=\"https://www.nirfindia.org/images/graph.png\" style=\"width: 20px; height: 20px !important\"/></a></div><div class=\"tbl_hidden\" style=\"display:none;width:100%;\"><br/><table class=\"table \"><thead><tr><th>TLR (100)</th><th>RPC (100)</th><th>GO (100)</th><th>OI (100)</th><th>PERCEPTION (100)</th></tr></thead><tbody><tr><td>52.72</td><td>59.82</td><td>79.43</td><td>59.07</td><td>62.02</td></tr></tbody></table></div></td><td>Vellore</td><td>Tamil Nadu</td><td>61.77</td><td>9</td></tr>,\n",
              " <tr><th>TLR (100)</th><th>RPC (100)</th><th>GO (100)</th><th>OI (100)</th><th>PERCEPTION (100)</th></tr>,\n",
              " <tr><td>52.72</td><td>59.82</td><td>79.43</td><td>59.07</td><td>62.02</td></tr>,\n",
              " <tr><td>IR-O-U-0042</td><td>University of Hyderabad<div style=\"float:right;\"><a class=\"btn-more-details\" href=\"javascript:;\"><span>More Details</span></a><a class=\"close_data\" id=\"close_1\" style=\"display: none;\">Close</a> | <a href=\"https://www.nirfindia.org/nirfpdfcdn/2022/pdf/University/IR-O-U-0042.pdf\" target=\"_blank\"><img src=\"https://www.nirfindia.org/images/pdf_icon.png\" style=\"width: 20px; height: 20px !important\"/></a> | <a href=\"https://www.nirfindia.org/nirfpdfcdn/2022/graph/University/IR-O-U-0042.png\" target=\"_blank\"><img src=\"https://www.nirfindia.org/images/graph.png\" style=\"width: 20px; height: 20px !important\"/></a></div><div class=\"tbl_hidden\" style=\"display:none;width:100%;\"><br/><table class=\"table \"><thead><tr><th>TLR (100)</th><th>RPC (100)</th><th>GO (100)</th><th>OI (100)</th><th>PERCEPTION (100)</th></tr></thead><tbody><tr><td>70.94</td><td>40.18</td><td>83.97</td><td>63.50</td><td>52.39</td></tr></tbody></table></div></td><td>Hyderabad</td><td>Telangana</td><td>61.71</td><td>10</td></tr>,\n",
              " <tr><th>TLR (100)</th><th>RPC (100)</th><th>GO (100)</th><th>OI (100)</th><th>PERCEPTION (100)</th></tr>,\n",
              " <tr><td>70.94</td><td>40.18</td><td>83.97</td><td>63.50</td><td>52.39</td></tr>,\n",
              " <tr><td>IR-O-U-0496</td><td>Aligarh Muslim University<div style=\"float:right;\"><a class=\"btn-more-details\" href=\"javascript:;\"><span>More Details</span></a><a class=\"close_data\" id=\"close_1\" style=\"display: none;\">Close</a> | <a href=\"https://www.nirfindia.org/nirfpdfcdn/2022/pdf/University/IR-O-U-0496.pdf\" target=\"_blank\"><img src=\"https://www.nirfindia.org/images/pdf_icon.png\" style=\"width: 20px; height: 20px !important\"/></a> | <a href=\"https://www.nirfindia.org/nirfpdfcdn/2022/graph/University/IR-O-U-0496.png\" target=\"_blank\"><img src=\"https://www.nirfindia.org/images/graph.png\" style=\"width: 20px; height: 20px !important\"/></a></div><div class=\"tbl_hidden\" style=\"display:none;width:100%;\"><br/><table class=\"table \"><thead><tr><th>TLR (100)</th><th>RPC (100)</th><th>GO (100)</th><th>OI (100)</th><th>PERCEPTION (100)</th></tr></thead><tbody><tr><td>69.21</td><td>43.04</td><td>88.92</td><td>56.29</td><td>43.49</td></tr></tbody></table></div></td><td>Aligarh</td><td>Uttar Pradesh</td><td>61.43</td><td>11</td></tr>,\n",
              " <tr><th>TLR (100)</th><th>RPC (100)</th><th>GO (100)</th><th>OI (100)</th><th>PERCEPTION (100)</th></tr>,\n",
              " <tr><td>69.21</td><td>43.04</td><td>88.92</td><td>56.29</td><td>43.49</td></tr>,\n",
              " <tr><td>IR-O-U-0323</td><td>Savitribai Phule Pune University<div style=\"float:right;\"><a class=\"btn-more-details\" href=\"javascript:;\"><span>More Details</span></a><a class=\"close_data\" id=\"close_1\" style=\"display: none;\">Close</a> | <a href=\"https://www.nirfindia.org/nirfpdfcdn/2022/pdf/University/IR-O-U-0323.pdf\" target=\"_blank\"><img src=\"https://www.nirfindia.org/images/pdf_icon.png\" style=\"width: 20px; height: 20px !important\"/></a> | <a href=\"https://www.nirfindia.org/nirfpdfcdn/2022/graph/University/IR-O-U-0323.png\" target=\"_blank\"><img src=\"https://www.nirfindia.org/images/graph.png\" style=\"width: 20px; height: 20px !important\"/></a></div><div class=\"tbl_hidden\" style=\"display:none;width:100%;\"><br/><table class=\"table \"><thead><tr><th>TLR (100)</th><th>RPC (100)</th><th>GO (100)</th><th>OI (100)</th><th>PERCEPTION (100)</th></tr></thead><tbody><tr><td>63.66</td><td>41.64</td><td>92.44</td><td>52.07</td><td>41.88</td></tr></tbody></table></div></td><td>Pune</td><td>Maharashtra</td><td>59.48</td><td>12</td></tr>,\n",
              " <tr><th>TLR (100)</th><th>RPC (100)</th><th>GO (100)</th><th>OI (100)</th><th>PERCEPTION (100)</th></tr>,\n",
              " <tr><td>63.66</td><td>41.64</td><td>92.44</td><td>52.07</td><td>41.88</td></tr>,\n",
              " <tr><td>IR-O-U-0120</td><td>University of Delhi<div style=\"float:right;\"><a class=\"btn-more-details\" href=\"javascript:;\"><span>More Details</span></a><a class=\"close_data\" id=\"close_1\" style=\"display: none;\">Close</a> | <a href=\"https://www.nirfindia.org/nirfpdfcdn/2022/pdf/University/IR-O-U-0120.pdf\" target=\"_blank\"><img src=\"https://www.nirfindia.org/images/pdf_icon.png\" style=\"width: 20px; height: 20px !important\"/></a> | <a href=\"https://www.nirfindia.org/nirfpdfcdn/2022/graph/University/IR-O-U-0120.png\" target=\"_blank\"><img src=\"https://www.nirfindia.org/images/graph.png\" style=\"width: 20px; height: 20px !important\"/></a></div><div class=\"tbl_hidden\" style=\"display:none;width:100%;\"><br/><table class=\"table \"><thead><tr><th>TLR (100)</th><th>RPC (100)</th><th>GO (100)</th><th>OI (100)</th><th>PERCEPTION (100)</th></tr></thead><tbody><tr><td>43.11</td><td>52.82</td><td>91.85</td><td>58.87</td><td>56.15</td></tr></tbody></table></div></td><td>Delhi</td><td>Delhi</td><td>58.66</td><td>13</td></tr>,\n",
              " <tr><th>TLR (100)</th><th>RPC (100)</th><th>GO (100)</th><th>OI (100)</th><th>PERCEPTION (100)</th></tr>,\n",
              " <tr><td>43.11</td><td>52.82</td><td>91.85</td><td>58.87</td><td>56.15</td></tr>,\n",
              " <tr><td>IR-O-U-0308</td><td>Institute of Chemical Technology<div style=\"float:right;\"><a class=\"btn-more-details\" href=\"javascript:;\"><span>More Details</span></a><a class=\"close_data\" id=\"close_1\" style=\"display: none;\">Close</a> | <a href=\"https://www.nirfindia.org/nirfpdfcdn/2022/pdf/University/IR-O-U-0308.pdf\" target=\"_blank\"><img src=\"https://www.nirfindia.org/images/pdf_icon.png\" style=\"width: 20px; height: 20px !important\"/></a> | <a href=\"https://www.nirfindia.org/nirfpdfcdn/2022/graph/University/IR-O-U-0308.png\" target=\"_blank\"><img src=\"https://www.nirfindia.org/images/graph.png\" style=\"width: 20px; height: 20px !important\"/></a></div><div class=\"tbl_hidden\" style=\"display:none;width:100%;\"><br/><table class=\"table \"><thead><tr><th>TLR (100)</th><th>RPC (100)</th><th>GO (100)</th><th>OI (100)</th><th>PERCEPTION (100)</th></tr></thead><tbody><tr><td>59.27</td><td>50.58</td><td>79.61</td><td>54.50</td><td>42.91</td></tr></tbody></table></div></td><td>Mumbai</td><td>Maharashtra</td><td>58.61</td><td>14</td></tr>,\n",
              " <tr><th>TLR (100)</th><th>RPC (100)</th><th>GO (100)</th><th>OI (100)</th><th>PERCEPTION (100)</th></tr>,\n",
              " <tr><td>59.27</td><td>50.58</td><td>79.61</td><td>54.50</td><td>42.91</td></tr>,\n",
              " <tr><td>IR-O-U-0447</td><td>Bharathiar University<div style=\"float:right;\"><a class=\"btn-more-details\" href=\"javascript:;\"><span>More Details</span></a><a class=\"close_data\" id=\"close_1\" style=\"display: none;\">Close</a> | <a href=\"https://www.nirfindia.org/nirfpdfcdn/2022/pdf/University/IR-O-U-0447.pdf\" target=\"_blank\"><img src=\"https://www.nirfindia.org/images/pdf_icon.png\" style=\"width: 20px; height: 20px !important\"/></a> | <a href=\"https://www.nirfindia.org/nirfpdfcdn/2022/graph/University/IR-O-U-0447.png\" target=\"_blank\"><img src=\"https://www.nirfindia.org/images/graph.png\" style=\"width: 20px; height: 20px !important\"/></a></div><div class=\"tbl_hidden\" style=\"display:none;width:100%;\"><br/><table class=\"table \"><thead><tr><th>TLR (100)</th><th>RPC (100)</th><th>GO (100)</th><th>OI (100)</th><th>PERCEPTION (100)</th></tr></thead><tbody><tr><td>63.97</td><td>44.36</td><td>78.31</td><td>63.96</td><td>36.88</td></tr></tbody></table></div></td><td>Coimbatore</td><td>Tamil Nadu</td><td>58.25</td><td>15</td></tr>,\n",
              " <tr><th>TLR (100)</th><th>RPC (100)</th><th>GO (100)</th><th>OI (100)</th><th>PERCEPTION (100)</th></tr>,\n",
              " <tr><td>63.97</td><td>44.36</td><td>78.31</td><td>63.96</td><td>36.88</td></tr>,\n",
              " <tr><td>IR-O-U-0363</td><td>Siksha `O` Anusandhan<div style=\"float:right;\"><a class=\"btn-more-details\" href=\"javascript:;\"><span>More Details</span></a><a class=\"close_data\" id=\"close_1\" style=\"display: none;\">Close</a> | <a href=\"https://www.nirfindia.org/nirfpdfcdn/2022/pdf/University/IR-O-U-0363.pdf\" target=\"_blank\"><img src=\"https://www.nirfindia.org/images/pdf_icon.png\" style=\"width: 20px; height: 20px !important\"/></a> | <a href=\"https://www.nirfindia.org/nirfpdfcdn/2022/graph/University/IR-O-U-0363.png\" target=\"_blank\"><img src=\"https://www.nirfindia.org/images/graph.png\" style=\"width: 20px; height: 20px !important\"/></a></div><div class=\"tbl_hidden\" style=\"display:none;width:100%;\"><br/><table class=\"table \"><thead><tr><th>TLR (100)</th><th>RPC (100)</th><th>GO (100)</th><th>OI (100)</th><th>PERCEPTION (100)</th></tr></thead><tbody><tr><td>68.30</td><td>35.58</td><td>73.45</td><td>68.40</td><td>49.08</td></tr></tbody></table></div></td><td>Bhubaneswar</td><td>Odisha</td><td>57.60</td><td>16</td></tr>,\n",
              " <tr><th>TLR (100)</th><th>RPC (100)</th><th>GO (100)</th><th>OI (100)</th><th>PERCEPTION (100)</th></tr>,\n",
              " <tr><td>68.30</td><td>35.58</td><td>73.45</td><td>68.40</td><td>49.08</td></tr>,\n",
              " <tr><td>IR-O-U-0304</td><td>Homi Bhabha National Institute<div style=\"float:right;\"><a class=\"btn-more-details\" href=\"javascript:;\"><span>More Details</span></a><a class=\"close_data\" id=\"close_1\" style=\"display: none;\">Close</a> | <a href=\"https://www.nirfindia.org/nirfpdfcdn/2022/pdf/University/IR-O-U-0304.pdf\" target=\"_blank\"><img src=\"https://www.nirfindia.org/images/pdf_icon.png\" style=\"width: 20px; height: 20px !important\"/></a> | <a href=\"https://www.nirfindia.org/nirfpdfcdn/2022/graph/University/IR-O-U-0304.png\" target=\"_blank\"><img src=\"https://www.nirfindia.org/images/graph.png\" style=\"width: 20px; height: 20px !important\"/></a></div><div class=\"tbl_hidden\" style=\"display:none;width:100%;\"><br/><table class=\"table \"><thead><tr><th>TLR (100)</th><th>RPC (100)</th><th>GO (100)</th><th>OI (100)</th><th>PERCEPTION (100)</th></tr></thead><tbody><tr><td>72.51</td><td>45.25</td><td>68.93</td><td>52.01</td><td>27.71</td></tr></tbody></table></div></td><td>Mumbai</td><td>Maharashtra</td><td>57.09</td><td>17</td></tr>,\n",
              " <tr><th>TLR (100)</th><th>RPC (100)</th><th>GO (100)</th><th>OI (100)</th><th>PERCEPTION (100)</th></tr>,\n",
              " <tr><td>72.51</td><td>45.25</td><td>68.93</td><td>52.01</td><td>27.71</td></tr>,\n",
              " <tr><td>IR-O-U-0391</td><td>Birla Institute of Technology &amp; Science - Pilani<div style=\"float:right;\"><a class=\"btn-more-details\" href=\"javascript:;\"><span>More Details</span></a><a class=\"close_data\" id=\"close_1\" style=\"display: none;\">Close</a> | <a href=\"https://www.nirfindia.org/nirfpdfcdn/2022/pdf/University/IR-O-U-0391.pdf\" target=\"_blank\"><img src=\"https://www.nirfindia.org/images/pdf_icon.png\" style=\"width: 20px; height: 20px !important\"/></a> | <a href=\"https://www.nirfindia.org/nirfpdfcdn/2022/graph/University/IR-O-U-0391.png\" target=\"_blank\"><img src=\"https://www.nirfindia.org/images/graph.png\" style=\"width: 20px; height: 20px !important\"/></a></div><div class=\"tbl_hidden\" style=\"display:none;width:100%;\"><br/><table class=\"table \"><thead><tr><th>TLR (100)</th><th>RPC (100)</th><th>GO (100)</th><th>OI (100)</th><th>PERCEPTION (100)</th></tr></thead><tbody><tr><td>59.27</td><td>46.74</td><td>73.45</td><td>58.76</td><td>43.08</td></tr></tbody></table></div></td><td>Pilani</td><td>Rajasthan</td><td>56.68</td><td>18</td></tr>,\n",
              " <tr><th>TLR (100)</th><th>RPC (100)</th><th>GO (100)</th><th>OI (100)</th><th>PERCEPTION (100)</th></tr>,\n",
              " <tr><td>59.27</td><td>46.74</td><td>73.45</td><td>58.76</td><td>43.08</td></tr>,\n",
              " <tr><td>IR-O-U-0473</td><td>S.R.M. Institute of Science and Technology<div style=\"float:right;\"><a class=\"btn-more-details\" href=\"javascript:;\"><span>More Details</span></a><a class=\"close_data\" id=\"close_1\" style=\"display: none;\">Close</a> | <a href=\"https://www.nirfindia.org/nirfpdfcdn/2022/pdf/University/IR-O-U-0473.pdf\" target=\"_blank\"><img src=\"https://www.nirfindia.org/images/pdf_icon.png\" style=\"width: 20px; height: 20px !important\"/></a> | <a href=\"https://www.nirfindia.org/nirfpdfcdn/2022/graph/University/IR-O-U-0473.png\" target=\"_blank\"><img src=\"https://www.nirfindia.org/images/graph.png\" style=\"width: 20px; height: 20px !important\"/></a></div><div class=\"tbl_hidden\" style=\"display:none;width:100%;\"><br/><table class=\"table \"><thead><tr><th>TLR (100)</th><th>RPC (100)</th><th>GO (100)</th><th>OI (100)</th><th>PERCEPTION (100)</th></tr></thead><tbody><tr><td>57.91</td><td>45.28</td><td>71.41</td><td>62.54</td><td>47.60</td></tr></tbody></table></div></td><td>Chennai</td><td>Tamil Nadu</td><td>56.24</td><td>19</td></tr>,\n",
              " <tr><th>TLR (100)</th><th>RPC (100)</th><th>GO (100)</th><th>OI (100)</th><th>PERCEPTION (100)</th></tr>,\n",
              " <tr><td>57.91</td><td>45.28</td><td>71.41</td><td>62.54</td><td>47.60</td></tr>,\n",
              " <tr><td>IR-O-U-0356</td><td>Kalinga Institute of Industrial Technology<div style=\"float:right;\"><a class=\"btn-more-details\" href=\"javascript:;\"><span>More Details</span></a><a class=\"close_data\" id=\"close_1\" style=\"display: none;\">Close</a> | <a href=\"https://www.nirfindia.org/nirfpdfcdn/2022/pdf/University/IR-O-U-0356.pdf\" target=\"_blank\"><img src=\"https://www.nirfindia.org/images/pdf_icon.png\" style=\"width: 20px; height: 20px !important\"/></a> | <a href=\"https://www.nirfindia.org/nirfpdfcdn/2022/graph/University/IR-O-U-0356.png\" target=\"_blank\"><img src=\"https://www.nirfindia.org/images/graph.png\" style=\"width: 20px; height: 20px !important\"/></a></div><div class=\"tbl_hidden\" style=\"display:none;width:100%;\"><br/><table class=\"table \"><thead><tr><th>TLR (100)</th><th>RPC (100)</th><th>GO (100)</th><th>OI (100)</th><th>PERCEPTION (100)</th></tr></thead><tbody><tr><td>69.00</td><td>30.20</td><td>75.13</td><td>77.86</td><td>36.40</td></tr></tbody></table></div></td><td>Bhubaneswar</td><td>Odisha</td><td>56.22</td><td>20</td></tr>,\n",
              " <tr><th>TLR (100)</th><th>RPC (100)</th><th>GO (100)</th><th>OI (100)</th><th>PERCEPTION (100)</th></tr>,\n",
              " <tr><td>69.00</td><td>30.20</td><td>75.13</td><td>77.86</td><td>36.40</td></tr>,\n",
              " <tr><td>IR-O-U-0439</td><td>Anna University<div style=\"float:right;\"><a class=\"btn-more-details\" href=\"javascript:;\"><span>More Details</span></a><a class=\"close_data\" id=\"close_1\" style=\"display: none;\">Close</a> | <a href=\"https://www.nirfindia.org/nirfpdfcdn/2022/pdf/University/IR-O-U-0439.pdf\" target=\"_blank\"><img src=\"https://www.nirfindia.org/images/pdf_icon.png\" style=\"width: 20px; height: 20px !important\"/></a> | <a href=\"https://www.nirfindia.org/nirfpdfcdn/2022/graph/University/IR-O-U-0439.png\" target=\"_blank\"><img src=\"https://www.nirfindia.org/images/graph.png\" style=\"width: 20px; height: 20px !important\"/></a></div><div class=\"tbl_hidden\" style=\"display:none;width:100%;\"><br/><table class=\"table \"><thead><tr><th>TLR (100)</th><th>RPC (100)</th><th>GO (100)</th><th>OI (100)</th><th>PERCEPTION (100)</th></tr></thead><tbody><tr><td>53.32</td><td>53.15</td><td>74.97</td><td>49.30</td><td>43.47</td></tr></tbody></table></div></td><td>Chennai</td><td>Tamil Nadu</td><td>56.22</td><td>20</td></tr>,\n",
              " <tr><th>TLR (100)</th><th>RPC (100)</th><th>GO (100)</th><th>OI (100)</th><th>PERCEPTION (100)</th></tr>,\n",
              " <tr><td>53.32</td><td>53.15</td><td>74.97</td><td>49.30</td><td>43.47</td></tr>,\n",
              " <tr><td>IR-O-U-0027</td><td>Osmania University<div style=\"float:right;\"><a class=\"btn-more-details\" href=\"javascript:;\"><span>More Details</span></a><a class=\"close_data\" id=\"close_1\" style=\"display: none;\">Close</a> | <a href=\"https://www.nirfindia.org/nirfpdfcdn/2022/pdf/University/IR-O-U-0027.pdf\" target=\"_blank\"><img src=\"https://www.nirfindia.org/images/pdf_icon.png\" style=\"width: 20px; height: 20px !important\"/></a> | <a href=\"https://www.nirfindia.org/nirfpdfcdn/2022/graph/University/IR-O-U-0027.png\" target=\"_blank\"><img src=\"https://www.nirfindia.org/images/graph.png\" style=\"width: 20px; height: 20px !important\"/></a></div><div class=\"tbl_hidden\" style=\"display:none;width:100%;\"><br/><table class=\"table \"><thead><tr><th>TLR (100)</th><th>RPC (100)</th><th>GO (100)</th><th>OI (100)</th><th>PERCEPTION (100)</th></tr></thead><tbody><tr><td>60.22</td><td>30.41</td><td>79.98</td><td>56.37</td><td>42.40</td></tr></tbody></table></div></td><td>Hyderabad</td><td>Telangana</td><td>53.07</td><td>22</td></tr>,\n",
              " <tr><th>TLR (100)</th><th>RPC (100)</th><th>GO (100)</th><th>OI (100)</th><th>PERCEPTION (100)</th></tr>,\n",
              " <tr><td>60.22</td><td>30.41</td><td>79.98</td><td>56.37</td><td>42.40</td></tr>,\n",
              " <tr><td>IR-O-U-0497</td><td>Amity University<div style=\"float:right;\"><a class=\"btn-more-details\" href=\"javascript:;\"><span>More Details</span></a><a class=\"close_data\" id=\"close_1\" style=\"display: none;\">Close</a> | <a href=\"https://www.nirfindia.org/nirfpdfcdn/2022/pdf/University/IR-O-U-0497.pdf\" target=\"_blank\"><img src=\"https://www.nirfindia.org/images/pdf_icon.png\" style=\"width: 20px; height: 20px !important\"/></a> | <a href=\"https://www.nirfindia.org/nirfpdfcdn/2022/graph/University/IR-O-U-0497.png\" target=\"_blank\"><img src=\"https://www.nirfindia.org/images/graph.png\" style=\"width: 20px; height: 20px !important\"/></a></div><div class=\"tbl_hidden\" style=\"display:none;width:100%;\"><br/><table class=\"table \"><thead><tr><th>TLR (100)</th><th>RPC (100)</th><th>GO (100)</th><th>OI (100)</th><th>PERCEPTION (100)</th></tr></thead><tbody><tr><td>49.57</td><td>47.89</td><td>70.35</td><td>64.17</td><td>33.40</td></tr></tbody></table></div></td><td>Gautam Budh Nagar</td><td>Uttar Pradesh</td><td>53.07</td><td>22</td></tr>,\n",
              " <tr><th>TLR (100)</th><th>RPC (100)</th><th>GO (100)</th><th>OI (100)</th><th>PERCEPTION (100)</th></tr>,\n",
              " <tr><td>49.57</td><td>47.89</td><td>70.35</td><td>64.17</td><td>33.40</td></tr>,\n",
              " <tr><td>IR-O-U-0476</td><td>Shanmugha Arts Science Technology &amp; Research Academy<div style=\"float:right;\"><a class=\"btn-more-details\" href=\"javascript:;\"><span>More Details</span></a><a class=\"close_data\" id=\"close_1\" style=\"display: none;\">Close</a> | <a href=\"https://www.nirfindia.org/nirfpdfcdn/2022/pdf/University/IR-O-U-0476.pdf\" target=\"_blank\"><img src=\"https://www.nirfindia.org/images/pdf_icon.png\" style=\"width: 20px; height: 20px !important\"/></a> | <a href=\"https://www.nirfindia.org/nirfpdfcdn/2022/graph/University/IR-O-U-0476.png\" target=\"_blank\"><img src=\"https://www.nirfindia.org/images/graph.png\" style=\"width: 20px; height: 20px !important\"/></a></div><div class=\"tbl_hidden\" style=\"display:none;width:100%;\"><br/><table class=\"table \"><thead><tr><th>TLR (100)</th><th>RPC (100)</th><th>GO (100)</th><th>OI (100)</th><th>PERCEPTION (100)</th></tr></thead><tbody><tr><td>61.35</td><td>38.23</td><td>67.66</td><td>59.74</td><td>36.70</td></tr></tbody></table></div></td><td>Thanjavur</td><td>Tamil Nadu</td><td>53.04</td><td>24</td></tr>,\n",
              " <tr><th>TLR (100)</th><th>RPC (100)</th><th>GO (100)</th><th>OI (100)</th><th>PERCEPTION (100)</th></tr>,\n",
              " <tr><td>61.35</td><td>38.23</td><td>67.66</td><td>59.74</td><td>36.70</td></tr>,\n",
              " <tr><td>IR-O-U-0078</td><td>Panjab University<div style=\"float:right;\"><a class=\"btn-more-details\" href=\"javascript:;\"><span>More Details</span></a><a class=\"close_data\" id=\"close_1\" style=\"display: none;\">Close</a> | <a href=\"https://www.nirfindia.org/nirfpdfcdn/2022/pdf/University/IR-O-U-0078.pdf\" target=\"_blank\"><img src=\"https://www.nirfindia.org/images/pdf_icon.png\" style=\"width: 20px; height: 20px !important\"/></a> | <a href=\"https://www.nirfindia.org/nirfpdfcdn/2022/graph/University/IR-O-U-0078.png\" target=\"_blank\"><img src=\"https://www.nirfindia.org/images/graph.png\" style=\"width: 20px; height: 20px !important\"/></a></div><div class=\"tbl_hidden\" style=\"display:none;width:100%;\"><br/><table class=\"table \"><thead><tr><th>TLR (100)</th><th>RPC (100)</th><th>GO (100)</th><th>OI (100)</th><th>PERCEPTION (100)</th></tr></thead><tbody><tr><td>48.43</td><td>43.18</td><td>74.62</td><td>60.73</td><td>43.29</td></tr></tbody></table></div></td><td>Chandigarh</td><td>Chandigarh</td><td>52.80</td><td>25</td></tr>,\n",
              " <tr><th>TLR (100)</th><th>RPC (100)</th><th>GO (100)</th><th>OI (100)</th><th>PERCEPTION (100)</th></tr>,\n",
              " <tr><td>48.43</td><td>43.18</td><td>74.62</td><td>60.73</td><td>43.29</td></tr>,\n",
              " <tr><td>IR-O-I-1441</td><td>Saveetha Institute of Medical and Technical Sciences<div style=\"float:right;\"><a class=\"btn-more-details\" href=\"javascript:;\"><span>More Details</span></a><a class=\"close_data\" id=\"close_1\" style=\"display: none;\">Close</a> | <a href=\"https://www.nirfindia.org/nirfpdfcdn/2022/pdf/University/IR-O-I-1441.pdf\" target=\"_blank\"><img src=\"https://www.nirfindia.org/images/pdf_icon.png\" style=\"width: 20px; height: 20px !important\"/></a> | <a href=\"https://www.nirfindia.org/nirfpdfcdn/2022/graph/University/IR-O-I-1441.png\" target=\"_blank\"><img src=\"https://www.nirfindia.org/images/graph.png\" style=\"width: 20px; height: 20px !important\"/></a></div><div class=\"tbl_hidden\" style=\"display:none;width:100%;\"><br/><table class=\"table \"><thead><tr><th>TLR (100)</th><th>RPC (100)</th><th>GO (100)</th><th>OI (100)</th><th>PERCEPTION (100)</th></tr></thead><tbody><tr><td>56.29</td><td>43.01</td><td>69.46</td><td>65.97</td><td>21.71</td></tr></tbody></table></div></td><td>Chennai</td><td>Tamil Nadu</td><td>52.45</td><td>26</td></tr>,\n",
              " <tr><th>TLR (100)</th><th>RPC (100)</th><th>GO (100)</th><th>OI (100)</th><th>PERCEPTION (100)</th></tr>,\n",
              " <tr><td>56.29</td><td>43.01</td><td>69.46</td><td>65.97</td><td>21.71</td></tr>,\n",
              " <tr><td>IR-O-U-0020</td><td>Koneru Lakshmaiah Education Foundation University (K L College of Engineering)<div style=\"float:right;\"><a class=\"btn-more-details\" href=\"javascript:;\"><span>More Details</span></a><a class=\"close_data\" id=\"close_1\" style=\"display: none;\">Close</a> | <a href=\"https://www.nirfindia.org/nirfpdfcdn/2022/pdf/University/IR-O-U-0020.pdf\" target=\"_blank\"><img src=\"https://www.nirfindia.org/images/pdf_icon.png\" style=\"width: 20px; height: 20px !important\"/></a> | <a href=\"https://www.nirfindia.org/nirfpdfcdn/2022/graph/University/IR-O-U-0020.png\" target=\"_blank\"><img src=\"https://www.nirfindia.org/images/graph.png\" style=\"width: 20px; height: 20px !important\"/></a></div><div class=\"tbl_hidden\" style=\"display:none;width:100%;\"><br/><table class=\"table \"><thead><tr><th>TLR (100)</th><th>RPC (100)</th><th>GO (100)</th><th>OI (100)</th><th>PERCEPTION (100)</th></tr></thead><tbody><tr><td>61.22</td><td>36.63</td><td>67.04</td><td>56.83</td><td>38.82</td></tr></tbody></table></div></td><td>Vaddeswaram</td><td>Andhra Pradesh</td><td>52.33</td><td>27</td></tr>,\n",
              " <tr><th>TLR (100)</th><th>RPC (100)</th><th>GO (100)</th><th>OI (100)</th><th>PERCEPTION (100)</th></tr>,\n",
              " <tr><td>61.22</td><td>36.63</td><td>67.04</td><td>56.83</td><td>38.82</td></tr>,\n",
              " <tr><td>IR-O-U-0435</td><td>Alagappa University<div style=\"float:right;\"><a class=\"btn-more-details\" href=\"javascript:;\"><span>More Details</span></a><a class=\"close_data\" id=\"close_1\" style=\"display: none;\">Close</a> | <a href=\"https://www.nirfindia.org/nirfpdfcdn/2022/pdf/University/IR-O-U-0435.pdf\" target=\"_blank\"><img src=\"https://www.nirfindia.org/images/pdf_icon.png\" style=\"width: 20px; height: 20px !important\"/></a> | <a href=\"https://www.nirfindia.org/nirfpdfcdn/2022/graph/University/IR-O-U-0435.png\" target=\"_blank\"><img src=\"https://www.nirfindia.org/images/graph.png\" style=\"width: 20px; height: 20px !important\"/></a></div><div class=\"tbl_hidden\" style=\"display:none;width:100%;\"><br/><table class=\"table \"><thead><tr><th>TLR (100)</th><th>RPC (100)</th><th>GO (100)</th><th>OI (100)</th><th>PERCEPTION (100)</th></tr></thead><tbody><tr><td>61.66</td><td>32.63</td><td>72.21</td><td>51.56</td><td>42.91</td></tr></tbody></table></div></td><td>Karaikudi</td><td>Tamil Nadu</td><td>52.18</td><td>28</td></tr>,\n",
              " <tr><th>TLR (100)</th><th>RPC (100)</th><th>GO (100)</th><th>OI (100)</th><th>PERCEPTION (100)</th></tr>,\n",
              " <tr><td>61.66</td><td>32.63</td><td>72.21</td><td>51.56</td><td>42.91</td></tr>,\n",
              " <tr><td>IR-O-U-0747</td><td>Chandigarh University<div style=\"float:right;\"><a class=\"btn-more-details\" href=\"javascript:;\"><span>More Details</span></a><a class=\"close_data\" id=\"close_1\" style=\"display: none;\">Close</a> | <a href=\"https://www.nirfindia.org/nirfpdfcdn/2022/pdf/University/IR-O-U-0747.pdf\" target=\"_blank\"><img src=\"https://www.nirfindia.org/images/pdf_icon.png\" style=\"width: 20px; height: 20px !important\"/></a> | <a href=\"https://www.nirfindia.org/nirfpdfcdn/2022/graph/University/IR-O-U-0747.png\" target=\"_blank\"><img src=\"https://www.nirfindia.org/images/graph.png\" style=\"width: 20px; height: 20px !important\"/></a></div><div class=\"tbl_hidden\" style=\"display:none;width:100%;\"><br/><table class=\"table \"><thead><tr><th>TLR (100)</th><th>RPC (100)</th><th>GO (100)</th><th>OI (100)</th><th>PERCEPTION (100)</th></tr></thead><tbody><tr><td>63.04</td><td>22.16</td><td>69.27</td><td>78.62</td><td>45.83</td></tr></tbody></table></div></td><td>Mohali</td><td>Punjab</td><td>51.85</td><td>29</td></tr>,\n",
              " <tr><th>TLR (100)</th><th>RPC (100)</th><th>GO (100)</th><th>OI (100)</th><th>PERCEPTION (100)</th></tr>,\n",
              " <tr><td>63.04</td><td>22.16</td><td>69.27</td><td>78.62</td><td>45.83</td></tr>,\n",
              " <tr><td>IR-O-U-0262</td><td>Mahatma Gandhi University, Kottayam<div style=\"float:right;\"><a class=\"btn-more-details\" href=\"javascript:;\"><span>More Details</span></a><a class=\"close_data\" id=\"close_1\" style=\"display: none;\">Close</a> | <a href=\"https://www.nirfindia.org/nirfpdfcdn/2022/pdf/University/IR-O-U-0262.pdf\" target=\"_blank\"><img src=\"https://www.nirfindia.org/images/pdf_icon.png\" style=\"width: 20px; height: 20px !important\"/></a> | <a href=\"https://www.nirfindia.org/nirfpdfcdn/2022/graph/University/IR-O-U-0262.png\" target=\"_blank\"><img src=\"https://www.nirfindia.org/images/graph.png\" style=\"width: 20px; height: 20px !important\"/></a></div><div class=\"tbl_hidden\" style=\"display:none;width:100%;\"><br/><table class=\"table \"><thead><tr><th>TLR (100)</th><th>RPC (100)</th><th>GO (100)</th><th>OI (100)</th><th>PERCEPTION (100)</th></tr></thead><tbody><tr><td>65.16</td><td>36.16</td><td>70.48</td><td>51.18</td><td>19.92</td></tr></tbody></table></div></td><td>Kottayam</td><td>Kerala</td><td>51.61</td><td>30</td></tr>,\n",
              " <tr><th>TLR (100)</th><th>RPC (100)</th><th>GO (100)</th><th>OI (100)</th><th>PERCEPTION (100)</th></tr>,\n",
              " <tr><td>65.16</td><td>36.16</td><td>70.48</td><td>51.18</td><td>19.92</td></tr>,\n",
              " <tr><td>IR-O-I-1480</td><td>Thapar Institute of Engineering and Technology<div style=\"float:right;\"><a class=\"btn-more-details\" href=\"javascript:;\"><span>More Details</span></a><a class=\"close_data\" id=\"close_1\" style=\"display: none;\">Close</a> | <a href=\"https://www.nirfindia.org/nirfpdfcdn/2022/pdf/University/IR-O-I-1480.pdf\" target=\"_blank\"><img src=\"https://www.nirfindia.org/images/pdf_icon.png\" style=\"width: 20px; height: 20px !important\"/></a> | <a href=\"https://www.nirfindia.org/nirfpdfcdn/2022/graph/University/IR-O-I-1480.png\" target=\"_blank\"><img src=\"https://www.nirfindia.org/images/graph.png\" style=\"width: 20px; height: 20px !important\"/></a></div><div class=\"tbl_hidden\" style=\"display:none;width:100%;\"><br/><table class=\"table \"><thead><tr><th>TLR (100)</th><th>RPC (100)</th><th>GO (100)</th><th>OI (100)</th><th>PERCEPTION (100)</th></tr></thead><tbody><tr><td>49.86</td><td>44.83</td><td>70.57</td><td>55.09</td><td>35.34</td></tr></tbody></table></div></td><td>Patiala</td><td>Punjab</td><td>51.56</td><td>31</td></tr>,\n",
              " <tr><th>TLR (100)</th><th>RPC (100)</th><th>GO (100)</th><th>OI (100)</th><th>PERCEPTION (100)</th></tr>,\n",
              " <tr><td>49.86</td><td>44.83</td><td>70.57</td><td>55.09</td><td>35.34</td></tr>,\n",
              " <tr><td>IR-O-U-0329</td><td>Symbiosis International<div style=\"float:right;\"><a class=\"btn-more-details\" href=\"javascript:;\"><span>More Details</span></a><a class=\"close_data\" id=\"close_1\" style=\"display: none;\">Close</a> | <a href=\"https://www.nirfindia.org/nirfpdfcdn/2022/pdf/University/IR-O-U-0329.pdf\" target=\"_blank\"><img src=\"https://www.nirfindia.org/images/pdf_icon.png\" style=\"width: 20px; height: 20px !important\"/></a> | <a href=\"https://www.nirfindia.org/nirfpdfcdn/2022/graph/University/IR-O-U-0329.png\" target=\"_blank\"><img src=\"https://www.nirfindia.org/images/graph.png\" style=\"width: 20px; height: 20px !important\"/></a></div><div class=\"tbl_hidden\" style=\"display:none;width:100%;\"><br/><table class=\"table \"><thead><tr><th>TLR (100)</th><th>RPC (100)</th><th>GO (100)</th><th>OI (100)</th><th>PERCEPTION (100)</th></tr></thead><tbody><tr><td>65.62</td><td>17.80</td><td>74.90</td><td>66.57</td><td>47.82</td></tr></tbody></table></div></td><td>Pune</td><td>Maharashtra</td><td>51.45</td><td>32</td></tr>,\n",
              " <tr><th>TLR (100)</th><th>RPC (100)</th><th>GO (100)</th><th>OI (100)</th><th>PERCEPTION (100)</th></tr>,\n",
              " <tr><td>65.62</td><td>17.80</td><td>74.90</td><td>66.57</td><td>47.82</td></tr>,\n",
              " <tr><td>IR-O-U-0235</td><td>Mysore University<div style=\"float:right;\"><a class=\"btn-more-details\" href=\"javascript:;\"><span>More Details</span></a><a class=\"close_data\" id=\"close_1\" style=\"display: none;\">Close</a> | <a href=\"https://www.nirfindia.org/nirfpdfcdn/2022/pdf/University/IR-O-U-0235.pdf\" target=\"_blank\"><img src=\"https://www.nirfindia.org/images/pdf_icon.png\" style=\"width: 20px; height: 20px !important\"/></a> | <a href=\"https://www.nirfindia.org/nirfpdfcdn/2022/graph/University/IR-O-U-0235.png\" target=\"_blank\"><img src=\"https://www.nirfindia.org/images/graph.png\" style=\"width: 20px; height: 20px !important\"/></a></div><div class=\"tbl_hidden\" style=\"display:none;width:100%;\"><br/><table class=\"table \"><thead><tr><th>TLR (100)</th><th>RPC (100)</th><th>GO (100)</th><th>OI (100)</th><th>PERCEPTION (100)</th></tr></thead><tbody><tr><td>68.90</td><td>16.81</td><td>90.68</td><td>53.79</td><td>21.36</td></tr></tbody></table></div></td><td>Mysuru</td><td>Karnataka</td><td>51.37</td><td>33</td></tr>,\n",
              " <tr><th>TLR (100)</th><th>RPC (100)</th><th>GO (100)</th><th>OI (100)</th><th>PERCEPTION (100)</th></tr>,\n",
              " <tr><td>68.90</td><td>16.81</td><td>90.68</td><td>53.79</td><td>21.36</td></tr>,\n",
              " <tr><td>IR-O-U-0222</td><td>JSS Academy of Higher Education and Research<div style=\"float:right;\"><a class=\"btn-more-details\" href=\"javascript:;\"><span>More Details</span></a><a class=\"close_data\" id=\"close_1\" style=\"display: none;\">Close</a> | <a href=\"https://www.nirfindia.org/nirfpdfcdn/2022/pdf/University/IR-O-U-0222.pdf\" target=\"_blank\"><img src=\"https://www.nirfindia.org/images/pdf_icon.png\" style=\"width: 20px; height: 20px !important\"/></a> | <a href=\"https://www.nirfindia.org/nirfpdfcdn/2022/graph/University/IR-O-U-0222.png\" target=\"_blank\"><img src=\"https://www.nirfindia.org/images/graph.png\" style=\"width: 20px; height: 20px !important\"/></a></div><div class=\"tbl_hidden\" style=\"display:none;width:100%;\"><br/><table class=\"table \"><thead><tr><th>TLR (100)</th><th>RPC (100)</th><th>GO (100)</th><th>OI (100)</th><th>PERCEPTION (100)</th></tr></thead><tbody><tr><td>68.12</td><td>21.40</td><td>69.04</td><td>69.37</td><td>35.88</td></tr></tbody></table></div></td><td>Mysuru</td><td>Karnataka</td><td>51.20</td><td>34</td></tr>,\n",
              " <tr><th>TLR (100)</th><th>RPC (100)</th><th>GO (100)</th><th>OI (100)</th><th>PERCEPTION (100)</th></tr>,\n",
              " <tr><td>68.12</td><td>21.40</td><td>69.04</td><td>69.37</td><td>35.88</td></tr>,\n",
              " <tr><td>IR-O-U-0458</td><td>Kalasalingam Academy of Research and Education<div style=\"float:right;\"><a class=\"btn-more-details\" href=\"javascript:;\"><span>More Details</span></a><a class=\"close_data\" id=\"close_1\" style=\"display: none;\">Close</a> | <a href=\"https://www.nirfindia.org/nirfpdfcdn/2022/pdf/University/IR-O-U-0458.pdf\" target=\"_blank\"><img src=\"https://www.nirfindia.org/images/pdf_icon.png\" style=\"width: 20px; height: 20px !important\"/></a> | <a href=\"https://www.nirfindia.org/nirfpdfcdn/2022/graph/University/IR-O-U-0458.png\" target=\"_blank\"><img src=\"https://www.nirfindia.org/images/graph.png\" style=\"width: 20px; height: 20px !important\"/></a></div><div class=\"tbl_hidden\" style=\"display:none;width:100%;\"><br/><table class=\"table \"><thead><tr><th>TLR (100)</th><th>RPC (100)</th><th>GO (100)</th><th>OI (100)</th><th>PERCEPTION (100)</th></tr></thead><tbody><tr><td>60.10</td><td>26.46</td><td>71.20</td><td>74.72</td><td>34.05</td></tr></tbody></table></div></td><td>Srivilliputtur</td><td>Tamil Nadu</td><td>51.09</td><td>35</td></tr>,\n",
              " <tr><th>TLR (100)</th><th>RPC (100)</th><th>GO (100)</th><th>OI (100)</th><th>PERCEPTION (100)</th></tr>,\n",
              " <tr><td>60.10</td><td>26.46</td><td>71.20</td><td>74.72</td><td>34.05</td></tr>,\n",
              " <tr><td>IR-O-U-0006</td><td>Andhra University, Visakhapatnam<div style=\"float:right;\"><a class=\"btn-more-details\" href=\"javascript:;\"><span>More Details</span></a><a class=\"close_data\" id=\"close_1\" style=\"display: none;\">Close</a> | <a href=\"https://www.nirfindia.org/nirfpdfcdn/2022/pdf/University/IR-O-U-0006.pdf\" target=\"_blank\"><img src=\"https://www.nirfindia.org/images/pdf_icon.png\" style=\"width: 20px; height: 20px !important\"/></a> | <a href=\"https://www.nirfindia.org/nirfpdfcdn/2022/graph/University/IR-O-U-0006.png\" target=\"_blank\"><img src=\"https://www.nirfindia.org/images/graph.png\" style=\"width: 20px; height: 20px !important\"/></a></div><div class=\"tbl_hidden\" style=\"display:none;width:100%;\"><br/><table class=\"table \"><thead><tr><th>TLR (100)</th><th>RPC (100)</th><th>GO (100)</th><th>OI (100)</th><th>PERCEPTION (100)</th></tr></thead><tbody><tr><td>54.05</td><td>25.80</td><td>85.70</td><td>53.73</td><td>40.53</td></tr></tbody></table></div></td><td>Visakhapatnam</td><td>Andhra Pradesh</td><td>50.52</td><td>36</td></tr>,\n",
              " <tr><th>TLR (100)</th><th>RPC (100)</th><th>GO (100)</th><th>OI (100)</th><th>PERCEPTION (100)</th></tr>,\n",
              " <tr><td>54.05</td><td>25.80</td><td>85.70</td><td>53.73</td><td>40.53</td></tr>,\n",
              " <tr><td>IR-O-U-0052</td><td>Gauhati University<div style=\"float:right;\"><a class=\"btn-more-details\" href=\"javascript:;\"><span>More Details</span></a><a class=\"close_data\" id=\"close_1\" style=\"display: none;\">Close</a> | <a href=\"https://www.nirfindia.org/nirfpdfcdn/2022/pdf/University/IR-O-U-0052.pdf\" target=\"_blank\"><img src=\"https://www.nirfindia.org/images/pdf_icon.png\" style=\"width: 20px; height: 20px !important\"/></a> | <a href=\"https://www.nirfindia.org/nirfpdfcdn/2022/graph/University/IR-O-U-0052.png\" target=\"_blank\"><img src=\"https://www.nirfindia.org/images/graph.png\" style=\"width: 20px; height: 20px !important\"/></a></div><div class=\"tbl_hidden\" style=\"display:none;width:100%;\"><br/><table class=\"table \"><thead><tr><th>TLR (100)</th><th>RPC (100)</th><th>GO (100)</th><th>OI (100)</th><th>PERCEPTION (100)</th></tr></thead><tbody><tr><td>59.42</td><td>21.66</td><td>89.82</td><td>58.19</td><td>24.06</td></tr></tbody></table></div></td><td>Guwahati</td><td>Assam</td><td>50.52</td><td>36</td></tr>,\n",
              " <tr><th>TLR (100)</th><th>RPC (100)</th><th>GO (100)</th><th>OI (100)</th><th>PERCEPTION (100)</th></tr>,\n",
              " <tr><td>59.42</td><td>21.66</td><td>89.82</td><td>58.19</td><td>24.06</td></tr>,\n",
              " <tr><td>IR-O-U-0098</td><td>Delhi Technological University<div style=\"float:right;\"><a class=\"btn-more-details\" href=\"javascript:;\"><span>More Details</span></a><a class=\"close_data\" id=\"close_1\" style=\"display: none;\">Close</a> | <a href=\"https://www.nirfindia.org/nirfpdfcdn/2022/pdf/University/IR-O-U-0098.pdf\" target=\"_blank\"><img src=\"https://www.nirfindia.org/images/pdf_icon.png\" style=\"width: 20px; height: 20px !important\"/></a> | <a href=\"https://www.nirfindia.org/nirfpdfcdn/2022/graph/University/IR-O-U-0098.png\" target=\"_blank\"><img src=\"https://www.nirfindia.org/images/graph.png\" style=\"width: 20px; height: 20px !important\"/></a></div><div class=\"tbl_hidden\" style=\"display:none;width:100%;\"><br/><table class=\"table \"><thead><tr><th>TLR (100)</th><th>RPC (100)</th><th>GO (100)</th><th>OI (100)</th><th>PERCEPTION (100)</th></tr></thead><tbody><tr><td>57.93</td><td>32.46</td><td>66.55</td><td>57.34</td><td>38.10</td></tr></tbody></table></div></td><td>New Delhi</td><td>Delhi</td><td>49.97</td><td>38</td></tr>,\n",
              " <tr><th>TLR (100)</th><th>RPC (100)</th><th>GO (100)</th><th>OI (100)</th><th>PERCEPTION (100)</th></tr>,\n",
              " <tr><td>57.93</td><td>32.46</td><td>66.55</td><td>57.34</td><td>38.10</td></tr>,\n",
              " <tr><td>IR-O-I-1357</td><td>University of Madras<div style=\"float:right;\"><a class=\"btn-more-details\" href=\"javascript:;\"><span>More Details</span></a><a class=\"close_data\" id=\"close_1\" style=\"display: none;\">Close</a> | <a href=\"https://www.nirfindia.org/nirfpdfcdn/2022/pdf/University/IR-O-I-1357.pdf\" target=\"_blank\"><img src=\"https://www.nirfindia.org/images/pdf_icon.png\" style=\"width: 20px; height: 20px !important\"/></a> | <a href=\"https://www.nirfindia.org/nirfpdfcdn/2022/graph/University/IR-O-I-1357.png\" target=\"_blank\"><img src=\"https://www.nirfindia.org/images/graph.png\" style=\"width: 20px; height: 20px !important\"/></a></div><div class=\"tbl_hidden\" style=\"display:none;width:100%;\"><br/><table class=\"table \"><thead><tr><th>TLR (100)</th><th>RPC (100)</th><th>GO (100)</th><th>OI (100)</th><th>PERCEPTION (100)</th></tr></thead><tbody><tr><td>56.58</td><td>32.35</td><td>71.30</td><td>52.41</td><td>36.91</td></tr></tbody></table></div></td><td>Chennai</td><td>Tamil Nadu</td><td>49.86</td><td>39</td></tr>,\n",
              " <tr><th>TLR (100)</th><th>RPC (100)</th><th>GO (100)</th><th>OI (100)</th><th>PERCEPTION (100)</th></tr>,\n",
              " <tr><td>56.58</td><td>32.35</td><td>71.30</td><td>52.41</td><td>36.91</td></tr>,\n",
              " <tr><td>IR-O-U-0260</td><td>Kerala University<div style=\"float:right;\"><a class=\"btn-more-details\" href=\"javascript:;\"><span>More Details</span></a><a class=\"close_data\" id=\"close_1\" style=\"display: none;\">Close</a> | <a href=\"https://www.nirfindia.org/nirfpdfcdn/2022/pdf/University/IR-O-U-0260.pdf\" target=\"_blank\"><img src=\"https://www.nirfindia.org/images/pdf_icon.png\" style=\"width: 20px; height: 20px !important\"/></a> | <a href=\"https://www.nirfindia.org/nirfpdfcdn/2022/graph/University/IR-O-U-0260.png\" target=\"_blank\"><img src=\"https://www.nirfindia.org/images/graph.png\" style=\"width: 20px; height: 20px !important\"/></a></div><div class=\"tbl_hidden\" style=\"display:none;width:100%;\"><br/><table class=\"table \"><thead><tr><th>TLR (100)</th><th>RPC (100)</th><th>GO (100)</th><th>OI (100)</th><th>PERCEPTION (100)</th></tr></thead><tbody><tr><td>65.23</td><td>20.29</td><td>94.40</td><td>51.07</td><td>1.54</td></tr></tbody></table></div></td><td>Thiruvananthapuram</td><td>Kerala</td><td>49.80</td><td>40</td></tr>,\n",
              " <tr><th>TLR (100)</th><th>RPC (100)</th><th>GO (100)</th><th>OI (100)</th><th>PERCEPTION (100)</th></tr>,\n",
              " <tr><td>65.23</td><td>20.29</td><td>94.40</td><td>51.07</td><td>1.54</td></tr>,\n",
              " <tr><td>IR-O-U-0253</td><td>Cochin University of Science and Technology<div style=\"float:right;\"><a class=\"btn-more-details\" href=\"javascript:;\"><span>More Details</span></a><a class=\"close_data\" id=\"close_1\" style=\"display: none;\">Close</a> | <a href=\"https://www.nirfindia.org/nirfpdfcdn/2022/pdf/University/IR-O-U-0253.pdf\" target=\"_blank\"><img src=\"https://www.nirfindia.org/images/pdf_icon.png\" style=\"width: 20px; height: 20px !important\"/></a> | <a href=\"https://www.nirfindia.org/nirfpdfcdn/2022/graph/University/IR-O-U-0253.png\" target=\"_blank\"><img src=\"https://www.nirfindia.org/images/graph.png\" style=\"width: 20px; height: 20px !important\"/></a></div><div class=\"tbl_hidden\" style=\"display:none;width:100%;\"><br/><table class=\"table \"><thead><tr><th>TLR (100)</th><th>RPC (100)</th><th>GO (100)</th><th>OI (100)</th><th>PERCEPTION (100)</th></tr></thead><tbody><tr><td>57.05</td><td>32.57</td><td>73.37</td><td>51.63</td><td>27.11</td></tr></tbody></table></div></td><td>Cochin</td><td>Kerala</td><td>49.43</td><td>41</td></tr>,\n",
              " <tr><th>TLR (100)</th><th>RPC (100)</th><th>GO (100)</th><th>OI (100)</th><th>PERCEPTION (100)</th></tr>,\n",
              " <tr><td>57.05</td><td>32.57</td><td>73.37</td><td>51.63</td><td>27.11</td></tr>,\n",
              " <tr><td>IR-O-I-1110</td><td>Dr. D. Y. Patil Vidyapeeth<div style=\"float:right;\"><a class=\"btn-more-details\" href=\"javascript:;\"><span>More Details</span></a><a class=\"close_data\" id=\"close_1\" style=\"display: none;\">Close</a> | <a href=\"https://www.nirfindia.org/nirfpdfcdn/2022/pdf/University/IR-O-I-1110.pdf\" target=\"_blank\"><img src=\"https://www.nirfindia.org/images/pdf_icon.png\" style=\"width: 20px; height: 20px !important\"/></a> | <a href=\"https://www.nirfindia.org/nirfpdfcdn/2022/graph/University/IR-O-I-1110.png\" target=\"_blank\"><img src=\"https://www.nirfindia.org/images/graph.png\" style=\"width: 20px; height: 20px !important\"/></a></div><div class=\"tbl_hidden\" style=\"display:none;width:100%;\"><br/><table class=\"table \"><thead><tr><th>TLR (100)</th><th>RPC (100)</th><th>GO (100)</th><th>OI (100)</th><th>PERCEPTION (100)</th></tr></thead><tbody><tr><td>69.78</td><td>19.22</td><td>64.27</td><td>61.30</td><td>37.63</td></tr></tbody></table></div></td><td>Pune</td><td>Maharashtra</td><td>49.43</td><td>41</td></tr>,\n",
              " <tr><th>TLR (100)</th><th>RPC (100)</th><th>GO (100)</th><th>OI (100)</th><th>PERCEPTION (100)</th></tr>,\n",
              " <tr><td>69.78</td><td>19.22</td><td>64.27</td><td>61.30</td><td>37.63</td></tr>,\n",
              " <tr><td>IR-O-U-0474</td><td>Sathyabama Institute of Science and Technology<div style=\"float:right;\"><a class=\"btn-more-details\" href=\"javascript:;\"><span>More Details</span></a><a class=\"close_data\" id=\"close_1\" style=\"display: none;\">Close</a> | <a href=\"https://www.nirfindia.org/nirfpdfcdn/2022/pdf/University/IR-O-U-0474.pdf\" target=\"_blank\"><img src=\"https://www.nirfindia.org/images/pdf_icon.png\" style=\"width: 20px; height: 20px !important\"/></a> | <a href=\"https://www.nirfindia.org/nirfpdfcdn/2022/graph/University/IR-O-U-0474.png\" target=\"_blank\"><img src=\"https://www.nirfindia.org/images/graph.png\" style=\"width: 20px; height: 20px !important\"/></a></div><div class=\"tbl_hidden\" style=\"display:none;width:100%;\"><br/><table class=\"table \"><thead><tr><th>TLR (100)</th><th>RPC (100)</th><th>GO (100)</th><th>OI (100)</th><th>PERCEPTION (100)</th></tr></thead><tbody><tr><td>56.99</td><td>29.87</td><td>65.82</td><td>65.05</td><td>34.50</td></tr></tbody></table></div></td><td>Chennai</td><td>Tamil Nadu</td><td>49.18</td><td>43</td></tr>,\n",
              " <tr><th>TLR (100)</th><th>RPC (100)</th><th>GO (100)</th><th>OI (100)</th><th>PERCEPTION (100)</th></tr>,\n",
              " <tr><td>56.99</td><td>29.87</td><td>65.82</td><td>65.05</td><td>34.50</td></tr>,\n",
              " <tr><td>IR-O-U-0376</td><td>Guru Nanak Dev University<div style=\"float:right;\"><a class=\"btn-more-details\" href=\"javascript:;\"><span>More Details</span></a><a class=\"close_data\" id=\"close_1\" style=\"display: none;\">Close</a> | <a href=\"https://www.nirfindia.org/nirfpdfcdn/2022/pdf/University/IR-O-U-0376.pdf\" target=\"_blank\"><img src=\"https://www.nirfindia.org/images/pdf_icon.png\" style=\"width: 20px; height: 20px !important\"/></a> | <a href=\"https://www.nirfindia.org/nirfpdfcdn/2022/graph/University/IR-O-U-0376.png\" target=\"_blank\"><img src=\"https://www.nirfindia.org/images/graph.png\" style=\"width: 20px; height: 20px !important\"/></a></div><div class=\"tbl_hidden\" style=\"display:none;width:100%;\"><br/><table class=\"table \"><thead><tr><th>TLR (100)</th><th>RPC (100)</th><th>GO (100)</th><th>OI (100)</th><th>PERCEPTION (100)</th></tr></thead><tbody><tr><td>51.06</td><td>28.73</td><td>78.53</td><td>56.60</td><td>37.01</td></tr></tbody></table></div></td><td>Amritsar</td><td>Punjab</td><td>49.01</td><td>44</td></tr>,\n",
              " <tr><th>TLR (100)</th><th>RPC (100)</th><th>GO (100)</th><th>OI (100)</th><th>PERCEPTION (100)</th></tr>,\n",
              " <tr><td>51.06</td><td>28.73</td><td>78.53</td><td>56.60</td><td>37.01</td></tr>,\n",
              " <tr><td>IR-O-U-0318</td><td>Mumbai University<div style=\"float:right;\"><a class=\"btn-more-details\" href=\"javascript:;\"><span>More Details</span></a><a class=\"close_data\" id=\"close_1\" style=\"display: none;\">Close</a> | <a href=\"https://www.nirfindia.org/nirfpdfcdn/2022/pdf/University/IR-O-U-0318.pdf\" target=\"_blank\"><img src=\"https://www.nirfindia.org/images/pdf_icon.png\" style=\"width: 20px; height: 20px !important\"/></a> | <a href=\"https://www.nirfindia.org/nirfpdfcdn/2022/graph/University/IR-O-U-0318.png\" target=\"_blank\"><img src=\"https://www.nirfindia.org/images/graph.png\" style=\"width: 20px; height: 20px !important\"/></a></div><div class=\"tbl_hidden\" style=\"display:none;width:100%;\"><br/><table class=\"table \"><thead><tr><th>TLR (100)</th><th>RPC (100)</th><th>GO (100)</th><th>OI (100)</th><th>PERCEPTION (100)</th></tr></thead><tbody><tr><td>55.16</td><td>22.52</td><td>82.54</td><td>55.95</td><td>35.08</td></tr></tbody></table></div></td><td>Mumbai</td><td>Maharashtra</td><td>48.93</td><td>45</td></tr>,\n",
              " <tr><th>TLR (100)</th><th>RPC (100)</th><th>GO (100)</th><th>OI (100)</th><th>PERCEPTION (100)</th></tr>,\n",
              " <tr><td>55.16</td><td>22.52</td><td>82.54</td><td>55.95</td><td>35.08</td></tr>,\n",
              " <tr><td>IR-O-U-0107</td><td>Jamia Hamdard<div style=\"float:right;\"><a class=\"btn-more-details\" href=\"javascript:;\"><span>More Details</span></a><a class=\"close_data\" id=\"close_1\" style=\"display: none;\">Close</a> | <a href=\"https://www.nirfindia.org/nirfpdfcdn/2022/pdf/University/IR-O-U-0107.pdf\" target=\"_blank\"><img src=\"https://www.nirfindia.org/images/pdf_icon.png\" style=\"width: 20px; height: 20px !important\"/></a> | <a href=\"https://www.nirfindia.org/nirfpdfcdn/2022/graph/University/IR-O-U-0107.png\" target=\"_blank\"><img src=\"https://www.nirfindia.org/images/graph.png\" style=\"width: 20px; height: 20px !important\"/></a></div><div class=\"tbl_hidden\" style=\"display:none;width:100%;\"><br/><table class=\"table \"><thead><tr><th>TLR (100)</th><th>RPC (100)</th><th>GO (100)</th><th>OI (100)</th><th>PERCEPTION (100)</th></tr></thead><tbody><tr><td>56.93</td><td>30.15</td><td>70.35</td><td>60.93</td><td>26.53</td></tr></tbody></table></div></td><td>New Delhi</td><td>Delhi</td><td>48.93</td><td>45</td></tr>,\n",
              " <tr><th>TLR (100)</th><th>RPC (100)</th><th>GO (100)</th><th>OI (100)</th><th>PERCEPTION (100)</th></tr>,\n",
              " <tr><td>56.93</td><td>30.15</td><td>70.35</td><td>60.93</td><td>26.53</td></tr>,\n",
              " <tr><td>IR-O-U-0379</td><td>Lovely Professional University<div style=\"float:right;\"><a class=\"btn-more-details\" href=\"javascript:;\"><span>More Details</span></a><a class=\"close_data\" id=\"close_1\" style=\"display: none;\">Close</a> | <a href=\"https://www.nirfindia.org/nirfpdfcdn/2022/pdf/University/IR-O-U-0379.pdf\" target=\"_blank\"><img src=\"https://www.nirfindia.org/images/pdf_icon.png\" style=\"width: 20px; height: 20px !important\"/></a> | <a href=\"https://www.nirfindia.org/nirfpdfcdn/2022/graph/University/IR-O-U-0379.png\" target=\"_blank\"><img src=\"https://www.nirfindia.org/images/graph.png\" style=\"width: 20px; height: 20px !important\"/></a></div><div class=\"tbl_hidden\" style=\"display:none;width:100%;\"><br/><table class=\"table \"><thead><tr><th>TLR (100)</th><th>RPC (100)</th><th>GO (100)</th><th>OI (100)</th><th>PERCEPTION (100)</th></tr></thead><tbody><tr><td>56.40</td><td>34.71</td><td>66.11</td><td>69.33</td><td>14.40</td></tr></tbody></table></div></td><td>Phagwara</td><td>Punjab</td><td>48.92</td><td>47</td></tr>,\n",
              " <tr><th>TLR (100)</th><th>RPC (100)</th><th>GO (100)</th><th>OI (100)</th><th>PERCEPTION (100)</th></tr>,\n",
              " <tr><td>56.40</td><td>34.71</td><td>66.11</td><td>69.33</td><td>14.40</td></tr>,\n",
              " <tr><td>IR-O-I-1486</td><td>Sri Ramachandra Institute of Higher Education and Research<div style=\"float:right;\"><a class=\"btn-more-details\" href=\"javascript:;\"><span>More Details</span></a><a class=\"close_data\" id=\"close_1\" style=\"display: none;\">Close</a> | <a href=\"https://www.nirfindia.org/nirfpdfcdn/2022/pdf/University/IR-O-I-1486.pdf\" target=\"_blank\"><img src=\"https://www.nirfindia.org/images/pdf_icon.png\" style=\"width: 20px; height: 20px !important\"/></a> | <a href=\"https://www.nirfindia.org/nirfpdfcdn/2022/graph/University/IR-O-I-1486.png\" target=\"_blank\"><img src=\"https://www.nirfindia.org/images/graph.png\" style=\"width: 20px; height: 20px !important\"/></a></div><div class=\"tbl_hidden\" style=\"display:none;width:100%;\"><br/><table class=\"table \"><thead><tr><th>TLR (100)</th><th>RPC (100)</th><th>GO (100)</th><th>OI (100)</th><th>PERCEPTION (100)</th></tr></thead><tbody><tr><td>69.68</td><td>17.07</td><td>64.33</td><td>65.08</td><td>34.74</td></tr></tbody></table></div></td><td>Chennai</td><td>Tamil Nadu</td><td>48.87</td><td>48</td></tr>,\n",
              " <tr><th>TLR (100)</th><th>RPC (100)</th><th>GO (100)</th><th>OI (100)</th><th>PERCEPTION (100)</th></tr>,\n",
              " <tr><td>69.68</td><td>17.07</td><td>64.33</td><td>65.08</td><td>34.74</td></tr>,\n",
              " <tr><td>IR-O-U-0389</td><td>Banasthali Vidyapith<div style=\"float:right;\"><a class=\"btn-more-details\" href=\"javascript:;\"><span>More Details</span></a><a class=\"close_data\" id=\"close_1\" style=\"display: none;\">Close</a> | <a href=\"https://www.nirfindia.org/nirfpdfcdn/2022/pdf/University/IR-O-U-0389.pdf\" target=\"_blank\"><img src=\"https://www.nirfindia.org/images/pdf_icon.png\" style=\"width: 20px; height: 20px !important\"/></a> | <a href=\"https://www.nirfindia.org/nirfpdfcdn/2022/graph/University/IR-O-U-0389.png\" target=\"_blank\"><img src=\"https://www.nirfindia.org/images/graph.png\" style=\"width: 20px; height: 20px !important\"/></a></div><div class=\"tbl_hidden\" style=\"display:none;width:100%;\"><br/><table class=\"table \"><thead><tr><th>TLR (100)</th><th>RPC (100)</th><th>GO (100)</th><th>OI (100)</th><th>PERCEPTION (100)</th></tr></thead><tbody><tr><td>53.01</td><td>15.98</td><td>84.96</td><td>75.83</td><td>33.71</td></tr></tbody></table></div></td><td>Banasthali</td><td>Rajasthan</td><td>48.64</td><td>49</td></tr>,\n",
              " <tr><th>TLR (100)</th><th>RPC (100)</th><th>GO (100)</th><th>OI (100)</th><th>PERCEPTION (100)</th></tr>,\n",
              " <tr><td>53.01</td><td>15.98</td><td>84.96</td><td>75.83</td><td>33.71</td></tr>,\n",
              " <tr><td>IR-O-U-0523</td><td>King George`s Medical University<div style=\"float:right;\"><a class=\"btn-more-details\" href=\"javascript:;\"><span>More Details</span></a><a class=\"close_data\" id=\"close_1\" style=\"display: none;\">Close</a> | <a href=\"https://www.nirfindia.org/nirfpdfcdn/2022/pdf/University/IR-O-U-0523.pdf\" target=\"_blank\"><img src=\"https://www.nirfindia.org/images/pdf_icon.png\" style=\"width: 20px; height: 20px !important\"/></a> | <a href=\"https://www.nirfindia.org/nirfpdfcdn/2022/graph/University/IR-O-U-0523.png\" target=\"_blank\"><img src=\"https://www.nirfindia.org/images/graph.png\" style=\"width: 20px; height: 20px !important\"/></a></div><div class=\"tbl_hidden\" style=\"display:none;width:100%;\"><br/><table class=\"table \"><thead><tr><th>TLR (100)</th><th>RPC (100)</th><th>GO (100)</th><th>OI (100)</th><th>PERCEPTION (100)</th></tr></thead><tbody><tr><td>66.33</td><td>26.31</td><td>63.36</td><td>55.83</td><td>24.70</td></tr></tbody></table></div></td><td>Lucknow</td><td>Uttar Pradesh</td><td>48.51</td><td>50</td></tr>,\n",
              " <tr><th>TLR (100)</th><th>RPC (100)</th><th>GO (100)</th><th>OI (100)</th><th>PERCEPTION (100)</th></tr>,\n",
              " <tr><td>66.33</td><td>26.31</td><td>63.36</td><td>55.83</td><td>24.70</td></tr>,\n",
              " <tr><td>IR-O-N-10</td><td>SVKM`s Narsee Monjee Institute of Management Studies<div style=\"float:right;\"><a class=\"btn-more-details\" href=\"javascript:;\"><span>More Details</span></a><a class=\"close_data\" id=\"close_1\" style=\"display: none;\">Close</a> | <a href=\"https://www.nirfindia.org/nirfpdfcdn/2022/pdf/University/IR-O-N-10.pdf\" target=\"_blank\"><img src=\"https://www.nirfindia.org/images/pdf_icon.png\" style=\"width: 20px; height: 20px !important\"/></a> | <a href=\"https://www.nirfindia.org/nirfpdfcdn/2022/graph/University/IR-O-N-10.png\" target=\"_blank\"><img src=\"https://www.nirfindia.org/images/graph.png\" style=\"width: 20px; height: 20px !important\"/></a></div><div class=\"tbl_hidden\" style=\"display:none;width:100%;\"><br/><table class=\"table \"><thead><tr><th>TLR (100)</th><th>RPC (100)</th><th>GO (100)</th><th>OI (100)</th><th>PERCEPTION (100)</th></tr></thead><tbody><tr><td>68.42</td><td>17.66</td><td>64.52</td><td>62.17</td><td>35.08</td></tr></tbody></table></div></td><td>Mumbai</td><td>Maharashtra</td><td>48.46</td><td>51</td></tr>,\n",
              " <tr><th>TLR (100)</th><th>RPC (100)</th><th>GO (100)</th><th>OI (100)</th><th>PERCEPTION (100)</th></tr>,\n",
              " <tr><td>68.42</td><td>17.66</td><td>64.52</td><td>62.17</td><td>35.08</td></tr>,\n",
              " <tr><td>IR-O-U-0463</td><td>Madurai Kamaraj University<div style=\"float:right;\"><a class=\"btn-more-details\" href=\"javascript:;\"><span>More Details</span></a><a class=\"close_data\" id=\"close_1\" style=\"display: none;\">Close</a> | <a href=\"https://www.nirfindia.org/nirfpdfcdn/2022/pdf/University/IR-O-U-0463.pdf\" target=\"_blank\"><img src=\"https://www.nirfindia.org/images/pdf_icon.png\" style=\"width: 20px; height: 20px !important\"/></a> | <a href=\"https://www.nirfindia.org/nirfpdfcdn/2022/graph/University/IR-O-U-0463.png\" target=\"_blank\"><img src=\"https://www.nirfindia.org/images/graph.png\" style=\"width: 20px; height: 20px !important\"/></a></div><div class=\"tbl_hidden\" style=\"display:none;width:100%;\"><br/><table class=\"table \"><thead><tr><th>TLR (100)</th><th>RPC (100)</th><th>GO (100)</th><th>OI (100)</th><th>PERCEPTION (100)</th></tr></thead><tbody><tr><td>63.33</td><td>24.04</td><td>65.24</td><td>52.47</td><td>38.82</td></tr></tbody></table></div></td><td>Madurai</td><td>Tamil Nadu</td><td>48.39</td><td>52</td></tr>,\n",
              " <tr><th>TLR (100)</th><th>RPC (100)</th><th>GO (100)</th><th>OI (100)</th><th>PERCEPTION (100)</th></tr>,\n",
              " <tr><td>63.33</td><td>24.04</td><td>65.24</td><td>52.47</td><td>38.82</td></tr>,\n",
              " <tr><td>IR-O-U-0196</td><td>University of Kashmir<div style=\"float:right;\"><a class=\"btn-more-details\" href=\"javascript:;\"><span>More Details</span></a><a class=\"close_data\" id=\"close_1\" style=\"display: none;\">Close</a> | <a href=\"https://www.nirfindia.org/nirfpdfcdn/2022/pdf/University/IR-O-U-0196.pdf\" target=\"_blank\"><img src=\"https://www.nirfindia.org/images/pdf_icon.png\" style=\"width: 20px; height: 20px !important\"/></a> | <a href=\"https://www.nirfindia.org/nirfpdfcdn/2022/graph/University/IR-O-U-0196.png\" target=\"_blank\"><img src=\"https://www.nirfindia.org/images/graph.png\" style=\"width: 20px; height: 20px !important\"/></a></div><div class=\"tbl_hidden\" style=\"display:none;width:100%;\"><br/><table class=\"table \"><thead><tr><th>TLR (100)</th><th>RPC (100)</th><th>GO (100)</th><th>OI (100)</th><th>PERCEPTION (100)</th></tr></thead><tbody><tr><td>60.58</td><td>21.23</td><td>79.56</td><td>51.37</td><td>26.65</td></tr></tbody></table></div></td><td>Srinagar</td><td>Jammu and Kashmir</td><td>48.27</td><td>53</td></tr>,\n",
              " <tr><th>TLR (100)</th><th>RPC (100)</th><th>GO (100)</th><th>OI (100)</th><th>PERCEPTION (100)</th></tr>,\n",
              " <tr><td>60.58</td><td>21.23</td><td>79.56</td><td>51.37</td><td>26.65</td></tr>,\n",
              " <tr><td>IR-O-U-0295</td><td>Datta Meghe Institute of Medical Sciences<div style=\"float:right;\"><a class=\"btn-more-details\" href=\"javascript:;\"><span>More Details</span></a><a class=\"close_data\" id=\"close_1\" style=\"display: none;\">Close</a> | <a href=\"https://www.nirfindia.org/nirfpdfcdn/2022/pdf/University/IR-O-U-0295.pdf\" target=\"_blank\"><img src=\"https://www.nirfindia.org/images/pdf_icon.png\" style=\"width: 20px; height: 20px !important\"/></a> | <a href=\"https://www.nirfindia.org/nirfpdfcdn/2022/graph/University/IR-O-U-0295.png\" target=\"_blank\"><img src=\"https://www.nirfindia.org/images/graph.png\" style=\"width: 20px; height: 20px !important\"/></a></div><div class=\"tbl_hidden\" style=\"display:none;width:100%;\"><br/><table class=\"table \"><thead><tr><th>TLR (100)</th><th>RPC (100)</th><th>GO (100)</th><th>OI (100)</th><th>PERCEPTION (100)</th></tr></thead><tbody><tr><td>65.25</td><td>23.54</td><td>59.60</td><td>65.38</td><td>30.78</td></tr></tbody></table></div></td><td>Wardha</td><td>Maharashtra</td><td>48.18</td><td>54</td></tr>,\n",
              " <tr><th>TLR (100)</th><th>RPC (100)</th><th>GO (100)</th><th>OI (100)</th><th>PERCEPTION (100)</th></tr>,\n",
              " <tr><td>65.25</td><td>23.54</td><td>59.60</td><td>65.38</td><td>30.78</td></tr>,\n",
              " <tr><td>IR-O-U-0498</td><td>Babasheb Bhimrao Ambedkar University<div style=\"float:right;\"><a class=\"btn-more-details\" href=\"javascript:;\"><span>More Details</span></a><a class=\"close_data\" id=\"close_1\" style=\"display: none;\">Close</a> | <a href=\"https://www.nirfindia.org/nirfpdfcdn/2022/pdf/University/IR-O-U-0498.pdf\" target=\"_blank\"><img src=\"https://www.nirfindia.org/images/pdf_icon.png\" style=\"width: 20px; height: 20px !important\"/></a> | <a href=\"https://www.nirfindia.org/nirfpdfcdn/2022/graph/University/IR-O-U-0498.png\" target=\"_blank\"><img src=\"https://www.nirfindia.org/images/graph.png\" style=\"width: 20px; height: 20px !important\"/></a></div><div class=\"tbl_hidden\" style=\"display:none;width:100%;\"><br/><table class=\"table \"><thead><tr><th>TLR (100)</th><th>RPC (100)</th><th>GO (100)</th><th>OI (100)</th><th>PERCEPTION (100)</th></tr></thead><tbody><tr><td>53.54</td><td>19.68</td><td>82.46</td><td>74.59</td><td>21.36</td></tr></tbody></table></div></td><td>Lucknow</td><td>Uttar Pradesh</td><td>48.05</td><td>55</td></tr>,\n",
              " <tr><th>TLR (100)</th><th>RPC (100)</th><th>GO (100)</th><th>OI (100)</th><th>PERCEPTION (100)</th></tr>,\n",
              " <tr><td>53.54</td><td>19.68</td><td>82.46</td><td>74.59</td><td>21.36</td></tr>,\n",
              " <tr><td>IR-O-U-0195</td><td>University of Jammu<div style=\"float:right;\"><a class=\"btn-more-details\" href=\"javascript:;\"><span>More Details</span></a><a class=\"close_data\" id=\"close_1\" style=\"display: none;\">Close</a> | <a href=\"https://www.nirfindia.org/nirfpdfcdn/2022/pdf/University/IR-O-U-0195.pdf\" target=\"_blank\"><img src=\"https://www.nirfindia.org/images/pdf_icon.png\" style=\"width: 20px; height: 20px !important\"/></a> | <a href=\"https://www.nirfindia.org/nirfpdfcdn/2022/graph/University/IR-O-U-0195.png\" target=\"_blank\"><img src=\"https://www.nirfindia.org/images/graph.png\" style=\"width: 20px; height: 20px !important\"/></a></div><div class=\"tbl_hidden\" style=\"display:none;width:100%;\"><br/><table class=\"table \"><thead><tr><th>TLR (100)</th><th>RPC (100)</th><th>GO (100)</th><th>OI (100)</th><th>PERCEPTION (100)</th></tr></thead><tbody><tr><td>64.90</td><td>19.12</td><td>74.83</td><td>46.63</td><td>31.92</td></tr></tbody></table></div></td><td>Jammu</td><td>Jammu and Kashmir</td><td>48.03</td><td>56</td></tr>,\n",
              " <tr><th>TLR (100)</th><th>RPC (100)</th><th>GO (100)</th><th>OI (100)</th><th>PERCEPTION (100)</th></tr>,\n",
              " <tr><td>64.90</td><td>19.12</td><td>74.83</td><td>46.63</td><td>31.92</td></tr>,\n",
              " <tr><td>IR-O-U-0448</td><td>Bharathidasan University<div style=\"float:right;\"><a class=\"btn-more-details\" href=\"javascript:;\"><span>More Details</span></a><a class=\"close_data\" id=\"close_1\" style=\"display: none;\">Close</a> | <a href=\"https://www.nirfindia.org/nirfpdfcdn/2022/pdf/University/IR-O-U-0448.pdf\" target=\"_blank\"><img src=\"https://www.nirfindia.org/images/pdf_icon.png\" style=\"width: 20px; height: 20px !important\"/></a> | <a href=\"https://www.nirfindia.org/nirfpdfcdn/2022/graph/University/IR-O-U-0448.png\" target=\"_blank\"><img src=\"https://www.nirfindia.org/images/graph.png\" style=\"width: 20px; height: 20px !important\"/></a></div><div class=\"tbl_hidden\" style=\"display:none;width:100%;\"><br/><table class=\"table \"><thead><tr><th>TLR (100)</th><th>RPC (100)</th><th>GO (100)</th><th>OI (100)</th><th>PERCEPTION (100)</th></tr></thead><tbody><tr><td>57.72</td><td>32.56</td><td>61.80</td><td>48.10</td><td>37.17</td></tr></tbody></table></div></td><td>Tiruchirappalli</td><td>Tamil Nadu</td><td>47.98</td><td>57</td></tr>,\n",
              " <tr><th>TLR (100)</th><th>RPC (100)</th><th>GO (100)</th><th>OI (100)</th><th>PERCEPTION (100)</th></tr>,\n",
              " <tr><td>57.72</td><td>32.56</td><td>61.80</td><td>48.10</td><td>37.17</td></tr>,\n",
              " <tr><td>IR-O-U-0136</td><td>Gujarat University<div style=\"float:right;\"><a class=\"btn-more-details\" href=\"javascript:;\"><span>More Details</span></a><a class=\"close_data\" id=\"close_1\" style=\"display: none;\">Close</a> | <a href=\"https://www.nirfindia.org/nirfpdfcdn/2022/pdf/University/IR-O-U-0136.pdf\" target=\"_blank\"><img src=\"https://www.nirfindia.org/images/pdf_icon.png\" style=\"width: 20px; height: 20px !important\"/></a> | <a href=\"https://www.nirfindia.org/nirfpdfcdn/2022/graph/University/IR-O-U-0136.png\" target=\"_blank\"><img src=\"https://www.nirfindia.org/images/graph.png\" style=\"width: 20px; height: 20px !important\"/></a></div><div class=\"tbl_hidden\" style=\"display:none;width:100%;\"><br/><table class=\"table \"><thead><tr><th>TLR (100)</th><th>RPC (100)</th><th>GO (100)</th><th>OI (100)</th><th>PERCEPTION (100)</th></tr></thead><tbody><tr><td>64.75</td><td>18.38</td><td>83.30</td><td>57.39</td><td>2.65</td></tr></tbody></table></div></td><td>Ahmedabad</td><td>Gujarat</td><td>47.61</td><td>58</td></tr>,\n",
              " <tr><th>TLR (100)</th><th>RPC (100)</th><th>GO (100)</th><th>OI (100)</th><th>PERCEPTION (100)</th></tr>,\n",
              " <tr><td>64.75</td><td>18.38</td><td>83.30</td><td>57.39</td><td>2.65</td></tr>,\n",
              " <tr><td>IR-O-U-0056</td><td>Tezpur University<div style=\"float:right;\"><a class=\"btn-more-details\" href=\"javascript:;\"><span>More Details</span></a><a class=\"close_data\" id=\"close_1\" style=\"display: none;\">Close</a> | <a href=\"https://www.nirfindia.org/nirfpdfcdn/2022/pdf/University/IR-O-U-0056.pdf\" target=\"_blank\"><img src=\"https://www.nirfindia.org/images/pdf_icon.png\" style=\"width: 20px; height: 20px !important\"/></a> | <a href=\"https://www.nirfindia.org/nirfpdfcdn/2022/graph/University/IR-O-U-0056.png\" target=\"_blank\"><img src=\"https://www.nirfindia.org/images/graph.png\" style=\"width: 20px; height: 20px !important\"/></a></div><div class=\"tbl_hidden\" style=\"display:none;width:100%;\"><br/><table class=\"table \"><thead><tr><th>TLR (100)</th><th>RPC (100)</th><th>GO (100)</th><th>OI (100)</th><th>PERCEPTION (100)</th></tr></thead><tbody><tr><td>59.71</td><td>27.49</td><td>63.29</td><td>50.67</td><td>35.88</td></tr></tbody></table></div></td><td>Tezpur</td><td>Assam</td><td>47.48</td><td>59</td></tr>,\n",
              " <tr><th>TLR (100)</th><th>RPC (100)</th><th>GO (100)</th><th>OI (100)</th><th>PERCEPTION (100)</th></tr>,\n",
              " <tr><td>59.71</td><td>27.49</td><td>63.29</td><td>50.67</td><td>35.88</td></tr>,\n",
              " <tr><td>IR-O-U-0331</td><td>Tata Institute of Social Sciences<div style=\"float:right;\"><a class=\"btn-more-details\" href=\"javascript:;\"><span>More Details</span></a><a class=\"close_data\" id=\"close_1\" style=\"display: none;\">Close</a> | <a href=\"https://www.nirfindia.org/nirfpdfcdn/2022/pdf/University/IR-O-U-0331.pdf\" target=\"_blank\"><img src=\"https://www.nirfindia.org/images/pdf_icon.png\" style=\"width: 20px; height: 20px !important\"/></a> | <a href=\"https://www.nirfindia.org/nirfpdfcdn/2022/graph/University/IR-O-U-0331.png\" target=\"_blank\"><img src=\"https://www.nirfindia.org/images/graph.png\" style=\"width: 20px; height: 20px !important\"/></a></div><div class=\"tbl_hidden\" style=\"display:none;width:100%;\"><br/><table class=\"table \"><thead><tr><th>TLR (100)</th><th>RPC (100)</th><th>GO (100)</th><th>OI (100)</th><th>PERCEPTION (100)</th></tr></thead><tbody><tr><td>56.66</td><td>10.45</td><td>78.36</td><td>75.42</td><td>38.23</td></tr></tbody></table></div></td><td>Mumbai</td><td>Maharashtra</td><td>47.16</td><td>60</td></tr>,\n",
              " <tr><th>TLR (100)</th><th>RPC (100)</th><th>GO (100)</th><th>OI (100)</th><th>PERCEPTION (100)</th></tr>,\n",
              " <tr><td>56.66</td><td>10.45</td><td>78.36</td><td>75.42</td><td>38.23</td></tr>,\n",
              " <tr><td>IR-O-U-0642</td><td>Shiv Nadar University<div style=\"float:right;\"><a class=\"btn-more-details\" href=\"javascript:;\"><span>More Details</span></a><a class=\"close_data\" id=\"close_1\" style=\"display: none;\">Close</a> | <a href=\"https://www.nirfindia.org/nirfpdfcdn/2022/pdf/University/IR-O-U-0642.pdf\" target=\"_blank\"><img src=\"https://www.nirfindia.org/images/pdf_icon.png\" style=\"width: 20px; height: 20px !important\"/></a> | <a href=\"https://www.nirfindia.org/nirfpdfcdn/2022/graph/University/IR-O-U-0642.png\" target=\"_blank\"><img src=\"https://www.nirfindia.org/images/graph.png\" style=\"width: 20px; height: 20px !important\"/></a></div><div class=\"tbl_hidden\" style=\"display:none;width:100%;\"><br/><table class=\"table \"><thead><tr><th>TLR (100)</th><th>RPC (100)</th><th>GO (100)</th><th>OI (100)</th><th>PERCEPTION (100)</th></tr></thead><tbody><tr><td>63.53</td><td>20.75</td><td>64.70</td><td>61.38</td><td>22.06</td></tr></tbody></table></div></td><td>Dadri</td><td>Uttar Pradesh</td><td>46.57</td><td>61</td></tr>,\n",
              " <tr><th>TLR (100)</th><th>RPC (100)</th><th>GO (100)</th><th>OI (100)</th><th>PERCEPTION (100)</th></tr>,\n",
              " <tr><td>63.53</td><td>20.75</td><td>64.70</td><td>61.38</td><td>22.06</td></tr>,\n",
              " <tr><td>IR-O-U-0446</td><td>Bharath Institute of Higher Education &amp; Research<div style=\"float:right;\"><a class=\"btn-more-details\" href=\"javascript:;\"><span>More Details</span></a><a class=\"close_data\" id=\"close_1\" style=\"display: none;\">Close</a> | <a href=\"https://www.nirfindia.org/nirfpdfcdn/2022/pdf/University/IR-O-U-0446.pdf\" target=\"_blank\"><img src=\"https://www.nirfindia.org/images/pdf_icon.png\" style=\"width: 20px; height: 20px !important\"/></a> | <a href=\"https://www.nirfindia.org/nirfpdfcdn/2022/graph/University/IR-O-U-0446.png\" target=\"_blank\"><img src=\"https://www.nirfindia.org/images/graph.png\" style=\"width: 20px; height: 20px !important\"/></a></div><div class=\"tbl_hidden\" style=\"display:none;width:100%;\"><br/><table class=\"table \"><thead><tr><th>TLR (100)</th><th>RPC (100)</th><th>GO (100)</th><th>OI (100)</th><th>PERCEPTION (100)</th></tr></thead><tbody><tr><td>56.20</td><td>23.15</td><td>70.31</td><td>64.28</td><td>21.01</td></tr></tbody></table></div></td><td>Chennai</td><td>Tamil Nadu</td><td>46.40</td><td>62</td></tr>,\n",
              " <tr><th>TLR (100)</th><th>RPC (100)</th><th>GO (100)</th><th>OI (100)</th><th>PERCEPTION (100)</th></tr>,\n",
              " <tr><td>56.20</td><td>23.15</td><td>70.31</td><td>64.28</td><td>21.01</td></tr>,\n",
              " <tr><td>IR-O-U-0470</td><td>Periyar University<div style=\"float:right;\"><a class=\"btn-more-details\" href=\"javascript:;\"><span>More Details</span></a><a class=\"close_data\" id=\"close_1\" style=\"display: none;\">Close</a> | <a href=\"https://www.nirfindia.org/nirfpdfcdn/2022/pdf/University/IR-O-U-0470.pdf\" target=\"_blank\"><img src=\"https://www.nirfindia.org/images/pdf_icon.png\" style=\"width: 20px; height: 20px !important\"/></a> | <a href=\"https://www.nirfindia.org/nirfpdfcdn/2022/graph/University/IR-O-U-0470.png\" target=\"_blank\"><img src=\"https://www.nirfindia.org/images/graph.png\" style=\"width: 20px; height: 20px !important\"/></a></div><div class=\"tbl_hidden\" style=\"display:none;width:100%;\"><br/><table class=\"table \"><thead><tr><th>TLR (100)</th><th>RPC (100)</th><th>GO (100)</th><th>OI (100)</th><th>PERCEPTION (100)</th></tr></thead><tbody><tr><td>53.08</td><td>25.63</td><td>67.97</td><td>55.91</td><td>32.65</td></tr></tbody></table></div></td><td>Salem</td><td>Tamil Nadu</td><td>46.06</td><td>63</td></tr>,\n",
              " <tr><th>TLR (100)</th><th>RPC (100)</th><th>GO (100)</th><th>OI (100)</th><th>PERCEPTION (100)</th></tr>,\n",
              " <tr><td>53.08</td><td>25.63</td><td>67.97</td><td>55.91</td><td>32.65</td></tr>,\n",
              " <tr><td>IR-O-U-0215</td><td>Bangalore University<div style=\"float:right;\"><a class=\"btn-more-details\" href=\"javascript:;\"><span>More Details</span></a><a class=\"close_data\" id=\"close_1\" style=\"display: none;\">Close</a> | <a href=\"https://www.nirfindia.org/nirfpdfcdn/2022/pdf/University/IR-O-U-0215.pdf\" target=\"_blank\"><img src=\"https://www.nirfindia.org/images/pdf_icon.png\" style=\"width: 20px; height: 20px !important\"/></a> | <a href=\"https://www.nirfindia.org/nirfpdfcdn/2022/graph/University/IR-O-U-0215.png\" target=\"_blank\"><img src=\"https://www.nirfindia.org/images/graph.png\" style=\"width: 20px; height: 20px !important\"/></a></div><div class=\"tbl_hidden\" style=\"display:none;width:100%;\"><br/><table class=\"table \"><thead><tr><th>TLR (100)</th><th>RPC (100)</th><th>GO (100)</th><th>OI (100)</th><th>PERCEPTION (100)</th></tr></thead><tbody><tr><td>58.70</td><td>17.38</td><td>74.73</td><td>57.04</td><td>25.32</td></tr></tbody></table></div></td><td>Bangalore</td><td>Karnataka</td><td>46.01</td><td>64</td></tr>,\n",
              " <tr><th>TLR (100)</th><th>RPC (100)</th><th>GO (100)</th><th>OI (100)</th><th>PERCEPTION (100)</th></tr>,\n",
              " <tr><td>58.70</td><td>17.38</td><td>74.73</td><td>57.04</td><td>25.32</td></tr>,\n",
              " <tr><td>IR-O-U-0564</td><td>University of Petroleum and Energy Studies<div style=\"float:right;\"><a class=\"btn-more-details\" href=\"javascript:;\"><span>More Details</span></a><a class=\"close_data\" id=\"close_1\" style=\"display: none;\">Close</a> | <a href=\"https://www.nirfindia.org/nirfpdfcdn/2022/pdf/University/IR-O-U-0564.pdf\" target=\"_blank\"><img src=\"https://www.nirfindia.org/images/pdf_icon.png\" style=\"width: 20px; height: 20px !important\"/></a> | <a href=\"https://www.nirfindia.org/nirfpdfcdn/2022/graph/University/IR-O-U-0564.png\" target=\"_blank\"><img src=\"https://www.nirfindia.org/images/graph.png\" style=\"width: 20px; height: 20px !important\"/></a></div><div class=\"tbl_hidden\" style=\"display:none;width:100%;\"><br/><table class=\"table \"><thead><tr><th>TLR (100)</th><th>RPC (100)</th><th>GO (100)</th><th>OI (100)</th><th>PERCEPTION (100)</th></tr></thead><tbody><tr><td>56.69</td><td>19.48</td><td>60.48</td><td>65.01</td><td>40.39</td></tr></tbody></table></div></td><td>Dehradun</td><td>Uttarakhand</td><td>45.49</td><td>65</td></tr>,\n",
              " <tr><th>TLR (100)</th><th>RPC (100)</th><th>GO (100)</th><th>OI (100)</th><th>PERCEPTION (100)</th></tr>,\n",
              " <tr><td>56.69</td><td>19.48</td><td>60.48</td><td>65.01</td><td>40.39</td></tr>,\n",
              " <tr><td>IR-O-U-0341</td><td>North Eastern Hill University<div style=\"float:right;\"><a class=\"btn-more-details\" href=\"javascript:;\"><span>More Details</span></a><a class=\"close_data\" id=\"close_1\" style=\"display: none;\">Close</a> | <a href=\"https://www.nirfindia.org/nirfpdfcdn/2022/pdf/University/IR-O-U-0341.pdf\" target=\"_blank\"><img src=\"https://www.nirfindia.org/images/pdf_icon.png\" style=\"width: 20px; height: 20px !important\"/></a> | <a href=\"https://www.nirfindia.org/nirfpdfcdn/2022/graph/University/IR-O-U-0341.png\" target=\"_blank\"><img src=\"https://www.nirfindia.org/images/graph.png\" style=\"width: 20px; height: 20px !important\"/></a></div><div class=\"tbl_hidden\" style=\"display:none;width:100%;\"><br/><table class=\"table \"><thead><tr><th>TLR (100)</th><th>RPC (100)</th><th>GO (100)</th><th>OI (100)</th><th>PERCEPTION (100)</th></tr></thead><tbody><tr><td>56.73</td><td>17.80</td><td>77.78</td><td>51.80</td><td>23.41</td></tr></tbody></table></div></td><td>Shillong</td><td>Meghalaya</td><td>45.44</td><td>66</td></tr>,\n",
              " <tr><th>TLR (100)</th><th>RPC (100)</th><th>GO (100)</th><th>OI (100)</th><th>PERCEPTION (100)</th></tr>,\n",
              " <tr><td>56.73</td><td>17.80</td><td>77.78</td><td>51.80</td><td>23.41</td></tr>,\n",
              " <tr><td>IR-O-U-0037</td><td>Sri Venkateswara University<div style=\"float:right;\"><a class=\"btn-more-details\" href=\"javascript:;\"><span>More Details</span></a><a class=\"close_data\" id=\"close_1\" style=\"display: none;\">Close</a> | <a href=\"https://www.nirfindia.org/nirfpdfcdn/2022/pdf/University/IR-O-U-0037.pdf\" target=\"_blank\"><img src=\"https://www.nirfindia.org/images/pdf_icon.png\" style=\"width: 20px; height: 20px !important\"/></a> | <a href=\"https://www.nirfindia.org/nirfpdfcdn/2022/graph/University/IR-O-U-0037.png\" target=\"_blank\"><img src=\"https://www.nirfindia.org/images/graph.png\" style=\"width: 20px; height: 20px !important\"/></a></div><div class=\"tbl_hidden\" style=\"display:none;width:100%;\"><br/><table class=\"table \"><thead><tr><th>TLR (100)</th><th>RPC (100)</th><th>GO (100)</th><th>OI (100)</th><th>PERCEPTION (100)</th></tr></thead><tbody><tr><td>49.27</td><td>18.27</td><td>79.86</td><td>52.04</td><td>36.38</td></tr></tbody></table></div></td><td>Tirupati</td><td>Andhra Pradesh</td><td>45.07</td><td>67</td></tr>,\n",
              " <tr><th>TLR (100)</th><th>RPC (100)</th><th>GO (100)</th><th>OI (100)</th><th>PERCEPTION (100)</th></tr>,\n",
              " <tr><td>49.27</td><td>18.27</td><td>79.86</td><td>52.04</td><td>36.38</td></tr>,\n",
              " <tr><td>IR-O-U-0369</td><td>Pondicherry University<div style=\"float:right;\"><a class=\"btn-more-details\" href=\"javascript:;\"><span>More Details</span></a><a class=\"close_data\" id=\"close_1\" style=\"display: none;\">Close</a> | <a href=\"https://www.nirfindia.org/nirfpdfcdn/2022/pdf/University/IR-O-U-0369.pdf\" target=\"_blank\"><img src=\"https://www.nirfindia.org/images/pdf_icon.png\" style=\"width: 20px; height: 20px !important\"/></a> | <a href=\"https://www.nirfindia.org/nirfpdfcdn/2022/graph/University/IR-O-U-0369.png\" target=\"_blank\"><img src=\"https://www.nirfindia.org/images/graph.png\" style=\"width: 20px; height: 20px !important\"/></a></div><div class=\"tbl_hidden\" style=\"display:none;width:100%;\"><br/><table class=\"table \"><thead><tr><th>TLR (100)</th><th>RPC (100)</th><th>GO (100)</th><th>OI (100)</th><th>PERCEPTION (100)</th></tr></thead><tbody><tr><td>42.84</td><td>28.84</td><td>73.16</td><td>59.69</td><td>28.53</td></tr></tbody></table></div></td><td>Puducherry</td><td>Pondicherry</td><td>44.95</td><td>68</td></tr>,\n",
              " <tr><th>TLR (100)</th><th>RPC (100)</th><th>GO (100)</th><th>OI (100)</th><th>PERCEPTION (100)</th></tr>,\n",
              " <tr><td>42.84</td><td>28.84</td><td>73.16</td><td>59.69</td><td>28.53</td></tr>,\n",
              " <tr><td>IR-O-U-0251</td><td>Calicut University, Thenhipalem<div style=\"float:right;\"><a class=\"btn-more-details\" href=\"javascript:;\"><span>More Details</span></a><a class=\"close_data\" id=\"close_1\" style=\"display: none;\">Close</a> | <a href=\"https://www.nirfindia.org/nirfpdfcdn/2022/pdf/University/IR-O-U-0251.pdf\" target=\"_blank\"><img src=\"https://www.nirfindia.org/images/pdf_icon.png\" style=\"width: 20px; height: 20px !important\"/></a> | <a href=\"https://www.nirfindia.org/nirfpdfcdn/2022/graph/University/IR-O-U-0251.png\" target=\"_blank\"><img src=\"https://www.nirfindia.org/images/graph.png\" style=\"width: 20px; height: 20px !important\"/></a></div><div class=\"tbl_hidden\" style=\"display:none;width:100%;\"><br/><table class=\"table \"><thead><tr><th>TLR (100)</th><th>RPC (100)</th><th>GO (100)</th><th>OI (100)</th><th>PERCEPTION (100)</th></tr></thead><tbody><tr><td>65.11</td><td>17.09</td><td>61.20</td><td>58.56</td><td>21.71</td></tr></tbody></table></div></td><td>Malappuram</td><td>Kerala</td><td>44.93</td><td>69</td></tr>,\n",
              " <tr><th>TLR (100)</th><th>RPC (100)</th><th>GO (100)</th><th>OI (100)</th><th>PERCEPTION (100)</th></tr>,\n",
              " <tr><td>65.11</td><td>17.09</td><td>61.20</td><td>58.56</td><td>21.71</td></tr>,\n",
              " <tr><td>IR-O-U-0370</td><td>Sri Balaji Vidyapeeth Mahatma Gandhi Medical College Campus<div style=\"float:right;\"><a class=\"btn-more-details\" href=\"javascript:;\"><span>More Details</span></a><a class=\"close_data\" id=\"close_1\" style=\"display: none;\">Close</a> | <a href=\"https://www.nirfindia.org/nirfpdfcdn/2022/pdf/University/IR-O-U-0370.pdf\" target=\"_blank\"><img src=\"https://www.nirfindia.org/images/pdf_icon.png\" style=\"width: 20px; height: 20px !important\"/></a> | <a href=\"https://www.nirfindia.org/nirfpdfcdn/2022/graph/University/IR-O-U-0370.png\" target=\"_blank\"><img src=\"https://www.nirfindia.org/images/graph.png\" style=\"width: 20px; height: 20px !important\"/></a></div><div class=\"tbl_hidden\" style=\"display:none;width:100%;\"><br/><table class=\"table \"><thead><tr><th>TLR (100)</th><th>RPC (100)</th><th>GO (100)</th><th>OI (100)</th><th>PERCEPTION (100)</th></tr></thead><tbody><tr><td>64.47</td><td>8.58</td><td>60.40</td><td>77.26</td><td>30.00</td></tr></tbody></table></div></td><td>Puducherry</td><td>Pondicherry</td><td>44.72</td><td>70</td></tr>,\n",
              " <tr><th>TLR (100)</th><th>RPC (100)</th><th>GO (100)</th><th>OI (100)</th><th>PERCEPTION (100)</th></tr>,\n",
              " <tr><td>64.47</td><td>8.58</td><td>60.40</td><td>77.26</td><td>30.00</td></tr>,\n",
              " <tr><td>IR-O-U-0217</td><td>Christ University<div style=\"float:right;\"><a class=\"btn-more-details\" href=\"javascript:;\"><span>More Details</span></a><a class=\"close_data\" id=\"close_1\" style=\"display: none;\">Close</a> | <a href=\"https://www.nirfindia.org/nirfpdfcdn/2022/pdf/University/IR-O-U-0217.pdf\" target=\"_blank\"><img src=\"https://www.nirfindia.org/images/pdf_icon.png\" style=\"width: 20px; height: 20px !important\"/></a> | <a href=\"https://www.nirfindia.org/nirfpdfcdn/2022/graph/University/IR-O-U-0217.png\" target=\"_blank\"><img src=\"https://www.nirfindia.org/images/graph.png\" style=\"width: 20px; height: 20px !important\"/></a></div><div class=\"tbl_hidden\" style=\"display:none;width:100%;\"><br/><table class=\"table \"><thead><tr><th>TLR (100)</th><th>RPC (100)</th><th>GO (100)</th><th>OI (100)</th><th>PERCEPTION (100)</th></tr></thead><tbody><tr><td>51.83</td><td>10.84</td><td>67.04</td><td>68.64</td><td>52.36</td></tr></tbody></table></div></td><td>Bengaluru</td><td>Karnataka</td><td>44.31</td><td>71</td></tr>,\n",
              " <tr><th>TLR (100)</th><th>RPC (100)</th><th>GO (100)</th><th>OI (100)</th><th>PERCEPTION (100)</th></tr>,\n",
              " <tr><td>51.83</td><td>10.84</td><td>67.04</td><td>68.64</td><td>52.36</td></tr>,\n",
              " <tr><td>IR-O-U-0249</td><td>Visvesvaraya Technological University<div style=\"float:right;\"><a class=\"btn-more-details\" href=\"javascript:;\"><span>More Details</span></a><a class=\"close_data\" id=\"close_1\" style=\"display: none;\">Close</a> | <a href=\"https://www.nirfindia.org/nirfpdfcdn/2022/pdf/University/IR-O-U-0249.pdf\" target=\"_blank\"><img src=\"https://www.nirfindia.org/images/pdf_icon.png\" style=\"width: 20px; height: 20px !important\"/></a> | <a href=\"https://www.nirfindia.org/nirfpdfcdn/2022/graph/University/IR-O-U-0249.png\" target=\"_blank\"><img src=\"https://www.nirfindia.org/images/graph.png\" style=\"width: 20px; height: 20px !important\"/></a></div><div class=\"tbl_hidden\" style=\"display:none;width:100%;\"><br/><table class=\"table \"><thead><tr><th>TLR (100)</th><th>RPC (100)</th><th>GO (100)</th><th>OI (100)</th><th>PERCEPTION (100)</th></tr></thead><tbody><tr><td>58.94</td><td>27.28</td><td>61.10</td><td>58.36</td><td>3.01</td></tr></tbody></table></div></td><td>Belgaum</td><td>Karnataka</td><td>44.22</td><td>72</td></tr>,\n",
              " <tr><th>TLR (100)</th><th>RPC (100)</th><th>GO (100)</th><th>OI (100)</th><th>PERCEPTION (100)</th></tr>,\n",
              " <tr><td>58.94</td><td>27.28</td><td>61.10</td><td>58.36</td><td>3.01</td></tr>,\n",
              " <tr><td>IR-O-U-0311</td><td>Krishna Institute of Medical Sciences Deemed University, Karad<div style=\"float:right;\"><a class=\"btn-more-details\" href=\"javascript:;\"><span>More Details</span></a><a class=\"close_data\" id=\"close_1\" style=\"display: none;\">Close</a> | <a href=\"https://www.nirfindia.org/nirfpdfcdn/2022/pdf/University/IR-O-U-0311.pdf\" target=\"_blank\"><img src=\"https://www.nirfindia.org/images/pdf_icon.png\" style=\"width: 20px; height: 20px !important\"/></a> | <a href=\"https://www.nirfindia.org/nirfpdfcdn/2022/graph/University/IR-O-U-0311.png\" target=\"_blank\"><img src=\"https://www.nirfindia.org/images/graph.png\" style=\"width: 20px; height: 20px !important\"/></a></div><div class=\"tbl_hidden\" style=\"display:none;width:100%;\"><br/><table class=\"table \"><thead><tr><th>TLR (100)</th><th>RPC (100)</th><th>GO (100)</th><th>OI (100)</th><th>PERCEPTION (100)</th></tr></thead><tbody><tr><td>64.69</td><td>14.63</td><td>60.27</td><td>58.50</td><td>24.39</td></tr></tbody></table></div></td><td>Karad</td><td>Maharashtra</td><td>44.14</td><td>73</td></tr>,\n",
              " <tr><th>TLR (100)</th><th>RPC (100)</th><th>GO (100)</th><th>OI (100)</th><th>PERCEPTION (100)</th></tr>,\n",
              " <tr><td>64.69</td><td>14.63</td><td>60.27</td><td>58.50</td><td>24.39</td></tr>,\n",
              " <tr><td>IR-O-U-0555</td><td>Graphic Era University<div style=\"float:right;\"><a class=\"btn-more-details\" href=\"javascript:;\"><span>More Details</span></a><a class=\"close_data\" id=\"close_1\" style=\"display: none;\">Close</a> | <a href=\"https://www.nirfindia.org/nirfpdfcdn/2022/pdf/University/IR-O-U-0555.pdf\" target=\"_blank\"><img src=\"https://www.nirfindia.org/images/pdf_icon.png\" style=\"width: 20px; height: 20px !important\"/></a> | <a href=\"https://www.nirfindia.org/nirfpdfcdn/2022/graph/University/IR-O-U-0555.png\" target=\"_blank\"><img src=\"https://www.nirfindia.org/images/graph.png\" style=\"width: 20px; height: 20px !important\"/></a></div><div class=\"tbl_hidden\" style=\"display:none;width:100%;\"><br/><table class=\"table \"><thead><tr><th>TLR (100)</th><th>RPC (100)</th><th>GO (100)</th><th>OI (100)</th><th>PERCEPTION (100)</th></tr></thead><tbody><tr><td>57.05</td><td>12.55</td><td>61.98</td><td>67.62</td><td>37.70</td></tr></tbody></table></div></td><td>Dehradun</td><td>Uttarakhand</td><td>43.82</td><td>74</td></tr>,\n",
              " <tr><th>TLR (100)</th><th>RPC (100)</th><th>GO (100)</th><th>OI (100)</th><th>PERCEPTION (100)</th></tr>,\n",
              " <tr><td>57.05</td><td>12.55</td><td>61.98</td><td>67.62</td><td>37.70</td></tr>,\n",
              " <tr><td>IR-O-U-0239</td><td>NITTE<div style=\"float:right;\"><a class=\"btn-more-details\" href=\"javascript:;\"><span>More Details</span></a><a class=\"close_data\" id=\"close_1\" style=\"display: none;\">Close</a> | <a href=\"https://www.nirfindia.org/nirfpdfcdn/2022/pdf/University/IR-O-U-0239.pdf\" target=\"_blank\"><img src=\"https://www.nirfindia.org/images/pdf_icon.png\" style=\"width: 20px; height: 20px !important\"/></a> | <a href=\"https://www.nirfindia.org/nirfpdfcdn/2022/graph/University/IR-O-U-0239.png\" target=\"_blank\"><img src=\"https://www.nirfindia.org/images/graph.png\" style=\"width: 20px; height: 20px !important\"/></a></div><div class=\"tbl_hidden\" style=\"display:none;width:100%;\"><br/><table class=\"table \"><thead><tr><th>TLR (100)</th><th>RPC (100)</th><th>GO (100)</th><th>OI (100)</th><th>PERCEPTION (100)</th></tr></thead><tbody><tr><td>62.49</td><td>10.36</td><td>61.47</td><td>67.95</td><td>27.01</td></tr></tbody></table></div></td><td>Mangaluru</td><td>Karnataka</td><td>43.64</td><td>75</td></tr>,\n",
              " <tr><th>TLR (100)</th><th>RPC (100)</th><th>GO (100)</th><th>OI (100)</th><th>PERCEPTION (100)</th></tr>,\n",
              " <tr><td>62.49</td><td>10.36</td><td>61.47</td><td>67.95</td><td>27.01</td></tr>,\n",
              " <tr><td>IR-O-I-1361</td><td>Bharati Vidyapeeth<div style=\"float:right;\"><a class=\"btn-more-details\" href=\"javascript:;\"><span>More Details</span></a><a class=\"close_data\" id=\"close_1\" style=\"display: none;\">Close</a> | <a href=\"https://www.nirfindia.org/nirfpdfcdn/2022/pdf/University/IR-O-I-1361.pdf\" target=\"_blank\"><img src=\"https://www.nirfindia.org/images/pdf_icon.png\" style=\"width: 20px; height: 20px !important\"/></a> | <a href=\"https://www.nirfindia.org/nirfpdfcdn/2022/graph/University/IR-O-I-1361.png\" target=\"_blank\"><img src=\"https://www.nirfindia.org/images/graph.png\" style=\"width: 20px; height: 20px !important\"/></a></div><div class=\"tbl_hidden\" style=\"display:none;width:100%;\"><br/><table class=\"table \"><thead><tr><th>TLR (100)</th><th>RPC (100)</th><th>GO (100)</th><th>OI (100)</th><th>PERCEPTION (100)</th></tr></thead><tbody><tr><td>57.47</td><td>11.05</td><td>67.95</td><td>56.11</td><td>37.93</td></tr></tbody></table></div></td><td>Pune</td><td>Maharashtra</td><td>43.54</td><td>76</td></tr>,\n",
              " <tr><th>TLR (100)</th><th>RPC (100)</th><th>GO (100)</th><th>OI (100)</th><th>PERCEPTION (100)</th></tr>,\n",
              " <tr><td>57.47</td><td>11.05</td><td>67.95</td><td>56.11</td><td>37.93</td></tr>,\n",
              " <tr><td>IR-O-U-0099</td><td>Guru Gobind Singh Indraprastha University<div style=\"float:right;\"><a class=\"btn-more-details\" href=\"javascript:;\"><span>More Details</span></a><a class=\"close_data\" id=\"close_1\" style=\"display: none;\">Close</a> | <a href=\"https://www.nirfindia.org/nirfpdfcdn/2022/pdf/University/IR-O-U-0099.pdf\" target=\"_blank\"><img src=\"https://www.nirfindia.org/images/pdf_icon.png\" style=\"width: 20px; height: 20px !important\"/></a> | <a href=\"https://www.nirfindia.org/nirfpdfcdn/2022/graph/University/IR-O-U-0099.png\" target=\"_blank\"><img src=\"https://www.nirfindia.org/images/graph.png\" style=\"width: 20px; height: 20px !important\"/></a></div><div class=\"tbl_hidden\" style=\"display:none;width:100%;\"><br/><table class=\"table \"><thead><tr><th>TLR (100)</th><th>RPC (100)</th><th>GO (100)</th><th>OI (100)</th><th>PERCEPTION (100)</th></tr></thead><tbody><tr><td>50.61</td><td>26.02</td><td>67.35</td><td>52.63</td><td>16.72</td></tr></tbody></table></div></td><td>New Delhi</td><td>Delhi</td><td>43.39</td><td>77</td></tr>,\n",
              " <tr><th>TLR (100)</th><th>RPC (100)</th><th>GO (100)</th><th>OI (100)</th><th>PERCEPTION (100)</th></tr>,\n",
              " <tr><td>50.61</td><td>26.02</td><td>67.35</td><td>52.63</td><td>16.72</td></tr>,\n",
              " <tr><td>IR-O-U-0345</td><td>Mizoram University<div style=\"float:right;\"><a class=\"btn-more-details\" href=\"javascript:;\"><span>More Details</span></a><a class=\"close_data\" id=\"close_1\" style=\"display: none;\">Close</a> | <a href=\"https://www.nirfindia.org/nirfpdfcdn/2022/pdf/University/IR-O-U-0345.pdf\" target=\"_blank\"><img src=\"https://www.nirfindia.org/images/pdf_icon.png\" style=\"width: 20px; height: 20px !important\"/></a> | <a href=\"https://www.nirfindia.org/nirfpdfcdn/2022/graph/University/IR-O-U-0345.png\" target=\"_blank\"><img src=\"https://www.nirfindia.org/images/graph.png\" style=\"width: 20px; height: 20px !important\"/></a></div><div class=\"tbl_hidden\" style=\"display:none;width:100%;\"><br/><table class=\"table \"><thead><tr><th>TLR (100)</th><th>RPC (100)</th><th>GO (100)</th><th>OI (100)</th><th>PERCEPTION (100)</th></tr></thead><tbody><tr><td>55.86</td><td>14.65</td><td>73.52</td><td>53.58</td><td>20.28</td></tr></tbody></table></div></td><td>Aizawl</td><td>Mizoram</td><td>43.24</td><td>78</td></tr>,\n",
              " <tr><th>TLR (100)</th><th>RPC (100)</th><th>GO (100)</th><th>OI (100)</th><th>PERCEPTION (100)</th></tr>,\n",
              " <tr><td>55.86</td><td>14.65</td><td>73.52</td><td>53.58</td><td>20.28</td></tr>,\n",
              " <tr><td>IR-O-U-0223</td><td>Jain University, Bangalore<div style=\"float:right;\"><a class=\"btn-more-details\" href=\"javascript:;\"><span>More Details</span></a><a class=\"close_data\" id=\"close_1\" style=\"display: none;\">Close</a> | <a href=\"https://www.nirfindia.org/nirfpdfcdn/2022/pdf/University/IR-O-U-0223.pdf\" target=\"_blank\"><img src=\"https://www.nirfindia.org/images/pdf_icon.png\" style=\"width: 20px; height: 20px !important\"/></a> | <a href=\"https://www.nirfindia.org/nirfpdfcdn/2022/graph/University/IR-O-U-0223.png\" target=\"_blank\"><img src=\"https://www.nirfindia.org/images/graph.png\" style=\"width: 20px; height: 20px !important\"/></a></div><div class=\"tbl_hidden\" style=\"display:none;width:100%;\"><br/><table class=\"table \"><thead><tr><th>TLR (100)</th><th>RPC (100)</th><th>GO (100)</th><th>OI (100)</th><th>PERCEPTION (100)</th></tr></thead><tbody><tr><td>46.67</td><td>14.61</td><td>76.57</td><td>62.17</td><td>33.01</td></tr></tbody></table></div></td><td>Bengluru</td><td>Karnataka</td><td>43.21</td><td>79</td></tr>,\n",
              " <tr><th>TLR (100)</th><th>RPC (100)</th><th>GO (100)</th><th>OI (100)</th><th>PERCEPTION (100)</th></tr>,\n",
              " <tr><td>46.67</td><td>14.61</td><td>76.57</td><td>62.17</td><td>33.01</td></tr>,\n",
              " <tr><td>IR-O-U-0464</td><td>Manonmaniam Sundaranar University, Tirunelveli<div style=\"float:right;\"><a class=\"btn-more-details\" href=\"javascript:;\"><span>More Details</span></a><a class=\"close_data\" id=\"close_1\" style=\"display: none;\">Close</a> | <a href=\"https://www.nirfindia.org/nirfpdfcdn/2022/pdf/University/IR-O-U-0464.pdf\" target=\"_blank\"><img src=\"https://www.nirfindia.org/images/pdf_icon.png\" style=\"width: 20px; height: 20px !important\"/></a> | <a href=\"https://www.nirfindia.org/nirfpdfcdn/2022/graph/University/IR-O-U-0464.png\" target=\"_blank\"><img src=\"https://www.nirfindia.org/images/graph.png\" style=\"width: 20px; height: 20px !important\"/></a></div><div class=\"tbl_hidden\" style=\"display:none;width:100%;\"><br/><table class=\"table \"><thead><tr><th>TLR (100)</th><th>RPC (100)</th><th>GO (100)</th><th>OI (100)</th><th>PERCEPTION (100)</th></tr></thead><tbody><tr><td>56.95</td><td>21.41</td><td>61.72</td><td>50.45</td><td>20.28</td></tr></tbody></table></div></td><td>Tirunelveli</td><td>Tamil Nadu</td><td>42.92</td><td>80</td></tr>,\n",
              " <tr><th>TLR (100)</th><th>RPC (100)</th><th>GO (100)</th><th>OI (100)</th><th>PERCEPTION (100)</th></tr>,\n",
              " <tr><td>56.95</td><td>21.41</td><td>61.72</td><td>50.45</td><td>20.28</td></tr>,\n",
              " <tr><td>IR-O-U-0321</td><td>Padmashree Dr. D. Y. Patil Vidyapeeth, Mumbai<div style=\"float:right;\"><a class=\"btn-more-details\" href=\"javascript:;\"><span>More Details</span></a><a class=\"close_data\" id=\"close_1\" style=\"display: none;\">Close</a> | <a href=\"https://www.nirfindia.org/nirfpdfcdn/2022/pdf/University/IR-O-U-0321.pdf\" target=\"_blank\"><img src=\"https://www.nirfindia.org/images/pdf_icon.png\" style=\"width: 20px; height: 20px !important\"/></a> | <a href=\"https://www.nirfindia.org/nirfpdfcdn/2022/graph/University/IR-O-U-0321.png\" target=\"_blank\"><img src=\"https://www.nirfindia.org/images/graph.png\" style=\"width: 20px; height: 20px !important\"/></a></div><div class=\"tbl_hidden\" style=\"display:none;width:100%;\"><br/><table class=\"table \"><thead><tr><th>TLR (100)</th><th>RPC (100)</th><th>GO (100)</th><th>OI (100)</th><th>PERCEPTION (100)</th></tr></thead><tbody><tr><td>67.36</td><td>3.09</td><td>64.27</td><td>62.10</td><td>24.39</td></tr></tbody></table></div></td><td>Mumbai</td><td>Maharashtra</td><td>42.64</td><td>81</td></tr>,\n",
              " <tr><th>TLR (100)</th><th>RPC (100)</th><th>GO (100)</th><th>OI (100)</th><th>PERCEPTION (100)</th></tr>,\n",
              " <tr><td>67.36</td><td>3.09</td><td>64.27</td><td>62.10</td><td>24.39</td></tr>,\n",
              " <tr><td>IR-O-U-0372</td><td>Central University of Punjab<div style=\"float:right;\"><a class=\"btn-more-details\" href=\"javascript:;\"><span>More Details</span></a><a class=\"close_data\" id=\"close_1\" style=\"display: none;\">Close</a> | <a href=\"https://www.nirfindia.org/nirfpdfcdn/2022/pdf/University/IR-O-U-0372.pdf\" target=\"_blank\"><img src=\"https://www.nirfindia.org/images/pdf_icon.png\" style=\"width: 20px; height: 20px !important\"/></a> | <a href=\"https://www.nirfindia.org/nirfpdfcdn/2022/graph/University/IR-O-U-0372.png\" target=\"_blank\"><img src=\"https://www.nirfindia.org/images/graph.png\" style=\"width: 20px; height: 20px !important\"/></a></div><div class=\"tbl_hidden\" style=\"display:none;width:100%;\"><br/><table class=\"table \"><thead><tr><th>TLR (100)</th><th>RPC (100)</th><th>GO (100)</th><th>OI (100)</th><th>PERCEPTION (100)</th></tr></thead><tbody><tr><td>54.61</td><td>19.03</td><td>55.28</td><td>68.45</td><td>26.53</td></tr></tbody></table></div></td><td>Bathinda</td><td>Punjab</td><td>42.64</td><td>81</td></tr>,\n",
              " <tr><th>TLR (100)</th><th>RPC (100)</th><th>GO (100)</th><th>OI (100)</th><th>PERCEPTION (100)</th></tr>,\n",
              " <tr><td>54.61</td><td>19.03</td><td>55.28</td><td>68.45</td><td>26.53</td></tr>,\n",
              " <tr><td>IR-O-U-0298</td><td>Dr. Babasaheb Ambedkar Marathwada University, Aurangabad<div style=\"float:right;\"><a class=\"btn-more-details\" href=\"javascript:;\"><span>More Details</span></a><a class=\"close_data\" id=\"close_1\" style=\"display: none;\">Close</a> | <a href=\"https://www.nirfindia.org/nirfpdfcdn/2022/pdf/University/IR-O-U-0298.pdf\" target=\"_blank\"><img src=\"https://www.nirfindia.org/images/pdf_icon.png\" style=\"width: 20px; height: 20px !important\"/></a> | <a href=\"https://www.nirfindia.org/nirfpdfcdn/2022/graph/University/IR-O-U-0298.png\" target=\"_blank\"><img src=\"https://www.nirfindia.org/images/graph.png\" style=\"width: 20px; height: 20px !important\"/></a></div><div class=\"tbl_hidden\" style=\"display:none;width:100%;\"><br/><table class=\"table \"><thead><tr><th>TLR (100)</th><th>RPC (100)</th><th>GO (100)</th><th>OI (100)</th><th>PERCEPTION (100)</th></tr></thead><tbody><tr><td>42.23</td><td>16.12</td><td>92.16</td><td>46.18</td><td>20.28</td></tr></tbody></table></div></td><td>Aurangabad</td><td>Maharashtra</td><td>42.59</td><td>83</td></tr>,\n",
              " <tr><th>TLR (100)</th><th>RPC (100)</th><th>GO (100)</th><th>OI (100)</th><th>PERCEPTION (100)</th></tr>,\n",
              " <tr><td>42.23</td><td>16.12</td><td>92.16</td><td>46.18</td><td>20.28</td></tr>,\n",
              " <tr><td>IR-O-U-0444</td><td>Avinashilingam Institute for Home Science &amp; Higher Education for Women<div style=\"float:right;\"><a class=\"btn-more-details\" href=\"javascript:;\"><span>More Details</span></a><a class=\"close_data\" id=\"close_1\" style=\"display: none;\">Close</a> | <a href=\"https://www.nirfindia.org/nirfpdfcdn/2022/pdf/University/IR-O-U-0444.pdf\" target=\"_blank\"><img src=\"https://www.nirfindia.org/images/pdf_icon.png\" style=\"width: 20px; height: 20px !important\"/></a> | <a href=\"https://www.nirfindia.org/nirfpdfcdn/2022/graph/University/IR-O-U-0444.png\" target=\"_blank\"><img src=\"https://www.nirfindia.org/images/graph.png\" style=\"width: 20px; height: 20px !important\"/></a></div><div class=\"tbl_hidden\" style=\"display:none;width:100%;\"><br/><table class=\"table \"><thead><tr><th>TLR (100)</th><th>RPC (100)</th><th>GO (100)</th><th>OI (100)</th><th>PERCEPTION (100)</th></tr></thead><tbody><tr><td>62.12</td><td>3.75</td><td>65.88</td><td>60.71</td><td>35.08</td></tr></tbody></table></div></td><td>Coimbatore</td><td>Tamil Nadu</td><td>42.53</td><td>84</td></tr>,\n",
              " <tr><th>TLR (100)</th><th>RPC (100)</th><th>GO (100)</th><th>OI (100)</th><th>PERCEPTION (100)</th></tr>,\n",
              " <tr><td>62.12</td><td>3.75</td><td>65.88</td><td>60.71</td><td>35.08</td></tr>,\n",
              " <tr><td>IR-O-U-0449</td><td>Central University of Tamil Nadu<div style=\"float:right;\"><a class=\"btn-more-details\" href=\"javascript:;\"><span>More Details</span></a><a class=\"close_data\" id=\"close_1\" style=\"display: none;\">Close</a> | <a href=\"https://www.nirfindia.org/nirfpdfcdn/2022/pdf/University/IR-O-U-0449.pdf\" target=\"_blank\"><img src=\"https://www.nirfindia.org/images/pdf_icon.png\" style=\"width: 20px; height: 20px !important\"/></a> | <a href=\"https://www.nirfindia.org/nirfpdfcdn/2022/graph/University/IR-O-U-0449.png\" target=\"_blank\"><img src=\"https://www.nirfindia.org/images/graph.png\" style=\"width: 20px; height: 20px !important\"/></a></div><div class=\"tbl_hidden\" style=\"display:none;width:100%;\"><br/><table class=\"table \"><thead><tr><th>TLR (100)</th><th>RPC (100)</th><th>GO (100)</th><th>OI (100)</th><th>PERCEPTION (100)</th></tr></thead><tbody><tr><td>59.81</td><td>14.49</td><td>61.13</td><td>64.06</td><td>15.36</td></tr></tbody></table></div></td><td>Tiruvarur</td><td>Tamil Nadu</td><td>42.47</td><td>85</td></tr>,\n",
              " <tr><th>TLR (100)</th><th>RPC (100)</th><th>GO (100)</th><th>OI (100)</th><th>PERCEPTION (100)</th></tr>,\n",
              " <tr><td>59.81</td><td>14.49</td><td>61.13</td><td>64.06</td><td>15.36</td></tr>,\n",
              " <tr><td>IR-O-U-0232</td><td>Kuvempu University<div style=\"float:right;\"><a class=\"btn-more-details\" href=\"javascript:;\"><span>More Details</span></a><a class=\"close_data\" id=\"close_1\" style=\"display: none;\">Close</a> | <a href=\"https://www.nirfindia.org/nirfpdfcdn/2022/pdf/University/IR-O-U-0232.pdf\" target=\"_blank\"><img src=\"https://www.nirfindia.org/images/pdf_icon.png\" style=\"width: 20px; height: 20px !important\"/></a> | <a href=\"https://www.nirfindia.org/nirfpdfcdn/2022/graph/University/IR-O-U-0232.png\" target=\"_blank\"><img src=\"https://www.nirfindia.org/images/graph.png\" style=\"width: 20px; height: 20px !important\"/></a></div><div class=\"tbl_hidden\" style=\"display:none;width:100%;\"><br/><table class=\"table \"><thead><tr><th>TLR (100)</th><th>RPC (100)</th><th>GO (100)</th><th>OI (100)</th><th>PERCEPTION (100)</th></tr></thead><tbody><tr><td>54.52</td><td>15.70</td><td>72.82</td><td>50.18</td><td>18.00</td></tr></tbody></table></div></td><td>Shivamogga</td><td>Karnataka</td><td>42.44</td><td>86</td></tr>,\n",
              " <tr><th>TLR (100)</th><th>RPC (100)</th><th>GO (100)</th><th>OI (100)</th><th>PERCEPTION (100)</th></tr>,\n",
              " <tr><td>54.52</td><td>15.70</td><td>72.82</td><td>50.18</td><td>18.00</td></tr>,\n",
              " <tr><td>IR-O-U-0569</td><td>The University of Burdwan<div style=\"float:right;\"><a class=\"btn-more-details\" href=\"javascript:;\"><span>More Details</span></a><a class=\"close_data\" id=\"close_1\" style=\"display: none;\">Close</a> | <a href=\"https://www.nirfindia.org/nirfpdfcdn/2022/pdf/University/IR-O-U-0569.pdf\" target=\"_blank\"><img src=\"https://www.nirfindia.org/images/pdf_icon.png\" style=\"width: 20px; height: 20px !important\"/></a> | <a href=\"https://www.nirfindia.org/nirfpdfcdn/2022/graph/University/IR-O-U-0569.png\" target=\"_blank\"><img src=\"https://www.nirfindia.org/images/graph.png\" style=\"width: 20px; height: 20px !important\"/></a></div><div class=\"tbl_hidden\" style=\"display:none;width:100%;\"><br/><table class=\"table \"><thead><tr><th>TLR (100)</th><th>RPC (100)</th><th>GO (100)</th><th>OI (100)</th><th>PERCEPTION (100)</th></tr></thead><tbody><tr><td>47.03</td><td>21.47</td><td>74.90</td><td>49.04</td><td>19.92</td></tr></tbody></table></div></td><td>Bardhaman</td><td>West Bengal</td><td>42.42</td><td>87</td></tr>,\n",
              " <tr><th>TLR (100)</th><th>RPC (100)</th><th>GO (100)</th><th>OI (100)</th><th>PERCEPTION (100)</th></tr>,\n",
              " <tr><td>47.03</td><td>21.47</td><td>74.90</td><td>49.04</td><td>19.92</td></tr>,\n",
              " <tr><td>IR-O-U-0744</td><td>Ashoka University<div style=\"float:right;\"><a class=\"btn-more-details\" href=\"javascript:;\"><span>More Details</span></a><a class=\"close_data\" id=\"close_1\" style=\"display: none;\">Close</a> | <a href=\"https://www.nirfindia.org/nirfpdfcdn/2022/pdf/University/IR-O-U-0744.pdf\" target=\"_blank\"><img src=\"https://www.nirfindia.org/images/pdf_icon.png\" style=\"width: 20px; height: 20px !important\"/></a> | <a href=\"https://www.nirfindia.org/nirfpdfcdn/2022/graph/University/IR-O-U-0744.png\" target=\"_blank\"><img src=\"https://www.nirfindia.org/images/graph.png\" style=\"width: 20px; height: 20px !important\"/></a></div><div class=\"tbl_hidden\" style=\"display:none;width:100%;\"><br/><table class=\"table \"><thead><tr><th>TLR (100)</th><th>RPC (100)</th><th>GO (100)</th><th>OI (100)</th><th>PERCEPTION (100)</th></tr></thead><tbody><tr><td>65.47</td><td>6.59</td><td>60.00</td><td>76.83</td><td>9.69</td></tr></tbody></table></div></td><td>Sonepat</td><td>Haryana</td><td>42.27</td><td>88</td></tr>,\n",
              " <tr><th>TLR (100)</th><th>RPC (100)</th><th>GO (100)</th><th>OI (100)</th><th>PERCEPTION (100)</th></tr>,\n",
              " <tr><td>65.47</td><td>6.59</td><td>60.00</td><td>76.83</td><td>9.69</td></tr>,\n",
              " <tr><td>IR-O-U-0225</td><td>KLE Academy of Higher Education and Research<div style=\"float:right;\"><a class=\"btn-more-details\" href=\"javascript:;\"><span>More Details</span></a><a class=\"close_data\" id=\"close_1\" style=\"display: none;\">Close</a> | <a href=\"https://www.nirfindia.org/nirfpdfcdn/2022/pdf/University/IR-O-U-0225.pdf\" target=\"_blank\"><img src=\"https://www.nirfindia.org/images/pdf_icon.png\" style=\"width: 20px; height: 20px !important\"/></a> | <a href=\"https://www.nirfindia.org/nirfpdfcdn/2022/graph/University/IR-O-U-0225.png\" target=\"_blank\"><img src=\"https://www.nirfindia.org/images/graph.png\" style=\"width: 20px; height: 20px !important\"/></a></div><div class=\"tbl_hidden\" style=\"display:none;width:100%;\"><br/><table class=\"table \"><thead><tr><th>TLR (100)</th><th>RPC (100)</th><th>GO (100)</th><th>OI (100)</th><th>PERCEPTION (100)</th></tr></thead><tbody><tr><td>62.51</td><td>11.07</td><td>54.89</td><td>64.05</td><td>28.06</td></tr></tbody></table></div></td><td>Belagavi</td><td>Karnataka</td><td>42.27</td><td>88</td></tr>,\n",
              " <tr><th>TLR (100)</th><th>RPC (100)</th><th>GO (100)</th><th>OI (100)</th><th>PERCEPTION (100)</th></tr>,\n",
              " <tr><td>62.51</td><td>11.07</td><td>54.89</td><td>64.05</td><td>28.06</td></tr>,\n",
              " <tr><td>IR-O-U-0366</td><td>Utkal University<div style=\"float:right;\"><a class=\"btn-more-details\" href=\"javascript:;\"><span>More Details</span></a><a class=\"close_data\" id=\"close_1\" style=\"display: none;\">Close</a> | <a href=\"https://www.nirfindia.org/nirfpdfcdn/2022/pdf/University/IR-O-U-0366.pdf\" target=\"_blank\"><img src=\"https://www.nirfindia.org/images/pdf_icon.png\" style=\"width: 20px; height: 20px !important\"/></a> | <a href=\"https://www.nirfindia.org/nirfpdfcdn/2022/graph/University/IR-O-U-0366.png\" target=\"_blank\"><img src=\"https://www.nirfindia.org/images/graph.png\" style=\"width: 20px; height: 20px !important\"/></a></div><div class=\"tbl_hidden\" style=\"display:none;width:100%;\"><br/><table class=\"table \"><thead><tr><th>TLR (100)</th><th>RPC (100)</th><th>GO (100)</th><th>OI (100)</th><th>PERCEPTION (100)</th></tr></thead><tbody><tr><td>44.59</td><td>14.60</td><td>78.71</td><td>50.12</td><td>37.63</td></tr></tbody></table></div></td><td>Bhubaneswar</td><td>Odisha</td><td>42.27</td><td>88</td></tr>,\n",
              " <tr><th>TLR (100)</th><th>RPC (100)</th><th>GO (100)</th><th>OI (100)</th><th>PERCEPTION (100)</th></tr>,\n",
              " <tr><td>44.59</td><td>14.60</td><td>78.71</td><td>50.12</td><td>37.63</td></tr>,\n",
              " <tr><td>IR-O-U-0168</td><td>Maharishi Markandeshwar<div style=\"float:right;\"><a class=\"btn-more-details\" href=\"javascript:;\"><span>More Details</span></a><a class=\"close_data\" id=\"close_1\" style=\"display: none;\">Close</a> | <a href=\"https://www.nirfindia.org/nirfpdfcdn/2022/pdf/University/IR-O-U-0168.pdf\" target=\"_blank\"><img src=\"https://www.nirfindia.org/images/pdf_icon.png\" style=\"width: 20px; height: 20px !important\"/></a> | <a href=\"https://www.nirfindia.org/nirfpdfcdn/2022/graph/University/IR-O-U-0168.png\" target=\"_blank\"><img src=\"https://www.nirfindia.org/images/graph.png\" style=\"width: 20px; height: 20px !important\"/></a></div><div class=\"tbl_hidden\" style=\"display:none;width:100%;\"><br/><table class=\"table \"><thead><tr><th>TLR (100)</th><th>RPC (100)</th><th>GO (100)</th><th>OI (100)</th><th>PERCEPTION (100)</th></tr></thead><tbody><tr><td>56.91</td><td>17.64</td><td>52.63</td><td>58.95</td><td>34.74</td></tr></tbody></table></div></td><td>Ambala</td><td>Haryana</td><td>42.26</td><td>91</td></tr>,\n",
              " <tr><th>TLR (100)</th><th>RPC (100)</th><th>GO (100)</th><th>OI (100)</th><th>PERCEPTION (100)</th></tr>,\n",
              " <tr><td>56.91</td><td>17.64</td><td>52.63</td><td>58.95</td><td>34.74</td></tr>,\n",
              " <tr><td>IR-O-U-0011</td><td>Gandhi Institute of Technology and Management <div style=\"float:right;\"><a class=\"btn-more-details\" href=\"javascript:;\"><span>More Details</span></a><a class=\"close_data\" id=\"close_1\" style=\"display: none;\">Close</a> | <a href=\"https://www.nirfindia.org/nirfpdfcdn/2022/pdf/University/IR-O-U-0011.pdf\" target=\"_blank\"><img src=\"https://www.nirfindia.org/images/pdf_icon.png\" style=\"width: 20px; height: 20px !important\"/></a> | <a href=\"https://www.nirfindia.org/nirfpdfcdn/2022/graph/University/IR-O-U-0011.png\" target=\"_blank\"><img src=\"https://www.nirfindia.org/images/graph.png\" style=\"width: 20px; height: 20px !important\"/></a></div><div class=\"tbl_hidden\" style=\"display:none;width:100%;\"><br/><table class=\"table \"><thead><tr><th>TLR (100)</th><th>RPC (100)</th><th>GO (100)</th><th>OI (100)</th><th>PERCEPTION (100)</th></tr></thead><tbody><tr><td>45.87</td><td>19.36</td><td>68.99</td><td>54.68</td><td>33.01</td></tr></tbody></table></div></td><td>Visakhapatnam</td><td>Andhra Pradesh</td><td>42.14</td><td>92</td></tr>,\n",
              " <tr><th>TLR (100)</th><th>RPC (100)</th><th>GO (100)</th><th>OI (100)</th><th>PERCEPTION (100)</th></tr>,\n",
              " <tr><td>45.87</td><td>19.36</td><td>68.99</td><td>54.68</td><td>33.01</td></tr>,\n",
              " <tr><td>IR-O-U-0451</td><td>Chettinad Academy of Research and Education<div style=\"float:right;\"><a class=\"btn-more-details\" href=\"javascript:;\"><span>More Details</span></a><a class=\"close_data\" id=\"close_1\" style=\"display: none;\">Close</a> | <a href=\"https://www.nirfindia.org/nirfpdfcdn/2022/pdf/University/IR-O-U-0451.pdf\" target=\"_blank\"><img src=\"https://www.nirfindia.org/images/pdf_icon.png\" style=\"width: 20px; height: 20px !important\"/></a> | <a href=\"https://www.nirfindia.org/nirfpdfcdn/2022/graph/University/IR-O-U-0451.png\" target=\"_blank\"><img src=\"https://www.nirfindia.org/images/graph.png\" style=\"width: 20px; height: 20px !important\"/></a></div><div class=\"tbl_hidden\" style=\"display:none;width:100%;\"><br/><table class=\"table \"><thead><tr><th>TLR (100)</th><th>RPC (100)</th><th>GO (100)</th><th>OI (100)</th><th>PERCEPTION (100)</th></tr></thead><tbody><tr><td>63.69</td><td>8.60</td><td>61.40</td><td>61.21</td><td>19.54</td></tr></tbody></table></div></td><td>Kelambakkam, Chengalpattu District</td><td>Tamil Nadu</td><td>42.04</td><td>93</td></tr>,\n",
              " <tr><th>TLR (100)</th><th>RPC (100)</th><th>GO (100)</th><th>OI (100)</th><th>PERCEPTION (100)</th></tr>,\n",
              " <tr><td>63.69</td><td>8.60</td><td>61.40</td><td>61.21</td><td>19.54</td></tr>,\n",
              " <tr><td>IR-O-I-1280</td><td>Maharshi Dayanand University<div style=\"float:right;\"><a class=\"btn-more-details\" href=\"javascript:;\"><span>More Details</span></a><a class=\"close_data\" id=\"close_1\" style=\"display: none;\">Close</a> | <a href=\"https://www.nirfindia.org/nirfpdfcdn/2022/pdf/University/IR-O-I-1280.pdf\" target=\"_blank\"><img src=\"https://www.nirfindia.org/images/pdf_icon.png\" style=\"width: 20px; height: 20px !important\"/></a> | <a href=\"https://www.nirfindia.org/nirfpdfcdn/2022/graph/University/IR-O-I-1280.png\" target=\"_blank\"><img src=\"https://www.nirfindia.org/images/graph.png\" style=\"width: 20px; height: 20px !important\"/></a></div><div class=\"tbl_hidden\" style=\"display:none;width:100%;\"><br/><table class=\"table \"><thead><tr><th>TLR (100)</th><th>RPC (100)</th><th>GO (100)</th><th>OI (100)</th><th>PERCEPTION (100)</th></tr></thead><tbody><tr><td>44.33</td><td>18.99</td><td>74.17</td><td>53.13</td><td>27.36</td></tr></tbody></table></div></td><td>Rohtak</td><td>Haryana</td><td>41.88</td><td>94</td></tr>,\n",
              " <tr><th>TLR (100)</th><th>RPC (100)</th><th>GO (100)</th><th>OI (100)</th><th>PERCEPTION (100)</th></tr>,\n",
              " <tr><td>44.33</td><td>18.99</td><td>74.17</td><td>53.13</td><td>27.36</td></tr>,\n",
              " <tr><td>IR-O-U-0043</td><td>Vignan's Foundation for Science, Technology and Research<div style=\"float:right;\"><a class=\"btn-more-details\" href=\"javascript:;\"><span>More Details</span></a><a class=\"close_data\" id=\"close_1\" style=\"display: none;\">Close</a> | <a href=\"https://www.nirfindia.org/nirfpdfcdn/2022/pdf/University/IR-O-U-0043.pdf\" target=\"_blank\"><img src=\"https://www.nirfindia.org/images/pdf_icon.png\" style=\"width: 20px; height: 20px !important\"/></a> | <a href=\"https://www.nirfindia.org/nirfpdfcdn/2022/graph/University/IR-O-U-0043.png\" target=\"_blank\"><img src=\"https://www.nirfindia.org/images/graph.png\" style=\"width: 20px; height: 20px !important\"/></a></div><div class=\"tbl_hidden\" style=\"display:none;width:100%;\"><br/><table class=\"table \"><thead><tr><th>TLR (100)</th><th>RPC (100)</th><th>GO (100)</th><th>OI (100)</th><th>PERCEPTION (100)</th></tr></thead><tbody><tr><td>52.38</td><td>18.96</td><td>59.77</td><td>56.33</td><td>28.06</td></tr></tbody></table></div></td><td>Guntur</td><td>Andhra Pradesh</td><td>41.79</td><td>95</td></tr>,\n",
              " <tr><th>TLR (100)</th><th>RPC (100)</th><th>GO (100)</th><th>OI (100)</th><th>PERCEPTION (100)</th></tr>,\n",
              " <tr><td>52.38</td><td>18.96</td><td>59.77</td><td>56.33</td><td>28.06</td></tr>,\n",
              " <tr><td>IR-O-U-0190</td><td>Shoolini University of Biotechnology and Management Sciences<div style=\"float:right;\"><a class=\"btn-more-details\" href=\"javascript:;\"><span>More Details</span></a><a class=\"close_data\" id=\"close_1\" style=\"display: none;\">Close</a> | <a href=\"https://www.nirfindia.org/nirfpdfcdn/2022/pdf/University/IR-O-U-0190.pdf\" target=\"_blank\"><img src=\"https://www.nirfindia.org/images/pdf_icon.png\" style=\"width: 20px; height: 20px !important\"/></a> | <a href=\"https://www.nirfindia.org/nirfpdfcdn/2022/graph/University/IR-O-U-0190.png\" target=\"_blank\"><img src=\"https://www.nirfindia.org/images/graph.png\" style=\"width: 20px; height: 20px !important\"/></a></div><div class=\"tbl_hidden\" style=\"display:none;width:100%;\"><br/><table class=\"table \"><thead><tr><th>TLR (100)</th><th>RPC (100)</th><th>GO (100)</th><th>OI (100)</th><th>PERCEPTION (100)</th></tr></thead><tbody><tr><td>38.80</td><td>28.11</td><td>68.66</td><td>58.25</td><td>15.71</td></tr></tbody></table></div></td><td>Solan</td><td>Himachal Pradesh</td><td>41.19</td><td>96</td></tr>,\n",
              " <tr><th>TLR (100)</th><th>RPC (100)</th><th>GO (100)</th><th>OI (100)</th><th>PERCEPTION (100)</th></tr>,\n",
              " <tr><td>38.80</td><td>28.11</td><td>68.66</td><td>58.25</td><td>15.71</td></tr>,\n",
              " <tr><td>IR-O-U-0250</td><td>Yenepoya University<div style=\"float:right;\"><a class=\"btn-more-details\" href=\"javascript:;\"><span>More Details</span></a><a class=\"close_data\" id=\"close_1\" style=\"display: none;\">Close</a> | <a href=\"https://www.nirfindia.org/nirfpdfcdn/2022/pdf/University/IR-O-U-0250.pdf\" target=\"_blank\"><img src=\"https://www.nirfindia.org/images/pdf_icon.png\" style=\"width: 20px; height: 20px !important\"/></a> | <a href=\"https://www.nirfindia.org/nirfpdfcdn/2022/graph/University/IR-O-U-0250.png\" target=\"_blank\"><img src=\"https://www.nirfindia.org/images/graph.png\" style=\"width: 20px; height: 20px !important\"/></a></div><div class=\"tbl_hidden\" style=\"display:none;width:100%;\"><br/><table class=\"table \"><thead><tr><th>TLR (100)</th><th>RPC (100)</th><th>GO (100)</th><th>OI (100)</th><th>PERCEPTION (100)</th></tr></thead><tbody><tr><td>61.19</td><td>11.89</td><td>49.62</td><td>71.14</td><td>20.65</td></tr></tbody></table></div></td><td>Mangaluru</td><td>Karnataka</td><td>41.03</td><td>97</td></tr>,\n",
              " <tr><th>TLR (100)</th><th>RPC (100)</th><th>GO (100)</th><th>OI (100)</th><th>PERCEPTION (100)</th></tr>,\n",
              " <tr><td>61.19</td><td>11.89</td><td>49.62</td><td>71.14</td><td>20.65</td></tr>,\n",
              " <tr><td>IR-O-U-0589</td><td>Visva Bharati<div style=\"float:right;\"><a class=\"btn-more-details\" href=\"javascript:;\"><span>More Details</span></a><a class=\"close_data\" id=\"close_1\" style=\"display: none;\">Close</a> | <a href=\"https://www.nirfindia.org/nirfpdfcdn/2022/pdf/University/IR-O-U-0589.pdf\" target=\"_blank\"><img src=\"https://www.nirfindia.org/images/pdf_icon.png\" style=\"width: 20px; height: 20px !important\"/></a> | <a href=\"https://www.nirfindia.org/nirfpdfcdn/2022/graph/University/IR-O-U-0589.png\" target=\"_blank\"><img src=\"https://www.nirfindia.org/images/graph.png\" style=\"width: 20px; height: 20px !important\"/></a></div><div class=\"tbl_hidden\" style=\"display:none;width:100%;\"><br/><table class=\"table \"><thead><tr><th>TLR (100)</th><th>RPC (100)</th><th>GO (100)</th><th>OI (100)</th><th>PERCEPTION (100)</th></tr></thead><tbody><tr><td>44.85</td><td>24.43</td><td>76.87</td><td>33.44</td><td>14.65</td></tr></tbody></table></div></td><td>Santiniketan</td><td>West Bengal</td><td>40.96</td><td>98</td></tr>,\n",
              " <tr><th>TLR (100)</th><th>RPC (100)</th><th>GO (100)</th><th>OI (100)</th><th>PERCEPTION (100)</th></tr>,\n",
              " <tr><td>44.85</td><td>24.43</td><td>76.87</td><td>33.44</td><td>14.65</td></tr>,\n",
              " <tr><td>IR-O-U-0202</td><td>Birla Institute of Technology<div style=\"float:right;\"><a class=\"btn-more-details\" href=\"javascript:;\"><span>More Details</span></a><a class=\"close_data\" id=\"close_1\" style=\"display: none;\">Close</a> | <a href=\"https://www.nirfindia.org/nirfpdfcdn/2022/pdf/University/IR-O-U-0202.pdf\" target=\"_blank\"><img src=\"https://www.nirfindia.org/images/pdf_icon.png\" style=\"width: 20px; height: 20px !important\"/></a> | <a href=\"https://www.nirfindia.org/nirfpdfcdn/2022/graph/University/IR-O-U-0202.png\" target=\"_blank\"><img src=\"https://www.nirfindia.org/images/graph.png\" style=\"width: 20px; height: 20px !important\"/></a></div><div class=\"tbl_hidden\" style=\"display:none;width:100%;\"><br/><table class=\"table \"><thead><tr><th>TLR (100)</th><th>RPC (100)</th><th>GO (100)</th><th>OI (100)</th><th>PERCEPTION (100)</th></tr></thead><tbody><tr><td>49.52</td><td>27.74</td><td>56.39</td><td>49.86</td><td>12.40</td></tr></tbody></table></div></td><td>Ranchi</td><td>Jharkhand</td><td>40.69</td><td>99</td></tr>,\n",
              " <tr><th>TLR (100)</th><th>RPC (100)</th><th>GO (100)</th><th>OI (100)</th><th>PERCEPTION (100)</th></tr>,\n",
              " <tr><td>49.52</td><td>27.74</td><td>56.39</td><td>49.86</td><td>12.40</td></tr>,\n",
              " <tr><td>IR-O-U-0461</td><td>Dr. M. G. R. Educational and Research Institute<div style=\"float:right;\"><a class=\"btn-more-details\" href=\"javascript:;\"><span>More Details</span></a><a class=\"close_data\" id=\"close_1\" style=\"display: none;\">Close</a> | <a href=\"https://www.nirfindia.org/nirfpdfcdn/2022/pdf/University/IR-O-U-0461.pdf\" target=\"_blank\"><img src=\"https://www.nirfindia.org/images/pdf_icon.png\" style=\"width: 20px; height: 20px !important\"/></a> | <a href=\"https://www.nirfindia.org/nirfpdfcdn/2022/graph/University/IR-O-U-0461.png\" target=\"_blank\"><img src=\"https://www.nirfindia.org/images/graph.png\" style=\"width: 20px; height: 20px !important\"/></a></div><div class=\"tbl_hidden\" style=\"display:none;width:100%;\"><br/><table class=\"table \"><thead><tr><th>TLR (100)</th><th>RPC (100)</th><th>GO (100)</th><th>OI (100)</th><th>PERCEPTION (100)</th></tr></thead><tbody><tr><td>54.35</td><td>12.89</td><td>57.40</td><td>63.35</td><td>24.00</td></tr></tbody></table></div></td><td>Chennai</td><td>Tamil Nadu</td><td>40.39</td><td>100</td></tr>,\n",
              " <tr><th>TLR (100)</th><th>RPC (100)</th><th>GO (100)</th><th>OI (100)</th><th>PERCEPTION (100)</th></tr>,\n",
              " <tr><td>54.35</td><td>12.89</td><td>57.40</td><td>63.35</td><td>24.00</td></tr>]"
            ]
          },
          "metadata": {},
          "execution_count": 42
        }
      ]
    },
    {
      "cell_type": "code",
      "source": [
        "content = list()\n",
        "for row in rows:\n",
        "  cells = row.find_all(['td','th'])\n",
        "  # print(cells)\n",
        "  cells_text = [cell.text for cell in cells]\n",
        "  content.append(cells_text)"
      ],
      "metadata": {
        "id": "aQwcCEVsCYhb"
      },
      "execution_count": null,
      "outputs": []
    },
    {
      "cell_type": "code",
      "source": [
        "df = pd.DataFrame(content)\n",
        "df.to_csv('NIRF_UNiversity2022.csv')"
      ],
      "metadata": {
        "id": "XBIoqiDhEgF5"
      },
      "execution_count": null,
      "outputs": []
    },
    {
      "cell_type": "markdown",
      "source": [
        "### **Training, Prediction and Recommendation**"
      ],
      "metadata": {
        "id": "sTWDZbVB7arU"
      }
    },
    {
      "cell_type": "markdown",
      "source": [
        "**Training Data**\n",
        "Our training data consists of the totals obtained by Universities under various parameters (TLR, RPC,\tGO, OI, PERCEPTION and Score). All training data can be retrieved from the file NIRF_University2022.csv.\n",
        "\n",
        "**Prepare Training Data**\n",
        "Model accepts the scores obtained by universities under the parameters as a input and labels so that for each evaluation the model knows which class the university belongs to and the overall score of the university (originally evaluated by NIRF).\n",
        "\n",
        "**For example:** \n",
        "\n",
        "*(For Score Prediction)*\n",
        "\n",
        "Features                                           \n",
        "\n",
        "* TLR(100)\t- 82.08\n",
        "* RPC(100)  - 87.45\n",
        "* GO(100)\t  - 84.80\n",
        "* OI(100)\t  - 57.46\n",
        "* PERCEPTION(100)\t - 100.00\n",
        "\n",
        "Labels\n",
        "\n",
        "* Score\t- 83.57\t\n",
        "\n",
        "*(For Recommendation)*\n",
        "\n",
        "Features                                           \n",
        "\n",
        "* TLR(100)\t- 82.08\n",
        "* RPC(100)  - 87.45\n",
        "* GO(100)\t  - 84.80\n",
        "* OI(100)\t  - 57.46\n",
        "* PERCEPTION(100)\t - 100.00\n",
        "* Score\t- 83.57\n",
        "\n",
        "Labels\n",
        "\n",
        "* Recommend - 1"
      ],
      "metadata": {
        "id": "qE8CvXk3XbbW"
      }
    },
    {
      "cell_type": "code",
      "execution_count": 69,
      "metadata": {
        "id": "xGFkmAOTTBpN"
      },
      "outputs": [],
      "source": [
        "import pandas as pd"
      ]
    },
    {
      "cell_type": "markdown",
      "source": [
        "**Data Preparation**"
      ],
      "metadata": {
        "id": "U4ipw8Qu0Ar-"
      }
    },
    {
      "cell_type": "code",
      "source": [
        "df = pd.read_csv('/content/NIRF_UNiversity2022.csv')\n",
        "df.head(5)"
      ],
      "metadata": {
        "colab": {
          "base_uri": "https://localhost:8080/",
          "height": 206
        },
        "id": "VVtHpDNdfJdG",
        "outputId": "c3650cf2-df9b-4007-86bc-8c74d1a980fd"
      },
      "execution_count": 70,
      "outputs": [
        {
          "output_type": "execute_result",
          "data": {
            "text/plain": [
              "  Institute ID                         Name  TLR (100)  RPC (100)  GO (100)  \\\n",
              "0  IR-O-U-0220  Indian Institute of Science      82.08      87.45     84.80   \n",
              "1    TLR (100)                    RPC (100)        NaN        NaN       NaN   \n",
              "2        82.08                        87.45        NaN        NaN       NaN   \n",
              "3  IR-O-U-0109  Jawaharlal Nehru University      71.95      45.55     95.27   \n",
              "4    TLR (100)                    RPC (100)        NaN        NaN       NaN   \n",
              "\n",
              "   OI (100)  PERCEPTION (100)       City      State  Score  Rank  \n",
              "0     57.46            100.00  Bengaluru  Karnataka  83.57   1.0  \n",
              "1       NaN               NaN        NaN        NaN    NaN   NaN  \n",
              "2       NaN               NaN        NaN        NaN    NaN   NaN  \n",
              "3     70.27             71.43  New Delhi      Delhi  68.47   2.0  \n",
              "4       NaN               NaN        NaN        NaN    NaN   NaN  "
            ],
            "text/html": [
              "\n",
              "  <div id=\"df-f282c41d-b077-4a52-b609-0ee850a64de8\">\n",
              "    <div class=\"colab-df-container\">\n",
              "      <div>\n",
              "<style scoped>\n",
              "    .dataframe tbody tr th:only-of-type {\n",
              "        vertical-align: middle;\n",
              "    }\n",
              "\n",
              "    .dataframe tbody tr th {\n",
              "        vertical-align: top;\n",
              "    }\n",
              "\n",
              "    .dataframe thead th {\n",
              "        text-align: right;\n",
              "    }\n",
              "</style>\n",
              "<table border=\"1\" class=\"dataframe\">\n",
              "  <thead>\n",
              "    <tr style=\"text-align: right;\">\n",
              "      <th></th>\n",
              "      <th>Institute ID</th>\n",
              "      <th>Name</th>\n",
              "      <th>TLR (100)</th>\n",
              "      <th>RPC (100)</th>\n",
              "      <th>GO (100)</th>\n",
              "      <th>OI (100)</th>\n",
              "      <th>PERCEPTION (100)</th>\n",
              "      <th>City</th>\n",
              "      <th>State</th>\n",
              "      <th>Score</th>\n",
              "      <th>Rank</th>\n",
              "    </tr>\n",
              "  </thead>\n",
              "  <tbody>\n",
              "    <tr>\n",
              "      <th>0</th>\n",
              "      <td>IR-O-U-0220</td>\n",
              "      <td>Indian Institute of Science</td>\n",
              "      <td>82.08</td>\n",
              "      <td>87.45</td>\n",
              "      <td>84.80</td>\n",
              "      <td>57.46</td>\n",
              "      <td>100.00</td>\n",
              "      <td>Bengaluru</td>\n",
              "      <td>Karnataka</td>\n",
              "      <td>83.57</td>\n",
              "      <td>1.0</td>\n",
              "    </tr>\n",
              "    <tr>\n",
              "      <th>1</th>\n",
              "      <td>TLR (100)</td>\n",
              "      <td>RPC (100)</td>\n",
              "      <td>NaN</td>\n",
              "      <td>NaN</td>\n",
              "      <td>NaN</td>\n",
              "      <td>NaN</td>\n",
              "      <td>NaN</td>\n",
              "      <td>NaN</td>\n",
              "      <td>NaN</td>\n",
              "      <td>NaN</td>\n",
              "      <td>NaN</td>\n",
              "    </tr>\n",
              "    <tr>\n",
              "      <th>2</th>\n",
              "      <td>82.08</td>\n",
              "      <td>87.45</td>\n",
              "      <td>NaN</td>\n",
              "      <td>NaN</td>\n",
              "      <td>NaN</td>\n",
              "      <td>NaN</td>\n",
              "      <td>NaN</td>\n",
              "      <td>NaN</td>\n",
              "      <td>NaN</td>\n",
              "      <td>NaN</td>\n",
              "      <td>NaN</td>\n",
              "    </tr>\n",
              "    <tr>\n",
              "      <th>3</th>\n",
              "      <td>IR-O-U-0109</td>\n",
              "      <td>Jawaharlal Nehru University</td>\n",
              "      <td>71.95</td>\n",
              "      <td>45.55</td>\n",
              "      <td>95.27</td>\n",
              "      <td>70.27</td>\n",
              "      <td>71.43</td>\n",
              "      <td>New Delhi</td>\n",
              "      <td>Delhi</td>\n",
              "      <td>68.47</td>\n",
              "      <td>2.0</td>\n",
              "    </tr>\n",
              "    <tr>\n",
              "      <th>4</th>\n",
              "      <td>TLR (100)</td>\n",
              "      <td>RPC (100)</td>\n",
              "      <td>NaN</td>\n",
              "      <td>NaN</td>\n",
              "      <td>NaN</td>\n",
              "      <td>NaN</td>\n",
              "      <td>NaN</td>\n",
              "      <td>NaN</td>\n",
              "      <td>NaN</td>\n",
              "      <td>NaN</td>\n",
              "      <td>NaN</td>\n",
              "    </tr>\n",
              "  </tbody>\n",
              "</table>\n",
              "</div>\n",
              "      <button class=\"colab-df-convert\" onclick=\"convertToInteractive('df-f282c41d-b077-4a52-b609-0ee850a64de8')\"\n",
              "              title=\"Convert this dataframe to an interactive table.\"\n",
              "              style=\"display:none;\">\n",
              "        \n",
              "  <svg xmlns=\"http://www.w3.org/2000/svg\" height=\"24px\"viewBox=\"0 0 24 24\"\n",
              "       width=\"24px\">\n",
              "    <path d=\"M0 0h24v24H0V0z\" fill=\"none\"/>\n",
              "    <path d=\"M18.56 5.44l.94 2.06.94-2.06 2.06-.94-2.06-.94-.94-2.06-.94 2.06-2.06.94zm-11 1L8.5 8.5l.94-2.06 2.06-.94-2.06-.94L8.5 2.5l-.94 2.06-2.06.94zm10 10l.94 2.06.94-2.06 2.06-.94-2.06-.94-.94-2.06-.94 2.06-2.06.94z\"/><path d=\"M17.41 7.96l-1.37-1.37c-.4-.4-.92-.59-1.43-.59-.52 0-1.04.2-1.43.59L10.3 9.45l-7.72 7.72c-.78.78-.78 2.05 0 2.83L4 21.41c.39.39.9.59 1.41.59.51 0 1.02-.2 1.41-.59l7.78-7.78 2.81-2.81c.8-.78.8-2.07 0-2.86zM5.41 20L4 18.59l7.72-7.72 1.47 1.35L5.41 20z\"/>\n",
              "  </svg>\n",
              "      </button>\n",
              "      \n",
              "  <style>\n",
              "    .colab-df-container {\n",
              "      display:flex;\n",
              "      flex-wrap:wrap;\n",
              "      gap: 12px;\n",
              "    }\n",
              "\n",
              "    .colab-df-convert {\n",
              "      background-color: #E8F0FE;\n",
              "      border: none;\n",
              "      border-radius: 50%;\n",
              "      cursor: pointer;\n",
              "      display: none;\n",
              "      fill: #1967D2;\n",
              "      height: 32px;\n",
              "      padding: 0 0 0 0;\n",
              "      width: 32px;\n",
              "    }\n",
              "\n",
              "    .colab-df-convert:hover {\n",
              "      background-color: #E2EBFA;\n",
              "      box-shadow: 0px 1px 2px rgba(60, 64, 67, 0.3), 0px 1px 3px 1px rgba(60, 64, 67, 0.15);\n",
              "      fill: #174EA6;\n",
              "    }\n",
              "\n",
              "    [theme=dark] .colab-df-convert {\n",
              "      background-color: #3B4455;\n",
              "      fill: #D2E3FC;\n",
              "    }\n",
              "\n",
              "    [theme=dark] .colab-df-convert:hover {\n",
              "      background-color: #434B5C;\n",
              "      box-shadow: 0px 1px 3px 1px rgba(0, 0, 0, 0.15);\n",
              "      filter: drop-shadow(0px 1px 2px rgba(0, 0, 0, 0.3));\n",
              "      fill: #FFFFFF;\n",
              "    }\n",
              "  </style>\n",
              "\n",
              "      <script>\n",
              "        const buttonEl =\n",
              "          document.querySelector('#df-f282c41d-b077-4a52-b609-0ee850a64de8 button.colab-df-convert');\n",
              "        buttonEl.style.display =\n",
              "          google.colab.kernel.accessAllowed ? 'block' : 'none';\n",
              "\n",
              "        async function convertToInteractive(key) {\n",
              "          const element = document.querySelector('#df-f282c41d-b077-4a52-b609-0ee850a64de8');\n",
              "          const dataTable =\n",
              "            await google.colab.kernel.invokeFunction('convertToInteractive',\n",
              "                                                     [key], {});\n",
              "          if (!dataTable) return;\n",
              "\n",
              "          const docLinkHtml = 'Like what you see? Visit the ' +\n",
              "            '<a target=\"_blank\" href=https://colab.research.google.com/notebooks/data_table.ipynb>data table notebook</a>'\n",
              "            + ' to learn more about interactive tables.';\n",
              "          element.innerHTML = '';\n",
              "          dataTable['output_type'] = 'display_data';\n",
              "          await google.colab.output.renderOutput(dataTable, element);\n",
              "          const docLink = document.createElement('div');\n",
              "          docLink.innerHTML = docLinkHtml;\n",
              "          element.appendChild(docLink);\n",
              "        }\n",
              "      </script>\n",
              "    </div>\n",
              "  </div>\n",
              "  "
            ]
          },
          "metadata": {},
          "execution_count": 70
        }
      ]
    },
    {
      "cell_type": "code",
      "source": [
        "data = df.dropna()\n",
        "data.head()"
      ],
      "metadata": {
        "colab": {
          "base_uri": "https://localhost:8080/",
          "height": 206
        },
        "id": "Cx_9tIZyfdKe",
        "outputId": "1428a7bb-5f54-4464-c8d9-470634d18f4b"
      },
      "execution_count": 71,
      "outputs": [
        {
          "output_type": "execute_result",
          "data": {
            "text/plain": [
              "   Institute ID                                               Name  TLR (100)  \\\n",
              "0   IR-O-U-0220                        Indian Institute of Science      82.08   \n",
              "3   IR-O-U-0109                        Jawaharlal Nehru University      71.95   \n",
              "6   IR-O-U-0108  Jamia Millia Islamia, New DelhiMore DetailsClo...      68.16   \n",
              "9   IR-O-U-0575  Jadavpur UniversityMore DetailsClose |  | TLR ...      63.57   \n",
              "12  IR-O-U-0436  Amrita Vishwa VidyapeethamMore DetailsClose | ...      69.80   \n",
              "\n",
              "    RPC (100)  GO (100)  OI (100)  PERCEPTION (100)        City        State  \\\n",
              "0       87.45     84.80     57.46            100.00   Bengaluru    Karnataka   \n",
              "3       45.55     95.27     70.27             71.43   New Delhi        Delhi   \n",
              "6       47.38     92.46     81.14             46.50   New Delhi        Delhi   \n",
              "9       53.73     90.10     56.86             64.67     Kolkata  West Bengal   \n",
              "12      50.06     74.09     69.53             56.66  Coimbatore   Tamil Nadu   \n",
              "\n",
              "    Score  Rank  \n",
              "0   83.57   1.0  \n",
              "3   68.47   2.0  \n",
              "6   65.91   3.0  \n",
              "9   65.37   4.0  \n",
              "12  63.40   5.0  "
            ],
            "text/html": [
              "\n",
              "  <div id=\"df-e66f1af1-3902-4634-a339-ef2ee43915a2\">\n",
              "    <div class=\"colab-df-container\">\n",
              "      <div>\n",
              "<style scoped>\n",
              "    .dataframe tbody tr th:only-of-type {\n",
              "        vertical-align: middle;\n",
              "    }\n",
              "\n",
              "    .dataframe tbody tr th {\n",
              "        vertical-align: top;\n",
              "    }\n",
              "\n",
              "    .dataframe thead th {\n",
              "        text-align: right;\n",
              "    }\n",
              "</style>\n",
              "<table border=\"1\" class=\"dataframe\">\n",
              "  <thead>\n",
              "    <tr style=\"text-align: right;\">\n",
              "      <th></th>\n",
              "      <th>Institute ID</th>\n",
              "      <th>Name</th>\n",
              "      <th>TLR (100)</th>\n",
              "      <th>RPC (100)</th>\n",
              "      <th>GO (100)</th>\n",
              "      <th>OI (100)</th>\n",
              "      <th>PERCEPTION (100)</th>\n",
              "      <th>City</th>\n",
              "      <th>State</th>\n",
              "      <th>Score</th>\n",
              "      <th>Rank</th>\n",
              "    </tr>\n",
              "  </thead>\n",
              "  <tbody>\n",
              "    <tr>\n",
              "      <th>0</th>\n",
              "      <td>IR-O-U-0220</td>\n",
              "      <td>Indian Institute of Science</td>\n",
              "      <td>82.08</td>\n",
              "      <td>87.45</td>\n",
              "      <td>84.80</td>\n",
              "      <td>57.46</td>\n",
              "      <td>100.00</td>\n",
              "      <td>Bengaluru</td>\n",
              "      <td>Karnataka</td>\n",
              "      <td>83.57</td>\n",
              "      <td>1.0</td>\n",
              "    </tr>\n",
              "    <tr>\n",
              "      <th>3</th>\n",
              "      <td>IR-O-U-0109</td>\n",
              "      <td>Jawaharlal Nehru University</td>\n",
              "      <td>71.95</td>\n",
              "      <td>45.55</td>\n",
              "      <td>95.27</td>\n",
              "      <td>70.27</td>\n",
              "      <td>71.43</td>\n",
              "      <td>New Delhi</td>\n",
              "      <td>Delhi</td>\n",
              "      <td>68.47</td>\n",
              "      <td>2.0</td>\n",
              "    </tr>\n",
              "    <tr>\n",
              "      <th>6</th>\n",
              "      <td>IR-O-U-0108</td>\n",
              "      <td>Jamia Millia Islamia, New DelhiMore DetailsClo...</td>\n",
              "      <td>68.16</td>\n",
              "      <td>47.38</td>\n",
              "      <td>92.46</td>\n",
              "      <td>81.14</td>\n",
              "      <td>46.50</td>\n",
              "      <td>New Delhi</td>\n",
              "      <td>Delhi</td>\n",
              "      <td>65.91</td>\n",
              "      <td>3.0</td>\n",
              "    </tr>\n",
              "    <tr>\n",
              "      <th>9</th>\n",
              "      <td>IR-O-U-0575</td>\n",
              "      <td>Jadavpur UniversityMore DetailsClose |  | TLR ...</td>\n",
              "      <td>63.57</td>\n",
              "      <td>53.73</td>\n",
              "      <td>90.10</td>\n",
              "      <td>56.86</td>\n",
              "      <td>64.67</td>\n",
              "      <td>Kolkata</td>\n",
              "      <td>West Bengal</td>\n",
              "      <td>65.37</td>\n",
              "      <td>4.0</td>\n",
              "    </tr>\n",
              "    <tr>\n",
              "      <th>12</th>\n",
              "      <td>IR-O-U-0436</td>\n",
              "      <td>Amrita Vishwa VidyapeethamMore DetailsClose | ...</td>\n",
              "      <td>69.80</td>\n",
              "      <td>50.06</td>\n",
              "      <td>74.09</td>\n",
              "      <td>69.53</td>\n",
              "      <td>56.66</td>\n",
              "      <td>Coimbatore</td>\n",
              "      <td>Tamil Nadu</td>\n",
              "      <td>63.40</td>\n",
              "      <td>5.0</td>\n",
              "    </tr>\n",
              "  </tbody>\n",
              "</table>\n",
              "</div>\n",
              "      <button class=\"colab-df-convert\" onclick=\"convertToInteractive('df-e66f1af1-3902-4634-a339-ef2ee43915a2')\"\n",
              "              title=\"Convert this dataframe to an interactive table.\"\n",
              "              style=\"display:none;\">\n",
              "        \n",
              "  <svg xmlns=\"http://www.w3.org/2000/svg\" height=\"24px\"viewBox=\"0 0 24 24\"\n",
              "       width=\"24px\">\n",
              "    <path d=\"M0 0h24v24H0V0z\" fill=\"none\"/>\n",
              "    <path d=\"M18.56 5.44l.94 2.06.94-2.06 2.06-.94-2.06-.94-.94-2.06-.94 2.06-2.06.94zm-11 1L8.5 8.5l.94-2.06 2.06-.94-2.06-.94L8.5 2.5l-.94 2.06-2.06.94zm10 10l.94 2.06.94-2.06 2.06-.94-2.06-.94-.94-2.06-.94 2.06-2.06.94z\"/><path d=\"M17.41 7.96l-1.37-1.37c-.4-.4-.92-.59-1.43-.59-.52 0-1.04.2-1.43.59L10.3 9.45l-7.72 7.72c-.78.78-.78 2.05 0 2.83L4 21.41c.39.39.9.59 1.41.59.51 0 1.02-.2 1.41-.59l7.78-7.78 2.81-2.81c.8-.78.8-2.07 0-2.86zM5.41 20L4 18.59l7.72-7.72 1.47 1.35L5.41 20z\"/>\n",
              "  </svg>\n",
              "      </button>\n",
              "      \n",
              "  <style>\n",
              "    .colab-df-container {\n",
              "      display:flex;\n",
              "      flex-wrap:wrap;\n",
              "      gap: 12px;\n",
              "    }\n",
              "\n",
              "    .colab-df-convert {\n",
              "      background-color: #E8F0FE;\n",
              "      border: none;\n",
              "      border-radius: 50%;\n",
              "      cursor: pointer;\n",
              "      display: none;\n",
              "      fill: #1967D2;\n",
              "      height: 32px;\n",
              "      padding: 0 0 0 0;\n",
              "      width: 32px;\n",
              "    }\n",
              "\n",
              "    .colab-df-convert:hover {\n",
              "      background-color: #E2EBFA;\n",
              "      box-shadow: 0px 1px 2px rgba(60, 64, 67, 0.3), 0px 1px 3px 1px rgba(60, 64, 67, 0.15);\n",
              "      fill: #174EA6;\n",
              "    }\n",
              "\n",
              "    [theme=dark] .colab-df-convert {\n",
              "      background-color: #3B4455;\n",
              "      fill: #D2E3FC;\n",
              "    }\n",
              "\n",
              "    [theme=dark] .colab-df-convert:hover {\n",
              "      background-color: #434B5C;\n",
              "      box-shadow: 0px 1px 3px 1px rgba(0, 0, 0, 0.15);\n",
              "      filter: drop-shadow(0px 1px 2px rgba(0, 0, 0, 0.3));\n",
              "      fill: #FFFFFF;\n",
              "    }\n",
              "  </style>\n",
              "\n",
              "      <script>\n",
              "        const buttonEl =\n",
              "          document.querySelector('#df-e66f1af1-3902-4634-a339-ef2ee43915a2 button.colab-df-convert');\n",
              "        buttonEl.style.display =\n",
              "          google.colab.kernel.accessAllowed ? 'block' : 'none';\n",
              "\n",
              "        async function convertToInteractive(key) {\n",
              "          const element = document.querySelector('#df-e66f1af1-3902-4634-a339-ef2ee43915a2');\n",
              "          const dataTable =\n",
              "            await google.colab.kernel.invokeFunction('convertToInteractive',\n",
              "                                                     [key], {});\n",
              "          if (!dataTable) return;\n",
              "\n",
              "          const docLinkHtml = 'Like what you see? Visit the ' +\n",
              "            '<a target=\"_blank\" href=https://colab.research.google.com/notebooks/data_table.ipynb>data table notebook</a>'\n",
              "            + ' to learn more about interactive tables.';\n",
              "          element.innerHTML = '';\n",
              "          dataTable['output_type'] = 'display_data';\n",
              "          await google.colab.output.renderOutput(dataTable, element);\n",
              "          const docLink = document.createElement('div');\n",
              "          docLink.innerHTML = docLinkHtml;\n",
              "          element.appendChild(docLink);\n",
              "        }\n",
              "      </script>\n",
              "    </div>\n",
              "  </div>\n",
              "  "
            ]
          },
          "metadata": {},
          "execution_count": 71
        }
      ]
    },
    {
      "cell_type": "code",
      "source": [
        "name=data['Name']\n",
        "name"
      ],
      "metadata": {
        "colab": {
          "base_uri": "https://localhost:8080/"
        },
        "id": "Trg3YNGU0MxR",
        "outputId": "5c1027f4-ae53-4e1e-e937-128f61768f6f"
      },
      "execution_count": 72,
      "outputs": [
        {
          "output_type": "execute_result",
          "data": {
            "text/plain": [
              "0                            Indian Institute of Science\n",
              "3                            Jawaharlal Nehru University\n",
              "6      Jamia Millia Islamia, New DelhiMore DetailsClo...\n",
              "9      Jadavpur UniversityMore DetailsClose |  | TLR ...\n",
              "12     Amrita Vishwa VidyapeethamMore DetailsClose | ...\n",
              "                             ...                        \n",
              "285    Shoolini University of Biotechnology and Manag...\n",
              "288    Yenepoya UniversityMore DetailsClose |  | TLR ...\n",
              "291    Visva BharatiMore DetailsClose |  | TLR (100)R...\n",
              "294    Birla Institute of TechnologyMore DetailsClose...\n",
              "297    Dr. M. G. R. Educational and Research Institut...\n",
              "Name: Name, Length: 100, dtype: object"
            ]
          },
          "metadata": {},
          "execution_count": 72
        }
      ]
    },
    {
      "cell_type": "code",
      "source": [
        "university_names = list()\n",
        "for i in name:\n",
        "  university_names.append(i.split('More')[0])\n",
        "  # print(university_names)\n",
        "university_names"
      ],
      "metadata": {
        "colab": {
          "base_uri": "https://localhost:8080/"
        },
        "id": "tKdkaweu0tfW",
        "outputId": "8e29d46f-62ea-4f28-be6f-dc79cd32edaf"
      },
      "execution_count": 73,
      "outputs": [
        {
          "output_type": "execute_result",
          "data": {
            "text/plain": [
              "['Indian Institute of Science',\n",
              " 'Jawaharlal Nehru University',\n",
              " 'Jamia Millia Islamia, New Delhi',\n",
              " 'Jadavpur University',\n",
              " 'Amrita Vishwa Vidyapeetham',\n",
              " 'Banaras Hindu University',\n",
              " 'Manipal Academy of Higher Education, Manipal',\n",
              " 'Calcutta University',\n",
              " 'Vellore Institute of Technology',\n",
              " 'University of Hyderabad',\n",
              " 'Aligarh Muslim University',\n",
              " 'Savitribai Phule Pune University',\n",
              " 'University of Delhi',\n",
              " 'Institute of Chemical Technology',\n",
              " 'Bharathiar University',\n",
              " 'Siksha `O` Anusandhan',\n",
              " 'Homi Bhabha National Institute',\n",
              " 'Birla Institute of Technology & Science - Pilani',\n",
              " 'S.R.M. Institute of Science and Technology',\n",
              " 'Kalinga Institute of Industrial Technology',\n",
              " 'Anna University',\n",
              " 'Osmania University',\n",
              " 'Amity University',\n",
              " 'Shanmugha Arts Science Technology & Research Academy',\n",
              " 'Panjab University',\n",
              " 'Saveetha Institute of Medical and Technical Sciences',\n",
              " 'Koneru Lakshmaiah Education Foundation University (K L College of Engineering)',\n",
              " 'Alagappa University',\n",
              " 'Chandigarh University',\n",
              " 'Mahatma Gandhi University, Kottayam',\n",
              " 'Thapar Institute of Engineering and Technology',\n",
              " 'Symbiosis International',\n",
              " 'Mysore University',\n",
              " 'JSS Academy of Higher Education and Research',\n",
              " 'Kalasalingam Academy of Research and Education',\n",
              " 'Andhra University, Visakhapatnam',\n",
              " 'Gauhati University',\n",
              " 'Delhi Technological University',\n",
              " 'University of Madras',\n",
              " 'Kerala University',\n",
              " 'Cochin University of Science and Technology',\n",
              " 'Dr. D. Y. Patil Vidyapeeth',\n",
              " 'Sathyabama Institute of Science and Technology',\n",
              " 'Guru Nanak Dev University',\n",
              " 'Mumbai University',\n",
              " 'Jamia Hamdard',\n",
              " 'Lovely Professional University',\n",
              " 'Sri Ramachandra Institute of Higher Education and Research',\n",
              " 'Banasthali Vidyapith',\n",
              " 'King George`s Medical University',\n",
              " 'SVKM`s Narsee Monjee Institute of Management Studies',\n",
              " 'Madurai Kamaraj University',\n",
              " 'University of Kashmir',\n",
              " 'Datta Meghe Institute of Medical Sciences',\n",
              " 'Babasheb Bhimrao Ambedkar University',\n",
              " 'University of Jammu',\n",
              " 'Bharathidasan University',\n",
              " 'Gujarat University',\n",
              " 'Tezpur University',\n",
              " 'Tata Institute of Social Sciences',\n",
              " 'Shiv Nadar University',\n",
              " 'Bharath Institute of Higher Education & Research',\n",
              " 'Periyar University',\n",
              " 'Bangalore University',\n",
              " 'University of Petroleum and Energy Studies',\n",
              " 'North Eastern Hill University',\n",
              " 'Sri Venkateswara University',\n",
              " 'Pondicherry University',\n",
              " 'Calicut University, Thenhipalem',\n",
              " 'Sri Balaji Vidyapeeth Mahatma Gandhi Medical College Campus',\n",
              " 'Christ University',\n",
              " 'Visvesvaraya Technological University',\n",
              " 'Krishna Institute of Medical Sciences Deemed University, Karad',\n",
              " 'Graphic Era University',\n",
              " 'NITTE',\n",
              " 'Bharati Vidyapeeth',\n",
              " 'Guru Gobind Singh Indraprastha University',\n",
              " 'Mizoram University',\n",
              " 'Jain University, Bangalore',\n",
              " 'Manonmaniam Sundaranar University, Tirunelveli',\n",
              " 'Padmashree Dr. D. Y. Patil Vidyapeeth, Mumbai',\n",
              " 'Central University of Punjab',\n",
              " 'Dr. Babasaheb Ambedkar Marathwada University, Aurangabad',\n",
              " 'Avinashilingam Institute for Home Science & Higher Education for Women',\n",
              " 'Central University of Tamil Nadu',\n",
              " 'Kuvempu University',\n",
              " 'The University of Burdwan',\n",
              " 'Ashoka University',\n",
              " 'KLE Academy of Higher Education and Research',\n",
              " 'Utkal University',\n",
              " 'Maharishi Markandeshwar',\n",
              " 'Gandhi Institute of Technology and Management ',\n",
              " 'Chettinad Academy of Research and Education',\n",
              " 'Maharshi Dayanand University',\n",
              " \"Vignan's Foundation for Science, Technology and Research\",\n",
              " 'Shoolini University of Biotechnology and Management Sciences',\n",
              " 'Yenepoya University',\n",
              " 'Visva Bharati',\n",
              " 'Birla Institute of Technology',\n",
              " 'Dr. M. G. R. Educational and Research Institute']"
            ]
          },
          "metadata": {},
          "execution_count": 73
        }
      ]
    },
    {
      "cell_type": "code",
      "source": [
        "# data['Name'] = pd.Series(university_names)\n",
        "data = data.drop(['Name'],axis='columns')"
      ],
      "metadata": {
        "id": "f1pg6OWX4Wlo"
      },
      "execution_count": 74,
      "outputs": []
    },
    {
      "cell_type": "code",
      "source": [
        "data['Name'] = university_names"
      ],
      "metadata": {
        "id": "ZcbH3Fe19EXD"
      },
      "execution_count": 75,
      "outputs": []
    },
    {
      "cell_type": "code",
      "source": [
        "data"
      ],
      "metadata": {
        "colab": {
          "base_uri": "https://localhost:8080/",
          "height": 468
        },
        "id": "mp2m_5u19GJ8",
        "outputId": "9f9474bd-282e-4edd-eaf2-718b0ecd01be"
      },
      "execution_count": 76,
      "outputs": [
        {
          "output_type": "execute_result",
          "data": {
            "text/plain": [
              "    Institute ID  TLR (100)  RPC (100)  GO (100)  OI (100)  PERCEPTION (100)  \\\n",
              "0    IR-O-U-0220      82.08      87.45     84.80     57.46            100.00   \n",
              "3    IR-O-U-0109      71.95      45.55     95.27     70.27             71.43   \n",
              "6    IR-O-U-0108      68.16      47.38     92.46     81.14             46.50   \n",
              "9    IR-O-U-0575      63.57      53.73     90.10     56.86             64.67   \n",
              "12   IR-O-U-0436      69.80      50.06     74.09     69.53             56.66   \n",
              "..           ...        ...        ...       ...       ...               ...   \n",
              "285  IR-O-U-0190      38.80      28.11     68.66     58.25             15.71   \n",
              "288  IR-O-U-0250      61.19      11.89     49.62     71.14             20.65   \n",
              "291  IR-O-U-0589      44.85      24.43     76.87     33.44             14.65   \n",
              "294  IR-O-U-0202      49.52      27.74     56.39     49.86             12.40   \n",
              "297  IR-O-U-0461      54.35      12.89     57.40     63.35             24.00   \n",
              "\n",
              "             City             State  Score   Rank  \\\n",
              "0       Bengaluru         Karnataka  83.57    1.0   \n",
              "3       New Delhi             Delhi  68.47    2.0   \n",
              "6       New Delhi             Delhi  65.91    3.0   \n",
              "9         Kolkata       West Bengal  65.37    4.0   \n",
              "12     Coimbatore        Tamil Nadu  63.40    5.0   \n",
              "..            ...               ...    ...    ...   \n",
              "285         Solan  Himachal Pradesh  41.19   96.0   \n",
              "288     Mangaluru         Karnataka  41.03   97.0   \n",
              "291  Santiniketan       West Bengal  40.96   98.0   \n",
              "294        Ranchi         Jharkhand  40.69   99.0   \n",
              "297       Chennai        Tamil Nadu  40.39  100.0   \n",
              "\n",
              "                                                  Name  \n",
              "0                          Indian Institute of Science  \n",
              "3                          Jawaharlal Nehru University  \n",
              "6                      Jamia Millia Islamia, New Delhi  \n",
              "9                                  Jadavpur University  \n",
              "12                          Amrita Vishwa Vidyapeetham  \n",
              "..                                                 ...  \n",
              "285  Shoolini University of Biotechnology and Manag...  \n",
              "288                                Yenepoya University  \n",
              "291                                      Visva Bharati  \n",
              "294                      Birla Institute of Technology  \n",
              "297    Dr. M. G. R. Educational and Research Institute  \n",
              "\n",
              "[100 rows x 11 columns]"
            ],
            "text/html": [
              "\n",
              "  <div id=\"df-779689e7-ac56-4801-842a-bdb31b2de257\">\n",
              "    <div class=\"colab-df-container\">\n",
              "      <div>\n",
              "<style scoped>\n",
              "    .dataframe tbody tr th:only-of-type {\n",
              "        vertical-align: middle;\n",
              "    }\n",
              "\n",
              "    .dataframe tbody tr th {\n",
              "        vertical-align: top;\n",
              "    }\n",
              "\n",
              "    .dataframe thead th {\n",
              "        text-align: right;\n",
              "    }\n",
              "</style>\n",
              "<table border=\"1\" class=\"dataframe\">\n",
              "  <thead>\n",
              "    <tr style=\"text-align: right;\">\n",
              "      <th></th>\n",
              "      <th>Institute ID</th>\n",
              "      <th>TLR (100)</th>\n",
              "      <th>RPC (100)</th>\n",
              "      <th>GO (100)</th>\n",
              "      <th>OI (100)</th>\n",
              "      <th>PERCEPTION (100)</th>\n",
              "      <th>City</th>\n",
              "      <th>State</th>\n",
              "      <th>Score</th>\n",
              "      <th>Rank</th>\n",
              "      <th>Name</th>\n",
              "    </tr>\n",
              "  </thead>\n",
              "  <tbody>\n",
              "    <tr>\n",
              "      <th>0</th>\n",
              "      <td>IR-O-U-0220</td>\n",
              "      <td>82.08</td>\n",
              "      <td>87.45</td>\n",
              "      <td>84.80</td>\n",
              "      <td>57.46</td>\n",
              "      <td>100.00</td>\n",
              "      <td>Bengaluru</td>\n",
              "      <td>Karnataka</td>\n",
              "      <td>83.57</td>\n",
              "      <td>1.0</td>\n",
              "      <td>Indian Institute of Science</td>\n",
              "    </tr>\n",
              "    <tr>\n",
              "      <th>3</th>\n",
              "      <td>IR-O-U-0109</td>\n",
              "      <td>71.95</td>\n",
              "      <td>45.55</td>\n",
              "      <td>95.27</td>\n",
              "      <td>70.27</td>\n",
              "      <td>71.43</td>\n",
              "      <td>New Delhi</td>\n",
              "      <td>Delhi</td>\n",
              "      <td>68.47</td>\n",
              "      <td>2.0</td>\n",
              "      <td>Jawaharlal Nehru University</td>\n",
              "    </tr>\n",
              "    <tr>\n",
              "      <th>6</th>\n",
              "      <td>IR-O-U-0108</td>\n",
              "      <td>68.16</td>\n",
              "      <td>47.38</td>\n",
              "      <td>92.46</td>\n",
              "      <td>81.14</td>\n",
              "      <td>46.50</td>\n",
              "      <td>New Delhi</td>\n",
              "      <td>Delhi</td>\n",
              "      <td>65.91</td>\n",
              "      <td>3.0</td>\n",
              "      <td>Jamia Millia Islamia, New Delhi</td>\n",
              "    </tr>\n",
              "    <tr>\n",
              "      <th>9</th>\n",
              "      <td>IR-O-U-0575</td>\n",
              "      <td>63.57</td>\n",
              "      <td>53.73</td>\n",
              "      <td>90.10</td>\n",
              "      <td>56.86</td>\n",
              "      <td>64.67</td>\n",
              "      <td>Kolkata</td>\n",
              "      <td>West Bengal</td>\n",
              "      <td>65.37</td>\n",
              "      <td>4.0</td>\n",
              "      <td>Jadavpur University</td>\n",
              "    </tr>\n",
              "    <tr>\n",
              "      <th>12</th>\n",
              "      <td>IR-O-U-0436</td>\n",
              "      <td>69.80</td>\n",
              "      <td>50.06</td>\n",
              "      <td>74.09</td>\n",
              "      <td>69.53</td>\n",
              "      <td>56.66</td>\n",
              "      <td>Coimbatore</td>\n",
              "      <td>Tamil Nadu</td>\n",
              "      <td>63.40</td>\n",
              "      <td>5.0</td>\n",
              "      <td>Amrita Vishwa Vidyapeetham</td>\n",
              "    </tr>\n",
              "    <tr>\n",
              "      <th>...</th>\n",
              "      <td>...</td>\n",
              "      <td>...</td>\n",
              "      <td>...</td>\n",
              "      <td>...</td>\n",
              "      <td>...</td>\n",
              "      <td>...</td>\n",
              "      <td>...</td>\n",
              "      <td>...</td>\n",
              "      <td>...</td>\n",
              "      <td>...</td>\n",
              "      <td>...</td>\n",
              "    </tr>\n",
              "    <tr>\n",
              "      <th>285</th>\n",
              "      <td>IR-O-U-0190</td>\n",
              "      <td>38.80</td>\n",
              "      <td>28.11</td>\n",
              "      <td>68.66</td>\n",
              "      <td>58.25</td>\n",
              "      <td>15.71</td>\n",
              "      <td>Solan</td>\n",
              "      <td>Himachal Pradesh</td>\n",
              "      <td>41.19</td>\n",
              "      <td>96.0</td>\n",
              "      <td>Shoolini University of Biotechnology and Manag...</td>\n",
              "    </tr>\n",
              "    <tr>\n",
              "      <th>288</th>\n",
              "      <td>IR-O-U-0250</td>\n",
              "      <td>61.19</td>\n",
              "      <td>11.89</td>\n",
              "      <td>49.62</td>\n",
              "      <td>71.14</td>\n",
              "      <td>20.65</td>\n",
              "      <td>Mangaluru</td>\n",
              "      <td>Karnataka</td>\n",
              "      <td>41.03</td>\n",
              "      <td>97.0</td>\n",
              "      <td>Yenepoya University</td>\n",
              "    </tr>\n",
              "    <tr>\n",
              "      <th>291</th>\n",
              "      <td>IR-O-U-0589</td>\n",
              "      <td>44.85</td>\n",
              "      <td>24.43</td>\n",
              "      <td>76.87</td>\n",
              "      <td>33.44</td>\n",
              "      <td>14.65</td>\n",
              "      <td>Santiniketan</td>\n",
              "      <td>West Bengal</td>\n",
              "      <td>40.96</td>\n",
              "      <td>98.0</td>\n",
              "      <td>Visva Bharati</td>\n",
              "    </tr>\n",
              "    <tr>\n",
              "      <th>294</th>\n",
              "      <td>IR-O-U-0202</td>\n",
              "      <td>49.52</td>\n",
              "      <td>27.74</td>\n",
              "      <td>56.39</td>\n",
              "      <td>49.86</td>\n",
              "      <td>12.40</td>\n",
              "      <td>Ranchi</td>\n",
              "      <td>Jharkhand</td>\n",
              "      <td>40.69</td>\n",
              "      <td>99.0</td>\n",
              "      <td>Birla Institute of Technology</td>\n",
              "    </tr>\n",
              "    <tr>\n",
              "      <th>297</th>\n",
              "      <td>IR-O-U-0461</td>\n",
              "      <td>54.35</td>\n",
              "      <td>12.89</td>\n",
              "      <td>57.40</td>\n",
              "      <td>63.35</td>\n",
              "      <td>24.00</td>\n",
              "      <td>Chennai</td>\n",
              "      <td>Tamil Nadu</td>\n",
              "      <td>40.39</td>\n",
              "      <td>100.0</td>\n",
              "      <td>Dr. M. G. R. Educational and Research Institute</td>\n",
              "    </tr>\n",
              "  </tbody>\n",
              "</table>\n",
              "<p>100 rows × 11 columns</p>\n",
              "</div>\n",
              "      <button class=\"colab-df-convert\" onclick=\"convertToInteractive('df-779689e7-ac56-4801-842a-bdb31b2de257')\"\n",
              "              title=\"Convert this dataframe to an interactive table.\"\n",
              "              style=\"display:none;\">\n",
              "        \n",
              "  <svg xmlns=\"http://www.w3.org/2000/svg\" height=\"24px\"viewBox=\"0 0 24 24\"\n",
              "       width=\"24px\">\n",
              "    <path d=\"M0 0h24v24H0V0z\" fill=\"none\"/>\n",
              "    <path d=\"M18.56 5.44l.94 2.06.94-2.06 2.06-.94-2.06-.94-.94-2.06-.94 2.06-2.06.94zm-11 1L8.5 8.5l.94-2.06 2.06-.94-2.06-.94L8.5 2.5l-.94 2.06-2.06.94zm10 10l.94 2.06.94-2.06 2.06-.94-2.06-.94-.94-2.06-.94 2.06-2.06.94z\"/><path d=\"M17.41 7.96l-1.37-1.37c-.4-.4-.92-.59-1.43-.59-.52 0-1.04.2-1.43.59L10.3 9.45l-7.72 7.72c-.78.78-.78 2.05 0 2.83L4 21.41c.39.39.9.59 1.41.59.51 0 1.02-.2 1.41-.59l7.78-7.78 2.81-2.81c.8-.78.8-2.07 0-2.86zM5.41 20L4 18.59l7.72-7.72 1.47 1.35L5.41 20z\"/>\n",
              "  </svg>\n",
              "      </button>\n",
              "      \n",
              "  <style>\n",
              "    .colab-df-container {\n",
              "      display:flex;\n",
              "      flex-wrap:wrap;\n",
              "      gap: 12px;\n",
              "    }\n",
              "\n",
              "    .colab-df-convert {\n",
              "      background-color: #E8F0FE;\n",
              "      border: none;\n",
              "      border-radius: 50%;\n",
              "      cursor: pointer;\n",
              "      display: none;\n",
              "      fill: #1967D2;\n",
              "      height: 32px;\n",
              "      padding: 0 0 0 0;\n",
              "      width: 32px;\n",
              "    }\n",
              "\n",
              "    .colab-df-convert:hover {\n",
              "      background-color: #E2EBFA;\n",
              "      box-shadow: 0px 1px 2px rgba(60, 64, 67, 0.3), 0px 1px 3px 1px rgba(60, 64, 67, 0.15);\n",
              "      fill: #174EA6;\n",
              "    }\n",
              "\n",
              "    [theme=dark] .colab-df-convert {\n",
              "      background-color: #3B4455;\n",
              "      fill: #D2E3FC;\n",
              "    }\n",
              "\n",
              "    [theme=dark] .colab-df-convert:hover {\n",
              "      background-color: #434B5C;\n",
              "      box-shadow: 0px 1px 3px 1px rgba(0, 0, 0, 0.15);\n",
              "      filter: drop-shadow(0px 1px 2px rgba(0, 0, 0, 0.3));\n",
              "      fill: #FFFFFF;\n",
              "    }\n",
              "  </style>\n",
              "\n",
              "      <script>\n",
              "        const buttonEl =\n",
              "          document.querySelector('#df-779689e7-ac56-4801-842a-bdb31b2de257 button.colab-df-convert');\n",
              "        buttonEl.style.display =\n",
              "          google.colab.kernel.accessAllowed ? 'block' : 'none';\n",
              "\n",
              "        async function convertToInteractive(key) {\n",
              "          const element = document.querySelector('#df-779689e7-ac56-4801-842a-bdb31b2de257');\n",
              "          const dataTable =\n",
              "            await google.colab.kernel.invokeFunction('convertToInteractive',\n",
              "                                                     [key], {});\n",
              "          if (!dataTable) return;\n",
              "\n",
              "          const docLinkHtml = 'Like what you see? Visit the ' +\n",
              "            '<a target=\"_blank\" href=https://colab.research.google.com/notebooks/data_table.ipynb>data table notebook</a>'\n",
              "            + ' to learn more about interactive tables.';\n",
              "          element.innerHTML = '';\n",
              "          dataTable['output_type'] = 'display_data';\n",
              "          await google.colab.output.renderOutput(dataTable, element);\n",
              "          const docLink = document.createElement('div');\n",
              "          docLink.innerHTML = docLinkHtml;\n",
              "          element.appendChild(docLink);\n",
              "        }\n",
              "      </script>\n",
              "    </div>\n",
              "  </div>\n",
              "  "
            ]
          },
          "metadata": {},
          "execution_count": 76
        }
      ]
    },
    {
      "cell_type": "markdown",
      "source": [
        "**Quick Vizualization**"
      ],
      "metadata": {
        "id": "d2BPOFqZ0OAc"
      }
    },
    {
      "cell_type": "code",
      "source": [
        "import matplotlib.pyplot as plt"
      ],
      "metadata": {
        "id": "y3wQr_DVsWcu"
      },
      "execution_count": 77,
      "outputs": []
    },
    {
      "cell_type": "code",
      "source": [
        "fig = plt.figure()\n",
        "fig.set_figwidth(8)\n",
        "fig.set_figheight(6)\n",
        "plt.plot(data['Score'],data['Rank'])\n",
        "plt.xlabel('Score')\n",
        "plt.ylabel('Rank')"
      ],
      "metadata": {
        "colab": {
          "base_uri": "https://localhost:8080/",
          "height": 406
        },
        "id": "h-J6Sx8Zsbcl",
        "outputId": "750f9458-47d0-4889-86aa-2bd9d1ca80c7"
      },
      "execution_count": 78,
      "outputs": [
        {
          "output_type": "execute_result",
          "data": {
            "text/plain": [
              "Text(0, 0.5, 'Rank')"
            ]
          },
          "metadata": {},
          "execution_count": 78
        },
        {
          "output_type": "display_data",
          "data": {
            "text/plain": [
              "<Figure size 576x432 with 1 Axes>"
            ],
            "image/png": "[encoded data removed]"
          },
          "metadata": {
            "needs_background": "light"
          }
        }
      ]
    },
    {
      "cell_type": "code",
      "source": [
        "data[['Score','Rank']].plot(figsize=(8,6))"
      ],
      "metadata": {
        "colab": {
          "base_uri": "https://localhost:8080/",
          "height": 392
        },
        "id": "oDMnkTWHs51M",
        "outputId": "4fd76d8e-41f7-4f2b-b60a-e19648ec1e4f"
      },
      "execution_count": 79,
      "outputs": [
        {
          "output_type": "execute_result",
          "data": {
            "text/plain": [
              "<matplotlib.axes._subplots.AxesSubplot at 0x7f7902461c40>"
            ]
          },
          "metadata": {},
          "execution_count": 79
        },
        {
          "output_type": "display_data",
          "data": {
            "text/plain": [
              "<Figure size 576x432 with 1 Axes>"
            ],
            "image/png": "[encoded data removed]"
          },
          "metadata": {
            "needs_background": "light"
          }
        }
      ]
    },
    {
      "cell_type": "markdown",
      "source": [
        "**Linear** **Regression**\n",
        "\n",
        "To predict the ranks based on the scores obtained by the universities(under NIRF annual rankings)."
      ],
      "metadata": {
        "id": "F1t44QwZpKt4"
      }
    },
    {
      "cell_type": "code",
      "source": [
        "from sklearn.model_selection import train_test_split\n",
        "from sklearn.linear_model import LinearRegression"
      ],
      "metadata": {
        "id": "bcOxdX_q90kD"
      },
      "execution_count": 80,
      "outputs": []
    },
    {
      "cell_type": "code",
      "source": [
        "df_train, df_test = train_test_split(data,test_size=0.2)"
      ],
      "metadata": {
        "id": "gsg7ajPzl8Mu"
      },
      "execution_count": 81,
      "outputs": []
    },
    {
      "cell_type": "code",
      "source": [
        "df_train.head()"
      ],
      "metadata": {
        "colab": {
          "base_uri": "https://localhost:8080/",
          "height": 206
        },
        "id": "KU7v7MPso4Uf",
        "outputId": "a80825f1-cabd-408a-906e-fd0fbc622143"
      },
      "execution_count": 82,
      "outputs": [
        {
          "output_type": "execute_result",
          "data": {
            "text/plain": [
              "    Institute ID  TLR (100)  RPC (100)  GO (100)  OI (100)  PERCEPTION (100)  \\\n",
              "15   IR-O-U-0500      69.90      43.91     97.74     57.32             37.76   \n",
              "285  IR-O-U-0190      38.80      28.11     68.66     58.25             15.71   \n",
              "39   IR-O-U-0308      59.27      50.58     79.61     54.50             42.91   \n",
              "243  IR-O-U-0372      54.61      19.03     55.28     68.45             26.53   \n",
              "201  IR-O-U-0369      42.84      28.84     73.16     59.69             28.53   \n",
              "\n",
              "           City             State  Score  Rank  \\\n",
              "15     Varanasi     Uttar Pradesh  63.20   6.0   \n",
              "285       Solan  Himachal Pradesh  41.19  96.0   \n",
              "39       Mumbai       Maharashtra  58.61  14.0   \n",
              "243    Bathinda            Punjab  42.64  81.0   \n",
              "201  Puducherry       Pondicherry  44.95  68.0   \n",
              "\n",
              "                                                  Name  \n",
              "15                            Banaras Hindu University  \n",
              "285  Shoolini University of Biotechnology and Manag...  \n",
              "39                    Institute of Chemical Technology  \n",
              "243                       Central University of Punjab  \n",
              "201                             Pondicherry University  "
            ],
            "text/html": [
              "\n",
              "  <div id=\"df-e270552a-b17c-45f2-b4ff-486886f4d2f1\">\n",
              "    <div class=\"colab-df-container\">\n",
              "      <div>\n",
              "<style scoped>\n",
              "    .dataframe tbody tr th:only-of-type {\n",
              "        vertical-align: middle;\n",
              "    }\n",
              "\n",
              "    .dataframe tbody tr th {\n",
              "        vertical-align: top;\n",
              "    }\n",
              "\n",
              "    .dataframe thead th {\n",
              "        text-align: right;\n",
              "    }\n",
              "</style>\n",
              "<table border=\"1\" class=\"dataframe\">\n",
              "  <thead>\n",
              "    <tr style=\"text-align: right;\">\n",
              "      <th></th>\n",
              "      <th>Institute ID</th>\n",
              "      <th>TLR (100)</th>\n",
              "      <th>RPC (100)</th>\n",
              "      <th>GO (100)</th>\n",
              "      <th>OI (100)</th>\n",
              "      <th>PERCEPTION (100)</th>\n",
              "      <th>City</th>\n",
              "      <th>State</th>\n",
              "      <th>Score</th>\n",
              "      <th>Rank</th>\n",
              "      <th>Name</th>\n",
              "    </tr>\n",
              "  </thead>\n",
              "  <tbody>\n",
              "    <tr>\n",
              "      <th>15</th>\n",
              "      <td>IR-O-U-0500</td>\n",
              "      <td>69.90</td>\n",
              "      <td>43.91</td>\n",
              "      <td>97.74</td>\n",
              "      <td>57.32</td>\n",
              "      <td>37.76</td>\n",
              "      <td>Varanasi</td>\n",
              "      <td>Uttar Pradesh</td>\n",
              "      <td>63.20</td>\n",
              "      <td>6.0</td>\n",
              "      <td>Banaras Hindu University</td>\n",
              "    </tr>\n",
              "    <tr>\n",
              "      <th>285</th>\n",
              "      <td>IR-O-U-0190</td>\n",
              "      <td>38.80</td>\n",
              "      <td>28.11</td>\n",
              "      <td>68.66</td>\n",
              "      <td>58.25</td>\n",
              "      <td>15.71</td>\n",
              "      <td>Solan</td>\n",
              "      <td>Himachal Pradesh</td>\n",
              "      <td>41.19</td>\n",
              "      <td>96.0</td>\n",
              "      <td>Shoolini University of Biotechnology and Manag...</td>\n",
              "    </tr>\n",
              "    <tr>\n",
              "      <th>39</th>\n",
              "      <td>IR-O-U-0308</td>\n",
              "      <td>59.27</td>\n",
              "      <td>50.58</td>\n",
              "      <td>79.61</td>\n",
              "      <td>54.50</td>\n",
              "      <td>42.91</td>\n",
              "      <td>Mumbai</td>\n",
              "      <td>Maharashtra</td>\n",
              "      <td>58.61</td>\n",
              "      <td>14.0</td>\n",
              "      <td>Institute of Chemical Technology</td>\n",
              "    </tr>\n",
              "    <tr>\n",
              "      <th>243</th>\n",
              "      <td>IR-O-U-0372</td>\n",
              "      <td>54.61</td>\n",
              "      <td>19.03</td>\n",
              "      <td>55.28</td>\n",
              "      <td>68.45</td>\n",
              "      <td>26.53</td>\n",
              "      <td>Bathinda</td>\n",
              "      <td>Punjab</td>\n",
              "      <td>42.64</td>\n",
              "      <td>81.0</td>\n",
              "      <td>Central University of Punjab</td>\n",
              "    </tr>\n",
              "    <tr>\n",
              "      <th>201</th>\n",
              "      <td>IR-O-U-0369</td>\n",
              "      <td>42.84</td>\n",
              "      <td>28.84</td>\n",
              "      <td>73.16</td>\n",
              "      <td>59.69</td>\n",
              "      <td>28.53</td>\n",
              "      <td>Puducherry</td>\n",
              "      <td>Pondicherry</td>\n",
              "      <td>44.95</td>\n",
              "      <td>68.0</td>\n",
              "      <td>Pondicherry University</td>\n",
              "    </tr>\n",
              "  </tbody>\n",
              "</table>\n",
              "</div>\n",
              "      <button class=\"colab-df-convert\" onclick=\"convertToInteractive('df-e270552a-b17c-45f2-b4ff-486886f4d2f1')\"\n",
              "              title=\"Convert this dataframe to an interactive table.\"\n",
              "              style=\"display:none;\">\n",
              "        \n",
              "  <svg xmlns=\"http://www.w3.org/2000/svg\" height=\"24px\"viewBox=\"0 0 24 24\"\n",
              "       width=\"24px\">\n",
              "    <path d=\"M0 0h24v24H0V0z\" fill=\"none\"/>\n",
              "    <path d=\"M18.56 5.44l.94 2.06.94-2.06 2.06-.94-2.06-.94-.94-2.06-.94 2.06-2.06.94zm-11 1L8.5 8.5l.94-2.06 2.06-.94-2.06-.94L8.5 2.5l-.94 2.06-2.06.94zm10 10l.94 2.06.94-2.06 2.06-.94-2.06-.94-.94-2.06-.94 2.06-2.06.94z\"/><path d=\"M17.41 7.96l-1.37-1.37c-.4-.4-.92-.59-1.43-.59-.52 0-1.04.2-1.43.59L10.3 9.45l-7.72 7.72c-.78.78-.78 2.05 0 2.83L4 21.41c.39.39.9.59 1.41.59.51 0 1.02-.2 1.41-.59l7.78-7.78 2.81-2.81c.8-.78.8-2.07 0-2.86zM5.41 20L4 18.59l7.72-7.72 1.47 1.35L5.41 20z\"/>\n",
              "  </svg>\n",
              "      </button>\n",
              "      \n",
              "  <style>\n",
              "    .colab-df-container {\n",
              "      display:flex;\n",
              "      flex-wrap:wrap;\n",
              "      gap: 12px;\n",
              "    }\n",
              "\n",
              "    .colab-df-convert {\n",
              "      background-color: #E8F0FE;\n",
              "      border: none;\n",
              "      border-radius: 50%;\n",
              "      cursor: pointer;\n",
              "      display: none;\n",
              "      fill: #1967D2;\n",
              "      height: 32px;\n",
              "      padding: 0 0 0 0;\n",
              "      width: 32px;\n",
              "    }\n",
              "\n",
              "    .colab-df-convert:hover {\n",
              "      background-color: #E2EBFA;\n",
              "      box-shadow: 0px 1px 2px rgba(60, 64, 67, 0.3), 0px 1px 3px 1px rgba(60, 64, 67, 0.15);\n",
              "      fill: #174EA6;\n",
              "    }\n",
              "\n",
              "    [theme=dark] .colab-df-convert {\n",
              "      background-color: #3B4455;\n",
              "      fill: #D2E3FC;\n",
              "    }\n",
              "\n",
              "    [theme=dark] .colab-df-convert:hover {\n",
              "      background-color: #434B5C;\n",
              "      box-shadow: 0px 1px 3px 1px rgba(0, 0, 0, 0.15);\n",
              "      filter: drop-shadow(0px 1px 2px rgba(0, 0, 0, 0.3));\n",
              "      fill: #FFFFFF;\n",
              "    }\n",
              "  </style>\n",
              "\n",
              "      <script>\n",
              "        const buttonEl =\n",
              "          document.querySelector('#df-e270552a-b17c-45f2-b4ff-486886f4d2f1 button.colab-df-convert');\n",
              "        buttonEl.style.display =\n",
              "          google.colab.kernel.accessAllowed ? 'block' : 'none';\n",
              "\n",
              "        async function convertToInteractive(key) {\n",
              "          const element = document.querySelector('#df-e270552a-b17c-45f2-b4ff-486886f4d2f1');\n",
              "          const dataTable =\n",
              "            await google.colab.kernel.invokeFunction('convertToInteractive',\n",
              "                                                     [key], {});\n",
              "          if (!dataTable) return;\n",
              "\n",
              "          const docLinkHtml = 'Like what you see? Visit the ' +\n",
              "            '<a target=\"_blank\" href=https://colab.research.google.com/notebooks/data_table.ipynb>data table notebook</a>'\n",
              "            + ' to learn more about interactive tables.';\n",
              "          element.innerHTML = '';\n",
              "          dataTable['output_type'] = 'display_data';\n",
              "          await google.colab.output.renderOutput(dataTable, element);\n",
              "          const docLink = document.createElement('div');\n",
              "          docLink.innerHTML = docLinkHtml;\n",
              "          element.appendChild(docLink);\n",
              "        }\n",
              "      </script>\n",
              "    </div>\n",
              "  </div>\n",
              "  "
            ]
          },
          "metadata": {},
          "execution_count": 82
        }
      ]
    },
    {
      "cell_type": "code",
      "source": [
        "df_test.head()"
      ],
      "metadata": {
        "colab": {
          "base_uri": "https://localhost:8080/",
          "height": 302
        },
        "id": "25SJ-wEjo8h_",
        "outputId": "da80e79b-1109-4626-8315-c5edf1a3e1e7"
      },
      "execution_count": 83,
      "outputs": [
        {
          "output_type": "execute_result",
          "data": {
            "text/plain": [
              "    Institute ID  TLR (100)  RPC (100)  GO (100)  OI (100)  PERCEPTION (100)  \\\n",
              "75   IR-O-I-1441      56.29      43.01     69.46     65.97             21.71   \n",
              "12   IR-O-U-0436      69.80      50.06     74.09     69.53             56.66   \n",
              "276  IR-O-U-0451      63.69       8.60     61.40     61.21             19.54   \n",
              "132  IR-O-U-0318      55.16      22.52     82.54     55.95             35.08   \n",
              "123  IR-O-I-1110      69.78      19.22     64.27     61.30             37.63   \n",
              "\n",
              "                                   City        State  Score  Rank  \\\n",
              "75                              Chennai   Tamil Nadu  52.45  26.0   \n",
              "12                           Coimbatore   Tamil Nadu  63.40   5.0   \n",
              "276  Kelambakkam, Chengalpattu District   Tamil Nadu  42.04  93.0   \n",
              "132                              Mumbai  Maharashtra  48.93  45.0   \n",
              "123                                Pune  Maharashtra  49.43  41.0   \n",
              "\n",
              "                                                  Name  \n",
              "75   Saveetha Institute of Medical and Technical Sc...  \n",
              "12                          Amrita Vishwa Vidyapeetham  \n",
              "276        Chettinad Academy of Research and Education  \n",
              "132                                  Mumbai University  \n",
              "123                         Dr. D. Y. Patil Vidyapeeth  "
            ],
            "text/html": [
              "\n",
              "  <div id=\"df-6f0fe0d3-8864-4845-aacb-879516bb157e\">\n",
              "    <div class=\"colab-df-container\">\n",
              "      <div>\n",
              "<style scoped>\n",
              "    .dataframe tbody tr th:only-of-type {\n",
              "        vertical-align: middle;\n",
              "    }\n",
              "\n",
              "    .dataframe tbody tr th {\n",
              "        vertical-align: top;\n",
              "    }\n",
              "\n",
              "    .dataframe thead th {\n",
              "        text-align: right;\n",
              "    }\n",
              "</style>\n",
              "<table border=\"1\" class=\"dataframe\">\n",
              "  <thead>\n",
              "    <tr style=\"text-align: right;\">\n",
              "      <th></th>\n",
              "      <th>Institute ID</th>\n",
              "      <th>TLR (100)</th>\n",
              "      <th>RPC (100)</th>\n",
              "      <th>GO (100)</th>\n",
              "      <th>OI (100)</th>\n",
              "      <th>PERCEPTION (100)</th>\n",
              "      <th>City</th>\n",
              "      <th>State</th>\n",
              "      <th>Score</th>\n",
              "      <th>Rank</th>\n",
              "      <th>Name</th>\n",
              "    </tr>\n",
              "  </thead>\n",
              "  <tbody>\n",
              "    <tr>\n",
              "      <th>75</th>\n",
              "      <td>IR-O-I-1441</td>\n",
              "      <td>56.29</td>\n",
              "      <td>43.01</td>\n",
              "      <td>69.46</td>\n",
              "      <td>65.97</td>\n",
              "      <td>21.71</td>\n",
              "      <td>Chennai</td>\n",
              "      <td>Tamil Nadu</td>\n",
              "      <td>52.45</td>\n",
              "      <td>26.0</td>\n",
              "      <td>Saveetha Institute of Medical and Technical Sc...</td>\n",
              "    </tr>\n",
              "    <tr>\n",
              "      <th>12</th>\n",
              "      <td>IR-O-U-0436</td>\n",
              "      <td>69.80</td>\n",
              "      <td>50.06</td>\n",
              "      <td>74.09</td>\n",
              "      <td>69.53</td>\n",
              "      <td>56.66</td>\n",
              "      <td>Coimbatore</td>\n",
              "      <td>Tamil Nadu</td>\n",
              "      <td>63.40</td>\n",
              "      <td>5.0</td>\n",
              "      <td>Amrita Vishwa Vidyapeetham</td>\n",
              "    </tr>\n",
              "    <tr>\n",
              "      <th>276</th>\n",
              "      <td>IR-O-U-0451</td>\n",
              "      <td>63.69</td>\n",
              "      <td>8.60</td>\n",
              "      <td>61.40</td>\n",
              "      <td>61.21</td>\n",
              "      <td>19.54</td>\n",
              "      <td>Kelambakkam, Chengalpattu District</td>\n",
              "      <td>Tamil Nadu</td>\n",
              "      <td>42.04</td>\n",
              "      <td>93.0</td>\n",
              "      <td>Chettinad Academy of Research and Education</td>\n",
              "    </tr>\n",
              "    <tr>\n",
              "      <th>132</th>\n",
              "      <td>IR-O-U-0318</td>\n",
              "      <td>55.16</td>\n",
              "      <td>22.52</td>\n",
              "      <td>82.54</td>\n",
              "      <td>55.95</td>\n",
              "      <td>35.08</td>\n",
              "      <td>Mumbai</td>\n",
              "      <td>Maharashtra</td>\n",
              "      <td>48.93</td>\n",
              "      <td>45.0</td>\n",
              "      <td>Mumbai University</td>\n",
              "    </tr>\n",
              "    <tr>\n",
              "      <th>123</th>\n",
              "      <td>IR-O-I-1110</td>\n",
              "      <td>69.78</td>\n",
              "      <td>19.22</td>\n",
              "      <td>64.27</td>\n",
              "      <td>61.30</td>\n",
              "      <td>37.63</td>\n",
              "      <td>Pune</td>\n",
              "      <td>Maharashtra</td>\n",
              "      <td>49.43</td>\n",
              "      <td>41.0</td>\n",
              "      <td>Dr. D. Y. Patil Vidyapeeth</td>\n",
              "    </tr>\n",
              "  </tbody>\n",
              "</table>\n",
              "</div>\n",
              "      <button class=\"colab-df-convert\" onclick=\"convertToInteractive('df-6f0fe0d3-8864-4845-aacb-879516bb157e')\"\n",
              "              title=\"Convert this dataframe to an interactive table.\"\n",
              "              style=\"display:none;\">\n",
              "        \n",
              "  <svg xmlns=\"http://www.w3.org/2000/svg\" height=\"24px\"viewBox=\"0 0 24 24\"\n",
              "       width=\"24px\">\n",
              "    <path d=\"M0 0h24v24H0V0z\" fill=\"none\"/>\n",
              "    <path d=\"M18.56 5.44l.94 2.06.94-2.06 2.06-.94-2.06-.94-.94-2.06-.94 2.06-2.06.94zm-11 1L8.5 8.5l.94-2.06 2.06-.94-2.06-.94L8.5 2.5l-.94 2.06-2.06.94zm10 10l.94 2.06.94-2.06 2.06-.94-2.06-.94-.94-2.06-.94 2.06-2.06.94z\"/><path d=\"M17.41 7.96l-1.37-1.37c-.4-.4-.92-.59-1.43-.59-.52 0-1.04.2-1.43.59L10.3 9.45l-7.72 7.72c-.78.78-.78 2.05 0 2.83L4 21.41c.39.39.9.59 1.41.59.51 0 1.02-.2 1.41-.59l7.78-7.78 2.81-2.81c.8-.78.8-2.07 0-2.86zM5.41 20L4 18.59l7.72-7.72 1.47 1.35L5.41 20z\"/>\n",
              "  </svg>\n",
              "      </button>\n",
              "      \n",
              "  <style>\n",
              "    .colab-df-container {\n",
              "      display:flex;\n",
              "      flex-wrap:wrap;\n",
              "      gap: 12px;\n",
              "    }\n",
              "\n",
              "    .colab-df-convert {\n",
              "      background-color: #E8F0FE;\n",
              "      border: none;\n",
              "      border-radius: 50%;\n",
              "      cursor: pointer;\n",
              "      display: none;\n",
              "      fill: #1967D2;\n",
              "      height: 32px;\n",
              "      padding: 0 0 0 0;\n",
              "      width: 32px;\n",
              "    }\n",
              "\n",
              "    .colab-df-convert:hover {\n",
              "      background-color: #E2EBFA;\n",
              "      box-shadow: 0px 1px 2px rgba(60, 64, 67, 0.3), 0px 1px 3px 1px rgba(60, 64, 67, 0.15);\n",
              "      fill: #174EA6;\n",
              "    }\n",
              "\n",
              "    [theme=dark] .colab-df-convert {\n",
              "      background-color: #3B4455;\n",
              "      fill: #D2E3FC;\n",
              "    }\n",
              "\n",
              "    [theme=dark] .colab-df-convert:hover {\n",
              "      background-color: #434B5C;\n",
              "      box-shadow: 0px 1px 3px 1px rgba(0, 0, 0, 0.15);\n",
              "      filter: drop-shadow(0px 1px 2px rgba(0, 0, 0, 0.3));\n",
              "      fill: #FFFFFF;\n",
              "    }\n",
              "  </style>\n",
              "\n",
              "      <script>\n",
              "        const buttonEl =\n",
              "          document.querySelector('#df-6f0fe0d3-8864-4845-aacb-879516bb157e button.colab-df-convert');\n",
              "        buttonEl.style.display =\n",
              "          google.colab.kernel.accessAllowed ? 'block' : 'none';\n",
              "\n",
              "        async function convertToInteractive(key) {\n",
              "          const element = document.querySelector('#df-6f0fe0d3-8864-4845-aacb-879516bb157e');\n",
              "          const dataTable =\n",
              "            await google.colab.kernel.invokeFunction('convertToInteractive',\n",
              "                                                     [key], {});\n",
              "          if (!dataTable) return;\n",
              "\n",
              "          const docLinkHtml = 'Like what you see? Visit the ' +\n",
              "            '<a target=\"_blank\" href=https://colab.research.google.com/notebooks/data_table.ipynb>data table notebook</a>'\n",
              "            + ' to learn more about interactive tables.';\n",
              "          element.innerHTML = '';\n",
              "          dataTable['output_type'] = 'display_data';\n",
              "          await google.colab.output.renderOutput(dataTable, element);\n",
              "          const docLink = document.createElement('div');\n",
              "          docLink.innerHTML = docLinkHtml;\n",
              "          element.appendChild(docLink);\n",
              "        }\n",
              "      </script>\n",
              "    </div>\n",
              "  </div>\n",
              "  "
            ]
          },
          "metadata": {},
          "execution_count": 83
        }
      ]
    },
    {
      "cell_type": "code",
      "source": [
        "fig = plt.figure()\n",
        "fig.set_figwidth(8)\n",
        "fig.set_figheight(6)\n",
        "plt.xlabel('Score')\n",
        "plt.ylabel('Rank')\n",
        "plt.scatter(df_train['Score'].values,df_train['Rank'].values,color='red')"
      ],
      "metadata": {
        "colab": {
          "base_uri": "https://localhost:8080/",
          "height": 406
        },
        "id": "RgVKiuq4J6hB",
        "outputId": "8228f414-3f24-474e-e318-93c993247186"
      },
      "execution_count": 84,
      "outputs": [
        {
          "output_type": "execute_result",
          "data": {
            "text/plain": [
              "<matplotlib.collections.PathCollection at 0x7f7901d2f8e0>"
            ]
          },
          "metadata": {},
          "execution_count": 84
        },
        {
          "output_type": "display_data",
          "data": {
            "text/plain": [
              "<Figure size 576x432 with 1 Axes>"
            ],
            "image/png": "[encoded data removed]"
          },
          "metadata": {
            "needs_background": "light"
          }
        }
      ]
    },
    {
      "cell_type": "code",
      "source": [
        "mod = LinearRegression()\n",
        "mod.fit(df_train[['Score']].values,df_train.Rank.values)"
      ],
      "metadata": {
        "colab": {
          "base_uri": "https://localhost:8080/"
        },
        "id": "h68WZAx9p6Lg",
        "outputId": "73357f70-62a2-4ffb-cbfb-4d8cae6ba42c"
      },
      "execution_count": 85,
      "outputs": [
        {
          "output_type": "execute_result",
          "data": {
            "text/plain": [
              "LinearRegression()"
            ]
          },
          "metadata": {},
          "execution_count": 85
        }
      ]
    },
    {
      "cell_type": "code",
      "source": [
        "predicted_val = mod.predict(df_test[['Score']].values)"
      ],
      "metadata": {
        "id": "El-QDL5Hrp7-"
      },
      "execution_count": 86,
      "outputs": []
    },
    {
      "cell_type": "code",
      "source": [
        "df_test['Rank']"
      ],
      "metadata": {
        "id": "-vI9ooGlPZZF",
        "colab": {
          "base_uri": "https://localhost:8080/"
        },
        "outputId": "442125bd-5af1-4f9d-8c11-4ccf446cacf7"
      },
      "execution_count": 87,
      "outputs": [
        {
          "output_type": "execute_result",
          "data": {
            "text/plain": [
              "75     26.0\n",
              "12      5.0\n",
              "276    93.0\n",
              "132    45.0\n",
              "123    41.0\n",
              "261    88.0\n",
              "267    88.0\n",
              "225    76.0\n",
              "42     15.0\n",
              "129    44.0\n",
              "45     16.0\n",
              "57     20.0\n",
              "153    52.0\n",
              "72     25.0\n",
              "171    58.0\n",
              "288    97.0\n",
              "273    92.0\n",
              "270    91.0\n",
              "48     17.0\n",
              "282    95.0\n",
              "Name: Rank, dtype: float64"
            ]
          },
          "metadata": {},
          "execution_count": 87
        }
      ]
    },
    {
      "cell_type": "code",
      "source": [
        "predicted_val[predicted_val < 1] = 1\n",
        "predicted_val"
      ],
      "metadata": {
        "colab": {
          "base_uri": "https://localhost:8080/"
        },
        "id": "L7Gn_sb1Rcep",
        "outputId": "02d6b826-821e-4ccc-8b11-92caa7980349"
      },
      "execution_count": 88,
      "outputs": [
        {
          "output_type": "execute_result",
          "data": {
            "text/plain": [
              "array([41.23725143,  5.10044543, 75.59196837, 52.85383199, 51.20374952,\n",
              "       74.83293043, 74.83293043, 70.64172097, 22.09629482, 52.58981879,\n",
              "       24.24140203, 28.79562964, 54.63592105, 40.0821937 , 57.2100497 ,\n",
              "       78.92513495, 75.26195187, 74.86593208, 25.92448615, 76.4170096 ])"
            ]
          },
          "metadata": {},
          "execution_count": 88
        }
      ]
    },
    {
      "cell_type": "code",
      "source": [
        "predicted_val = predicted_val.round(decimals=0, out=None)\n",
        "predicted_val"
      ],
      "metadata": {
        "colab": {
          "base_uri": "https://localhost:8080/"
        },
        "id": "g20kUU6gLL7F",
        "outputId": "ba569c44-3316-4eac-92c0-5eebf92c79ad"
      },
      "execution_count": 89,
      "outputs": [
        {
          "output_type": "execute_result",
          "data": {
            "text/plain": [
              "array([41.,  5., 76., 53., 51., 75., 75., 71., 22., 53., 24., 29., 55.,\n",
              "       40., 57., 79., 75., 75., 26., 76.])"
            ]
          },
          "metadata": {},
          "execution_count": 89
        }
      ]
    },
    {
      "cell_type": "code",
      "source": [
        "mod.score(df_test[['Score']].values,df_test.Rank.values)"
      ],
      "metadata": {
        "colab": {
          "base_uri": "https://localhost:8080/"
        },
        "id": "4FwGEW7frsVj",
        "outputId": "1840c746-94b6-427d-b82f-4faaf82ee69f"
      },
      "execution_count": 90,
      "outputs": [
        {
          "output_type": "execute_result",
          "data": {
            "text/plain": [
              "0.8601574450100883"
            ]
          },
          "metadata": {},
          "execution_count": 90
        }
      ]
    },
    {
      "cell_type": "code",
      "source": [
        "plt.scatter(df_test[['Score']].values,df_test.Rank.values, color='red')\n",
        "plt.scatter(df_test[['Score']].values,predicted_val, color='green')\n",
        "plt.xlabel('Score')\n",
        "plt.ylabel('Rank')"
      ],
      "metadata": {
        "colab": {
          "base_uri": "https://localhost:8080/",
          "height": 298
        },
        "id": "50f6G4xP09v9",
        "outputId": "cef1b6ff-6b65-4239-8518-b86468fa8abd"
      },
      "execution_count": 91,
      "outputs": [
        {
          "output_type": "execute_result",
          "data": {
            "text/plain": [
              "Text(0, 0.5, 'Rank')"
            ]
          },
          "metadata": {},
          "execution_count": 91
        },
        {
          "output_type": "display_data",
          "data": {
            "text/plain": [
              "<Figure size 432x288 with 1 Axes>"
            ],
            "image/png": "[encoded data removed]"
          },
          "metadata": {
            "needs_background": "light"
          }
        }
      ]
    },
    {
      "cell_type": "markdown",
      "source": [
        "**Multivariable Linear Regression**\n",
        "\n",
        "To determine the University's overall Score based on examining the parameters TLR, RPC, GO, OI and Perception."
      ],
      "metadata": {
        "id": "COZkP14vBQlM"
      }
    },
    {
      "cell_type": "code",
      "source": [
        "model = LinearRegression()\n",
        "model.fit(df_train[['TLR (100)', 'RPC (100)', 'GO (100)', 'OI (100)', 'PERCEPTION (100)']].values,df_train.Score.values)"
      ],
      "metadata": {
        "colab": {
          "base_uri": "https://localhost:8080/"
        },
        "id": "8NJ996W2nOw7",
        "outputId": "672c10b9-ff3e-45c9-d8ed-1c3e3568371f"
      },
      "execution_count": 92,
      "outputs": [
        {
          "output_type": "execute_result",
          "data": {
            "text/plain": [
              "LinearRegression()"
            ]
          },
          "metadata": {},
          "execution_count": 92
        }
      ]
    },
    {
      "cell_type": "code",
      "source": [
        "y_predicted = model.predict(df_test[['TLR (100)', 'RPC (100)', 'GO (100)', 'OI (100)','PERCEPTION (100)']].values)"
      ],
      "metadata": {
        "id": "WSrtuCmrT3Ta"
      },
      "execution_count": 93,
      "outputs": []
    },
    {
      "cell_type": "code",
      "source": [
        "model.predict(df_test[['TLR (100)', 'RPC (100)', 'GO (100)', 'OI (100)','PERCEPTION (100)']].values)"
      ],
      "metadata": {
        "colab": {
          "base_uri": "https://localhost:8080/"
        },
        "id": "Aj1UpzPNosxH",
        "outputId": "dc39190f-aa98-45c1-99f4-8c3ed1f5eab7"
      },
      "execution_count": 94,
      "outputs": [
        {
          "output_type": "execute_result",
          "data": {
            "text/plain": [
              "array([52.44610176, 63.39562054, 42.04381438, 48.91603625, 49.45065681,\n",
              "       42.2679979 , 42.27574302, 43.5534207 , 58.244004  , 49.00398286,\n",
              "       57.60322702, 56.21041453, 48.3920538 , 52.80710845, 47.60204967,\n",
              "       41.02659342, 42.13639123, 42.26232412, 57.08814893, 41.79596305])"
            ]
          },
          "metadata": {},
          "execution_count": 94
        }
      ]
    },
    {
      "cell_type": "code",
      "source": [
        "model.score(df_test[['TLR (100)', 'RPC (100)', 'GO (100)', 'OI (100)','PERCEPTION (100)']].values,df_test.Score.values)"
      ],
      "metadata": {
        "colab": {
          "base_uri": "https://localhost:8080/"
        },
        "id": "VTYYJO8CocYW",
        "outputId": "46394930-263c-448f-a1c0-9a801921591a"
      },
      "execution_count": 95,
      "outputs": [
        {
          "output_type": "execute_result",
          "data": {
            "text/plain": [
              "0.9999985964943421"
            ]
          },
          "metadata": {},
          "execution_count": 95
        }
      ]
    },
    {
      "cell_type": "markdown",
      "source": [
        "**Logistic Regression**\n",
        "\n",
        "To recommend the University based on the Overall Score of Universities.\n",
        "\n",
        "*Assumption*\n",
        "\n",
        "Universities with overall Score greater than 45 are considered for recommendation and remaining with overall Score less than 45 are not considered for recommendation."
      ],
      "metadata": {
        "id": "eh57iyr73FFK"
      }
    },
    {
      "cell_type": "code",
      "source": [
        "recommend=[]\n",
        "for row in data['Score']:\n",
        "    if row <=45 :\n",
        "        recommend.append('0')\n",
        "    else: \n",
        "        recommend.append('1')"
      ],
      "metadata": {
        "id": "ujXw3cH9BYJs"
      },
      "execution_count": 96,
      "outputs": []
    },
    {
      "cell_type": "code",
      "source": [
        "data['Recommend'] = recommend"
      ],
      "metadata": {
        "id": "VlixJgTPCxwC"
      },
      "execution_count": 97,
      "outputs": []
    },
    {
      "cell_type": "code",
      "source": [
        "data.head()"
      ],
      "metadata": {
        "colab": {
          "base_uri": "https://localhost:8080/",
          "height": 206
        },
        "id": "NXGroCwJVEjt",
        "outputId": "925fbfa5-f053-41c6-9523-c30a84e0d730"
      },
      "execution_count": 143,
      "outputs": [
        {
          "output_type": "execute_result",
          "data": {
            "text/plain": [
              "   Institute ID  TLR (100)  RPC (100)  GO (100)  OI (100)  PERCEPTION (100)  \\\n",
              "0   IR-O-U-0220      82.08      87.45     84.80     57.46            100.00   \n",
              "3   IR-O-U-0109      71.95      45.55     95.27     70.27             71.43   \n",
              "6   IR-O-U-0108      68.16      47.38     92.46     81.14             46.50   \n",
              "9   IR-O-U-0575      63.57      53.73     90.10     56.86             64.67   \n",
              "12  IR-O-U-0436      69.80      50.06     74.09     69.53             56.66   \n",
              "\n",
              "          City        State  Score  Rank                             Name  \\\n",
              "0    Bengaluru    Karnataka  83.57   1.0      Indian Institute of Science   \n",
              "3    New Delhi        Delhi  68.47   2.0      Jawaharlal Nehru University   \n",
              "6    New Delhi        Delhi  65.91   3.0  Jamia Millia Islamia, New Delhi   \n",
              "9      Kolkata  West Bengal  65.37   4.0              Jadavpur University   \n",
              "12  Coimbatore   Tamil Nadu  63.40   5.0       Amrita Vishwa Vidyapeetham   \n",
              "\n",
              "   Recommend  \n",
              "0          1  \n",
              "3          1  \n",
              "6          1  \n",
              "9          1  \n",
              "12         1  "
            ],
            "text/html": [
              "\n",
              "  <div id=\"df-53868460-319d-4764-97ae-2d0962f1d6cc\">\n",
              "    <div class=\"colab-df-container\">\n",
              "      <div>\n",
              "<style scoped>\n",
              "    .dataframe tbody tr th:only-of-type {\n",
              "        vertical-align: middle;\n",
              "    }\n",
              "\n",
              "    .dataframe tbody tr th {\n",
              "        vertical-align: top;\n",
              "    }\n",
              "\n",
              "    .dataframe thead th {\n",
              "        text-align: right;\n",
              "    }\n",
              "</style>\n",
              "<table border=\"1\" class=\"dataframe\">\n",
              "  <thead>\n",
              "    <tr style=\"text-align: right;\">\n",
              "      <th></th>\n",
              "      <th>Institute ID</th>\n",
              "      <th>TLR (100)</th>\n",
              "      <th>RPC (100)</th>\n",
              "      <th>GO (100)</th>\n",
              "      <th>OI (100)</th>\n",
              "      <th>PERCEPTION (100)</th>\n",
              "      <th>City</th>\n",
              "      <th>State</th>\n",
              "      <th>Score</th>\n",
              "      <th>Rank</th>\n",
              "      <th>Name</th>\n",
              "      <th>Recommend</th>\n",
              "    </tr>\n",
              "  </thead>\n",
              "  <tbody>\n",
              "    <tr>\n",
              "      <th>0</th>\n",
              "      <td>IR-O-U-0220</td>\n",
              "      <td>82.08</td>\n",
              "      <td>87.45</td>\n",
              "      <td>84.80</td>\n",
              "      <td>57.46</td>\n",
              "      <td>100.00</td>\n",
              "      <td>Bengaluru</td>\n",
              "      <td>Karnataka</td>\n",
              "      <td>83.57</td>\n",
              "      <td>1.0</td>\n",
              "      <td>Indian Institute of Science</td>\n",
              "      <td>1</td>\n",
              "    </tr>\n",
              "    <tr>\n",
              "      <th>3</th>\n",
              "      <td>IR-O-U-0109</td>\n",
              "      <td>71.95</td>\n",
              "      <td>45.55</td>\n",
              "      <td>95.27</td>\n",
              "      <td>70.27</td>\n",
              "      <td>71.43</td>\n",
              "      <td>New Delhi</td>\n",
              "      <td>Delhi</td>\n",
              "      <td>68.47</td>\n",
              "      <td>2.0</td>\n",
              "      <td>Jawaharlal Nehru University</td>\n",
              "      <td>1</td>\n",
              "    </tr>\n",
              "    <tr>\n",
              "      <th>6</th>\n",
              "      <td>IR-O-U-0108</td>\n",
              "      <td>68.16</td>\n",
              "      <td>47.38</td>\n",
              "      <td>92.46</td>\n",
              "      <td>81.14</td>\n",
              "      <td>46.50</td>\n",
              "      <td>New Delhi</td>\n",
              "      <td>Delhi</td>\n",
              "      <td>65.91</td>\n",
              "      <td>3.0</td>\n",
              "      <td>Jamia Millia Islamia, New Delhi</td>\n",
              "      <td>1</td>\n",
              "    </tr>\n",
              "    <tr>\n",
              "      <th>9</th>\n",
              "      <td>IR-O-U-0575</td>\n",
              "      <td>63.57</td>\n",
              "      <td>53.73</td>\n",
              "      <td>90.10</td>\n",
              "      <td>56.86</td>\n",
              "      <td>64.67</td>\n",
              "      <td>Kolkata</td>\n",
              "      <td>West Bengal</td>\n",
              "      <td>65.37</td>\n",
              "      <td>4.0</td>\n",
              "      <td>Jadavpur University</td>\n",
              "      <td>1</td>\n",
              "    </tr>\n",
              "    <tr>\n",
              "      <th>12</th>\n",
              "      <td>IR-O-U-0436</td>\n",
              "      <td>69.80</td>\n",
              "      <td>50.06</td>\n",
              "      <td>74.09</td>\n",
              "      <td>69.53</td>\n",
              "      <td>56.66</td>\n",
              "      <td>Coimbatore</td>\n",
              "      <td>Tamil Nadu</td>\n",
              "      <td>63.40</td>\n",
              "      <td>5.0</td>\n",
              "      <td>Amrita Vishwa Vidyapeetham</td>\n",
              "      <td>1</td>\n",
              "    </tr>\n",
              "  </tbody>\n",
              "</table>\n",
              "</div>\n",
              "      <button class=\"colab-df-convert\" onclick=\"convertToInteractive('df-53868460-319d-4764-97ae-2d0962f1d6cc')\"\n",
              "              title=\"Convert this dataframe to an interactive table.\"\n",
              "              style=\"display:none;\">\n",
              "        \n",
              "  <svg xmlns=\"http://www.w3.org/2000/svg\" height=\"24px\"viewBox=\"0 0 24 24\"\n",
              "       width=\"24px\">\n",
              "    <path d=\"M0 0h24v24H0V0z\" fill=\"none\"/>\n",
              "    <path d=\"M18.56 5.44l.94 2.06.94-2.06 2.06-.94-2.06-.94-.94-2.06-.94 2.06-2.06.94zm-11 1L8.5 8.5l.94-2.06 2.06-.94-2.06-.94L8.5 2.5l-.94 2.06-2.06.94zm10 10l.94 2.06.94-2.06 2.06-.94-2.06-.94-.94-2.06-.94 2.06-2.06.94z\"/><path d=\"M17.41 7.96l-1.37-1.37c-.4-.4-.92-.59-1.43-.59-.52 0-1.04.2-1.43.59L10.3 9.45l-7.72 7.72c-.78.78-.78 2.05 0 2.83L4 21.41c.39.39.9.59 1.41.59.51 0 1.02-.2 1.41-.59l7.78-7.78 2.81-2.81c.8-.78.8-2.07 0-2.86zM5.41 20L4 18.59l7.72-7.72 1.47 1.35L5.41 20z\"/>\n",
              "  </svg>\n",
              "      </button>\n",
              "      \n",
              "  <style>\n",
              "    .colab-df-container {\n",
              "      display:flex;\n",
              "      flex-wrap:wrap;\n",
              "      gap: 12px;\n",
              "    }\n",
              "\n",
              "    .colab-df-convert {\n",
              "      background-color: #E8F0FE;\n",
              "      border: none;\n",
              "      border-radius: 50%;\n",
              "      cursor: pointer;\n",
              "      display: none;\n",
              "      fill: #1967D2;\n",
              "      height: 32px;\n",
              "      padding: 0 0 0 0;\n",
              "      width: 32px;\n",
              "    }\n",
              "\n",
              "    .colab-df-convert:hover {\n",
              "      background-color: #E2EBFA;\n",
              "      box-shadow: 0px 1px 2px rgba(60, 64, 67, 0.3), 0px 1px 3px 1px rgba(60, 64, 67, 0.15);\n",
              "      fill: #174EA6;\n",
              "    }\n",
              "\n",
              "    [theme=dark] .colab-df-convert {\n",
              "      background-color: #3B4455;\n",
              "      fill: #D2E3FC;\n",
              "    }\n",
              "\n",
              "    [theme=dark] .colab-df-convert:hover {\n",
              "      background-color: #434B5C;\n",
              "      box-shadow: 0px 1px 3px 1px rgba(0, 0, 0, 0.15);\n",
              "      filter: drop-shadow(0px 1px 2px rgba(0, 0, 0, 0.3));\n",
              "      fill: #FFFFFF;\n",
              "    }\n",
              "  </style>\n",
              "\n",
              "      <script>\n",
              "        const buttonEl =\n",
              "          document.querySelector('#df-53868460-319d-4764-97ae-2d0962f1d6cc button.colab-df-convert');\n",
              "        buttonEl.style.display =\n",
              "          google.colab.kernel.accessAllowed ? 'block' : 'none';\n",
              "\n",
              "        async function convertToInteractive(key) {\n",
              "          const element = document.querySelector('#df-53868460-319d-4764-97ae-2d0962f1d6cc');\n",
              "          const dataTable =\n",
              "            await google.colab.kernel.invokeFunction('convertToInteractive',\n",
              "                                                     [key], {});\n",
              "          if (!dataTable) return;\n",
              "\n",
              "          const docLinkHtml = 'Like what you see? Visit the ' +\n",
              "            '<a target=\"_blank\" href=https://colab.research.google.com/notebooks/data_table.ipynb>data table notebook</a>'\n",
              "            + ' to learn more about interactive tables.';\n",
              "          element.innerHTML = '';\n",
              "          dataTable['output_type'] = 'display_data';\n",
              "          await google.colab.output.renderOutput(dataTable, element);\n",
              "          const docLink = document.createElement('div');\n",
              "          docLink.innerHTML = docLinkHtml;\n",
              "          element.appendChild(docLink);\n",
              "        }\n",
              "      </script>\n",
              "    </div>\n",
              "  </div>\n",
              "  "
            ]
          },
          "metadata": {},
          "execution_count": 143
        }
      ]
    },
    {
      "cell_type": "code",
      "source": [
        "X_train, X_test, y_train, y_test = train_test_split(data[['Score']],data.Recommend,test_size=0.2)"
      ],
      "metadata": {
        "id": "iYE7QO-sVW5R"
      },
      "execution_count": 118,
      "outputs": []
    },
    {
      "cell_type": "code",
      "source": [
        "fig = plt.figure()\n",
        "fig.set_figwidth(15)\n",
        "fig.set_figheight(5)\n",
        "plt.scatter(X_train, y_train, marker = '+', color='red' )"
      ],
      "metadata": {
        "colab": {
          "base_uri": "https://localhost:8080/",
          "height": 338
        },
        "id": "pY0XtY-SHyga",
        "outputId": "5ce9209e-c31f-49a0-fdb6-9f78a324659d"
      },
      "execution_count": 119,
      "outputs": [
        {
          "output_type": "execute_result",
          "data": {
            "text/plain": [
              "<matplotlib.collections.PathCollection at 0x7f7901bc55e0>"
            ]
          },
          "metadata": {},
          "execution_count": 119
        },
        {
          "output_type": "display_data",
          "data": {
            "text/plain": [
              "<Figure size 1080x360 with 1 Axes>"
            ],
            "image/png": "[encoded data removed]"
          },
          "metadata": {
            "needs_background": "light"
          }
        }
      ]
    },
    {
      "cell_type": "code",
      "source": [
        "from sklearn.linear_model import LogisticRegression "
      ],
      "metadata": {
        "id": "lSoq9VRaV8_K"
      },
      "execution_count": 101,
      "outputs": []
    },
    {
      "cell_type": "code",
      "source": [
        "Log_reg = LogisticRegression()\n",
        "Log_reg.fit(X_train,y_train)"
      ],
      "metadata": {
        "colab": {
          "base_uri": "https://localhost:8080/"
        },
        "id": "kIvP8CFbXLqC",
        "outputId": "bf35c13e-beb6-4219-e54c-1fae7714d315"
      },
      "execution_count": 102,
      "outputs": [
        {
          "output_type": "execute_result",
          "data": {
            "text/plain": [
              "LogisticRegression()"
            ]
          },
          "metadata": {},
          "execution_count": 102
        }
      ]
    },
    {
      "cell_type": "code",
      "source": [
        "y_predicted=Log_reg.predict(X_test)"
      ],
      "metadata": {
        "id": "9OiZ7zp8Xcf7"
      },
      "execution_count": 103,
      "outputs": []
    },
    {
      "cell_type": "code",
      "source": [
        "Log_reg.score(X_test,y_predicted)"
      ],
      "metadata": {
        "colab": {
          "base_uri": "https://localhost:8080/"
        },
        "id": "VHZb5E39Xflz",
        "outputId": "25862949-217b-481a-e20c-ee4f68ffc969"
      },
      "execution_count": 104,
      "outputs": [
        {
          "output_type": "execute_result",
          "data": {
            "text/plain": [
              "1.0"
            ]
          },
          "metadata": {},
          "execution_count": 104
        }
      ]
    },
    {
      "cell_type": "markdown",
      "source": [
        "**Decision Tree Classifier**\n",
        "\n",
        "To recommend the University evaluating the various attributes (evaluating the parameters) in our dataframe."
      ],
      "metadata": {
        "id": "A5xFhmn9981X"
      }
    },
    {
      "cell_type": "code",
      "source": [
        "data"
      ],
      "metadata": {
        "id": "9JR2HC7L4ixv"
      },
      "execution_count": null,
      "outputs": []
    },
    {
      "cell_type": "code",
      "source": [
        "input_data = data.drop(['Institute ID', 'City',\t'State', 'Rank', 'Name', 'Recommend'], axis = 'columns')"
      ],
      "metadata": {
        "id": "Zbcb3HVR-BtI"
      },
      "execution_count": 128,
      "outputs": []
    },
    {
      "cell_type": "code",
      "source": [
        "input_data.head()"
      ],
      "metadata": {
        "colab": {
          "base_uri": "https://localhost:8080/",
          "height": 206
        },
        "id": "8BE4mHeu-uO-",
        "outputId": "274e084a-f8a9-41fa-eb2d-44998ff85105"
      },
      "execution_count": 129,
      "outputs": [
        {
          "output_type": "execute_result",
          "data": {
            "text/plain": [
              "    TLR (100)  RPC (100)  GO (100)  OI (100)  PERCEPTION (100)  Score\n",
              "0       82.08      87.45     84.80     57.46            100.00  83.57\n",
              "3       71.95      45.55     95.27     70.27             71.43  68.47\n",
              "6       68.16      47.38     92.46     81.14             46.50  65.91\n",
              "9       63.57      53.73     90.10     56.86             64.67  65.37\n",
              "12      69.80      50.06     74.09     69.53             56.66  63.40"
            ],
            "text/html": [
              "\n",
              "  <div id=\"df-02551a1e-ccdc-49e6-8e88-2a3ce7edb5ea\">\n",
              "    <div class=\"colab-df-container\">\n",
              "      <div>\n",
              "<style scoped>\n",
              "    .dataframe tbody tr th:only-of-type {\n",
              "        vertical-align: middle;\n",
              "    }\n",
              "\n",
              "    .dataframe tbody tr th {\n",
              "        vertical-align: top;\n",
              "    }\n",
              "\n",
              "    .dataframe thead th {\n",
              "        text-align: right;\n",
              "    }\n",
              "</style>\n",
              "<table border=\"1\" class=\"dataframe\">\n",
              "  <thead>\n",
              "    <tr style=\"text-align: right;\">\n",
              "      <th></th>\n",
              "      <th>TLR (100)</th>\n",
              "      <th>RPC (100)</th>\n",
              "      <th>GO (100)</th>\n",
              "      <th>OI (100)</th>\n",
              "      <th>PERCEPTION (100)</th>\n",
              "      <th>Score</th>\n",
              "    </tr>\n",
              "  </thead>\n",
              "  <tbody>\n",
              "    <tr>\n",
              "      <th>0</th>\n",
              "      <td>82.08</td>\n",
              "      <td>87.45</td>\n",
              "      <td>84.80</td>\n",
              "      <td>57.46</td>\n",
              "      <td>100.00</td>\n",
              "      <td>83.57</td>\n",
              "    </tr>\n",
              "    <tr>\n",
              "      <th>3</th>\n",
              "      <td>71.95</td>\n",
              "      <td>45.55</td>\n",
              "      <td>95.27</td>\n",
              "      <td>70.27</td>\n",
              "      <td>71.43</td>\n",
              "      <td>68.47</td>\n",
              "    </tr>\n",
              "    <tr>\n",
              "      <th>6</th>\n",
              "      <td>68.16</td>\n",
              "      <td>47.38</td>\n",
              "      <td>92.46</td>\n",
              "      <td>81.14</td>\n",
              "      <td>46.50</td>\n",
              "      <td>65.91</td>\n",
              "    </tr>\n",
              "    <tr>\n",
              "      <th>9</th>\n",
              "      <td>63.57</td>\n",
              "      <td>53.73</td>\n",
              "      <td>90.10</td>\n",
              "      <td>56.86</td>\n",
              "      <td>64.67</td>\n",
              "      <td>65.37</td>\n",
              "    </tr>\n",
              "    <tr>\n",
              "      <th>12</th>\n",
              "      <td>69.80</td>\n",
              "      <td>50.06</td>\n",
              "      <td>74.09</td>\n",
              "      <td>69.53</td>\n",
              "      <td>56.66</td>\n",
              "      <td>63.40</td>\n",
              "    </tr>\n",
              "  </tbody>\n",
              "</table>\n",
              "</div>\n",
              "      <button class=\"colab-df-convert\" onclick=\"convertToInteractive('df-02551a1e-ccdc-49e6-8e88-2a3ce7edb5ea')\"\n",
              "              title=\"Convert this dataframe to an interactive table.\"\n",
              "              style=\"display:none;\">\n",
              "        \n",
              "  <svg xmlns=\"http://www.w3.org/2000/svg\" height=\"24px\"viewBox=\"0 0 24 24\"\n",
              "       width=\"24px\">\n",
              "    <path d=\"M0 0h24v24H0V0z\" fill=\"none\"/>\n",
              "    <path d=\"M18.56 5.44l.94 2.06.94-2.06 2.06-.94-2.06-.94-.94-2.06-.94 2.06-2.06.94zm-11 1L8.5 8.5l.94-2.06 2.06-.94-2.06-.94L8.5 2.5l-.94 2.06-2.06.94zm10 10l.94 2.06.94-2.06 2.06-.94-2.06-.94-.94-2.06-.94 2.06-2.06.94z\"/><path d=\"M17.41 7.96l-1.37-1.37c-.4-.4-.92-.59-1.43-.59-.52 0-1.04.2-1.43.59L10.3 9.45l-7.72 7.72c-.78.78-.78 2.05 0 2.83L4 21.41c.39.39.9.59 1.41.59.51 0 1.02-.2 1.41-.59l7.78-7.78 2.81-2.81c.8-.78.8-2.07 0-2.86zM5.41 20L4 18.59l7.72-7.72 1.47 1.35L5.41 20z\"/>\n",
              "  </svg>\n",
              "      </button>\n",
              "      \n",
              "  <style>\n",
              "    .colab-df-container {\n",
              "      display:flex;\n",
              "      flex-wrap:wrap;\n",
              "      gap: 12px;\n",
              "    }\n",
              "\n",
              "    .colab-df-convert {\n",
              "      background-color: #E8F0FE;\n",
              "      border: none;\n",
              "      border-radius: 50%;\n",
              "      cursor: pointer;\n",
              "      display: none;\n",
              "      fill: #1967D2;\n",
              "      height: 32px;\n",
              "      padding: 0 0 0 0;\n",
              "      width: 32px;\n",
              "    }\n",
              "\n",
              "    .colab-df-convert:hover {\n",
              "      background-color: #E2EBFA;\n",
              "      box-shadow: 0px 1px 2px rgba(60, 64, 67, 0.3), 0px 1px 3px 1px rgba(60, 64, 67, 0.15);\n",
              "      fill: #174EA6;\n",
              "    }\n",
              "\n",
              "    [theme=dark] .colab-df-convert {\n",
              "      background-color: #3B4455;\n",
              "      fill: #D2E3FC;\n",
              "    }\n",
              "\n",
              "    [theme=dark] .colab-df-convert:hover {\n",
              "      background-color: #434B5C;\n",
              "      box-shadow: 0px 1px 3px 1px rgba(0, 0, 0, 0.15);\n",
              "      filter: drop-shadow(0px 1px 2px rgba(0, 0, 0, 0.3));\n",
              "      fill: #FFFFFF;\n",
              "    }\n",
              "  </style>\n",
              "\n",
              "      <script>\n",
              "        const buttonEl =\n",
              "          document.querySelector('#df-02551a1e-ccdc-49e6-8e88-2a3ce7edb5ea button.colab-df-convert');\n",
              "        buttonEl.style.display =\n",
              "          google.colab.kernel.accessAllowed ? 'block' : 'none';\n",
              "\n",
              "        async function convertToInteractive(key) {\n",
              "          const element = document.querySelector('#df-02551a1e-ccdc-49e6-8e88-2a3ce7edb5ea');\n",
              "          const dataTable =\n",
              "            await google.colab.kernel.invokeFunction('convertToInteractive',\n",
              "                                                     [key], {});\n",
              "          if (!dataTable) return;\n",
              "\n",
              "          const docLinkHtml = 'Like what you see? Visit the ' +\n",
              "            '<a target=\"_blank\" href=https://colab.research.google.com/notebooks/data_table.ipynb>data table notebook</a>'\n",
              "            + ' to learn more about interactive tables.';\n",
              "          element.innerHTML = '';\n",
              "          dataTable['output_type'] = 'display_data';\n",
              "          await google.colab.output.renderOutput(dataTable, element);\n",
              "          const docLink = document.createElement('div');\n",
              "          docLink.innerHTML = docLinkHtml;\n",
              "          element.appendChild(docLink);\n",
              "        }\n",
              "      </script>\n",
              "    </div>\n",
              "  </div>\n",
              "  "
            ]
          },
          "metadata": {},
          "execution_count": 129
        }
      ]
    },
    {
      "cell_type": "code",
      "source": [
        "target = data['Recommend']"
      ],
      "metadata": {
        "id": "eA5oKS5MZm6M"
      },
      "execution_count": 130,
      "outputs": []
    },
    {
      "cell_type": "code",
      "source": [
        "X_train, X_test, y_train, y_test = train_test_split(input_data, target, test_size = 0.2)"
      ],
      "metadata": {
        "id": "j4oxYkt4bx0O"
      },
      "execution_count": 131,
      "outputs": []
    },
    {
      "cell_type": "code",
      "source": [
        "X_train.head()"
      ],
      "metadata": {
        "colab": {
          "base_uri": "https://localhost:8080/",
          "height": 206
        },
        "id": "-P8Z3iTTY2sE",
        "outputId": "202d44c1-b221-47fb-9aa5-afbafd7efc14"
      },
      "execution_count": 132,
      "outputs": [
        {
          "output_type": "execute_result",
          "data": {
            "text/plain": [
              "     TLR (100)  RPC (100)  GO (100)  OI (100)  PERCEPTION (100)  Score\n",
              "288      61.19      11.89     49.62     71.14             20.65  41.03\n",
              "141      69.68      17.07     64.33     65.08             34.74  48.87\n",
              "18       70.53      51.07     78.15     64.81             42.46  62.84\n",
              "150      68.42      17.66     64.52     62.17             35.08  48.46\n",
              "225      57.47      11.05     67.95     56.11             37.93  43.54"
            ],
            "text/html": [
              "\n",
              "  <div id=\"df-3980976d-adbd-4457-a3aa-3a78ffa8bc5e\">\n",
              "    <div class=\"colab-df-container\">\n",
              "      <div>\n",
              "<style scoped>\n",
              "    .dataframe tbody tr th:only-of-type {\n",
              "        vertical-align: middle;\n",
              "    }\n",
              "\n",
              "    .dataframe tbody tr th {\n",
              "        vertical-align: top;\n",
              "    }\n",
              "\n",
              "    .dataframe thead th {\n",
              "        text-align: right;\n",
              "    }\n",
              "</style>\n",
              "<table border=\"1\" class=\"dataframe\">\n",
              "  <thead>\n",
              "    <tr style=\"text-align: right;\">\n",
              "      <th></th>\n",
              "      <th>TLR (100)</th>\n",
              "      <th>RPC (100)</th>\n",
              "      <th>GO (100)</th>\n",
              "      <th>OI (100)</th>\n",
              "      <th>PERCEPTION (100)</th>\n",
              "      <th>Score</th>\n",
              "    </tr>\n",
              "  </thead>\n",
              "  <tbody>\n",
              "    <tr>\n",
              "      <th>288</th>\n",
              "      <td>61.19</td>\n",
              "      <td>11.89</td>\n",
              "      <td>49.62</td>\n",
              "      <td>71.14</td>\n",
              "      <td>20.65</td>\n",
              "      <td>41.03</td>\n",
              "    </tr>\n",
              "    <tr>\n",
              "      <th>141</th>\n",
              "      <td>69.68</td>\n",
              "      <td>17.07</td>\n",
              "      <td>64.33</td>\n",
              "      <td>65.08</td>\n",
              "      <td>34.74</td>\n",
              "      <td>48.87</td>\n",
              "    </tr>\n",
              "    <tr>\n",
              "      <th>18</th>\n",
              "      <td>70.53</td>\n",
              "      <td>51.07</td>\n",
              "      <td>78.15</td>\n",
              "      <td>64.81</td>\n",
              "      <td>42.46</td>\n",
              "      <td>62.84</td>\n",
              "    </tr>\n",
              "    <tr>\n",
              "      <th>150</th>\n",
              "      <td>68.42</td>\n",
              "      <td>17.66</td>\n",
              "      <td>64.52</td>\n",
              "      <td>62.17</td>\n",
              "      <td>35.08</td>\n",
              "      <td>48.46</td>\n",
              "    </tr>\n",
              "    <tr>\n",
              "      <th>225</th>\n",
              "      <td>57.47</td>\n",
              "      <td>11.05</td>\n",
              "      <td>67.95</td>\n",
              "      <td>56.11</td>\n",
              "      <td>37.93</td>\n",
              "      <td>43.54</td>\n",
              "    </tr>\n",
              "  </tbody>\n",
              "</table>\n",
              "</div>\n",
              "      <button class=\"colab-df-convert\" onclick=\"convertToInteractive('df-3980976d-adbd-4457-a3aa-3a78ffa8bc5e')\"\n",
              "              title=\"Convert this dataframe to an interactive table.\"\n",
              "              style=\"display:none;\">\n",
              "        \n",
              "  <svg xmlns=\"http://www.w3.org/2000/svg\" height=\"24px\"viewBox=\"0 0 24 24\"\n",
              "       width=\"24px\">\n",
              "    <path d=\"M0 0h24v24H0V0z\" fill=\"none\"/>\n",
              "    <path d=\"M18.56 5.44l.94 2.06.94-2.06 2.06-.94-2.06-.94-.94-2.06-.94 2.06-2.06.94zm-11 1L8.5 8.5l.94-2.06 2.06-.94-2.06-.94L8.5 2.5l-.94 2.06-2.06.94zm10 10l.94 2.06.94-2.06 2.06-.94-2.06-.94-.94-2.06-.94 2.06-2.06.94z\"/><path d=\"M17.41 7.96l-1.37-1.37c-.4-.4-.92-.59-1.43-.59-.52 0-1.04.2-1.43.59L10.3 9.45l-7.72 7.72c-.78.78-.78 2.05 0 2.83L4 21.41c.39.39.9.59 1.41.59.51 0 1.02-.2 1.41-.59l7.78-7.78 2.81-2.81c.8-.78.8-2.07 0-2.86zM5.41 20L4 18.59l7.72-7.72 1.47 1.35L5.41 20z\"/>\n",
              "  </svg>\n",
              "      </button>\n",
              "      \n",
              "  <style>\n",
              "    .colab-df-container {\n",
              "      display:flex;\n",
              "      flex-wrap:wrap;\n",
              "      gap: 12px;\n",
              "    }\n",
              "\n",
              "    .colab-df-convert {\n",
              "      background-color: #E8F0FE;\n",
              "      border: none;\n",
              "      border-radius: 50%;\n",
              "      cursor: pointer;\n",
              "      display: none;\n",
              "      fill: #1967D2;\n",
              "      height: 32px;\n",
              "      padding: 0 0 0 0;\n",
              "      width: 32px;\n",
              "    }\n",
              "\n",
              "    .colab-df-convert:hover {\n",
              "      background-color: #E2EBFA;\n",
              "      box-shadow: 0px 1px 2px rgba(60, 64, 67, 0.3), 0px 1px 3px 1px rgba(60, 64, 67, 0.15);\n",
              "      fill: #174EA6;\n",
              "    }\n",
              "\n",
              "    [theme=dark] .colab-df-convert {\n",
              "      background-color: #3B4455;\n",
              "      fill: #D2E3FC;\n",
              "    }\n",
              "\n",
              "    [theme=dark] .colab-df-convert:hover {\n",
              "      background-color: #434B5C;\n",
              "      box-shadow: 0px 1px 3px 1px rgba(0, 0, 0, 0.15);\n",
              "      filter: drop-shadow(0px 1px 2px rgba(0, 0, 0, 0.3));\n",
              "      fill: #FFFFFF;\n",
              "    }\n",
              "  </style>\n",
              "\n",
              "      <script>\n",
              "        const buttonEl =\n",
              "          document.querySelector('#df-3980976d-adbd-4457-a3aa-3a78ffa8bc5e button.colab-df-convert');\n",
              "        buttonEl.style.display =\n",
              "          google.colab.kernel.accessAllowed ? 'block' : 'none';\n",
              "\n",
              "        async function convertToInteractive(key) {\n",
              "          const element = document.querySelector('#df-3980976d-adbd-4457-a3aa-3a78ffa8bc5e');\n",
              "          const dataTable =\n",
              "            await google.colab.kernel.invokeFunction('convertToInteractive',\n",
              "                                                     [key], {});\n",
              "          if (!dataTable) return;\n",
              "\n",
              "          const docLinkHtml = 'Like what you see? Visit the ' +\n",
              "            '<a target=\"_blank\" href=https://colab.research.google.com/notebooks/data_table.ipynb>data table notebook</a>'\n",
              "            + ' to learn more about interactive tables.';\n",
              "          element.innerHTML = '';\n",
              "          dataTable['output_type'] = 'display_data';\n",
              "          await google.colab.output.renderOutput(dataTable, element);\n",
              "          const docLink = document.createElement('div');\n",
              "          docLink.innerHTML = docLinkHtml;\n",
              "          element.appendChild(docLink);\n",
              "        }\n",
              "      </script>\n",
              "    </div>\n",
              "  </div>\n",
              "  "
            ]
          },
          "metadata": {},
          "execution_count": 132
        }
      ]
    },
    {
      "cell_type": "code",
      "source": [
        "from sklearn import tree"
      ],
      "metadata": {
        "id": "3IjQXg2ia9jM"
      },
      "execution_count": 133,
      "outputs": []
    },
    {
      "cell_type": "code",
      "source": [
        "decision_model = tree.DecisionTreeClassifier()\n",
        "decision_model.fit(X_train, y_train)"
      ],
      "metadata": {
        "colab": {
          "base_uri": "https://localhost:8080/"
        },
        "id": "mEc9GO3ycNlq",
        "outputId": "aeea0935-0f98-4c6a-dc77-b81bb22d5151"
      },
      "execution_count": 134,
      "outputs": [
        {
          "output_type": "execute_result",
          "data": {
            "text/plain": [
              "DecisionTreeClassifier()"
            ]
          },
          "metadata": {},
          "execution_count": 134
        }
      ]
    },
    {
      "cell_type": "code",
      "source": [
        "y_predicted = decision_model.predict(X_test)"
      ],
      "metadata": {
        "id": "h3AGYqNAdhLK"
      },
      "execution_count": 135,
      "outputs": []
    },
    {
      "cell_type": "code",
      "source": [
        "y_predicted"
      ],
      "metadata": {
        "colab": {
          "base_uri": "https://localhost:8080/"
        },
        "id": "nQiLBNOv7c4v",
        "outputId": "3a8264a7-a05f-494c-fe7b-452b554bef83"
      },
      "execution_count": 136,
      "outputs": [
        {
          "output_type": "execute_result",
          "data": {
            "text/plain": [
              "array(['1', '1', '0', '0', '1', '1', '0', '0', '0', '1', '1', '1', '1',\n",
              "       '1', '0', '1', '1', '0', '0', '1'], dtype=object)"
            ]
          },
          "metadata": {},
          "execution_count": 136
        }
      ]
    },
    {
      "cell_type": "code",
      "source": [
        "decision_model.score(X_test,y_test)"
      ],
      "metadata": {
        "colab": {
          "base_uri": "https://localhost:8080/"
        },
        "id": "yghPBmS8ddZK",
        "outputId": "99b7bd20-0901-467c-cdfa-78fb9a332e7a"
      },
      "execution_count": 137,
      "outputs": [
        {
          "output_type": "execute_result",
          "data": {
            "text/plain": [
              "1.0"
            ]
          },
          "metadata": {},
          "execution_count": 137
        }
      ]
    },
    {
      "cell_type": "code",
      "source": [
        "plt.figure(figsize=(8,6))\n",
        "tree.plot_tree(decision_model)"
      ],
      "metadata": {
        "colab": {
          "base_uri": "https://localhost:8080/",
          "height": 412
        },
        "id": "0bt-WgfQ9TRU",
        "outputId": "036a3511-39e0-421f-cf14-94e56adcff3e"
      },
      "execution_count": 138,
      "outputs": [
        {
          "output_type": "execute_result",
          "data": {
            "text/plain": [
              "[Text(0.5, 0.75, 'X[5] <= 45.01\\ngini = 0.43\\nsamples = 80\\nvalue = [25, 55]'),\n",
              " Text(0.25, 0.25, 'gini = 0.0\\nsamples = 25\\nvalue = [25, 0]'),\n",
              " Text(0.75, 0.25, 'gini = 0.0\\nsamples = 55\\nvalue = [0, 55]')]"
            ]
          },
          "metadata": {},
          "execution_count": 138
        },
        {
          "output_type": "display_data",
          "data": {
            "text/plain": [
              "<Figure size 576x432 with 1 Axes>"
            ],
            "image/png": "[encoded data removed]"
          },
          "metadata": {
            "needs_background": "light"
          }
        }
      ]
    },
    {
      "cell_type": "code",
      "source": [
        "from sklearn.metrics import confusion_matrix\n",
        "import seaborn as sn"
      ],
      "metadata": {
        "id": "NdZYqHa2_lc6"
      },
      "execution_count": 139,
      "outputs": []
    },
    {
      "cell_type": "code",
      "source": [
        "cm = confusion_matrix(y_test, y_predicted)\n",
        "cm"
      ],
      "metadata": {
        "colab": {
          "base_uri": "https://localhost:8080/"
        },
        "id": "48zeXcwRANZK",
        "outputId": "a8f83d19-1a29-4bc6-8916-80995c05741f"
      },
      "execution_count": 141,
      "outputs": [
        {
          "output_type": "execute_result",
          "data": {
            "text/plain": [
              "array([[ 8,  0],\n",
              "       [ 0, 12]])"
            ]
          },
          "metadata": {},
          "execution_count": 141
        }
      ]
    },
    {
      "cell_type": "code",
      "source": [
        "plt.figure(figsize=(8,6))\n",
        "sn.heatmap(cm, annot=True)\n",
        "plt.xlabel('Predicted')\n",
        "plt.ylabel('Truth')"
      ],
      "metadata": {
        "colab": {
          "base_uri": "https://localhost:8080/",
          "height": 410
        },
        "id": "y_W9-BmNAYZj",
        "outputId": "4c78cea1-3441-4a02-c9f8-cc23d79d2066"
      },
      "execution_count": 142,
      "outputs": [
        {
          "output_type": "execute_result",
          "data": {
            "text/plain": [
              "Text(51.0, 0.5, 'Truth')"
            ]
          },
          "metadata": {},
          "execution_count": 142
        },
        {
          "output_type": "display_data",
          "data": {
            "text/plain": [
              "<Figure size 576x432 with 2 Axes>"
            ],
            "image/png": "[encoded data removed]"
          },
          "metadata": {
            "needs_background": "light"
          }
        }
      ]
    },
    {
      "cell_type": "markdown",
      "source": [
        "**Software Requirements**\n",
        "\n",
        "Languages and Packages used\n",
        "\n",
        "\n",
        "●\tPython3.6+ , Libraries - pandas, sklearn, bs4, matplotlib\n",
        "\n",
        "●\tPlatform - Google Colab\n",
        "\n",
        "Hardware Requirements\n",
        "\n",
        "●\tSystem Processor: i3  or later.\n",
        "\n",
        "●\tRAM: 4GB DDR RAM.(Minimum)\n"
      ],
      "metadata": {
        "id": "iYydWsXppkv3"
      }
    },
    {
      "cell_type": "markdown",
      "source": [
        "**Bibliography**\n",
        "\n",
        "1. https://www.nirfindia.org/2022/UniversityRanking.html"
      ],
      "metadata": {
        "id": "_bgrwyVkrnzl"
      }
    }
  ]
}